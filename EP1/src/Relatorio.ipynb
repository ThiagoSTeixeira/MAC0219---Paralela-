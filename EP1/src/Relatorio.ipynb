{
 "cells": [
  {
   "cell_type": "markdown",
   "metadata": {},
   "source": [
    "# EP1 - Mandelbrot set\n",
    "###### Notebook baseado no dos miniEPs\n",
    "\n",
    "Preencha o nome dos 5 membros do seu grupo na tabela abaixo:\n",
    "\n",
    "| Nome | NUSP |\n",
    "|------|------|\n",
    "| Caio Andrade | 9797232 |\n",
    "| Caio Fontes | 10692061 |\n",
    "| Eduardo Laurentino | 8988212 |\n",
    "| Thiago Teixeira | 10736987 |\n",
    "| Washington Meireles | 10737157 |"
   ]
  },
  {
   "cell_type": "code",
   "execution_count": 32,
   "metadata": {},
   "outputs": [
    {
     "name": "stderr",
     "output_type": "stream",
     "text": [
      "\u001b[32m\u001b[1m   Updating\u001b[22m\u001b[39m registry at `~/.julia/registries/General`\n"
     ]
    },
    {
     "ename": "ErrorException",
     "evalue": "could not load library \"libgit2\"\n/usr/bin/../lib64/libmbedx509.so.0: undefined symbol: mbedtls_mutex_unlock",
     "output_type": "error",
     "traceback": [
      "could not load library \"libgit2\"\n/usr/bin/../lib64/libmbedx509.so.0: undefined symbol: mbedtls_mutex_unlock",
      "",
      "Stacktrace:",
      " [1] macro expansion at /builddir/build/BUILD/julia/build/usr/share/julia/stdlib/v1.4/LibGit2/src/error.jl:99 [inlined]",
      " [2] LibGit2.GitRepo(::String) at /builddir/build/BUILD/julia/build/usr/share/julia/stdlib/v1.4/LibGit2/src/repository.jl:11",
      " [3] update_registries(::Pkg.Types.Context, ::Array{Pkg.Types.RegistrySpec,1}; force::Bool) at /builddir/build/BUILD/julia/build/usr/share/julia/stdlib/v1.4/Pkg/src/Types.jl:1072",
      " [4] up(::Pkg.Types.Context, ::Array{Pkg.Types.PackageSpec,1}; level::Pkg.Types.UpgradeLevel, mode::Pkg.Types.PackageMode, update_registry::Bool, kwargs::Base.Iterators.Pairs{Union{},Union{},Tuple{},NamedTuple{(),Tuple{}}}) at /builddir/build/BUILD/julia/build/usr/share/julia/stdlib/v1.4/Pkg/src/API.jl:207",
      " [5] up at /builddir/build/BUILD/julia/build/usr/share/julia/stdlib/v1.4/Pkg/src/API.jl:201 [inlined]",
      " [6] #up#47 at /builddir/build/BUILD/julia/build/usr/share/julia/stdlib/v1.4/Pkg/src/API.jl:196 [inlined]",
      " [7] up(::Array{Pkg.Types.PackageSpec,1}) at /builddir/build/BUILD/julia/build/usr/share/julia/stdlib/v1.4/Pkg/src/API.jl:196",
      " [8] do_cmd!(::Pkg.REPLMode.Command, ::IJulia.MiniREPL) at /builddir/build/BUILD/julia/build/usr/share/julia/stdlib/v1.4/Pkg/src/REPLMode/REPLMode.jl:403",
      " [9] do_cmd(::IJulia.MiniREPL, ::String; do_rethrow::Bool) at /builddir/build/BUILD/julia/build/usr/share/julia/stdlib/v1.4/Pkg/src/REPLMode/REPLMode.jl:381",
      " [10] top-level scope at In[32]:1"
     ]
    }
   ],
   "source": [
    "] up"
   ]
  },
  {
   "cell_type": "code",
   "execution_count": 33,
   "metadata": {},
   "outputs": [
    {
     "name": "stdout",
     "output_type": "stream",
     "text": [
      "\u001b[32m\u001b[1mStatus\u001b[22m\u001b[39m `~/.julia/environments/v1.4/Project.toml`\n",
      " \u001b[90m [336ed68f]\u001b[39m\u001b[37m CSV v0.6.1\u001b[39m\n",
      " \u001b[90m [a93c6f00]\u001b[39m\u001b[37m DataFrames v0.20.2\u001b[39m\n",
      " \u001b[90m [31c24e10]\u001b[39m\u001b[37m Distributions v0.23.2\u001b[39m\n",
      " \u001b[90m [7073ff75]\u001b[39m\u001b[37m IJulia v1.21.1\u001b[39m\n",
      " \u001b[90m [1a8c2f83]\u001b[39m\u001b[37m Query v0.12.2\u001b[39m\n",
      " \u001b[90m [f3b207a7]\u001b[39m\u001b[37m StatsPlots v0.14.3\u001b[39m\n"
     ]
    }
   ],
   "source": [
    "] st"
   ]
  },
  {
   "cell_type": "markdown",
   "metadata": {},
   "source": [
    "## Tarefa 3 - Apresentação dos resultados\n",
    "\n",
    "### Funções para compilar/Rodar os testes:"
   ]
  },
  {
   "cell_type": "code",
   "execution_count": 34,
   "metadata": {},
   "outputs": [
    {
     "name": "stdout",
     "output_type": "stream",
     "text": [
      "make: Nothing to be done for 'all'.\n"
     ]
    }
   ],
   "source": [
    ";make "
   ]
  },
  {
   "cell_type": "code",
   "execution_count": 35,
   "metadata": {},
   "outputs": [
    {
     "name": "stdout",
     "output_type": "stream",
     "text": [
      "usage: ./mandelbrot_seq c_x_min c_x_max c_y_min c_y_max image_size\n",
      "examples with image_size = 11500:\n",
      "    Full Picture:         ./mandelbrot_seq -2.5 1.5 -2.0 2.0 11500\n",
      "    Seahorse Valley:      ./mandelbrot_seq -0.8 -0.7 0.05 0.15 11500\n",
      "    Elephant Valley:      ./mandelbrot_seq 0.175 0.375 -0.1 0.1 11500\n",
      "    Triple Spiral Valley: ./mandelbrot_seq -0.188 -0.012 0.554 0.754 11500\n"
     ]
    }
   ],
   "source": [
    ";./mandelbrot_seq"
   ]
  },
  {
   "cell_type": "code",
   "execution_count": 36,
   "metadata": {},
   "outputs": [
    {
     "name": "stdout",
     "output_type": "stream",
     "text": [
      "0.046553\n"
     ]
    }
   ],
   "source": [
    "; ./mandelbrot_seq 0.175 0.375 -0.1 0.1 200 0"
   ]
  },
  {
   "cell_type": "code",
   "execution_count": 37,
   "metadata": {},
   "outputs": [
    {
     "name": "stdout",
     "output_type": "stream",
     "text": [
      "usage: ./mandelbrot_pth c_x_min c_x_max c_y_min c_y_max image_size n_threads\n",
      "examples with image_size = 11500:\n",
      "    Full Picture:         ./mandelbrot_pth -2.5 1.5 -2.0 2.0 11500\n",
      "    Seahorse Valley:      ./mandelbrot_pth -0.8 -0.7 0.05 0.15 11500\n",
      "    Elephant Valley:      ./mandelbrot_pth 0.175 0.375 -0.1 0.1 11500\n",
      "    Triple Spiral Valley: ./mandelbrot_pth -0.188 -0.012 0.554 0.754 11500\n"
     ]
    }
   ],
   "source": [
    ";./mandelbrot_pth"
   ]
  },
  {
   "cell_type": "code",
   "execution_count": 38,
   "metadata": {},
   "outputs": [
    {
     "name": "stdout",
     "output_type": "stream",
     "text": [
      "usage: ./mandelbrot_omp c_x_min c_x_max c_y_min c_y_max image_size num_threads\n",
      "examples with image_size = 11500:\n",
      "    Full Picture:         ./mandelbrot_omp -2.5 1.5 -2.0 2.0 11500 4\n",
      "    Seahorse Valley:      ./mandelbrot_omp -0.8 -0.7 0.05 0.15 11500 4\n",
      "    Elephant Valley:      ./mandelbrot_omp 0.175 0.375 -0.1 0.1 11500 4\n",
      "    Triple Spiral Valley: ./mandelbrot_omp -0.188 -0.012 0.554 0.754 11500 4\n"
     ]
    }
   ],
   "source": [
    ";./mandelbrot_omp"
   ]
  },
  {
   "cell_type": "code",
   "execution_count": 39,
   "metadata": {},
   "outputs": [
    {
     "data": {
      "text/plain": [
       "measure_mandelbrot (generic function with 1 method)"
      ]
     },
     "execution_count": 39,
     "metadata": {},
     "output_type": "execute_result"
    }
   ],
   "source": [
    "using DataFrames, Query, StatsPlots, Statistics\n",
    "\n",
    "function measure_mandelbrot(size, f, typ; thread = 0)\n",
    "    if f==0 par = `-2.5 1.5 -2.0 2.0` #Full Picture\n",
    "    elseif f==1 par = `-0.8 -0.7 0.05 0.15` #Seahorse Valley\n",
    "    elseif f==2 par = `0.175 0.375 -0.1 0.1` #Elephant Valley\n",
    "    elseif f==3 par = `-0.188 -0.012 0.554 0.754` #Triple Spiral Valley\n",
    "    end                \n",
    "    if thread == 0 \n",
    "        results = parse.(Float64,\n",
    "            chomp(read(`./$typ $par $size`, String)))\n",
    "    else\n",
    "        results = parse.(Float64,\n",
    "            chomp(read(`./$typ $par $size $thread`, String)))\n",
    "    end\n",
    "        \n",
    "    return DataFrame(size = size,\n",
    "        f = f,\n",
    "        threads = thread,\n",
    "        duration = results[1])\n",
    "end"
   ]
  },
  {
   "cell_type": "markdown",
   "metadata": {},
   "source": [
    "A função `run_experiments` recebe os mesmos parâmetros `size`, `f`, `method` e `threads`, e um parâmetro adicional `repetitions`, com o número de repetições de cada experimento com um dado número de `threads`. A função devolve um `DataFrame` com todos os experimentos."
   ]
  },
  {
   "cell_type": "code",
   "execution_count": 40,
   "metadata": {},
   "outputs": [
    {
     "data": {
      "text/plain": [
       "run_experiments (generic function with 1 method)"
      ]
     },
     "execution_count": 40,
     "metadata": {},
     "output_type": "execute_result"
    }
   ],
   "source": [
    "function run_experiments(size, f, method, repetitions; threads = [])\n",
    "    run(`make $method`)\n",
    "    \n",
    "    results = DataFrame(size = Int[],\n",
    "        f = Int[],\n",
    "        threads = Int[],\n",
    "        duration = Float64[])  \n",
    "    \n",
    "    if threads == []\n",
    "        for r in 1:repetitions\n",
    "            for s in size\n",
    "                append!(results,\n",
    "                    measure_mandelbrot(s, f, method))    \n",
    "            end\n",
    "        end\n",
    "    else\n",
    "        for t in threads\n",
    "            for s in size\n",
    "                for r in 1:repetitions\n",
    "                    append!(results,\n",
    "                        measure_mandelbrot(s, f, method, thread = t))\n",
    "                    end\n",
    "                end\n",
    "            end\n",
    "        end\n",
    "    return results\n",
    "end"
   ]
  },
  {
   "cell_type": "markdown",
   "metadata": {},
   "source": [
    "A função `parse_results` recebe um `DataFrame` de resultados, produzido pela função `run_experiments`. A função devolve um `DataFrame` com a média e o intervalo de confiança da média a 95% das estimativas e dos tempos de execução, agrupados por número de threads."
   ]
  },
  {
   "cell_type": "code",
   "execution_count": 41,
   "metadata": {},
   "outputs": [
    {
     "data": {
      "text/plain": [
       "parse_results (generic function with 1 method)"
      ]
     },
     "execution_count": 41,
     "metadata": {},
     "output_type": "execute_result"
    }
   ],
   "source": [
    "function parse_results(results)\n",
    "    parsed_results = results |>\n",
    "                    @groupby({_.threads,_.size}) |>\n",
    "                    @map({threads = key(_).threads,\n",
    "                          size = _.size[1],\n",
    "                          mean_duration = mean(_.duration),\n",
    "                          ci_duration = 1.96 * std(_.duration)}) |>\n",
    "                    DataFrame\n",
    "    \n",
    "    return parsed_results\n",
    "end"
   ]
  },
  {
   "cell_type": "markdown",
   "metadata": {},
   "source": [
    "### Geração de gráficos:"
   ]
  },
  {
   "cell_type": "code",
   "execution_count": 42,
   "metadata": {},
   "outputs": [
    {
     "data": {
      "text/plain": [
       "plot_results (generic function with 1 method)"
      ]
     },
     "execution_count": 42,
     "metadata": {},
     "output_type": "execute_result"
    }
   ],
   "source": [
    "\n",
    "function plot_results(x, y1, series_label1, yerror1;\n",
    "                        y2 = [], series_label2 = [], yerror2 = [],\n",
    "                        y3 = [], series_label3 = [], yerror3 = [],\n",
    "                        y4 = [], series_label4 = [], yerror4 = [],\n",
    "                        y5 = [], series_label5 = [], yerror5 = [])   \n",
    "    p = scatter(x,        \n",
    "            y1,\n",
    "            yerror = yerror1,\n",
    "            alpha = 0.6,\n",
    "            labels = series_label1,\n",
    "            xlabel = \"threads\",\n",
    "            legend = :topleft)\n",
    "    \n",
    "    if y2 != []\n",
    "        p = scatter(x,        \n",
    "            y2,\n",
    "            yerror = yerror2,\n",
    "            alpha = 0.6,\n",
    "            labels = series_label2,\n",
    "            legend = :topleft)\n",
    "    end\n",
    "    if y3 != []\n",
    "        p = scatter(x,        \n",
    "            y3,\n",
    "            yerror = yerror3,\n",
    "            alpha = 0.6,\n",
    "            labels = series_label3,\n",
    "            legend = :topleft)\n",
    "    end\n",
    "    if y4 != []\n",
    "        p = scatter(x,        \n",
    "            y4,\n",
    "            yerror = yerror4,\n",
    "            alpha = 0.6,\n",
    "            labels = series_label4,\n",
    "            legend = :topleft)\n",
    "    end\n",
    "    if y5 != []\n",
    "        p = scatter(x,        \n",
    "            y5,\n",
    "            yerror = yerror5,\n",
    "            alpha = 0.6,\n",
    "            labels = series_label5,\n",
    "            legend = :topleft)\n",
    "    end\n",
    "    return p\n",
    "end\n"
   ]
  },
  {
   "cell_type": "markdown",
   "metadata": {},
   "source": [
    "## Realizando os experimentos:"
   ]
  },
  {
   "cell_type": "markdown",
   "metadata": {},
   "source": [
    "### DataFrames:"
   ]
  },
  {
   "cell_type": "markdown",
   "metadata": {},
   "source": [
    "Parametros a serem utilizados(usamos os mesmos do script `run_measurements.sh`):"
   ]
  },
  {
   "cell_type": "code",
   "execution_count": 43,
   "metadata": {},
   "outputs": [],
   "source": [
    "size = [2 ^ i for i in 4:13] #resolucao\n",
    "thread = [2 ^ i for i in 0:5]\n",
    "repetitions = 10;"
   ]
  },
  {
   "cell_type": "markdown",
   "metadata": {},
   "source": [
    "#### Sequencial:"
   ]
  },
  {
   "cell_type": "code",
   "execution_count": 44,
   "metadata": {},
   "outputs": [
    {
     "data": {
      "text/plain": [
       "\"mandelbrot_seq\""
      ]
     },
     "execution_count": 44,
     "metadata": {},
     "output_type": "execute_result"
    }
   ],
   "source": [
    "fileName = \"mandelbrot_seq\""
   ]
  },
  {
   "cell_type": "code",
   "execution_count": 45,
   "metadata": {},
   "outputs": [
    {
     "name": "stdout",
     "output_type": "stream",
     "text": [
      "make: 'mandelbrot_seq' is up to date.\n"
     ]
    },
    {
     "data": {
      "text/html": [
       "<table class=\"data-frame\"><thead><tr><th></th><th>threads</th><th>size</th><th>mean_duration</th><th>ci_duration</th></tr><tr><th></th><th>Int64</th><th>Int64</th><th>Float64</th><th>Float64</th></tr></thead><tbody><p>10 rows × 4 columns</p><tr><th>1</th><td>0</td><td>16</td><td>5.6e-5</td><td>9.05285e-6</td></tr><tr><th>2</th><td>0</td><td>32</td><td>0.0002025</td><td>3.22491e-5</td></tr><tr><th>3</th><td>0</td><td>64</td><td>0.0007418</td><td>5.60498e-6</td></tr><tr><th>4</th><td>0</td><td>128</td><td>0.0029536</td><td>0.000123759</td></tr><tr><th>5</th><td>0</td><td>256</td><td>0.0114541</td><td>3.5358e-5</td></tr><tr><th>6</th><td>0</td><td>512</td><td>0.0454288</td><td>8.30006e-5</td></tr><tr><th>7</th><td>0</td><td>1024</td><td>0.18347</td><td>0.00890781</td></tr><tr><th>8</th><td>0</td><td>2048</td><td>0.738125</td><td>0.0546299</td></tr><tr><th>9</th><td>0</td><td>4096</td><td>2.91595</td><td>0.105369</td></tr><tr><th>10</th><td>0</td><td>8192</td><td>11.6992</td><td>0.518827</td></tr></tbody></table>"
      ],
      "text/latex": [
       "\\begin{tabular}{r|cccc}\n",
       "\t& threads & size & mean\\_duration & ci\\_duration\\\\\n",
       "\t\\hline\n",
       "\t& Int64 & Int64 & Float64 & Float64\\\\\n",
       "\t\\hline\n",
       "\t1 & 0 & 16 & 5.6e-5 & 9.05285e-6 \\\\\n",
       "\t2 & 0 & 32 & 0.0002025 & 3.22491e-5 \\\\\n",
       "\t3 & 0 & 64 & 0.0007418 & 5.60498e-6 \\\\\n",
       "\t4 & 0 & 128 & 0.0029536 & 0.000123759 \\\\\n",
       "\t5 & 0 & 256 & 0.0114541 & 3.5358e-5 \\\\\n",
       "\t6 & 0 & 512 & 0.0454288 & 8.30006e-5 \\\\\n",
       "\t7 & 0 & 1024 & 0.18347 & 0.00890781 \\\\\n",
       "\t8 & 0 & 2048 & 0.738125 & 0.0546299 \\\\\n",
       "\t9 & 0 & 4096 & 2.91595 & 0.105369 \\\\\n",
       "\t10 & 0 & 8192 & 11.6992 & 0.518827 \\\\\n",
       "\\end{tabular}\n"
      ],
      "text/plain": [
       "10×4 DataFrame\n",
       "│ Row │ threads │ size  │ mean_duration │ ci_duration │\n",
       "│     │ \u001b[90mInt64\u001b[39m   │ \u001b[90mInt64\u001b[39m │ \u001b[90mFloat64\u001b[39m       │ \u001b[90mFloat64\u001b[39m     │\n",
       "├─────┼─────────┼───────┼───────────────┼─────────────┤\n",
       "│ 1   │ 0       │ 16    │ 5.6e-5        │ 9.05285e-6  │\n",
       "│ 2   │ 0       │ 32    │ 0.0002025     │ 3.22491e-5  │\n",
       "│ 3   │ 0       │ 64    │ 0.0007418     │ 5.60498e-6  │\n",
       "│ 4   │ 0       │ 128   │ 0.0029536     │ 0.000123759 │\n",
       "│ 5   │ 0       │ 256   │ 0.0114541     │ 3.5358e-5   │\n",
       "│ 6   │ 0       │ 512   │ 0.0454288     │ 8.30006e-5  │\n",
       "│ 7   │ 0       │ 1024  │ 0.18347       │ 0.00890781  │\n",
       "│ 8   │ 0       │ 2048  │ 0.738125      │ 0.0546299   │\n",
       "│ 9   │ 0       │ 4096  │ 2.91595       │ 0.105369    │\n",
       "│ 10  │ 0       │ 8192  │ 11.6992       │ 0.518827    │"
      ]
     },
     "execution_count": 45,
     "metadata": {},
     "output_type": "execute_result"
    }
   ],
   "source": [
    "#Full picture\n",
    "results = run_experiments(size, 0, fileName, repetitions)\n",
    "seq_full = parse_results(results)"
   ]
  },
  {
   "cell_type": "code",
   "execution_count": 46,
   "metadata": {},
   "outputs": [
    {
     "name": "stdout",
     "output_type": "stream",
     "text": [
      "make: 'mandelbrot_seq' is up to date.\n"
     ]
    },
    {
     "data": {
      "text/html": [
       "<table class=\"data-frame\"><thead><tr><th></th><th>threads</th><th>size</th><th>mean_duration</th><th>ci_duration</th></tr><tr><th></th><th>Int64</th><th>Int64</th><th>Float64</th><th>Float64</th></tr></thead><tbody><p>10 rows × 4 columns</p><tr><th>1</th><td>0</td><td>16</td><td>0.0003228</td><td>2.92442e-5</td></tr><tr><th>2</th><td>0</td><td>32</td><td>0.0012646</td><td>5.27398e-5</td></tr><tr><th>3</th><td>0</td><td>64</td><td>0.0051023</td><td>0.000117509</td></tr><tr><th>4</th><td>0</td><td>128</td><td>0.020183</td><td>0.00166279</td></tr><tr><th>5</th><td>0</td><td>256</td><td>0.0795571</td><td>0.000680505</td></tr><tr><th>6</th><td>0</td><td>512</td><td>0.319836</td><td>0.0151178</td></tr><tr><th>7</th><td>0</td><td>1024</td><td>1.27922</td><td>0.0677639</td></tr><tr><th>8</th><td>0</td><td>2048</td><td>5.07981</td><td>0.037043</td></tr><tr><th>9</th><td>0</td><td>4096</td><td>20.2846</td><td>0.0222578</td></tr><tr><th>10</th><td>0</td><td>8192</td><td>81.102</td><td>0.0533689</td></tr></tbody></table>"
      ],
      "text/latex": [
       "\\begin{tabular}{r|cccc}\n",
       "\t& threads & size & mean\\_duration & ci\\_duration\\\\\n",
       "\t\\hline\n",
       "\t& Int64 & Int64 & Float64 & Float64\\\\\n",
       "\t\\hline\n",
       "\t1 & 0 & 16 & 0.0003228 & 2.92442e-5 \\\\\n",
       "\t2 & 0 & 32 & 0.0012646 & 5.27398e-5 \\\\\n",
       "\t3 & 0 & 64 & 0.0051023 & 0.000117509 \\\\\n",
       "\t4 & 0 & 128 & 0.020183 & 0.00166279 \\\\\n",
       "\t5 & 0 & 256 & 0.0795571 & 0.000680505 \\\\\n",
       "\t6 & 0 & 512 & 0.319836 & 0.0151178 \\\\\n",
       "\t7 & 0 & 1024 & 1.27922 & 0.0677639 \\\\\n",
       "\t8 & 0 & 2048 & 5.07981 & 0.037043 \\\\\n",
       "\t9 & 0 & 4096 & 20.2846 & 0.0222578 \\\\\n",
       "\t10 & 0 & 8192 & 81.102 & 0.0533689 \\\\\n",
       "\\end{tabular}\n"
      ],
      "text/plain": [
       "10×4 DataFrame\n",
       "│ Row │ threads │ size  │ mean_duration │ ci_duration │\n",
       "│     │ \u001b[90mInt64\u001b[39m   │ \u001b[90mInt64\u001b[39m │ \u001b[90mFloat64\u001b[39m       │ \u001b[90mFloat64\u001b[39m     │\n",
       "├─────┼─────────┼───────┼───────────────┼─────────────┤\n",
       "│ 1   │ 0       │ 16    │ 0.0003228     │ 2.92442e-5  │\n",
       "│ 2   │ 0       │ 32    │ 0.0012646     │ 5.27398e-5  │\n",
       "│ 3   │ 0       │ 64    │ 0.0051023     │ 0.000117509 │\n",
       "│ 4   │ 0       │ 128   │ 0.020183      │ 0.00166279  │\n",
       "│ 5   │ 0       │ 256   │ 0.0795571     │ 0.000680505 │\n",
       "│ 6   │ 0       │ 512   │ 0.319836      │ 0.0151178   │\n",
       "│ 7   │ 0       │ 1024  │ 1.27922       │ 0.0677639   │\n",
       "│ 8   │ 0       │ 2048  │ 5.07981       │ 0.037043    │\n",
       "│ 9   │ 0       │ 4096  │ 20.2846       │ 0.0222578   │\n",
       "│ 10  │ 0       │ 8192  │ 81.102        │ 0.0533689   │"
      ]
     },
     "execution_count": 46,
     "metadata": {},
     "output_type": "execute_result"
    }
   ],
   "source": [
    "#Seahorse valley\n",
    "results = run_experiments(size, 1, fileName , repetitions)\n",
    "seq_seahorse = parse_results(results)"
   ]
  },
  {
   "cell_type": "code",
   "execution_count": 47,
   "metadata": {},
   "outputs": [
    {
     "name": "stdout",
     "output_type": "stream",
     "text": [
      "make: 'mandelbrot_seq' is up to date.\n"
     ]
    },
    {
     "data": {
      "text/html": [
       "<table class=\"data-frame\"><thead><tr><th></th><th>threads</th><th>size</th><th>mean_duration</th><th>ci_duration</th></tr><tr><th></th><th>Int64</th><th>Int64</th><th>Float64</th><th>Float64</th></tr></thead><tbody><p>10 rows × 4 columns</p><tr><th>1</th><td>0</td><td>16</td><td>0.0003136</td><td>2.51885e-5</td></tr><tr><th>2</th><td>0</td><td>32</td><td>0.0012105</td><td>6.60626e-5</td></tr><tr><th>3</th><td>0</td><td>64</td><td>0.004811</td><td>0.000111044</td></tr><tr><th>4</th><td>0</td><td>128</td><td>0.0190153</td><td>0.000753571</td></tr><tr><th>5</th><td>0</td><td>256</td><td>0.0751926</td><td>0.000425466</td></tr><tr><th>6</th><td>0</td><td>512</td><td>0.300058</td><td>0.00107709</td></tr><tr><th>7</th><td>0</td><td>1024</td><td>1.19923</td><td>0.00395801</td></tr><tr><th>8</th><td>0</td><td>2048</td><td>4.79566</td><td>0.0149535</td></tr><tr><th>9</th><td>0</td><td>4096</td><td>19.1887</td><td>0.184678</td></tr><tr><th>10</th><td>0</td><td>8192</td><td>76.8423</td><td>0.72831</td></tr></tbody></table>"
      ],
      "text/latex": [
       "\\begin{tabular}{r|cccc}\n",
       "\t& threads & size & mean\\_duration & ci\\_duration\\\\\n",
       "\t\\hline\n",
       "\t& Int64 & Int64 & Float64 & Float64\\\\\n",
       "\t\\hline\n",
       "\t1 & 0 & 16 & 0.0003136 & 2.51885e-5 \\\\\n",
       "\t2 & 0 & 32 & 0.0012105 & 6.60626e-5 \\\\\n",
       "\t3 & 0 & 64 & 0.004811 & 0.000111044 \\\\\n",
       "\t4 & 0 & 128 & 0.0190153 & 0.000753571 \\\\\n",
       "\t5 & 0 & 256 & 0.0751926 & 0.000425466 \\\\\n",
       "\t6 & 0 & 512 & 0.300058 & 0.00107709 \\\\\n",
       "\t7 & 0 & 1024 & 1.19923 & 0.00395801 \\\\\n",
       "\t8 & 0 & 2048 & 4.79566 & 0.0149535 \\\\\n",
       "\t9 & 0 & 4096 & 19.1887 & 0.184678 \\\\\n",
       "\t10 & 0 & 8192 & 76.8423 & 0.72831 \\\\\n",
       "\\end{tabular}\n"
      ],
      "text/plain": [
       "10×4 DataFrame\n",
       "│ Row │ threads │ size  │ mean_duration │ ci_duration │\n",
       "│     │ \u001b[90mInt64\u001b[39m   │ \u001b[90mInt64\u001b[39m │ \u001b[90mFloat64\u001b[39m       │ \u001b[90mFloat64\u001b[39m     │\n",
       "├─────┼─────────┼───────┼───────────────┼─────────────┤\n",
       "│ 1   │ 0       │ 16    │ 0.0003136     │ 2.51885e-5  │\n",
       "│ 2   │ 0       │ 32    │ 0.0012105     │ 6.60626e-5  │\n",
       "│ 3   │ 0       │ 64    │ 0.004811      │ 0.000111044 │\n",
       "│ 4   │ 0       │ 128   │ 0.0190153     │ 0.000753571 │\n",
       "│ 5   │ 0       │ 256   │ 0.0751926     │ 0.000425466 │\n",
       "│ 6   │ 0       │ 512   │ 0.300058      │ 0.00107709  │\n",
       "│ 7   │ 0       │ 1024  │ 1.19923       │ 0.00395801  │\n",
       "│ 8   │ 0       │ 2048  │ 4.79566       │ 0.0149535   │\n",
       "│ 9   │ 0       │ 4096  │ 19.1887       │ 0.184678    │\n",
       "│ 10  │ 0       │ 8192  │ 76.8423       │ 0.72831     │"
      ]
     },
     "execution_count": 47,
     "metadata": {},
     "output_type": "execute_result"
    }
   ],
   "source": [
    "#Elephant valley\n",
    "results = run_experiments(size, 2, fileName, repetitions)\n",
    "seq_elephant = parse_results(results)"
   ]
  },
  {
   "cell_type": "code",
   "execution_count": 48,
   "metadata": {},
   "outputs": [
    {
     "name": "stdout",
     "output_type": "stream",
     "text": [
      "make: 'mandelbrot_seq' is up to date.\n"
     ]
    },
    {
     "data": {
      "text/html": [
       "<table class=\"data-frame\"><thead><tr><th></th><th>threads</th><th>size</th><th>mean_duration</th><th>ci_duration</th></tr><tr><th></th><th>Int64</th><th>Int64</th><th>Float64</th><th>Float64</th></tr></thead><tbody><p>10 rows × 4 columns</p><tr><th>1</th><td>0</td><td>16</td><td>0.0003627</td><td>1.13931e-5</td></tr><tr><th>2</th><td>0</td><td>32</td><td>0.0014456</td><td>6.35059e-5</td></tr><tr><th>3</th><td>0</td><td>64</td><td>0.0058111</td><td>0.000296101</td></tr><tr><th>4</th><td>0</td><td>128</td><td>0.022827</td><td>0.00114868</td></tr><tr><th>5</th><td>0</td><td>256</td><td>0.0905581</td><td>0.000635128</td></tr><tr><th>6</th><td>0</td><td>512</td><td>0.361428</td><td>0.0014605</td></tr><tr><th>7</th><td>0</td><td>1024</td><td>1.44384</td><td>0.00198878</td></tr><tr><th>8</th><td>0</td><td>2048</td><td>5.78284</td><td>0.0298312</td></tr><tr><th>9</th><td>0</td><td>4096</td><td>23.1094</td><td>0.0484658</td></tr><tr><th>10</th><td>0</td><td>8192</td><td>92.389</td><td>0.0612936</td></tr></tbody></table>"
      ],
      "text/latex": [
       "\\begin{tabular}{r|cccc}\n",
       "\t& threads & size & mean\\_duration & ci\\_duration\\\\\n",
       "\t\\hline\n",
       "\t& Int64 & Int64 & Float64 & Float64\\\\\n",
       "\t\\hline\n",
       "\t1 & 0 & 16 & 0.0003627 & 1.13931e-5 \\\\\n",
       "\t2 & 0 & 32 & 0.0014456 & 6.35059e-5 \\\\\n",
       "\t3 & 0 & 64 & 0.0058111 & 0.000296101 \\\\\n",
       "\t4 & 0 & 128 & 0.022827 & 0.00114868 \\\\\n",
       "\t5 & 0 & 256 & 0.0905581 & 0.000635128 \\\\\n",
       "\t6 & 0 & 512 & 0.361428 & 0.0014605 \\\\\n",
       "\t7 & 0 & 1024 & 1.44384 & 0.00198878 \\\\\n",
       "\t8 & 0 & 2048 & 5.78284 & 0.0298312 \\\\\n",
       "\t9 & 0 & 4096 & 23.1094 & 0.0484658 \\\\\n",
       "\t10 & 0 & 8192 & 92.389 & 0.0612936 \\\\\n",
       "\\end{tabular}\n"
      ],
      "text/plain": [
       "10×4 DataFrame\n",
       "│ Row │ threads │ size  │ mean_duration │ ci_duration │\n",
       "│     │ \u001b[90mInt64\u001b[39m   │ \u001b[90mInt64\u001b[39m │ \u001b[90mFloat64\u001b[39m       │ \u001b[90mFloat64\u001b[39m     │\n",
       "├─────┼─────────┼───────┼───────────────┼─────────────┤\n",
       "│ 1   │ 0       │ 16    │ 0.0003627     │ 1.13931e-5  │\n",
       "│ 2   │ 0       │ 32    │ 0.0014456     │ 6.35059e-5  │\n",
       "│ 3   │ 0       │ 64    │ 0.0058111     │ 0.000296101 │\n",
       "│ 4   │ 0       │ 128   │ 0.022827      │ 0.00114868  │\n",
       "│ 5   │ 0       │ 256   │ 0.0905581     │ 0.000635128 │\n",
       "│ 6   │ 0       │ 512   │ 0.361428      │ 0.0014605   │\n",
       "│ 7   │ 0       │ 1024  │ 1.44384       │ 0.00198878  │\n",
       "│ 8   │ 0       │ 2048  │ 5.78284       │ 0.0298312   │\n",
       "│ 9   │ 0       │ 4096  │ 23.1094       │ 0.0484658   │\n",
       "│ 10  │ 0       │ 8192  │ 92.389        │ 0.0612936   │"
      ]
     },
     "execution_count": 48,
     "metadata": {},
     "output_type": "execute_result"
    }
   ],
   "source": [
    "#Triple spiral\n",
    "results = run_experiments(size, 3, fileName, repetitions)\n",
    "seq_tripleSpiral = parse_results(results)"
   ]
  },
  {
   "cell_type": "markdown",
   "metadata": {},
   "source": [
    "#### PThreads:"
   ]
  },
  {
   "cell_type": "code",
   "execution_count": 63,
   "metadata": {},
   "outputs": [
    {
     "data": {
      "text/plain": [
       "\"mandelbrot_pth\""
      ]
     },
     "execution_count": 63,
     "metadata": {},
     "output_type": "execute_result"
    }
   ],
   "source": [
    "fileName = \"mandelbrot_pth\""
   ]
  },
  {
   "cell_type": "code",
   "execution_count": 64,
   "metadata": {},
   "outputs": [
    {
     "name": "stdout",
     "output_type": "stream",
     "text": [
      "make: 'mandelbrot_pth' is up to date.\n"
     ]
    },
    {
     "data": {
      "text/html": [
       "<table class=\"data-frame\"><thead><tr><th></th><th>threads</th><th>size</th><th>mean_duration</th><th>ci_duration</th></tr><tr><th></th><th>Int64</th><th>Int64</th><th>Float64</th><th>Float64</th></tr></thead><tbody><p>60 rows × 4 columns</p><tr><th>1</th><td>1</td><td>16</td><td>0.0003114</td><td>8.61816e-5</td></tr><tr><th>2</th><td>1</td><td>32</td><td>0.0004548</td><td>0.000101171</td></tr><tr><th>3</th><td>1</td><td>64</td><td>0.0011554</td><td>0.000389415</td></tr><tr><th>4</th><td>1</td><td>128</td><td>0.0036543</td><td>0.000410993</td></tr><tr><th>5</th><td>1</td><td>256</td><td>0.0117315</td><td>0.00087025</td></tr><tr><th>6</th><td>1</td><td>512</td><td>0.0466621</td><td>0.00275963</td></tr><tr><th>7</th><td>1</td><td>1024</td><td>0.178891</td><td>0.00327704</td></tr><tr><th>8</th><td>1</td><td>2048</td><td>0.710842</td><td>0.00169553</td></tr><tr><th>9</th><td>1</td><td>4096</td><td>2.84195</td><td>0.00454897</td></tr><tr><th>10</th><td>1</td><td>8192</td><td>11.3595</td><td>0.00834199</td></tr><tr><th>11</th><td>2</td><td>16</td><td>0.0002711</td><td>5.7415e-5</td></tr><tr><th>12</th><td>2</td><td>32</td><td>0.0004255</td><td>7.29645e-5</td></tr><tr><th>13</th><td>2</td><td>64</td><td>0.0009595</td><td>5.89034e-5</td></tr><tr><th>14</th><td>2</td><td>128</td><td>0.0030923</td><td>1.63477e-5</td></tr><tr><th>15</th><td>2</td><td>256</td><td>0.0114379</td><td>5.83515e-5</td></tr><tr><th>16</th><td>2</td><td>512</td><td>0.0450667</td><td>0.000964801</td></tr><tr><th>17</th><td>2</td><td>1024</td><td>0.178609</td><td>0.00118281</td></tr><tr><th>18</th><td>2</td><td>2048</td><td>0.712061</td><td>0.00268438</td></tr><tr><th>19</th><td>2</td><td>4096</td><td>2.85873</td><td>0.0614547</td></tr><tr><th>20</th><td>2</td><td>8192</td><td>11.3677</td><td>0.0219372</td></tr><tr><th>21</th><td>4</td><td>16</td><td>0.0002544</td><td>6.85047e-5</td></tr><tr><th>22</th><td>4</td><td>32</td><td>0.0003005</td><td>8.52456e-5</td></tr><tr><th>23</th><td>4</td><td>64</td><td>0.0006176</td><td>9.3972e-5</td></tr><tr><th>24</th><td>4</td><td>128</td><td>0.0019308</td><td>7.85403e-5</td></tr><tr><th>25</th><td>4</td><td>256</td><td>0.0070539</td><td>0.000261646</td></tr><tr><th>26</th><td>4</td><td>512</td><td>0.0274244</td><td>0.00146647</td></tr><tr><th>27</th><td>4</td><td>1024</td><td>0.104263</td><td>0.00551384</td></tr><tr><th>28</th><td>4</td><td>2048</td><td>0.398407</td><td>0.00834815</td></tr><tr><th>29</th><td>4</td><td>4096</td><td>1.58784</td><td>0.0546518</td></tr><tr><th>30</th><td>4</td><td>8192</td><td>6.24406</td><td>0.0136833</td></tr><tr><th>&vellip;</th><td>&vellip;</td><td>&vellip;</td><td>&vellip;</td><td>&vellip;</td></tr></tbody></table>"
      ],
      "text/latex": [
       "\\begin{tabular}{r|cccc}\n",
       "\t& threads & size & mean\\_duration & ci\\_duration\\\\\n",
       "\t\\hline\n",
       "\t& Int64 & Int64 & Float64 & Float64\\\\\n",
       "\t\\hline\n",
       "\t1 & 1 & 16 & 0.0003114 & 8.61816e-5 \\\\\n",
       "\t2 & 1 & 32 & 0.0004548 & 0.000101171 \\\\\n",
       "\t3 & 1 & 64 & 0.0011554 & 0.000389415 \\\\\n",
       "\t4 & 1 & 128 & 0.0036543 & 0.000410993 \\\\\n",
       "\t5 & 1 & 256 & 0.0117315 & 0.00087025 \\\\\n",
       "\t6 & 1 & 512 & 0.0466621 & 0.00275963 \\\\\n",
       "\t7 & 1 & 1024 & 0.178891 & 0.00327704 \\\\\n",
       "\t8 & 1 & 2048 & 0.710842 & 0.00169553 \\\\\n",
       "\t9 & 1 & 4096 & 2.84195 & 0.00454897 \\\\\n",
       "\t10 & 1 & 8192 & 11.3595 & 0.00834199 \\\\\n",
       "\t11 & 2 & 16 & 0.0002711 & 5.7415e-5 \\\\\n",
       "\t12 & 2 & 32 & 0.0004255 & 7.29645e-5 \\\\\n",
       "\t13 & 2 & 64 & 0.0009595 & 5.89034e-5 \\\\\n",
       "\t14 & 2 & 128 & 0.0030923 & 1.63477e-5 \\\\\n",
       "\t15 & 2 & 256 & 0.0114379 & 5.83515e-5 \\\\\n",
       "\t16 & 2 & 512 & 0.0450667 & 0.000964801 \\\\\n",
       "\t17 & 2 & 1024 & 0.178609 & 0.00118281 \\\\\n",
       "\t18 & 2 & 2048 & 0.712061 & 0.00268438 \\\\\n",
       "\t19 & 2 & 4096 & 2.85873 & 0.0614547 \\\\\n",
       "\t20 & 2 & 8192 & 11.3677 & 0.0219372 \\\\\n",
       "\t21 & 4 & 16 & 0.0002544 & 6.85047e-5 \\\\\n",
       "\t22 & 4 & 32 & 0.0003005 & 8.52456e-5 \\\\\n",
       "\t23 & 4 & 64 & 0.0006176 & 9.3972e-5 \\\\\n",
       "\t24 & 4 & 128 & 0.0019308 & 7.85403e-5 \\\\\n",
       "\t25 & 4 & 256 & 0.0070539 & 0.000261646 \\\\\n",
       "\t26 & 4 & 512 & 0.0274244 & 0.00146647 \\\\\n",
       "\t27 & 4 & 1024 & 0.104263 & 0.00551384 \\\\\n",
       "\t28 & 4 & 2048 & 0.398407 & 0.00834815 \\\\\n",
       "\t29 & 4 & 4096 & 1.58784 & 0.0546518 \\\\\n",
       "\t30 & 4 & 8192 & 6.24406 & 0.0136833 \\\\\n",
       "\t$\\dots$ & $\\dots$ & $\\dots$ & $\\dots$ & $\\dots$ \\\\\n",
       "\\end{tabular}\n"
      ],
      "text/plain": [
       "60×4 DataFrame\n",
       "│ Row │ threads │ size  │ mean_duration │ ci_duration │\n",
       "│     │ \u001b[90mInt64\u001b[39m   │ \u001b[90mInt64\u001b[39m │ \u001b[90mFloat64\u001b[39m       │ \u001b[90mFloat64\u001b[39m     │\n",
       "├─────┼─────────┼───────┼───────────────┼─────────────┤\n",
       "│ 1   │ 1       │ 16    │ 0.0003114     │ 8.61816e-5  │\n",
       "│ 2   │ 1       │ 32    │ 0.0004548     │ 0.000101171 │\n",
       "│ 3   │ 1       │ 64    │ 0.0011554     │ 0.000389415 │\n",
       "│ 4   │ 1       │ 128   │ 0.0036543     │ 0.000410993 │\n",
       "│ 5   │ 1       │ 256   │ 0.0117315     │ 0.00087025  │\n",
       "│ 6   │ 1       │ 512   │ 0.0466621     │ 0.00275963  │\n",
       "│ 7   │ 1       │ 1024  │ 0.178891      │ 0.00327704  │\n",
       "│ 8   │ 1       │ 2048  │ 0.710842      │ 0.00169553  │\n",
       "│ 9   │ 1       │ 4096  │ 2.84195       │ 0.00454897  │\n",
       "│ 10  │ 1       │ 8192  │ 11.3595       │ 0.00834199  │\n",
       "⋮\n",
       "│ 50  │ 16      │ 8192  │ 4.48871       │ 0.051516    │\n",
       "│ 51  │ 32      │ 16    │ 0.0007625     │ 5.6793e-5   │\n",
       "│ 52  │ 32      │ 32    │ 0.0007628     │ 5.35558e-5  │\n",
       "│ 53  │ 32      │ 64    │ 0.0008907     │ 0.000138593 │\n",
       "│ 54  │ 32      │ 128   │ 0.0018876     │ 0.000397392 │\n",
       "│ 55  │ 32      │ 256   │ 0.0053535     │ 0.000922719 │\n",
       "│ 56  │ 32      │ 512   │ 0.0198725     │ 0.00250465  │\n",
       "│ 57  │ 32      │ 1024  │ 0.0770299     │ 0.0117247   │\n",
       "│ 58  │ 32      │ 2048  │ 0.302769      │ 0.0245286   │\n",
       "│ 59  │ 32      │ 4096  │ 1.23207       │ 0.0399808   │\n",
       "│ 60  │ 32      │ 8192  │ 4.83396       │ 0.195047    │"
      ]
     },
     "execution_count": 64,
     "metadata": {},
     "output_type": "execute_result"
    }
   ],
   "source": [
    "#Full picture\n",
    "results = run_experiments(size, 0, fileName, repetitions, threads=thread)\n",
    "pth_full = parse_results(results)"
   ]
  },
  {
   "cell_type": "code",
   "execution_count": 65,
   "metadata": {},
   "outputs": [
    {
     "name": "stdout",
     "output_type": "stream",
     "text": [
      "make: 'mandelbrot_pth' is up to date.\n"
     ]
    },
    {
     "data": {
      "text/html": [
       "<table class=\"data-frame\"><thead><tr><th></th><th>threads</th><th>size</th><th>mean_duration</th><th>ci_duration</th></tr><tr><th></th><th>Int64</th><th>Int64</th><th>Float64</th><th>Float64</th></tr></thead><tbody><p>60 rows × 4 columns</p><tr><th>1</th><td>1</td><td>16</td><td>0.0006057</td><td>0.000149629</td></tr><tr><th>2</th><td>1</td><td>32</td><td>0.0015164</td><td>0.000173664</td></tr><tr><th>3</th><td>1</td><td>64</td><td>0.0054291</td><td>0.000461779</td></tr><tr><th>4</th><td>1</td><td>128</td><td>0.0199806</td><td>8.41163e-5</td></tr><tr><th>5</th><td>1</td><td>256</td><td>0.0789755</td><td>6.2003e-5</td></tr><tr><th>6</th><td>1</td><td>512</td><td>0.315121</td><td>0.00134078</td></tr><tr><th>7</th><td>1</td><td>1024</td><td>1.25797</td><td>0.00229108</td></tr><tr><th>8</th><td>1</td><td>2048</td><td>5.03762</td><td>0.0261172</td></tr><tr><th>9</th><td>1</td><td>4096</td><td>20.1212</td><td>0.00930737</td></tr><tr><th>10</th><td>1</td><td>8192</td><td>80.4756</td><td>0.0324686</td></tr><tr><th>11</th><td>2</td><td>16</td><td>0.0005531</td><td>6.71343e-5</td></tr><tr><th>12</th><td>2</td><td>32</td><td>0.0014915</td><td>5.95878e-5</td></tr><tr><th>13</th><td>2</td><td>64</td><td>0.0051842</td><td>4.81059e-5</td></tr><tr><th>14</th><td>2</td><td>128</td><td>0.0200013</td><td>0.000295714</td></tr><tr><th>15</th><td>2</td><td>256</td><td>0.0790057</td><td>0.000191973</td></tr><tr><th>16</th><td>2</td><td>512</td><td>0.315412</td><td>0.000936307</td></tr><tr><th>17</th><td>2</td><td>1024</td><td>1.25992</td><td>0.00361183</td></tr><tr><th>18</th><td>2</td><td>2048</td><td>5.05311</td><td>0.0779424</td></tr><tr><th>19</th><td>2</td><td>4096</td><td>20.141</td><td>0.0198229</td></tr><tr><th>20</th><td>2</td><td>8192</td><td>80.5685</td><td>0.130201</td></tr><tr><th>21</th><td>4</td><td>16</td><td>0.000349</td><td>0.000106583</td></tr><tr><th>22</th><td>4</td><td>32</td><td>0.0008574</td><td>0.000112302</td></tr><tr><th>23</th><td>4</td><td>64</td><td>0.0027703</td><td>1.21545e-5</td></tr><tr><th>24</th><td>4</td><td>128</td><td>0.0105666</td><td>2.63318e-5</td></tr><tr><th>25</th><td>4</td><td>256</td><td>0.0418541</td><td>0.000170202</td></tr><tr><th>26</th><td>4</td><td>512</td><td>0.165599</td><td>0.00290485</td></tr><tr><th>27</th><td>4</td><td>1024</td><td>0.646385</td><td>0.00250395</td></tr><tr><th>28</th><td>4</td><td>2048</td><td>2.57087</td><td>0.00788339</td></tr><tr><th>29</th><td>4</td><td>4096</td><td>10.1418</td><td>0.545688</td></tr><tr><th>30</th><td>4</td><td>8192</td><td>40.7984</td><td>1.28838</td></tr><tr><th>&vellip;</th><td>&vellip;</td><td>&vellip;</td><td>&vellip;</td><td>&vellip;</td></tr></tbody></table>"
      ],
      "text/latex": [
       "\\begin{tabular}{r|cccc}\n",
       "\t& threads & size & mean\\_duration & ci\\_duration\\\\\n",
       "\t\\hline\n",
       "\t& Int64 & Int64 & Float64 & Float64\\\\\n",
       "\t\\hline\n",
       "\t1 & 1 & 16 & 0.0006057 & 0.000149629 \\\\\n",
       "\t2 & 1 & 32 & 0.0015164 & 0.000173664 \\\\\n",
       "\t3 & 1 & 64 & 0.0054291 & 0.000461779 \\\\\n",
       "\t4 & 1 & 128 & 0.0199806 & 8.41163e-5 \\\\\n",
       "\t5 & 1 & 256 & 0.0789755 & 6.2003e-5 \\\\\n",
       "\t6 & 1 & 512 & 0.315121 & 0.00134078 \\\\\n",
       "\t7 & 1 & 1024 & 1.25797 & 0.00229108 \\\\\n",
       "\t8 & 1 & 2048 & 5.03762 & 0.0261172 \\\\\n",
       "\t9 & 1 & 4096 & 20.1212 & 0.00930737 \\\\\n",
       "\t10 & 1 & 8192 & 80.4756 & 0.0324686 \\\\\n",
       "\t11 & 2 & 16 & 0.0005531 & 6.71343e-5 \\\\\n",
       "\t12 & 2 & 32 & 0.0014915 & 5.95878e-5 \\\\\n",
       "\t13 & 2 & 64 & 0.0051842 & 4.81059e-5 \\\\\n",
       "\t14 & 2 & 128 & 0.0200013 & 0.000295714 \\\\\n",
       "\t15 & 2 & 256 & 0.0790057 & 0.000191973 \\\\\n",
       "\t16 & 2 & 512 & 0.315412 & 0.000936307 \\\\\n",
       "\t17 & 2 & 1024 & 1.25992 & 0.00361183 \\\\\n",
       "\t18 & 2 & 2048 & 5.05311 & 0.0779424 \\\\\n",
       "\t19 & 2 & 4096 & 20.141 & 0.0198229 \\\\\n",
       "\t20 & 2 & 8192 & 80.5685 & 0.130201 \\\\\n",
       "\t21 & 4 & 16 & 0.000349 & 0.000106583 \\\\\n",
       "\t22 & 4 & 32 & 0.0008574 & 0.000112302 \\\\\n",
       "\t23 & 4 & 64 & 0.0027703 & 1.21545e-5 \\\\\n",
       "\t24 & 4 & 128 & 0.0105666 & 2.63318e-5 \\\\\n",
       "\t25 & 4 & 256 & 0.0418541 & 0.000170202 \\\\\n",
       "\t26 & 4 & 512 & 0.165599 & 0.00290485 \\\\\n",
       "\t27 & 4 & 1024 & 0.646385 & 0.00250395 \\\\\n",
       "\t28 & 4 & 2048 & 2.57087 & 0.00788339 \\\\\n",
       "\t29 & 4 & 4096 & 10.1418 & 0.545688 \\\\\n",
       "\t30 & 4 & 8192 & 40.7984 & 1.28838 \\\\\n",
       "\t$\\dots$ & $\\dots$ & $\\dots$ & $\\dots$ & $\\dots$ \\\\\n",
       "\\end{tabular}\n"
      ],
      "text/plain": [
       "60×4 DataFrame\n",
       "│ Row │ threads │ size  │ mean_duration │ ci_duration │\n",
       "│     │ \u001b[90mInt64\u001b[39m   │ \u001b[90mInt64\u001b[39m │ \u001b[90mFloat64\u001b[39m       │ \u001b[90mFloat64\u001b[39m     │\n",
       "├─────┼─────────┼───────┼───────────────┼─────────────┤\n",
       "│ 1   │ 1       │ 16    │ 0.0006057     │ 0.000149629 │\n",
       "│ 2   │ 1       │ 32    │ 0.0015164     │ 0.000173664 │\n",
       "│ 3   │ 1       │ 64    │ 0.0054291     │ 0.000461779 │\n",
       "│ 4   │ 1       │ 128   │ 0.0199806     │ 8.41163e-5  │\n",
       "│ 5   │ 1       │ 256   │ 0.0789755     │ 6.2003e-5   │\n",
       "│ 6   │ 1       │ 512   │ 0.315121      │ 0.00134078  │\n",
       "│ 7   │ 1       │ 1024  │ 1.25797       │ 0.00229108  │\n",
       "│ 8   │ 1       │ 2048  │ 5.03762       │ 0.0261172   │\n",
       "│ 9   │ 1       │ 4096  │ 20.1212       │ 0.00930737  │\n",
       "│ 10  │ 1       │ 8192  │ 80.4756       │ 0.0324686   │\n",
       "⋮\n",
       "│ 50  │ 16      │ 8192  │ 31.0338       │ 0.11355     │\n",
       "│ 51  │ 32      │ 16    │ 0.0008227     │ 3.43737e-5  │\n",
       "│ 52  │ 32      │ 32    │ 0.0010128     │ 9.55825e-5  │\n",
       "│ 53  │ 32      │ 64    │ 0.0023241     │ 0.000197355 │\n",
       "│ 54  │ 32      │ 128   │ 0.0073973     │ 0.000263147 │\n",
       "│ 55  │ 32      │ 256   │ 0.0274522     │ 0.00175164  │\n",
       "│ 56  │ 32      │ 512   │ 0.105452      │ 0.000914943 │\n",
       "│ 57  │ 32      │ 1024  │ 0.417151      │ 0.00543975  │\n",
       "│ 58  │ 32      │ 2048  │ 1.66383       │ 0.00956852  │\n",
       "│ 59  │ 32      │ 4096  │ 6.62668       │ 0.0191489   │\n",
       "│ 60  │ 32      │ 8192  │ 26.4926       │ 0.0323266   │"
      ]
     },
     "execution_count": 65,
     "metadata": {},
     "output_type": "execute_result"
    }
   ],
   "source": [
    "#Seahorse valley\n",
    "results = run_experiments(size, 1, fileName, repetitions, threads=thread)\n",
    "pth_seahorse = parse_results(results)"
   ]
  },
  {
   "cell_type": "code",
   "execution_count": 66,
   "metadata": {},
   "outputs": [
    {
     "name": "stdout",
     "output_type": "stream",
     "text": [
      "make: 'mandelbrot_pth' is up to date.\n"
     ]
    },
    {
     "data": {
      "text/html": [
       "<table class=\"data-frame\"><thead><tr><th></th><th>threads</th><th>size</th><th>mean_duration</th><th>ci_duration</th></tr><tr><th></th><th>Int64</th><th>Int64</th><th>Float64</th><th>Float64</th></tr></thead><tbody><p>60 rows × 4 columns</p><tr><th>1</th><td>1</td><td>16</td><td>0.0005617</td><td>0.000143897</td></tr><tr><th>2</th><td>1</td><td>32</td><td>0.0014322</td><td>6.47282e-5</td></tr><tr><th>3</th><td>1</td><td>64</td><td>0.005054</td><td>0.00038594</td></tr><tr><th>4</th><td>1</td><td>128</td><td>0.0190474</td><td>0.000438982</td></tr><tr><th>5</th><td>1</td><td>256</td><td>0.0747919</td><td>0.000322182</td></tr><tr><th>6</th><td>1</td><td>512</td><td>0.297755</td><td>0.00115141</td></tr><tr><th>7</th><td>1</td><td>1024</td><td>1.18904</td><td>0.0017178</td></tr><tr><th>8</th><td>1</td><td>2048</td><td>4.75297</td><td>0.00567731</td></tr><tr><th>9</th><td>1</td><td>4096</td><td>18.9996</td><td>0.0103493</td></tr><tr><th>10</th><td>1</td><td>8192</td><td>75.9754</td><td>0.0130436</td></tr><tr><th>11</th><td>2</td><td>16</td><td>0.0005528</td><td>6.71301e-5</td></tr><tr><th>12</th><td>2</td><td>32</td><td>0.001433</td><td>5.29805e-5</td></tr><tr><th>13</th><td>2</td><td>64</td><td>0.0049418</td><td>6.42516e-5</td></tr><tr><th>14</th><td>2</td><td>128</td><td>0.0189187</td><td>7.99636e-5</td></tr><tr><th>15</th><td>2</td><td>256</td><td>0.0748729</td><td>0.00118753</td></tr><tr><th>16</th><td>2</td><td>512</td><td>0.297893</td><td>0.00179417</td></tr><tr><th>17</th><td>2</td><td>1024</td><td>1.18919</td><td>0.0027986</td></tr><tr><th>18</th><td>2</td><td>2048</td><td>4.75474</td><td>0.00654527</td></tr><tr><th>19</th><td>2</td><td>4096</td><td>19.0177</td><td>0.0198187</td></tr><tr><th>20</th><td>2</td><td>8192</td><td>76.1102</td><td>0.337967</td></tr><tr><th>21</th><td>4</td><td>16</td><td>0.0003491</td><td>4.50322e-5</td></tr><tr><th>22</th><td>4</td><td>32</td><td>0.0007889</td><td>1.34037e-5</td></tr><tr><th>23</th><td>4</td><td>64</td><td>0.0031735</td><td>0.00166273</td></tr><tr><th>24</th><td>4</td><td>128</td><td>0.0107535</td><td>0.000846613</td></tr><tr><th>25</th><td>4</td><td>256</td><td>0.0415502</td><td>0.000434198</td></tr><tr><th>26</th><td>4</td><td>512</td><td>0.164865</td><td>0.000621728</td></tr><tr><th>27</th><td>4</td><td>1024</td><td>0.658522</td><td>0.00315578</td></tr><tr><th>28</th><td>4</td><td>2048</td><td>2.6385</td><td>0.0185247</td></tr><tr><th>29</th><td>4</td><td>4096</td><td>10.5503</td><td>0.0189505</td></tr><tr><th>30</th><td>4</td><td>8192</td><td>42.8212</td><td>2.29238</td></tr><tr><th>&vellip;</th><td>&vellip;</td><td>&vellip;</td><td>&vellip;</td><td>&vellip;</td></tr></tbody></table>"
      ],
      "text/latex": [
       "\\begin{tabular}{r|cccc}\n",
       "\t& threads & size & mean\\_duration & ci\\_duration\\\\\n",
       "\t\\hline\n",
       "\t& Int64 & Int64 & Float64 & Float64\\\\\n",
       "\t\\hline\n",
       "\t1 & 1 & 16 & 0.0005617 & 0.000143897 \\\\\n",
       "\t2 & 1 & 32 & 0.0014322 & 6.47282e-5 \\\\\n",
       "\t3 & 1 & 64 & 0.005054 & 0.00038594 \\\\\n",
       "\t4 & 1 & 128 & 0.0190474 & 0.000438982 \\\\\n",
       "\t5 & 1 & 256 & 0.0747919 & 0.000322182 \\\\\n",
       "\t6 & 1 & 512 & 0.297755 & 0.00115141 \\\\\n",
       "\t7 & 1 & 1024 & 1.18904 & 0.0017178 \\\\\n",
       "\t8 & 1 & 2048 & 4.75297 & 0.00567731 \\\\\n",
       "\t9 & 1 & 4096 & 18.9996 & 0.0103493 \\\\\n",
       "\t10 & 1 & 8192 & 75.9754 & 0.0130436 \\\\\n",
       "\t11 & 2 & 16 & 0.0005528 & 6.71301e-5 \\\\\n",
       "\t12 & 2 & 32 & 0.001433 & 5.29805e-5 \\\\\n",
       "\t13 & 2 & 64 & 0.0049418 & 6.42516e-5 \\\\\n",
       "\t14 & 2 & 128 & 0.0189187 & 7.99636e-5 \\\\\n",
       "\t15 & 2 & 256 & 0.0748729 & 0.00118753 \\\\\n",
       "\t16 & 2 & 512 & 0.297893 & 0.00179417 \\\\\n",
       "\t17 & 2 & 1024 & 1.18919 & 0.0027986 \\\\\n",
       "\t18 & 2 & 2048 & 4.75474 & 0.00654527 \\\\\n",
       "\t19 & 2 & 4096 & 19.0177 & 0.0198187 \\\\\n",
       "\t20 & 2 & 8192 & 76.1102 & 0.337967 \\\\\n",
       "\t21 & 4 & 16 & 0.0003491 & 4.50322e-5 \\\\\n",
       "\t22 & 4 & 32 & 0.0007889 & 1.34037e-5 \\\\\n",
       "\t23 & 4 & 64 & 0.0031735 & 0.00166273 \\\\\n",
       "\t24 & 4 & 128 & 0.0107535 & 0.000846613 \\\\\n",
       "\t25 & 4 & 256 & 0.0415502 & 0.000434198 \\\\\n",
       "\t26 & 4 & 512 & 0.164865 & 0.000621728 \\\\\n",
       "\t27 & 4 & 1024 & 0.658522 & 0.00315578 \\\\\n",
       "\t28 & 4 & 2048 & 2.6385 & 0.0185247 \\\\\n",
       "\t29 & 4 & 4096 & 10.5503 & 0.0189505 \\\\\n",
       "\t30 & 4 & 8192 & 42.8212 & 2.29238 \\\\\n",
       "\t$\\dots$ & $\\dots$ & $\\dots$ & $\\dots$ & $\\dots$ \\\\\n",
       "\\end{tabular}\n"
      ],
      "text/plain": [
       "60×4 DataFrame\n",
       "│ Row │ threads │ size  │ mean_duration │ ci_duration │\n",
       "│     │ \u001b[90mInt64\u001b[39m   │ \u001b[90mInt64\u001b[39m │ \u001b[90mFloat64\u001b[39m       │ \u001b[90mFloat64\u001b[39m     │\n",
       "├─────┼─────────┼───────┼───────────────┼─────────────┤\n",
       "│ 1   │ 1       │ 16    │ 0.0005617     │ 0.000143897 │\n",
       "│ 2   │ 1       │ 32    │ 0.0014322     │ 6.47282e-5  │\n",
       "│ 3   │ 1       │ 64    │ 0.005054      │ 0.00038594  │\n",
       "│ 4   │ 1       │ 128   │ 0.0190474     │ 0.000438982 │\n",
       "│ 5   │ 1       │ 256   │ 0.0747919     │ 0.000322182 │\n",
       "│ 6   │ 1       │ 512   │ 0.297755      │ 0.00115141  │\n",
       "│ 7   │ 1       │ 1024  │ 1.18904       │ 0.0017178   │\n",
       "│ 8   │ 1       │ 2048  │ 4.75297       │ 0.00567731  │\n",
       "│ 9   │ 1       │ 4096  │ 18.9996       │ 0.0103493   │\n",
       "│ 10  │ 1       │ 8192  │ 75.9754       │ 0.0130436   │\n",
       "⋮\n",
       "│ 50  │ 16      │ 8192  │ 28.9803       │ 0.25479     │\n",
       "│ 51  │ 32      │ 16    │ 0.0008101     │ 5.39975e-5  │\n",
       "│ 52  │ 32      │ 32    │ 0.0009968     │ 0.000111469 │\n",
       "│ 53  │ 32      │ 64    │ 0.0023449     │ 0.00024886  │\n",
       "│ 54  │ 32      │ 128   │ 0.0069286     │ 0.000253892 │\n",
       "│ 55  │ 32      │ 256   │ 0.025894      │ 0.00134568  │\n",
       "│ 56  │ 32      │ 512   │ 0.0998317     │ 0.00301303  │\n",
       "│ 57  │ 32      │ 1024  │ 0.394773      │ 0.00567691  │\n",
       "│ 58  │ 32      │ 2048  │ 1.56986       │ 0.00721167  │\n",
       "│ 59  │ 32      │ 4096  │ 6.26311       │ 0.0205601   │\n",
       "│ 60  │ 32      │ 8192  │ 25.0308       │ 0.0410157   │"
      ]
     },
     "execution_count": 66,
     "metadata": {},
     "output_type": "execute_result"
    }
   ],
   "source": [
    "#Elephant valley\n",
    "results = run_experiments(size, 2, fileName, repetitions, threads=thread)\n",
    "pth_elephant = parse_results(results)"
   ]
  },
  {
   "cell_type": "code",
   "execution_count": 67,
   "metadata": {},
   "outputs": [
    {
     "name": "stdout",
     "output_type": "stream",
     "text": [
      "make: 'mandelbrot_pth' is up to date.\n"
     ]
    },
    {
     "data": {
      "text/html": [
       "<table class=\"data-frame\"><thead><tr><th></th><th>threads</th><th>size</th><th>mean_duration</th><th>ci_duration</th></tr><tr><th></th><th>Int64</th><th>Int64</th><th>Float64</th><th>Float64</th></tr></thead><tbody><p>60 rows × 4 columns</p><tr><th>1</th><td>1</td><td>16</td><td>0.0005551</td><td>2.55628e-5</td></tr><tr><th>2</th><td>1</td><td>32</td><td>0.0018794</td><td>0.000674058</td></tr><tr><th>3</th><td>1</td><td>64</td><td>0.0060527</td><td>0.000462175</td></tr><tr><th>4</th><td>1</td><td>128</td><td>0.0228469</td><td>0.000452017</td></tr><tr><th>5</th><td>1</td><td>256</td><td>0.0901165</td><td>0.00129533</td></tr><tr><th>6</th><td>1</td><td>512</td><td>0.358583</td><td>0.00103231</td></tr><tr><th>7</th><td>1</td><td>1024</td><td>1.43251</td><td>0.00157079</td></tr><tr><th>8</th><td>1</td><td>2048</td><td>5.72774</td><td>0.0038398</td></tr><tr><th>9</th><td>1</td><td>4096</td><td>22.913</td><td>0.0049492</td></tr><tr><th>10</th><td>1</td><td>8192</td><td>91.6348</td><td>0.0257623</td></tr><tr><th>11</th><td>2</td><td>16</td><td>0.0005884</td><td>4.36532e-5</td></tr><tr><th>12</th><td>2</td><td>32</td><td>0.00165</td><td>6.44254e-5</td></tr><tr><th>13</th><td>2</td><td>64</td><td>0.0058797</td><td>5.83046e-5</td></tr><tr><th>14</th><td>2</td><td>128</td><td>0.0227553</td><td>0.000265635</td></tr><tr><th>15</th><td>2</td><td>256</td><td>0.0921137</td><td>0.00638872</td></tr><tr><th>16</th><td>2</td><td>512</td><td>0.378082</td><td>0.0279588</td></tr><tr><th>17</th><td>2</td><td>1024</td><td>1.43466</td><td>0.00382319</td></tr><tr><th>18</th><td>2</td><td>2048</td><td>5.73159</td><td>0.00544243</td></tr><tr><th>19</th><td>2</td><td>4096</td><td>22.9251</td><td>0.00976727</td></tr><tr><th>20</th><td>2</td><td>8192</td><td>91.6922</td><td>0.0195863</td></tr><tr><th>21</th><td>4</td><td>16</td><td>0.0003909</td><td>7.98749e-5</td></tr><tr><th>22</th><td>4</td><td>32</td><td>0.0009292</td><td>6.09165e-5</td></tr><tr><th>23</th><td>4</td><td>64</td><td>0.0032396</td><td>5.17513e-5</td></tr><tr><th>24</th><td>4</td><td>128</td><td>0.0125186</td><td>9.27697e-5</td></tr><tr><th>25</th><td>4</td><td>256</td><td>0.0494697</td><td>0.000126244</td></tr><tr><th>26</th><td>4</td><td>512</td><td>0.197192</td><td>0.000426486</td></tr><tr><th>27</th><td>4</td><td>1024</td><td>0.788929</td><td>0.00578773</td></tr><tr><th>28</th><td>4</td><td>2048</td><td>3.15469</td><td>0.0121798</td></tr><tr><th>29</th><td>4</td><td>4096</td><td>12.5979</td><td>0.0153855</td></tr><tr><th>30</th><td>4</td><td>8192</td><td>50.4926</td><td>0.213873</td></tr><tr><th>&vellip;</th><td>&vellip;</td><td>&vellip;</td><td>&vellip;</td><td>&vellip;</td></tr></tbody></table>"
      ],
      "text/latex": [
       "\\begin{tabular}{r|cccc}\n",
       "\t& threads & size & mean\\_duration & ci\\_duration\\\\\n",
       "\t\\hline\n",
       "\t& Int64 & Int64 & Float64 & Float64\\\\\n",
       "\t\\hline\n",
       "\t1 & 1 & 16 & 0.0005551 & 2.55628e-5 \\\\\n",
       "\t2 & 1 & 32 & 0.0018794 & 0.000674058 \\\\\n",
       "\t3 & 1 & 64 & 0.0060527 & 0.000462175 \\\\\n",
       "\t4 & 1 & 128 & 0.0228469 & 0.000452017 \\\\\n",
       "\t5 & 1 & 256 & 0.0901165 & 0.00129533 \\\\\n",
       "\t6 & 1 & 512 & 0.358583 & 0.00103231 \\\\\n",
       "\t7 & 1 & 1024 & 1.43251 & 0.00157079 \\\\\n",
       "\t8 & 1 & 2048 & 5.72774 & 0.0038398 \\\\\n",
       "\t9 & 1 & 4096 & 22.913 & 0.0049492 \\\\\n",
       "\t10 & 1 & 8192 & 91.6348 & 0.0257623 \\\\\n",
       "\t11 & 2 & 16 & 0.0005884 & 4.36532e-5 \\\\\n",
       "\t12 & 2 & 32 & 0.00165 & 6.44254e-5 \\\\\n",
       "\t13 & 2 & 64 & 0.0058797 & 5.83046e-5 \\\\\n",
       "\t14 & 2 & 128 & 0.0227553 & 0.000265635 \\\\\n",
       "\t15 & 2 & 256 & 0.0921137 & 0.00638872 \\\\\n",
       "\t16 & 2 & 512 & 0.378082 & 0.0279588 \\\\\n",
       "\t17 & 2 & 1024 & 1.43466 & 0.00382319 \\\\\n",
       "\t18 & 2 & 2048 & 5.73159 & 0.00544243 \\\\\n",
       "\t19 & 2 & 4096 & 22.9251 & 0.00976727 \\\\\n",
       "\t20 & 2 & 8192 & 91.6922 & 0.0195863 \\\\\n",
       "\t21 & 4 & 16 & 0.0003909 & 7.98749e-5 \\\\\n",
       "\t22 & 4 & 32 & 0.0009292 & 6.09165e-5 \\\\\n",
       "\t23 & 4 & 64 & 0.0032396 & 5.17513e-5 \\\\\n",
       "\t24 & 4 & 128 & 0.0125186 & 9.27697e-5 \\\\\n",
       "\t25 & 4 & 256 & 0.0494697 & 0.000126244 \\\\\n",
       "\t26 & 4 & 512 & 0.197192 & 0.000426486 \\\\\n",
       "\t27 & 4 & 1024 & 0.788929 & 0.00578773 \\\\\n",
       "\t28 & 4 & 2048 & 3.15469 & 0.0121798 \\\\\n",
       "\t29 & 4 & 4096 & 12.5979 & 0.0153855 \\\\\n",
       "\t30 & 4 & 8192 & 50.4926 & 0.213873 \\\\\n",
       "\t$\\dots$ & $\\dots$ & $\\dots$ & $\\dots$ & $\\dots$ \\\\\n",
       "\\end{tabular}\n"
      ],
      "text/plain": [
       "60×4 DataFrame\n",
       "│ Row │ threads │ size  │ mean_duration │ ci_duration │\n",
       "│     │ \u001b[90mInt64\u001b[39m   │ \u001b[90mInt64\u001b[39m │ \u001b[90mFloat64\u001b[39m       │ \u001b[90mFloat64\u001b[39m     │\n",
       "├─────┼─────────┼───────┼───────────────┼─────────────┤\n",
       "│ 1   │ 1       │ 16    │ 0.0005551     │ 2.55628e-5  │\n",
       "│ 2   │ 1       │ 32    │ 0.0018794     │ 0.000674058 │\n",
       "│ 3   │ 1       │ 64    │ 0.0060527     │ 0.000462175 │\n",
       "│ 4   │ 1       │ 128   │ 0.0228469     │ 0.000452017 │\n",
       "│ 5   │ 1       │ 256   │ 0.0901165     │ 0.00129533  │\n",
       "│ 6   │ 1       │ 512   │ 0.358583      │ 0.00103231  │\n",
       "│ 7   │ 1       │ 1024  │ 1.43251       │ 0.00157079  │\n",
       "│ 8   │ 1       │ 2048  │ 5.72774       │ 0.0038398   │\n",
       "│ 9   │ 1       │ 4096  │ 22.913        │ 0.0049492   │\n",
       "│ 10  │ 1       │ 8192  │ 91.6348       │ 0.0257623   │\n",
       "⋮\n",
       "│ 50  │ 16      │ 8192  │ 35.3336       │ 0.196634    │\n",
       "│ 51  │ 32      │ 16    │ 0.0008307     │ 4.40218e-5  │\n",
       "│ 52  │ 32      │ 32    │ 0.0010605     │ 6.19204e-5  │\n",
       "│ 53  │ 32      │ 64    │ 0.0026158     │ 0.000228367 │\n",
       "│ 54  │ 32      │ 128   │ 0.008241      │ 0.000414592 │\n",
       "│ 55  │ 32      │ 256   │ 0.0308685     │ 0.00137575  │\n",
       "│ 56  │ 32      │ 512   │ 0.120244      │ 0.00276654  │\n",
       "│ 57  │ 32      │ 1024  │ 0.473346      │ 0.00260174  │\n",
       "│ 58  │ 32      │ 2048  │ 1.89716       │ 0.0237083   │\n",
       "│ 59  │ 32      │ 4096  │ 7.55163       │ 0.0121124   │\n",
       "│ 60  │ 32      │ 8192  │ 30.1958       │ 0.0332435   │"
      ]
     },
     "execution_count": 67,
     "metadata": {},
     "output_type": "execute_result"
    }
   ],
   "source": [
    "#Triple spiral\n",
    "results = run_experiments(size, 3, fileName, repetitions, threads=thread)\n",
    "pth_tripleSpiral = parse_results(results)"
   ]
  },
  {
   "cell_type": "markdown",
   "metadata": {},
   "source": [
    "#### OpenMP:"
   ]
  },
  {
   "cell_type": "code",
   "execution_count": 68,
   "metadata": {},
   "outputs": [
    {
     "data": {
      "text/plain": [
       "\"mandelbrot_omp\""
      ]
     },
     "execution_count": 68,
     "metadata": {},
     "output_type": "execute_result"
    }
   ],
   "source": [
    "fileName = \"mandelbrot_omp\""
   ]
  },
  {
   "cell_type": "code",
   "execution_count": 69,
   "metadata": {},
   "outputs": [
    {
     "name": "stdout",
     "output_type": "stream",
     "text": [
      "make: 'mandelbrot_omp' is up to date.\n"
     ]
    },
    {
     "data": {
      "text/html": [
       "<table class=\"data-frame\"><thead><tr><th></th><th>threads</th><th>size</th><th>mean_duration</th><th>ci_duration</th></tr><tr><th></th><th>Int64</th><th>Int64</th><th>Float64</th><th>Float64</th></tr></thead><tbody><p>60 rows × 4 columns</p><tr><th>1</th><td>1</td><td>16</td><td>-25628.8</td><td>0.00738201</td></tr><tr><th>2</th><td>1</td><td>32</td><td>-25628.8</td><td>0.0085051</td></tr><tr><th>3</th><td>1</td><td>64</td><td>-25628.8</td><td>0.0114501</td></tr><tr><th>4</th><td>1</td><td>128</td><td>-25628.8</td><td>0.027663</td></tr><tr><th>5</th><td>1</td><td>256</td><td>-25628.9</td><td>0.0793627</td></tr><tr><th>6</th><td>1</td><td>512</td><td>-25629.3</td><td>0.293734</td></tr><tr><th>7</th><td>1</td><td>1024</td><td>-25630.5</td><td>1.15083</td></tr><tr><th>8</th><td>1</td><td>2048</td><td>-25635.6</td><td>4.55373</td></tr><tr><th>9</th><td>1</td><td>4096</td><td>-25655.9</td><td>18.148</td></tr><tr><th>10</th><td>1</td><td>8192</td><td>-25736.8</td><td>72.4368</td></tr><tr><th>11</th><td>2</td><td>16</td><td>-25791.7</td><td>0.00626387</td></tr><tr><th>12</th><td>2</td><td>32</td><td>-25791.8</td><td>0.00697924</td></tr><tr><th>13</th><td>2</td><td>64</td><td>-25791.8</td><td>0.00909231</td></tr><tr><th>14</th><td>2</td><td>128</td><td>-25791.8</td><td>0.016239</td></tr><tr><th>15</th><td>2</td><td>256</td><td>-25791.8</td><td>0.0453865</td></tr><tr><th>16</th><td>2</td><td>512</td><td>-25792.0</td><td>0.151394</td></tr><tr><th>17</th><td>2</td><td>1024</td><td>-25792.7</td><td>0.580718</td></tr><tr><th>18</th><td>2</td><td>2048</td><td>-25795.2</td><td>2.28247</td></tr><tr><th>19</th><td>2</td><td>4096</td><td>-25805.4</td><td>9.08378</td></tr><tr><th>20</th><td>2</td><td>8192</td><td>-25845.9</td><td>36.2441</td></tr><tr><th>21</th><td>4</td><td>16</td><td>-25873.4</td><td>0.00705297</td></tr><tr><th>22</th><td>4</td><td>32</td><td>-25873.4</td><td>0.00734979</td></tr><tr><th>23</th><td>4</td><td>64</td><td>-25873.4</td><td>0.00839454</td></tr><tr><th>24</th><td>4</td><td>128</td><td>-25873.4</td><td>0.0126828</td></tr><tr><th>25</th><td>4</td><td>256</td><td>-25873.4</td><td>0.0307923</td></tr><tr><th>26</th><td>4</td><td>512</td><td>-25873.5</td><td>0.0906137</td></tr><tr><th>27</th><td>4</td><td>1024</td><td>-25873.9</td><td>0.333149</td></tr><tr><th>28</th><td>4</td><td>2048</td><td>-25875.4</td><td>1.30875</td></tr><tr><th>29</th><td>4</td><td>4096</td><td>-25881.2</td><td>5.24877</td></tr><tr><th>30</th><td>4</td><td>8192</td><td>-25904.6</td><td>20.9945</td></tr><tr><th>&vellip;</th><td>&vellip;</td><td>&vellip;</td><td>&vellip;</td><td>&vellip;</td></tr></tbody></table>"
      ],
      "text/latex": [
       "\\begin{tabular}{r|cccc}\n",
       "\t& threads & size & mean\\_duration & ci\\_duration\\\\\n",
       "\t\\hline\n",
       "\t& Int64 & Int64 & Float64 & Float64\\\\\n",
       "\t\\hline\n",
       "\t1 & 1 & 16 & -25628.8 & 0.00738201 \\\\\n",
       "\t2 & 1 & 32 & -25628.8 & 0.0085051 \\\\\n",
       "\t3 & 1 & 64 & -25628.8 & 0.0114501 \\\\\n",
       "\t4 & 1 & 128 & -25628.8 & 0.027663 \\\\\n",
       "\t5 & 1 & 256 & -25628.9 & 0.0793627 \\\\\n",
       "\t6 & 1 & 512 & -25629.3 & 0.293734 \\\\\n",
       "\t7 & 1 & 1024 & -25630.5 & 1.15083 \\\\\n",
       "\t8 & 1 & 2048 & -25635.6 & 4.55373 \\\\\n",
       "\t9 & 1 & 4096 & -25655.9 & 18.148 \\\\\n",
       "\t10 & 1 & 8192 & -25736.8 & 72.4368 \\\\\n",
       "\t11 & 2 & 16 & -25791.7 & 0.00626387 \\\\\n",
       "\t12 & 2 & 32 & -25791.8 & 0.00697924 \\\\\n",
       "\t13 & 2 & 64 & -25791.8 & 0.00909231 \\\\\n",
       "\t14 & 2 & 128 & -25791.8 & 0.016239 \\\\\n",
       "\t15 & 2 & 256 & -25791.8 & 0.0453865 \\\\\n",
       "\t16 & 2 & 512 & -25792.0 & 0.151394 \\\\\n",
       "\t17 & 2 & 1024 & -25792.7 & 0.580718 \\\\\n",
       "\t18 & 2 & 2048 & -25795.2 & 2.28247 \\\\\n",
       "\t19 & 2 & 4096 & -25805.4 & 9.08378 \\\\\n",
       "\t20 & 2 & 8192 & -25845.9 & 36.2441 \\\\\n",
       "\t21 & 4 & 16 & -25873.4 & 0.00705297 \\\\\n",
       "\t22 & 4 & 32 & -25873.4 & 0.00734979 \\\\\n",
       "\t23 & 4 & 64 & -25873.4 & 0.00839454 \\\\\n",
       "\t24 & 4 & 128 & -25873.4 & 0.0126828 \\\\\n",
       "\t25 & 4 & 256 & -25873.4 & 0.0307923 \\\\\n",
       "\t26 & 4 & 512 & -25873.5 & 0.0906137 \\\\\n",
       "\t27 & 4 & 1024 & -25873.9 & 0.333149 \\\\\n",
       "\t28 & 4 & 2048 & -25875.4 & 1.30875 \\\\\n",
       "\t29 & 4 & 4096 & -25881.2 & 5.24877 \\\\\n",
       "\t30 & 4 & 8192 & -25904.6 & 20.9945 \\\\\n",
       "\t$\\dots$ & $\\dots$ & $\\dots$ & $\\dots$ & $\\dots$ \\\\\n",
       "\\end{tabular}\n"
      ],
      "text/plain": [
       "60×4 DataFrame\n",
       "│ Row │ threads │ size  │ mean_duration │ ci_duration │\n",
       "│     │ \u001b[90mInt64\u001b[39m   │ \u001b[90mInt64\u001b[39m │ \u001b[90mFloat64\u001b[39m       │ \u001b[90mFloat64\u001b[39m     │\n",
       "├─────┼─────────┼───────┼───────────────┼─────────────┤\n",
       "│ 1   │ 1       │ 16    │ -25628.8      │ 0.00738201  │\n",
       "│ 2   │ 1       │ 32    │ -25628.8      │ 0.0085051   │\n",
       "│ 3   │ 1       │ 64    │ -25628.8      │ 0.0114501   │\n",
       "│ 4   │ 1       │ 128   │ -25628.8      │ 0.027663    │\n",
       "│ 5   │ 1       │ 256   │ -25628.9      │ 0.0793627   │\n",
       "│ 6   │ 1       │ 512   │ -25629.3      │ 0.293734    │\n",
       "│ 7   │ 1       │ 1024  │ -25630.5      │ 1.15083     │\n",
       "│ 8   │ 1       │ 2048  │ -25635.6      │ 4.55373     │\n",
       "│ 9   │ 1       │ 4096  │ -25655.9      │ 18.148      │\n",
       "│ 10  │ 1       │ 8192  │ -25736.8      │ 72.4368     │\n",
       "⋮\n",
       "│ 50  │ 16      │ 8192  │ -26001.0      │ 21.7117     │\n",
       "│ 51  │ 32      │ 16    │ -26017.5      │ 0.0122624   │\n",
       "│ 52  │ 32      │ 32    │ -26017.5      │ 0.0123155   │\n",
       "│ 53  │ 32      │ 64    │ -26017.5      │ 0.0133344   │\n",
       "│ 54  │ 32      │ 128   │ -26017.6      │ 0.0173337   │\n",
       "│ 55  │ 32      │ 256   │ -26017.6      │ 0.0334884   │\n",
       "│ 56  │ 32      │ 512   │ -26017.7      │ 0.0968736   │\n",
       "│ 57  │ 32      │ 1024  │ -26018.1      │ 0.349163    │\n",
       "│ 58  │ 32      │ 2048  │ -26019.6      │ 1.34752     │\n",
       "│ 59  │ 32      │ 4096  │ -26025.7      │ 5.45601     │\n",
       "│ 60  │ 32      │ 8192  │ -26050.0      │ 21.773      │"
      ]
     },
     "execution_count": 69,
     "metadata": {},
     "output_type": "execute_result"
    }
   ],
   "source": [
    "#Full picture\n",
    "results = run_experiments(size, 0, fileName, repetitions, threads=thread)\n",
    "omp_full = parse_results(results)"
   ]
  },
  {
   "cell_type": "code",
   "execution_count": 70,
   "metadata": {},
   "outputs": [
    {
     "name": "stdout",
     "output_type": "stream",
     "text": [
      "make: 'mandelbrot_omp' is up to date.\n"
     ]
    },
    {
     "data": {
      "text/html": [
       "<table class=\"data-frame\"><thead><tr><th></th><th>threads</th><th>size</th><th>mean_duration</th><th>ci_duration</th></tr><tr><th></th><th>Int64</th><th>Int64</th><th>Float64</th><th>Float64</th></tr></thead><tbody><p>60 rows × 4 columns</p><tr><th>1</th><td>1</td><td>16</td><td>-26066.6</td><td>0.00994836</td></tr><tr><th>2</th><td>1</td><td>32</td><td>-26066.6</td><td>0.0139328</td></tr><tr><th>3</th><td>1</td><td>64</td><td>-26066.6</td><td>0.0374079</td></tr><tr><th>4</th><td>1</td><td>128</td><td>-26066.8</td><td>0.128085</td></tr><tr><th>5</th><td>1</td><td>256</td><td>-26067.3</td><td>0.485232</td></tr><tr><th>6</th><td>1</td><td>512</td><td>-26069.5</td><td>1.91037</td></tr><tr><th>7</th><td>1</td><td>1024</td><td>-26078.0</td><td>7.59966</td></tr><tr><th>8</th><td>1</td><td>2048</td><td>-26111.8</td><td>30.3181</td></tr><tr><th>9</th><td>1</td><td>4096</td><td>-26247.1</td><td>121.221</td></tr><tr><th>10</th><td>1</td><td>8192</td><td>-26788.3</td><td>484.716</td></tr><tr><th>11</th><td>2</td><td>16</td><td>-27155.9</td><td>0.00719366</td></tr><tr><th>12</th><td>2</td><td>32</td><td>-27155.9</td><td>0.0103111</td></tr><tr><th>13</th><td>2</td><td>64</td><td>-27155.9</td><td>0.0217298</td></tr><tr><th>14</th><td>2</td><td>128</td><td>-27156.0</td><td>0.0670008</td></tr><tr><th>15</th><td>2</td><td>256</td><td>-27156.3</td><td>0.245308</td></tr><tr><th>16</th><td>2</td><td>512</td><td>-27157.3</td><td>0.957421</td></tr><tr><th>17</th><td>2</td><td>1024</td><td>-27161.6</td><td>3.80494</td></tr><tr><th>18</th><td>2</td><td>2048</td><td>-27178.5</td><td>15.1786</td></tr><tr><th>19</th><td>2</td><td>4096</td><td>-27246.3</td><td>60.6458</td></tr><tr><th>20</th><td>2</td><td>8192</td><td>-27517.0</td><td>242.48</td></tr><tr><th>21</th><td>4</td><td>16</td><td>-27700.9</td><td>0.00741269</td></tr><tr><th>22</th><td>4</td><td>32</td><td>-27700.9</td><td>0.00960285</td></tr><tr><th>23</th><td>4</td><td>64</td><td>-27700.9</td><td>0.0162479</td></tr><tr><th>24</th><td>4</td><td>128</td><td>-27701.0</td><td>0.0419855</td></tr><tr><th>25</th><td>4</td><td>256</td><td>-27701.1</td><td>0.144828</td></tr><tr><th>26</th><td>4</td><td>512</td><td>-27701.8</td><td>0.56158</td></tr><tr><th>27</th><td>4</td><td>1024</td><td>-27704.3</td><td>2.22349</td></tr><tr><th>28</th><td>4</td><td>2048</td><td>-27714.1</td><td>8.80178</td></tr><tr><th>29</th><td>4</td><td>4096</td><td>-27753.4</td><td>35.2743</td></tr><tr><th>30</th><td>4</td><td>8192</td><td>-27910.8</td><td>141.444</td></tr><tr><th>&vellip;</th><td>&vellip;</td><td>&vellip;</td><td>&vellip;</td><td>&vellip;</td></tr></tbody></table>"
      ],
      "text/latex": [
       "\\begin{tabular}{r|cccc}\n",
       "\t& threads & size & mean\\_duration & ci\\_duration\\\\\n",
       "\t\\hline\n",
       "\t& Int64 & Int64 & Float64 & Float64\\\\\n",
       "\t\\hline\n",
       "\t1 & 1 & 16 & -26066.6 & 0.00994836 \\\\\n",
       "\t2 & 1 & 32 & -26066.6 & 0.0139328 \\\\\n",
       "\t3 & 1 & 64 & -26066.6 & 0.0374079 \\\\\n",
       "\t4 & 1 & 128 & -26066.8 & 0.128085 \\\\\n",
       "\t5 & 1 & 256 & -26067.3 & 0.485232 \\\\\n",
       "\t6 & 1 & 512 & -26069.5 & 1.91037 \\\\\n",
       "\t7 & 1 & 1024 & -26078.0 & 7.59966 \\\\\n",
       "\t8 & 1 & 2048 & -26111.8 & 30.3181 \\\\\n",
       "\t9 & 1 & 4096 & -26247.1 & 121.221 \\\\\n",
       "\t10 & 1 & 8192 & -26788.3 & 484.716 \\\\\n",
       "\t11 & 2 & 16 & -27155.9 & 0.00719366 \\\\\n",
       "\t12 & 2 & 32 & -27155.9 & 0.0103111 \\\\\n",
       "\t13 & 2 & 64 & -27155.9 & 0.0217298 \\\\\n",
       "\t14 & 2 & 128 & -27156.0 & 0.0670008 \\\\\n",
       "\t15 & 2 & 256 & -27156.3 & 0.245308 \\\\\n",
       "\t16 & 2 & 512 & -27157.3 & 0.957421 \\\\\n",
       "\t17 & 2 & 1024 & -27161.6 & 3.80494 \\\\\n",
       "\t18 & 2 & 2048 & -27178.5 & 15.1786 \\\\\n",
       "\t19 & 2 & 4096 & -27246.3 & 60.6458 \\\\\n",
       "\t20 & 2 & 8192 & -27517.0 & 242.48 \\\\\n",
       "\t21 & 4 & 16 & -27700.9 & 0.00741269 \\\\\n",
       "\t22 & 4 & 32 & -27700.9 & 0.00960285 \\\\\n",
       "\t23 & 4 & 64 & -27700.9 & 0.0162479 \\\\\n",
       "\t24 & 4 & 128 & -27701.0 & 0.0419855 \\\\\n",
       "\t25 & 4 & 256 & -27701.1 & 0.144828 \\\\\n",
       "\t26 & 4 & 512 & -27701.8 & 0.56158 \\\\\n",
       "\t27 & 4 & 1024 & -27704.3 & 2.22349 \\\\\n",
       "\t28 & 4 & 2048 & -27714.1 & 8.80178 \\\\\n",
       "\t29 & 4 & 4096 & -27753.4 & 35.2743 \\\\\n",
       "\t30 & 4 & 8192 & -27910.8 & 141.444 \\\\\n",
       "\t$\\dots$ & $\\dots$ & $\\dots$ & $\\dots$ & $\\dots$ \\\\\n",
       "\\end{tabular}\n"
      ],
      "text/plain": [
       "60×4 DataFrame\n",
       "│ Row │ threads │ size  │ mean_duration │ ci_duration │\n",
       "│     │ \u001b[90mInt64\u001b[39m   │ \u001b[90mInt64\u001b[39m │ \u001b[90mFloat64\u001b[39m       │ \u001b[90mFloat64\u001b[39m     │\n",
       "├─────┼─────────┼───────┼───────────────┼─────────────┤\n",
       "│ 1   │ 1       │ 16    │ -26066.6      │ 0.00994836  │\n",
       "│ 2   │ 1       │ 32    │ -26066.6      │ 0.0139328   │\n",
       "│ 3   │ 1       │ 64    │ -26066.6      │ 0.0374079   │\n",
       "│ 4   │ 1       │ 128   │ -26066.8      │ 0.128085    │\n",
       "│ 5   │ 1       │ 256   │ -26067.3      │ 0.485232    │\n",
       "│ 6   │ 1       │ 512   │ -26069.5      │ 1.91037     │\n",
       "│ 7   │ 1       │ 1024  │ -26078.0      │ 7.59966     │\n",
       "│ 8   │ 1       │ 2048  │ -26111.8      │ 30.3181     │\n",
       "│ 9   │ 1       │ 4096  │ -26247.1      │ 121.221     │\n",
       "│ 10  │ 1       │ 8192  │ -26788.3      │ 484.716     │\n",
       "⋮\n",
       "│ 50  │ 16      │ 8192  │ -28562.0      │ 146.871     │\n",
       "│ 51  │ 32      │ 16    │ -28673.3      │ 0.012299    │\n",
       "│ 52  │ 32      │ 32    │ -28673.3      │ 0.0140548   │\n",
       "│ 53  │ 32      │ 64    │ -28673.4      │ 0.0209628   │\n",
       "│ 54  │ 32      │ 128   │ -28673.4      │ 0.0460795   │\n",
       "│ 55  │ 32      │ 256   │ -28673.6      │ 0.152353    │\n",
       "│ 56  │ 32      │ 512   │ -28674.3      │ 0.574388    │\n",
       "│ 57  │ 32      │ 1024  │ -28676.8      │ 2.28412     │\n",
       "│ 58  │ 32      │ 2048  │ -28687.1      │ 9.21981     │\n",
       "│ 59  │ 32      │ 4096  │ -28728.3      │ 36.9534     │\n",
       "│ 60  │ 32      │ 8192  │ -28893.5      │ 148.018     │"
      ]
     },
     "execution_count": 70,
     "metadata": {},
     "output_type": "execute_result"
    }
   ],
   "source": [
    "#Seahores Valley\n",
    "results = run_experiments(size, 1, fileName, repetitions, threads=thread)\n",
    "omp_seahorse = parse_results(results)"
   ]
  },
  {
   "cell_type": "code",
   "execution_count": 71,
   "metadata": {},
   "outputs": [
    {
     "name": "stdout",
     "output_type": "stream",
     "text": [
      "make: 'mandelbrot_omp' is up to date.\n"
     ]
    },
    {
     "data": {
      "text/html": [
       "<table class=\"data-frame\"><thead><tr><th></th><th>threads</th><th>size</th><th>mean_duration</th><th>ci_duration</th></tr><tr><th></th><th>Int64</th><th>Int64</th><th>Float64</th><th>Float64</th></tr></thead><tbody><p>60 rows × 4 columns</p><tr><th>1</th><td>1</td><td>16</td><td>-29005.8</td><td>0.00878397</td></tr><tr><th>2</th><td>1</td><td>32</td><td>-29005.8</td><td>0.015053</td></tr><tr><th>3</th><td>1</td><td>64</td><td>-29005.8</td><td>0.0364343</td></tr><tr><th>4</th><td>1</td><td>128</td><td>-29006.0</td><td>0.1208</td></tr><tr><th>5</th><td>1</td><td>256</td><td>-29006.5</td><td>0.456659</td></tr><tr><th>6</th><td>1</td><td>512</td><td>-29008.5</td><td>1.80142</td></tr><tr><th>7</th><td>1</td><td>1024</td><td>-29016.5</td><td>7.17733</td></tr><tr><th>8</th><td>1</td><td>2048</td><td>-29048.5</td><td>28.646</td></tr><tr><th>9</th><td>1</td><td>4096</td><td>-29176.4</td><td>114.517</td></tr><tr><th>10</th><td>1</td><td>8192</td><td>-29687.7</td><td>458.012</td></tr><tr><th>11</th><td>2</td><td>16</td><td>-30035.0</td><td>0.01132</td></tr><tr><th>12</th><td>2</td><td>32</td><td>-30035.0</td><td>0.0100847</td></tr><tr><th>13</th><td>2</td><td>64</td><td>-30035.0</td><td>0.0210383</td></tr><tr><th>14</th><td>2</td><td>128</td><td>-30035.1</td><td>0.063874</td></tr><tr><th>15</th><td>2</td><td>256</td><td>-30035.4</td><td>0.232939</td></tr><tr><th>16</th><td>2</td><td>512</td><td>-30036.4</td><td>0.907375</td></tr><tr><th>17</th><td>2</td><td>1024</td><td>-30040.4</td><td>3.59604</td></tr><tr><th>18</th><td>2</td><td>2048</td><td>-30056.4</td><td>14.3416</td></tr><tr><th>19</th><td>2</td><td>4096</td><td>-30120.4</td><td>57.306</td></tr><tr><th>20</th><td>2</td><td>8192</td><td>-30376.2</td><td>229.097</td></tr><tr><th>21</th><td>4</td><td>16</td><td>-30549.9</td><td>0.00716413</td></tr><tr><th>22</th><td>4</td><td>32</td><td>-30550.0</td><td>0.00884839</td></tr><tr><th>23</th><td>4</td><td>64</td><td>-30550.0</td><td>0.015542</td></tr><tr><th>24</th><td>4</td><td>128</td><td>-30550.0</td><td>0.0406106</td></tr><tr><th>25</th><td>4</td><td>256</td><td>-30550.2</td><td>0.138099</td></tr><tr><th>26</th><td>4</td><td>512</td><td>-30550.8</td><td>0.527318</td></tr><tr><th>27</th><td>4</td><td>1024</td><td>-30553.1</td><td>2.08768</td></tr><tr><th>28</th><td>4</td><td>2048</td><td>-30562.4</td><td>8.32043</td></tr><tr><th>29</th><td>4</td><td>4096</td><td>-30599.5</td><td>33.2362</td></tr><tr><th>30</th><td>4</td><td>8192</td><td>-30747.9</td><td>132.859</td></tr><tr><th>&vellip;</th><td>&vellip;</td><td>&vellip;</td><td>&vellip;</td><td>&vellip;</td></tr></tbody></table>"
      ],
      "text/latex": [
       "\\begin{tabular}{r|cccc}\n",
       "\t& threads & size & mean\\_duration & ci\\_duration\\\\\n",
       "\t\\hline\n",
       "\t& Int64 & Int64 & Float64 & Float64\\\\\n",
       "\t\\hline\n",
       "\t1 & 1 & 16 & -29005.8 & 0.00878397 \\\\\n",
       "\t2 & 1 & 32 & -29005.8 & 0.015053 \\\\\n",
       "\t3 & 1 & 64 & -29005.8 & 0.0364343 \\\\\n",
       "\t4 & 1 & 128 & -29006.0 & 0.1208 \\\\\n",
       "\t5 & 1 & 256 & -29006.5 & 0.456659 \\\\\n",
       "\t6 & 1 & 512 & -29008.5 & 1.80142 \\\\\n",
       "\t7 & 1 & 1024 & -29016.5 & 7.17733 \\\\\n",
       "\t8 & 1 & 2048 & -29048.5 & 28.646 \\\\\n",
       "\t9 & 1 & 4096 & -29176.4 & 114.517 \\\\\n",
       "\t10 & 1 & 8192 & -29687.7 & 458.012 \\\\\n",
       "\t11 & 2 & 16 & -30035.0 & 0.01132 \\\\\n",
       "\t12 & 2 & 32 & -30035.0 & 0.0100847 \\\\\n",
       "\t13 & 2 & 64 & -30035.0 & 0.0210383 \\\\\n",
       "\t14 & 2 & 128 & -30035.1 & 0.063874 \\\\\n",
       "\t15 & 2 & 256 & -30035.4 & 0.232939 \\\\\n",
       "\t16 & 2 & 512 & -30036.4 & 0.907375 \\\\\n",
       "\t17 & 2 & 1024 & -30040.4 & 3.59604 \\\\\n",
       "\t18 & 2 & 2048 & -30056.4 & 14.3416 \\\\\n",
       "\t19 & 2 & 4096 & -30120.4 & 57.306 \\\\\n",
       "\t20 & 2 & 8192 & -30376.2 & 229.097 \\\\\n",
       "\t21 & 4 & 16 & -30549.9 & 0.00716413 \\\\\n",
       "\t22 & 4 & 32 & -30550.0 & 0.00884839 \\\\\n",
       "\t23 & 4 & 64 & -30550.0 & 0.015542 \\\\\n",
       "\t24 & 4 & 128 & -30550.0 & 0.0406106 \\\\\n",
       "\t25 & 4 & 256 & -30550.2 & 0.138099 \\\\\n",
       "\t26 & 4 & 512 & -30550.8 & 0.527318 \\\\\n",
       "\t27 & 4 & 1024 & -30553.1 & 2.08768 \\\\\n",
       "\t28 & 4 & 2048 & -30562.4 & 8.32043 \\\\\n",
       "\t29 & 4 & 4096 & -30599.5 & 33.2362 \\\\\n",
       "\t30 & 4 & 8192 & -30747.9 & 132.859 \\\\\n",
       "\t$\\dots$ & $\\dots$ & $\\dots$ & $\\dots$ & $\\dots$ \\\\\n",
       "\\end{tabular}\n"
      ],
      "text/plain": [
       "60×4 DataFrame\n",
       "│ Row │ threads │ size  │ mean_duration │ ci_duration │\n",
       "│     │ \u001b[90mInt64\u001b[39m   │ \u001b[90mInt64\u001b[39m │ \u001b[90mFloat64\u001b[39m       │ \u001b[90mFloat64\u001b[39m     │\n",
       "├─────┼─────────┼───────┼───────────────┼─────────────┤\n",
       "│ 1   │ 1       │ 16    │ -29005.8      │ 0.00878397  │\n",
       "│ 2   │ 1       │ 32    │ -29005.8      │ 0.015053    │\n",
       "│ 3   │ 1       │ 64    │ -29005.8      │ 0.0364343   │\n",
       "│ 4   │ 1       │ 128   │ -29006.0      │ 0.1208      │\n",
       "│ 5   │ 1       │ 256   │ -29006.5      │ 0.456659    │\n",
       "│ 6   │ 1       │ 512   │ -29008.5      │ 1.80142     │\n",
       "│ 7   │ 1       │ 1024  │ -29016.5      │ 7.17733     │\n",
       "│ 8   │ 1       │ 2048  │ -29048.5      │ 28.646      │\n",
       "│ 9   │ 1       │ 4096  │ -29176.4      │ 114.517     │\n",
       "│ 10  │ 1       │ 8192  │ -29687.7      │ 458.012     │\n",
       "⋮\n",
       "│ 50  │ 16      │ 8192  │ -31362.8      │ 138.714     │\n",
       "│ 51  │ 32      │ 16    │ -31468.0      │ 0.0122844   │\n",
       "│ 52  │ 32      │ 32    │ -31468.1      │ 0.0144978   │\n",
       "│ 53  │ 32      │ 64    │ -31468.1      │ 0.0207393   │\n",
       "│ 54  │ 32      │ 128   │ -31468.1      │ 0.0451224   │\n",
       "│ 55  │ 32      │ 256   │ -31468.3      │ 0.143913    │\n",
       "│ 56  │ 32      │ 512   │ -31468.9      │ 0.544774    │\n",
       "│ 57  │ 32      │ 1024  │ -31471.3      │ 2.17407     │\n",
       "│ 58  │ 32      │ 2048  │ -31481.1      │ 8.73042     │\n",
       "│ 59  │ 32      │ 4096  │ -31520.1      │ 34.9405     │\n",
       "│ 60  │ 32      │ 8192  │ -31676.2      │ 139.837     │"
      ]
     },
     "execution_count": 71,
     "metadata": {},
     "output_type": "execute_result"
    }
   ],
   "source": [
    "#Elephant Valley\n",
    "results = run_experiments(size, 2, fileName, repetitions, threads=thread)\n",
    "omp_elephant = parse_results(results)"
   ]
  },
  {
   "cell_type": "code",
   "execution_count": 72,
   "metadata": {},
   "outputs": [
    {
     "name": "stdout",
     "output_type": "stream",
     "text": [
      "make: 'mandelbrot_omp' is up to date.\n"
     ]
    },
    {
     "data": {
      "text/html": [
       "<table class=\"data-frame\"><thead><tr><th></th><th>threads</th><th>size</th><th>mean_duration</th><th>ci_duration</th></tr><tr><th></th><th>Int64</th><th>Int64</th><th>Float64</th><th>Float64</th></tr></thead><tbody><p>60 rows × 4 columns</p><tr><th>1</th><td>1</td><td>16</td><td>-31782.2</td><td>0.0105112</td></tr><tr><th>2</th><td>1</td><td>32</td><td>-31782.3</td><td>0.0153627</td></tr><tr><th>3</th><td>1</td><td>64</td><td>-31782.3</td><td>0.0415707</td></tr><tr><th>4</th><td>1</td><td>128</td><td>-31782.5</td><td>0.143699</td></tr><tr><th>5</th><td>1</td><td>256</td><td>-31783.1</td><td>0.548106</td></tr><tr><th>6</th><td>1</td><td>512</td><td>-31785.5</td><td>2.1692</td></tr><tr><th>7</th><td>1</td><td>1024</td><td>-31795.2</td><td>8.63001</td></tr><tr><th>8</th><td>1</td><td>2048</td><td>-31833.7</td><td>34.4853</td></tr><tr><th>9</th><td>1</td><td>4096</td><td>-31987.6</td><td>137.873</td></tr><tr><th>10</th><td>1</td><td>8192</td><td>-32603.2</td><td>551.457</td></tr><tr><th>11</th><td>2</td><td>16</td><td>-33021.4</td><td>0.00738223</td></tr><tr><th>12</th><td>2</td><td>32</td><td>-33021.4</td><td>0.0106649</td></tr><tr><th>13</th><td>2</td><td>64</td><td>-33021.5</td><td>0.0238083</td></tr><tr><th>14</th><td>2</td><td>128</td><td>-33021.6</td><td>0.0750222</td></tr><tr><th>15</th><td>2</td><td>256</td><td>-33021.9</td><td>0.278357</td></tr><tr><th>16</th><td>2</td><td>512</td><td>-33023.1</td><td>1.09244</td></tr><tr><th>17</th><td>2</td><td>1024</td><td>-33027.9</td><td>4.32756</td></tr><tr><th>18</th><td>2</td><td>2048</td><td>-33047.2</td><td>17.2663</td></tr><tr><th>19</th><td>2</td><td>4096</td><td>-33124.3</td><td>68.9922</td></tr><tr><th>20</th><td>2</td><td>8192</td><td>-33432.7</td><td>276.414</td></tr><tr><th>21</th><td>4</td><td>16</td><td>-33642.2</td><td>0.00976971</td></tr><tr><th>22</th><td>4</td><td>32</td><td>-33642.2</td><td>0.00957413</td></tr><tr><th>23</th><td>4</td><td>64</td><td>-33642.2</td><td>0.0171909</td></tr><tr><th>24</th><td>4</td><td>128</td><td>-33642.3</td><td>0.0464454</td></tr><tr><th>25</th><td>4</td><td>256</td><td>-33642.5</td><td>0.1664</td></tr><tr><th>26</th><td>4</td><td>512</td><td>-33643.2</td><td>0.63535</td></tr><tr><th>27</th><td>4</td><td>1024</td><td>-33646.0</td><td>2.51322</td></tr><tr><th>28</th><td>4</td><td>2048</td><td>-33657.2</td><td>10.0134</td></tr><tr><th>29</th><td>4</td><td>4096</td><td>-33701.8</td><td>40.0324</td></tr><tr><th>30</th><td>4</td><td>8192</td><td>-33880.6</td><td>160.265</td></tr><tr><th>&vellip;</th><td>&vellip;</td><td>&vellip;</td><td>&vellip;</td><td>&vellip;</td></tr></tbody></table>"
      ],
      "text/latex": [
       "\\begin{tabular}{r|cccc}\n",
       "\t& threads & size & mean\\_duration & ci\\_duration\\\\\n",
       "\t\\hline\n",
       "\t& Int64 & Int64 & Float64 & Float64\\\\\n",
       "\t\\hline\n",
       "\t1 & 1 & 16 & -31782.2 & 0.0105112 \\\\\n",
       "\t2 & 1 & 32 & -31782.3 & 0.0153627 \\\\\n",
       "\t3 & 1 & 64 & -31782.3 & 0.0415707 \\\\\n",
       "\t4 & 1 & 128 & -31782.5 & 0.143699 \\\\\n",
       "\t5 & 1 & 256 & -31783.1 & 0.548106 \\\\\n",
       "\t6 & 1 & 512 & -31785.5 & 2.1692 \\\\\n",
       "\t7 & 1 & 1024 & -31795.2 & 8.63001 \\\\\n",
       "\t8 & 1 & 2048 & -31833.7 & 34.4853 \\\\\n",
       "\t9 & 1 & 4096 & -31987.6 & 137.873 \\\\\n",
       "\t10 & 1 & 8192 & -32603.2 & 551.457 \\\\\n",
       "\t11 & 2 & 16 & -33021.4 & 0.00738223 \\\\\n",
       "\t12 & 2 & 32 & -33021.4 & 0.0106649 \\\\\n",
       "\t13 & 2 & 64 & -33021.5 & 0.0238083 \\\\\n",
       "\t14 & 2 & 128 & -33021.6 & 0.0750222 \\\\\n",
       "\t15 & 2 & 256 & -33021.9 & 0.278357 \\\\\n",
       "\t16 & 2 & 512 & -33023.1 & 1.09244 \\\\\n",
       "\t17 & 2 & 1024 & -33027.9 & 4.32756 \\\\\n",
       "\t18 & 2 & 2048 & -33047.2 & 17.2663 \\\\\n",
       "\t19 & 2 & 4096 & -33124.3 & 68.9922 \\\\\n",
       "\t20 & 2 & 8192 & -33432.7 & 276.414 \\\\\n",
       "\t21 & 4 & 16 & -33642.2 & 0.00976971 \\\\\n",
       "\t22 & 4 & 32 & -33642.2 & 0.00957413 \\\\\n",
       "\t23 & 4 & 64 & -33642.2 & 0.0171909 \\\\\n",
       "\t24 & 4 & 128 & -33642.3 & 0.0464454 \\\\\n",
       "\t25 & 4 & 256 & -33642.5 & 0.1664 \\\\\n",
       "\t26 & 4 & 512 & -33643.2 & 0.63535 \\\\\n",
       "\t27 & 4 & 1024 & -33646.0 & 2.51322 \\\\\n",
       "\t28 & 4 & 2048 & -33657.2 & 10.0134 \\\\\n",
       "\t29 & 4 & 4096 & -33701.8 & 40.0324 \\\\\n",
       "\t30 & 4 & 8192 & -33880.6 & 160.265 \\\\\n",
       "\t$\\dots$ & $\\dots$ & $\\dots$ & $\\dots$ & $\\dots$ \\\\\n",
       "\\end{tabular}\n"
      ],
      "text/plain": [
       "60×4 DataFrame\n",
       "│ Row │ threads │ size  │ mean_duration │ ci_duration │\n",
       "│     │ \u001b[90mInt64\u001b[39m   │ \u001b[90mInt64\u001b[39m │ \u001b[90mFloat64\u001b[39m       │ \u001b[90mFloat64\u001b[39m     │\n",
       "├─────┼─────────┼───────┼───────────────┼─────────────┤\n",
       "│ 1   │ 1       │ 16    │ -31782.2      │ 0.0105112   │\n",
       "│ 2   │ 1       │ 32    │ -31782.3      │ 0.0153627   │\n",
       "│ 3   │ 1       │ 64    │ -31782.3      │ 0.0415707   │\n",
       "│ 4   │ 1       │ 128   │ -31782.5      │ 0.143699    │\n",
       "│ 5   │ 1       │ 256   │ -31783.1      │ 0.548106    │\n",
       "│ 6   │ 1       │ 512   │ -31785.5      │ 2.1692      │\n",
       "│ 7   │ 1       │ 1024  │ -31795.2      │ 8.63001     │\n",
       "│ 8   │ 1       │ 2048  │ -31833.7      │ 34.4853     │\n",
       "│ 9   │ 1       │ 4096  │ -31987.6      │ 137.873     │\n",
       "│ 10  │ 1       │ 8192  │ -32603.2      │ 551.457     │\n",
       "⋮\n",
       "│ 50  │ 16      │ 8192  │ -34622.9      │ 167.261     │\n",
       "│ 51  │ 32      │ 16    │ -34749.6      │ 0.0122082   │\n",
       "│ 52  │ 32      │ 32    │ -34749.6      │ 0.0144455   │\n",
       "│ 53  │ 32      │ 64    │ -34749.7      │ 0.021527    │\n",
       "│ 54  │ 32      │ 128   │ -34749.7      │ 0.0514969   │\n",
       "│ 55  │ 32      │ 256   │ -34749.9      │ 0.172071    │\n",
       "│ 56  │ 32      │ 512   │ -34750.7      │ 0.649638    │\n",
       "│ 57  │ 32      │ 1024  │ -34753.6      │ 2.60188     │\n",
       "│ 58  │ 32      │ 2048  │ -34765.3      │ 10.5138     │\n",
       "│ 59  │ 32      │ 4096  │ -34812.4      │ 42.1688     │\n",
       "│ 60  │ 32      │ 8192  │ -35000.4      │ 168.39      │"
      ]
     },
     "execution_count": 72,
     "metadata": {},
     "output_type": "execute_result"
    }
   ],
   "source": [
    "#Triple spiral\n",
    "results = run_experiments(size, 3, fileName, repetitions, threads=thread)\n",
    "omp_tripleSpiral = parse_results(results)"
   ]
  },
  {
   "cell_type": "markdown",
   "metadata": {},
   "source": [
    "#### Salvando em .csv:"
   ]
  },
  {
   "cell_type": "code",
   "execution_count": 93,
   "metadata": {},
   "outputs": [
    {
     "data": {
      "text/plain": [
       "save_csv_results (generic function with 1 method)"
      ]
     },
     "execution_count": 93,
     "metadata": {},
     "output_type": "execute_result"
    }
   ],
   "source": [
    "using CSV\n",
    "function save_csv_results(parsed_results, name)\n",
    "    CSV.write(string(name, \".csv\"), parsed_results)\n",
    "end"
   ]
  },
  {
   "cell_type": "code",
   "execution_count": 94,
   "metadata": {},
   "outputs": [
    {
     "data": {
      "text/plain": [
       "\"seq_tripleSpiral.csv\""
      ]
     },
     "execution_count": 94,
     "metadata": {},
     "output_type": "execute_result"
    }
   ],
   "source": [
    "#Sequencial\n",
    "save_csv_results(seq_full, \"seq_full\")\n",
    "save_csv_results(seq_seahorse, \"seq_seahorse\")\n",
    "save_csv_results(seq_elephant, \"seq_elephant\")\n",
    "save_csv_results(seq_tripleSpiral, \"seq_tripleSpiral\")"
   ]
  },
  {
   "cell_type": "code",
   "execution_count": 95,
   "metadata": {},
   "outputs": [
    {
     "data": {
      "text/plain": [
       "\"pth_tripleSpiral.csv\""
      ]
     },
     "execution_count": 95,
     "metadata": {},
     "output_type": "execute_result"
    }
   ],
   "source": [
    "#Pthreads\n",
    "save_csv_results(pth_full, \"pth_full\")\n",
    "save_csv_results(pth_seahorse, \"pth_seahorse\")\n",
    "save_csv_results(pth_elephant, \"pth_elephant\")\n",
    "save_csv_results(pth_tripleSpiral, \"pth_tripleSpiral\")"
   ]
  },
  {
   "cell_type": "code",
   "execution_count": 96,
   "metadata": {},
   "outputs": [
    {
     "data": {
      "text/plain": [
       "\"omp_tripleSpiral.csv\""
      ]
     },
     "execution_count": 96,
     "metadata": {},
     "output_type": "execute_result"
    }
   ],
   "source": [
    "#OpenMP\n",
    "save_csv_results(omp_full, \"omp_full\")\n",
    "save_csv_results(omp_seahorse, \"omp_seahorse\")\n",
    "save_csv_results(omp_elephant, \"omp_elephant\")\n",
    "save_csv_results(omp_tripleSpiral, \"omp_tripleSpiral\")"
   ]
  },
  {
   "cell_type": "markdown",
   "metadata": {},
   "source": [
    "## Gráficos:"
   ]
  },
  {
   "cell_type": "code",
   "execution_count": null,
   "metadata": {},
   "outputs": [],
   "source": []
  },
  {
   "cell_type": "code",
   "execution_count": null,
   "metadata": {},
   "outputs": [],
   "source": []
  }
 ],
 "metadata": {
  "kernelspec": {
   "display_name": "Julia 1.4.0",
   "language": "julia",
   "name": "julia-1.4"
  },
  "language_info": {
   "file_extension": ".jl",
   "mimetype": "application/julia",
   "name": "julia",
   "version": "1.4.1"
  }
 },
 "nbformat": 4,
 "nbformat_minor": 2
}
