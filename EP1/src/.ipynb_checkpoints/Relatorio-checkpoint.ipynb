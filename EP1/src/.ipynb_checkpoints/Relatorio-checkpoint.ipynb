{
 "cells": [
  {
   "cell_type": "markdown",
   "metadata": {},
   "source": [
    "# EP1 - Mandelbrot set\n",
    "###### Notebook baseado no dos miniEPs\n",
    "\n",
    "Preencha o nome dos 5 membros do seu grupo na tabela abaixo:\n",
    "\n",
    "| Nome | NUSP |\n",
    "|------|------|\n",
    "| Caio Andrade | 9797232 |\n",
    "| Caio Fontes | 10692061 |\n",
    "| Eduardo Laurentino | 8988212 |\n",
    "| Thiago Teixeira | 10736987 |\n",
    "| Washington Meireles | 10737157 |"
   ]
  },
  {
   "cell_type": "code",
   "execution_count": 32,
   "metadata": {},
   "outputs": [
    {
     "name": "stderr",
     "output_type": "stream",
     "text": [
      "\u001b[32m\u001b[1m   Updating\u001b[22m\u001b[39m registry at `~/.julia/registries/General`\n"
     ]
    },
    {
     "ename": "ErrorException",
     "evalue": "could not load library \"libgit2\"\n/usr/bin/../lib64/libmbedx509.so.0: undefined symbol: mbedtls_mutex_unlock",
     "output_type": "error",
     "traceback": [
      "could not load library \"libgit2\"\n/usr/bin/../lib64/libmbedx509.so.0: undefined symbol: mbedtls_mutex_unlock",
      "",
      "Stacktrace:",
      " [1] macro expansion at /builddir/build/BUILD/julia/build/usr/share/julia/stdlib/v1.4/LibGit2/src/error.jl:99 [inlined]",
      " [2] LibGit2.GitRepo(::String) at /builddir/build/BUILD/julia/build/usr/share/julia/stdlib/v1.4/LibGit2/src/repository.jl:11",
      " [3] update_registries(::Pkg.Types.Context, ::Array{Pkg.Types.RegistrySpec,1}; force::Bool) at /builddir/build/BUILD/julia/build/usr/share/julia/stdlib/v1.4/Pkg/src/Types.jl:1072",
      " [4] up(::Pkg.Types.Context, ::Array{Pkg.Types.PackageSpec,1}; level::Pkg.Types.UpgradeLevel, mode::Pkg.Types.PackageMode, update_registry::Bool, kwargs::Base.Iterators.Pairs{Union{},Union{},Tuple{},NamedTuple{(),Tuple{}}}) at /builddir/build/BUILD/julia/build/usr/share/julia/stdlib/v1.4/Pkg/src/API.jl:207",
      " [5] up at /builddir/build/BUILD/julia/build/usr/share/julia/stdlib/v1.4/Pkg/src/API.jl:201 [inlined]",
      " [6] #up#47 at /builddir/build/BUILD/julia/build/usr/share/julia/stdlib/v1.4/Pkg/src/API.jl:196 [inlined]",
      " [7] up(::Array{Pkg.Types.PackageSpec,1}) at /builddir/build/BUILD/julia/build/usr/share/julia/stdlib/v1.4/Pkg/src/API.jl:196",
      " [8] do_cmd!(::Pkg.REPLMode.Command, ::IJulia.MiniREPL) at /builddir/build/BUILD/julia/build/usr/share/julia/stdlib/v1.4/Pkg/src/REPLMode/REPLMode.jl:403",
      " [9] do_cmd(::IJulia.MiniREPL, ::String; do_rethrow::Bool) at /builddir/build/BUILD/julia/build/usr/share/julia/stdlib/v1.4/Pkg/src/REPLMode/REPLMode.jl:381",
      " [10] top-level scope at In[32]:1"
     ]
    }
   ],
   "source": [
    "] up"
   ]
  },
  {
   "cell_type": "code",
   "execution_count": 33,
   "metadata": {},
   "outputs": [
    {
     "name": "stdout",
     "output_type": "stream",
     "text": [
      "\u001b[32m\u001b[1mStatus\u001b[22m\u001b[39m `~/.julia/environments/v1.4/Project.toml`\n",
      " \u001b[90m [336ed68f]\u001b[39m\u001b[37m CSV v0.6.1\u001b[39m\n",
      " \u001b[90m [a93c6f00]\u001b[39m\u001b[37m DataFrames v0.20.2\u001b[39m\n",
      " \u001b[90m [31c24e10]\u001b[39m\u001b[37m Distributions v0.23.2\u001b[39m\n",
      " \u001b[90m [7073ff75]\u001b[39m\u001b[37m IJulia v1.21.1\u001b[39m\n",
      " \u001b[90m [1a8c2f83]\u001b[39m\u001b[37m Query v0.12.2\u001b[39m\n",
      " \u001b[90m [f3b207a7]\u001b[39m\u001b[37m StatsPlots v0.14.3\u001b[39m\n"
     ]
    }
   ],
   "source": [
    "] st"
   ]
  },
  {
   "cell_type": "markdown",
   "metadata": {},
   "source": [
    "## Tarefa 3 - Apresentação dos resultados\n",
    "\n",
    "### Verificando se os programas estão funcionais:"
   ]
  },
  {
   "cell_type": "code",
   "execution_count": 114,
   "metadata": {},
   "outputs": [
    {
     "name": "stdout",
     "output_type": "stream",
     "text": [
      "gcc -o mandelbrot_omp -std=c11 -lm -fopenmp mandelbrot_omp.c\n"
     ]
    }
   ],
   "source": [
    ";make "
   ]
  },
  {
   "cell_type": "code",
   "execution_count": 105,
   "metadata": {},
   "outputs": [
    {
     "name": "stdout",
     "output_type": "stream",
     "text": [
      "0.000006\n"
     ]
    }
   ],
   "source": [
    "; ./mandelbrot_seq -2.5 1.5 -2.0 2.0 0"
   ]
  },
  {
   "cell_type": "code",
   "execution_count": 108,
   "metadata": {},
   "outputs": [
    {
     "name": "stdout",
     "output_type": "stream",
     "text": [
      "0.000711\n"
     ]
    }
   ],
   "source": [
    "; ./mandelbrot_pth -2.5 1.5 -2.0 2.0 1 1"
   ]
  },
  {
   "cell_type": "code",
   "execution_count": 115,
   "metadata": {},
   "outputs": [
    {
     "name": "stdout",
     "output_type": "stream",
     "text": [
      "0.000030\n"
     ]
    }
   ],
   "source": [
    ";./mandelbrot_omp -2.5 1.5 -2.0 2.0 1 1"
   ]
  },
  {
   "cell_type": "code",
   "execution_count": 39,
   "metadata": {},
   "outputs": [
    {
     "data": {
      "text/plain": [
       "measure_mandelbrot (generic function with 1 method)"
      ]
     },
     "execution_count": 39,
     "metadata": {},
     "output_type": "execute_result"
    }
   ],
   "source": [
    "using DataFrames, Query, StatsPlots, Statistics\n",
    "\n",
    "function measure_mandelbrot(size, f, typ; thread = 0)\n",
    "    if f==0 par = `-2.5 1.5 -2.0 2.0` #Full Picture\n",
    "    elseif f==1 par = `-0.8 -0.7 0.05 0.15` #Seahorse Valley\n",
    "    elseif f==2 par = `0.175 0.375 -0.1 0.1` #Elephant Valley\n",
    "    elseif f==3 par = `-0.188 -0.012 0.554 0.754` #Triple Spiral Valley\n",
    "    end                \n",
    "    if thread == 0 \n",
    "        results = parse.(Float64,\n",
    "            chomp(read(`./$typ $par $size`, String)))\n",
    "    else\n",
    "        results = parse.(Float64,\n",
    "            chomp(read(`./$typ $par $size $thread`, String)))\n",
    "    end\n",
    "        \n",
    "    return DataFrame(size = size,\n",
    "        f = f,\n",
    "        threads = thread,\n",
    "        duration = results[1])\n",
    "end"
   ]
  },
  {
   "cell_type": "markdown",
   "metadata": {},
   "source": [
    "A função `run_experiments` recebe os mesmos parâmetros `size`, `f`, `method` e `threads`, e um parâmetro adicional `repetitions`, com o número de repetições de cada experimento com um dado número de `threads`. A função devolve um `DataFrame` com todos os experimentos."
   ]
  },
  {
   "cell_type": "code",
   "execution_count": 40,
   "metadata": {},
   "outputs": [
    {
     "data": {
      "text/plain": [
       "run_experiments (generic function with 1 method)"
      ]
     },
     "execution_count": 40,
     "metadata": {},
     "output_type": "execute_result"
    }
   ],
   "source": [
    "function run_experiments(size, f, method, repetitions; threads = [])\n",
    "    run(`make $method`)\n",
    "    \n",
    "    results = DataFrame(size = Int[],\n",
    "        f = Int[],\n",
    "        threads = Int[],\n",
    "        duration = Float64[])  \n",
    "    \n",
    "    if threads == []\n",
    "        for r in 1:repetitions\n",
    "            for s in size\n",
    "                append!(results,\n",
    "                    measure_mandelbrot(s, f, method))    \n",
    "            end\n",
    "        end\n",
    "    else\n",
    "        for t in threads\n",
    "            for s in size\n",
    "                for r in 1:repetitions\n",
    "                    append!(results,\n",
    "                        measure_mandelbrot(s, f, method, thread = t))\n",
    "                    end\n",
    "                end\n",
    "            end\n",
    "        end\n",
    "    return results\n",
    "end"
   ]
  },
  {
   "cell_type": "markdown",
   "metadata": {},
   "source": [
    "A função `parse_results` recebe um `DataFrame` de resultados, produzido pela função `run_experiments`. A função devolve um `DataFrame` com a média e o intervalo de confiança da média a 95% das estimativas e dos tempos de execução, agrupados por número de threads."
   ]
  },
  {
   "cell_type": "code",
   "execution_count": 41,
   "metadata": {},
   "outputs": [
    {
     "data": {
      "text/plain": [
       "parse_results (generic function with 1 method)"
      ]
     },
     "execution_count": 41,
     "metadata": {},
     "output_type": "execute_result"
    }
   ],
   "source": [
    "function parse_results(results)\n",
    "    parsed_results = results |>\n",
    "                    @groupby({_.threads,_.size}) |>\n",
    "                    @map({threads = key(_).threads,\n",
    "                          size = _.size[1],\n",
    "                          mean_duration = mean(_.duration),\n",
    "                          ci_duration = 1.96 * std(_.duration)}) |>\n",
    "                    DataFrame\n",
    "    \n",
    "    return parsed_results\n",
    "end"
   ]
  },
  {
   "cell_type": "markdown",
   "metadata": {},
   "source": [
    "## Realizando os experimentos:"
   ]
  },
  {
   "cell_type": "markdown",
   "metadata": {},
   "source": [
    "### DataFrames:"
   ]
  },
  {
   "cell_type": "markdown",
   "metadata": {},
   "source": [
    "Parametros a serem utilizados(usamos os mesmos do script `run_measurements.sh`):"
   ]
  },
  {
   "cell_type": "code",
   "execution_count": 43,
   "metadata": {},
   "outputs": [],
   "source": [
    "size = [2 ^ i for i in 4:13] #resolucao\n",
    "thread = [2 ^ i for i in 0:5]\n",
    "repetitions = 10;"
   ]
  },
  {
   "cell_type": "markdown",
   "metadata": {},
   "source": [
    "#### Sequencial:"
   ]
  },
  {
   "cell_type": "code",
   "execution_count": 44,
   "metadata": {},
   "outputs": [
    {
     "data": {
      "text/plain": [
       "\"mandelbrot_seq\""
      ]
     },
     "execution_count": 44,
     "metadata": {},
     "output_type": "execute_result"
    }
   ],
   "source": [
    "fileName = \"mandelbrot_seq\""
   ]
  },
  {
   "cell_type": "code",
   "execution_count": 45,
   "metadata": {},
   "outputs": [
    {
     "name": "stdout",
     "output_type": "stream",
     "text": [
      "make: 'mandelbrot_seq' is up to date.\n"
     ]
    },
    {
     "data": {
      "text/html": [
       "<table class=\"data-frame\"><thead><tr><th></th><th>threads</th><th>size</th><th>mean_duration</th><th>ci_duration</th></tr><tr><th></th><th>Int64</th><th>Int64</th><th>Float64</th><th>Float64</th></tr></thead><tbody><p>10 rows × 4 columns</p><tr><th>1</th><td>0</td><td>16</td><td>5.6e-5</td><td>9.05285e-6</td></tr><tr><th>2</th><td>0</td><td>32</td><td>0.0002025</td><td>3.22491e-5</td></tr><tr><th>3</th><td>0</td><td>64</td><td>0.0007418</td><td>5.60498e-6</td></tr><tr><th>4</th><td>0</td><td>128</td><td>0.0029536</td><td>0.000123759</td></tr><tr><th>5</th><td>0</td><td>256</td><td>0.0114541</td><td>3.5358e-5</td></tr><tr><th>6</th><td>0</td><td>512</td><td>0.0454288</td><td>8.30006e-5</td></tr><tr><th>7</th><td>0</td><td>1024</td><td>0.18347</td><td>0.00890781</td></tr><tr><th>8</th><td>0</td><td>2048</td><td>0.738125</td><td>0.0546299</td></tr><tr><th>9</th><td>0</td><td>4096</td><td>2.91595</td><td>0.105369</td></tr><tr><th>10</th><td>0</td><td>8192</td><td>11.6992</td><td>0.518827</td></tr></tbody></table>"
      ],
      "text/latex": [
       "\\begin{tabular}{r|cccc}\n",
       "\t& threads & size & mean\\_duration & ci\\_duration\\\\\n",
       "\t\\hline\n",
       "\t& Int64 & Int64 & Float64 & Float64\\\\\n",
       "\t\\hline\n",
       "\t1 & 0 & 16 & 5.6e-5 & 9.05285e-6 \\\\\n",
       "\t2 & 0 & 32 & 0.0002025 & 3.22491e-5 \\\\\n",
       "\t3 & 0 & 64 & 0.0007418 & 5.60498e-6 \\\\\n",
       "\t4 & 0 & 128 & 0.0029536 & 0.000123759 \\\\\n",
       "\t5 & 0 & 256 & 0.0114541 & 3.5358e-5 \\\\\n",
       "\t6 & 0 & 512 & 0.0454288 & 8.30006e-5 \\\\\n",
       "\t7 & 0 & 1024 & 0.18347 & 0.00890781 \\\\\n",
       "\t8 & 0 & 2048 & 0.738125 & 0.0546299 \\\\\n",
       "\t9 & 0 & 4096 & 2.91595 & 0.105369 \\\\\n",
       "\t10 & 0 & 8192 & 11.6992 & 0.518827 \\\\\n",
       "\\end{tabular}\n"
      ],
      "text/plain": [
       "10×4 DataFrame\n",
       "│ Row │ threads │ size  │ mean_duration │ ci_duration │\n",
       "│     │ \u001b[90mInt64\u001b[39m   │ \u001b[90mInt64\u001b[39m │ \u001b[90mFloat64\u001b[39m       │ \u001b[90mFloat64\u001b[39m     │\n",
       "├─────┼─────────┼───────┼───────────────┼─────────────┤\n",
       "│ 1   │ 0       │ 16    │ 5.6e-5        │ 9.05285e-6  │\n",
       "│ 2   │ 0       │ 32    │ 0.0002025     │ 3.22491e-5  │\n",
       "│ 3   │ 0       │ 64    │ 0.0007418     │ 5.60498e-6  │\n",
       "│ 4   │ 0       │ 128   │ 0.0029536     │ 0.000123759 │\n",
       "│ 5   │ 0       │ 256   │ 0.0114541     │ 3.5358e-5   │\n",
       "│ 6   │ 0       │ 512   │ 0.0454288     │ 8.30006e-5  │\n",
       "│ 7   │ 0       │ 1024  │ 0.18347       │ 0.00890781  │\n",
       "│ 8   │ 0       │ 2048  │ 0.738125      │ 0.0546299   │\n",
       "│ 9   │ 0       │ 4096  │ 2.91595       │ 0.105369    │\n",
       "│ 10  │ 0       │ 8192  │ 11.6992       │ 0.518827    │"
      ]
     },
     "execution_count": 45,
     "metadata": {},
     "output_type": "execute_result"
    }
   ],
   "source": [
    "#Full picture\n",
    "results = run_experiments(size, 0, fileName, repetitions)\n",
    "seq_full = parse_results(results)"
   ]
  },
  {
   "cell_type": "code",
   "execution_count": 46,
   "metadata": {},
   "outputs": [
    {
     "name": "stdout",
     "output_type": "stream",
     "text": [
      "make: 'mandelbrot_seq' is up to date.\n"
     ]
    },
    {
     "data": {
      "text/html": [
       "<table class=\"data-frame\"><thead><tr><th></th><th>threads</th><th>size</th><th>mean_duration</th><th>ci_duration</th></tr><tr><th></th><th>Int64</th><th>Int64</th><th>Float64</th><th>Float64</th></tr></thead><tbody><p>10 rows × 4 columns</p><tr><th>1</th><td>0</td><td>16</td><td>0.0003228</td><td>2.92442e-5</td></tr><tr><th>2</th><td>0</td><td>32</td><td>0.0012646</td><td>5.27398e-5</td></tr><tr><th>3</th><td>0</td><td>64</td><td>0.0051023</td><td>0.000117509</td></tr><tr><th>4</th><td>0</td><td>128</td><td>0.020183</td><td>0.00166279</td></tr><tr><th>5</th><td>0</td><td>256</td><td>0.0795571</td><td>0.000680505</td></tr><tr><th>6</th><td>0</td><td>512</td><td>0.319836</td><td>0.0151178</td></tr><tr><th>7</th><td>0</td><td>1024</td><td>1.27922</td><td>0.0677639</td></tr><tr><th>8</th><td>0</td><td>2048</td><td>5.07981</td><td>0.037043</td></tr><tr><th>9</th><td>0</td><td>4096</td><td>20.2846</td><td>0.0222578</td></tr><tr><th>10</th><td>0</td><td>8192</td><td>81.102</td><td>0.0533689</td></tr></tbody></table>"
      ],
      "text/latex": [
       "\\begin{tabular}{r|cccc}\n",
       "\t& threads & size & mean\\_duration & ci\\_duration\\\\\n",
       "\t\\hline\n",
       "\t& Int64 & Int64 & Float64 & Float64\\\\\n",
       "\t\\hline\n",
       "\t1 & 0 & 16 & 0.0003228 & 2.92442e-5 \\\\\n",
       "\t2 & 0 & 32 & 0.0012646 & 5.27398e-5 \\\\\n",
       "\t3 & 0 & 64 & 0.0051023 & 0.000117509 \\\\\n",
       "\t4 & 0 & 128 & 0.020183 & 0.00166279 \\\\\n",
       "\t5 & 0 & 256 & 0.0795571 & 0.000680505 \\\\\n",
       "\t6 & 0 & 512 & 0.319836 & 0.0151178 \\\\\n",
       "\t7 & 0 & 1024 & 1.27922 & 0.0677639 \\\\\n",
       "\t8 & 0 & 2048 & 5.07981 & 0.037043 \\\\\n",
       "\t9 & 0 & 4096 & 20.2846 & 0.0222578 \\\\\n",
       "\t10 & 0 & 8192 & 81.102 & 0.0533689 \\\\\n",
       "\\end{tabular}\n"
      ],
      "text/plain": [
       "10×4 DataFrame\n",
       "│ Row │ threads │ size  │ mean_duration │ ci_duration │\n",
       "│     │ \u001b[90mInt64\u001b[39m   │ \u001b[90mInt64\u001b[39m │ \u001b[90mFloat64\u001b[39m       │ \u001b[90mFloat64\u001b[39m     │\n",
       "├─────┼─────────┼───────┼───────────────┼─────────────┤\n",
       "│ 1   │ 0       │ 16    │ 0.0003228     │ 2.92442e-5  │\n",
       "│ 2   │ 0       │ 32    │ 0.0012646     │ 5.27398e-5  │\n",
       "│ 3   │ 0       │ 64    │ 0.0051023     │ 0.000117509 │\n",
       "│ 4   │ 0       │ 128   │ 0.020183      │ 0.00166279  │\n",
       "│ 5   │ 0       │ 256   │ 0.0795571     │ 0.000680505 │\n",
       "│ 6   │ 0       │ 512   │ 0.319836      │ 0.0151178   │\n",
       "│ 7   │ 0       │ 1024  │ 1.27922       │ 0.0677639   │\n",
       "│ 8   │ 0       │ 2048  │ 5.07981       │ 0.037043    │\n",
       "│ 9   │ 0       │ 4096  │ 20.2846       │ 0.0222578   │\n",
       "│ 10  │ 0       │ 8192  │ 81.102        │ 0.0533689   │"
      ]
     },
     "execution_count": 46,
     "metadata": {},
     "output_type": "execute_result"
    }
   ],
   "source": [
    "#Seahorse valley\n",
    "results = run_experiments(size, 1, fileName , repetitions)\n",
    "seq_seahorse = parse_results(results)"
   ]
  },
  {
   "cell_type": "code",
   "execution_count": 47,
   "metadata": {},
   "outputs": [
    {
     "name": "stdout",
     "output_type": "stream",
     "text": [
      "make: 'mandelbrot_seq' is up to date.\n"
     ]
    },
    {
     "data": {
      "text/html": [
       "<table class=\"data-frame\"><thead><tr><th></th><th>threads</th><th>size</th><th>mean_duration</th><th>ci_duration</th></tr><tr><th></th><th>Int64</th><th>Int64</th><th>Float64</th><th>Float64</th></tr></thead><tbody><p>10 rows × 4 columns</p><tr><th>1</th><td>0</td><td>16</td><td>0.0003136</td><td>2.51885e-5</td></tr><tr><th>2</th><td>0</td><td>32</td><td>0.0012105</td><td>6.60626e-5</td></tr><tr><th>3</th><td>0</td><td>64</td><td>0.004811</td><td>0.000111044</td></tr><tr><th>4</th><td>0</td><td>128</td><td>0.0190153</td><td>0.000753571</td></tr><tr><th>5</th><td>0</td><td>256</td><td>0.0751926</td><td>0.000425466</td></tr><tr><th>6</th><td>0</td><td>512</td><td>0.300058</td><td>0.00107709</td></tr><tr><th>7</th><td>0</td><td>1024</td><td>1.19923</td><td>0.00395801</td></tr><tr><th>8</th><td>0</td><td>2048</td><td>4.79566</td><td>0.0149535</td></tr><tr><th>9</th><td>0</td><td>4096</td><td>19.1887</td><td>0.184678</td></tr><tr><th>10</th><td>0</td><td>8192</td><td>76.8423</td><td>0.72831</td></tr></tbody></table>"
      ],
      "text/latex": [
       "\\begin{tabular}{r|cccc}\n",
       "\t& threads & size & mean\\_duration & ci\\_duration\\\\\n",
       "\t\\hline\n",
       "\t& Int64 & Int64 & Float64 & Float64\\\\\n",
       "\t\\hline\n",
       "\t1 & 0 & 16 & 0.0003136 & 2.51885e-5 \\\\\n",
       "\t2 & 0 & 32 & 0.0012105 & 6.60626e-5 \\\\\n",
       "\t3 & 0 & 64 & 0.004811 & 0.000111044 \\\\\n",
       "\t4 & 0 & 128 & 0.0190153 & 0.000753571 \\\\\n",
       "\t5 & 0 & 256 & 0.0751926 & 0.000425466 \\\\\n",
       "\t6 & 0 & 512 & 0.300058 & 0.00107709 \\\\\n",
       "\t7 & 0 & 1024 & 1.19923 & 0.00395801 \\\\\n",
       "\t8 & 0 & 2048 & 4.79566 & 0.0149535 \\\\\n",
       "\t9 & 0 & 4096 & 19.1887 & 0.184678 \\\\\n",
       "\t10 & 0 & 8192 & 76.8423 & 0.72831 \\\\\n",
       "\\end{tabular}\n"
      ],
      "text/plain": [
       "10×4 DataFrame\n",
       "│ Row │ threads │ size  │ mean_duration │ ci_duration │\n",
       "│     │ \u001b[90mInt64\u001b[39m   │ \u001b[90mInt64\u001b[39m │ \u001b[90mFloat64\u001b[39m       │ \u001b[90mFloat64\u001b[39m     │\n",
       "├─────┼─────────┼───────┼───────────────┼─────────────┤\n",
       "│ 1   │ 0       │ 16    │ 0.0003136     │ 2.51885e-5  │\n",
       "│ 2   │ 0       │ 32    │ 0.0012105     │ 6.60626e-5  │\n",
       "│ 3   │ 0       │ 64    │ 0.004811      │ 0.000111044 │\n",
       "│ 4   │ 0       │ 128   │ 0.0190153     │ 0.000753571 │\n",
       "│ 5   │ 0       │ 256   │ 0.0751926     │ 0.000425466 │\n",
       "│ 6   │ 0       │ 512   │ 0.300058      │ 0.00107709  │\n",
       "│ 7   │ 0       │ 1024  │ 1.19923       │ 0.00395801  │\n",
       "│ 8   │ 0       │ 2048  │ 4.79566       │ 0.0149535   │\n",
       "│ 9   │ 0       │ 4096  │ 19.1887       │ 0.184678    │\n",
       "│ 10  │ 0       │ 8192  │ 76.8423       │ 0.72831     │"
      ]
     },
     "execution_count": 47,
     "metadata": {},
     "output_type": "execute_result"
    }
   ],
   "source": [
    "#Elephant valley\n",
    "results = run_experiments(size, 2, fileName, repetitions)\n",
    "seq_elephant = parse_results(results)"
   ]
  },
  {
   "cell_type": "code",
   "execution_count": 48,
   "metadata": {},
   "outputs": [
    {
     "name": "stdout",
     "output_type": "stream",
     "text": [
      "make: 'mandelbrot_seq' is up to date.\n"
     ]
    },
    {
     "data": {
      "text/html": [
       "<table class=\"data-frame\"><thead><tr><th></th><th>threads</th><th>size</th><th>mean_duration</th><th>ci_duration</th></tr><tr><th></th><th>Int64</th><th>Int64</th><th>Float64</th><th>Float64</th></tr></thead><tbody><p>10 rows × 4 columns</p><tr><th>1</th><td>0</td><td>16</td><td>0.0003627</td><td>1.13931e-5</td></tr><tr><th>2</th><td>0</td><td>32</td><td>0.0014456</td><td>6.35059e-5</td></tr><tr><th>3</th><td>0</td><td>64</td><td>0.0058111</td><td>0.000296101</td></tr><tr><th>4</th><td>0</td><td>128</td><td>0.022827</td><td>0.00114868</td></tr><tr><th>5</th><td>0</td><td>256</td><td>0.0905581</td><td>0.000635128</td></tr><tr><th>6</th><td>0</td><td>512</td><td>0.361428</td><td>0.0014605</td></tr><tr><th>7</th><td>0</td><td>1024</td><td>1.44384</td><td>0.00198878</td></tr><tr><th>8</th><td>0</td><td>2048</td><td>5.78284</td><td>0.0298312</td></tr><tr><th>9</th><td>0</td><td>4096</td><td>23.1094</td><td>0.0484658</td></tr><tr><th>10</th><td>0</td><td>8192</td><td>92.389</td><td>0.0612936</td></tr></tbody></table>"
      ],
      "text/latex": [
       "\\begin{tabular}{r|cccc}\n",
       "\t& threads & size & mean\\_duration & ci\\_duration\\\\\n",
       "\t\\hline\n",
       "\t& Int64 & Int64 & Float64 & Float64\\\\\n",
       "\t\\hline\n",
       "\t1 & 0 & 16 & 0.0003627 & 1.13931e-5 \\\\\n",
       "\t2 & 0 & 32 & 0.0014456 & 6.35059e-5 \\\\\n",
       "\t3 & 0 & 64 & 0.0058111 & 0.000296101 \\\\\n",
       "\t4 & 0 & 128 & 0.022827 & 0.00114868 \\\\\n",
       "\t5 & 0 & 256 & 0.0905581 & 0.000635128 \\\\\n",
       "\t6 & 0 & 512 & 0.361428 & 0.0014605 \\\\\n",
       "\t7 & 0 & 1024 & 1.44384 & 0.00198878 \\\\\n",
       "\t8 & 0 & 2048 & 5.78284 & 0.0298312 \\\\\n",
       "\t9 & 0 & 4096 & 23.1094 & 0.0484658 \\\\\n",
       "\t10 & 0 & 8192 & 92.389 & 0.0612936 \\\\\n",
       "\\end{tabular}\n"
      ],
      "text/plain": [
       "10×4 DataFrame\n",
       "│ Row │ threads │ size  │ mean_duration │ ci_duration │\n",
       "│     │ \u001b[90mInt64\u001b[39m   │ \u001b[90mInt64\u001b[39m │ \u001b[90mFloat64\u001b[39m       │ \u001b[90mFloat64\u001b[39m     │\n",
       "├─────┼─────────┼───────┼───────────────┼─────────────┤\n",
       "│ 1   │ 0       │ 16    │ 0.0003627     │ 1.13931e-5  │\n",
       "│ 2   │ 0       │ 32    │ 0.0014456     │ 6.35059e-5  │\n",
       "│ 3   │ 0       │ 64    │ 0.0058111     │ 0.000296101 │\n",
       "│ 4   │ 0       │ 128   │ 0.022827      │ 0.00114868  │\n",
       "│ 5   │ 0       │ 256   │ 0.0905581     │ 0.000635128 │\n",
       "│ 6   │ 0       │ 512   │ 0.361428      │ 0.0014605   │\n",
       "│ 7   │ 0       │ 1024  │ 1.44384       │ 0.00198878  │\n",
       "│ 8   │ 0       │ 2048  │ 5.78284       │ 0.0298312   │\n",
       "│ 9   │ 0       │ 4096  │ 23.1094       │ 0.0484658   │\n",
       "│ 10  │ 0       │ 8192  │ 92.389        │ 0.0612936   │"
      ]
     },
     "execution_count": 48,
     "metadata": {},
     "output_type": "execute_result"
    }
   ],
   "source": [
    "#Triple spiral\n",
    "results = run_experiments(size, 3, fileName, repetitions)\n",
    "seq_tripleSpiral = parse_results(results)"
   ]
  },
  {
   "cell_type": "markdown",
   "metadata": {},
   "source": [
    "#### PThreads:"
   ]
  },
  {
   "cell_type": "code",
   "execution_count": 63,
   "metadata": {},
   "outputs": [
    {
     "data": {
      "text/plain": [
       "\"mandelbrot_pth\""
      ]
     },
     "execution_count": 63,
     "metadata": {},
     "output_type": "execute_result"
    }
   ],
   "source": [
    "fileName = \"mandelbrot_pth\""
   ]
  },
  {
   "cell_type": "code",
   "execution_count": 64,
   "metadata": {},
   "outputs": [
    {
     "name": "stdout",
     "output_type": "stream",
     "text": [
      "make: 'mandelbrot_pth' is up to date.\n"
     ]
    },
    {
     "data": {
      "text/html": [
       "<table class=\"data-frame\"><thead><tr><th></th><th>threads</th><th>size</th><th>mean_duration</th><th>ci_duration</th></tr><tr><th></th><th>Int64</th><th>Int64</th><th>Float64</th><th>Float64</th></tr></thead><tbody><p>60 rows × 4 columns</p><tr><th>1</th><td>1</td><td>16</td><td>0.0003114</td><td>8.61816e-5</td></tr><tr><th>2</th><td>1</td><td>32</td><td>0.0004548</td><td>0.000101171</td></tr><tr><th>3</th><td>1</td><td>64</td><td>0.0011554</td><td>0.000389415</td></tr><tr><th>4</th><td>1</td><td>128</td><td>0.0036543</td><td>0.000410993</td></tr><tr><th>5</th><td>1</td><td>256</td><td>0.0117315</td><td>0.00087025</td></tr><tr><th>6</th><td>1</td><td>512</td><td>0.0466621</td><td>0.00275963</td></tr><tr><th>7</th><td>1</td><td>1024</td><td>0.178891</td><td>0.00327704</td></tr><tr><th>8</th><td>1</td><td>2048</td><td>0.710842</td><td>0.00169553</td></tr><tr><th>9</th><td>1</td><td>4096</td><td>2.84195</td><td>0.00454897</td></tr><tr><th>10</th><td>1</td><td>8192</td><td>11.3595</td><td>0.00834199</td></tr><tr><th>11</th><td>2</td><td>16</td><td>0.0002711</td><td>5.7415e-5</td></tr><tr><th>12</th><td>2</td><td>32</td><td>0.0004255</td><td>7.29645e-5</td></tr><tr><th>13</th><td>2</td><td>64</td><td>0.0009595</td><td>5.89034e-5</td></tr><tr><th>14</th><td>2</td><td>128</td><td>0.0030923</td><td>1.63477e-5</td></tr><tr><th>15</th><td>2</td><td>256</td><td>0.0114379</td><td>5.83515e-5</td></tr><tr><th>16</th><td>2</td><td>512</td><td>0.0450667</td><td>0.000964801</td></tr><tr><th>17</th><td>2</td><td>1024</td><td>0.178609</td><td>0.00118281</td></tr><tr><th>18</th><td>2</td><td>2048</td><td>0.712061</td><td>0.00268438</td></tr><tr><th>19</th><td>2</td><td>4096</td><td>2.85873</td><td>0.0614547</td></tr><tr><th>20</th><td>2</td><td>8192</td><td>11.3677</td><td>0.0219372</td></tr><tr><th>21</th><td>4</td><td>16</td><td>0.0002544</td><td>6.85047e-5</td></tr><tr><th>22</th><td>4</td><td>32</td><td>0.0003005</td><td>8.52456e-5</td></tr><tr><th>23</th><td>4</td><td>64</td><td>0.0006176</td><td>9.3972e-5</td></tr><tr><th>24</th><td>4</td><td>128</td><td>0.0019308</td><td>7.85403e-5</td></tr><tr><th>25</th><td>4</td><td>256</td><td>0.0070539</td><td>0.000261646</td></tr><tr><th>26</th><td>4</td><td>512</td><td>0.0274244</td><td>0.00146647</td></tr><tr><th>27</th><td>4</td><td>1024</td><td>0.104263</td><td>0.00551384</td></tr><tr><th>28</th><td>4</td><td>2048</td><td>0.398407</td><td>0.00834815</td></tr><tr><th>29</th><td>4</td><td>4096</td><td>1.58784</td><td>0.0546518</td></tr><tr><th>30</th><td>4</td><td>8192</td><td>6.24406</td><td>0.0136833</td></tr><tr><th>&vellip;</th><td>&vellip;</td><td>&vellip;</td><td>&vellip;</td><td>&vellip;</td></tr></tbody></table>"
      ],
      "text/latex": [
       "\\begin{tabular}{r|cccc}\n",
       "\t& threads & size & mean\\_duration & ci\\_duration\\\\\n",
       "\t\\hline\n",
       "\t& Int64 & Int64 & Float64 & Float64\\\\\n",
       "\t\\hline\n",
       "\t1 & 1 & 16 & 0.0003114 & 8.61816e-5 \\\\\n",
       "\t2 & 1 & 32 & 0.0004548 & 0.000101171 \\\\\n",
       "\t3 & 1 & 64 & 0.0011554 & 0.000389415 \\\\\n",
       "\t4 & 1 & 128 & 0.0036543 & 0.000410993 \\\\\n",
       "\t5 & 1 & 256 & 0.0117315 & 0.00087025 \\\\\n",
       "\t6 & 1 & 512 & 0.0466621 & 0.00275963 \\\\\n",
       "\t7 & 1 & 1024 & 0.178891 & 0.00327704 \\\\\n",
       "\t8 & 1 & 2048 & 0.710842 & 0.00169553 \\\\\n",
       "\t9 & 1 & 4096 & 2.84195 & 0.00454897 \\\\\n",
       "\t10 & 1 & 8192 & 11.3595 & 0.00834199 \\\\\n",
       "\t11 & 2 & 16 & 0.0002711 & 5.7415e-5 \\\\\n",
       "\t12 & 2 & 32 & 0.0004255 & 7.29645e-5 \\\\\n",
       "\t13 & 2 & 64 & 0.0009595 & 5.89034e-5 \\\\\n",
       "\t14 & 2 & 128 & 0.0030923 & 1.63477e-5 \\\\\n",
       "\t15 & 2 & 256 & 0.0114379 & 5.83515e-5 \\\\\n",
       "\t16 & 2 & 512 & 0.0450667 & 0.000964801 \\\\\n",
       "\t17 & 2 & 1024 & 0.178609 & 0.00118281 \\\\\n",
       "\t18 & 2 & 2048 & 0.712061 & 0.00268438 \\\\\n",
       "\t19 & 2 & 4096 & 2.85873 & 0.0614547 \\\\\n",
       "\t20 & 2 & 8192 & 11.3677 & 0.0219372 \\\\\n",
       "\t21 & 4 & 16 & 0.0002544 & 6.85047e-5 \\\\\n",
       "\t22 & 4 & 32 & 0.0003005 & 8.52456e-5 \\\\\n",
       "\t23 & 4 & 64 & 0.0006176 & 9.3972e-5 \\\\\n",
       "\t24 & 4 & 128 & 0.0019308 & 7.85403e-5 \\\\\n",
       "\t25 & 4 & 256 & 0.0070539 & 0.000261646 \\\\\n",
       "\t26 & 4 & 512 & 0.0274244 & 0.00146647 \\\\\n",
       "\t27 & 4 & 1024 & 0.104263 & 0.00551384 \\\\\n",
       "\t28 & 4 & 2048 & 0.398407 & 0.00834815 \\\\\n",
       "\t29 & 4 & 4096 & 1.58784 & 0.0546518 \\\\\n",
       "\t30 & 4 & 8192 & 6.24406 & 0.0136833 \\\\\n",
       "\t$\\dots$ & $\\dots$ & $\\dots$ & $\\dots$ & $\\dots$ \\\\\n",
       "\\end{tabular}\n"
      ],
      "text/plain": [
       "60×4 DataFrame\n",
       "│ Row │ threads │ size  │ mean_duration │ ci_duration │\n",
       "│     │ \u001b[90mInt64\u001b[39m   │ \u001b[90mInt64\u001b[39m │ \u001b[90mFloat64\u001b[39m       │ \u001b[90mFloat64\u001b[39m     │\n",
       "├─────┼─────────┼───────┼───────────────┼─────────────┤\n",
       "│ 1   │ 1       │ 16    │ 0.0003114     │ 8.61816e-5  │\n",
       "│ 2   │ 1       │ 32    │ 0.0004548     │ 0.000101171 │\n",
       "│ 3   │ 1       │ 64    │ 0.0011554     │ 0.000389415 │\n",
       "│ 4   │ 1       │ 128   │ 0.0036543     │ 0.000410993 │\n",
       "│ 5   │ 1       │ 256   │ 0.0117315     │ 0.00087025  │\n",
       "│ 6   │ 1       │ 512   │ 0.0466621     │ 0.00275963  │\n",
       "│ 7   │ 1       │ 1024  │ 0.178891      │ 0.00327704  │\n",
       "│ 8   │ 1       │ 2048  │ 0.710842      │ 0.00169553  │\n",
       "│ 9   │ 1       │ 4096  │ 2.84195       │ 0.00454897  │\n",
       "│ 10  │ 1       │ 8192  │ 11.3595       │ 0.00834199  │\n",
       "⋮\n",
       "│ 50  │ 16      │ 8192  │ 4.48871       │ 0.051516    │\n",
       "│ 51  │ 32      │ 16    │ 0.0007625     │ 5.6793e-5   │\n",
       "│ 52  │ 32      │ 32    │ 0.0007628     │ 5.35558e-5  │\n",
       "│ 53  │ 32      │ 64    │ 0.0008907     │ 0.000138593 │\n",
       "│ 54  │ 32      │ 128   │ 0.0018876     │ 0.000397392 │\n",
       "│ 55  │ 32      │ 256   │ 0.0053535     │ 0.000922719 │\n",
       "│ 56  │ 32      │ 512   │ 0.0198725     │ 0.00250465  │\n",
       "│ 57  │ 32      │ 1024  │ 0.0770299     │ 0.0117247   │\n",
       "│ 58  │ 32      │ 2048  │ 0.302769      │ 0.0245286   │\n",
       "│ 59  │ 32      │ 4096  │ 1.23207       │ 0.0399808   │\n",
       "│ 60  │ 32      │ 8192  │ 4.83396       │ 0.195047    │"
      ]
     },
     "execution_count": 64,
     "metadata": {},
     "output_type": "execute_result"
    }
   ],
   "source": [
    "#Full picture\n",
    "results = run_experiments(size, 0, fileName, repetitions, threads=thread)\n",
    "pth_full = parse_results(results)"
   ]
  },
  {
   "cell_type": "code",
   "execution_count": 65,
   "metadata": {},
   "outputs": [
    {
     "name": "stdout",
     "output_type": "stream",
     "text": [
      "make: 'mandelbrot_pth' is up to date.\n"
     ]
    },
    {
     "data": {
      "text/html": [
       "<table class=\"data-frame\"><thead><tr><th></th><th>threads</th><th>size</th><th>mean_duration</th><th>ci_duration</th></tr><tr><th></th><th>Int64</th><th>Int64</th><th>Float64</th><th>Float64</th></tr></thead><tbody><p>60 rows × 4 columns</p><tr><th>1</th><td>1</td><td>16</td><td>0.0006057</td><td>0.000149629</td></tr><tr><th>2</th><td>1</td><td>32</td><td>0.0015164</td><td>0.000173664</td></tr><tr><th>3</th><td>1</td><td>64</td><td>0.0054291</td><td>0.000461779</td></tr><tr><th>4</th><td>1</td><td>128</td><td>0.0199806</td><td>8.41163e-5</td></tr><tr><th>5</th><td>1</td><td>256</td><td>0.0789755</td><td>6.2003e-5</td></tr><tr><th>6</th><td>1</td><td>512</td><td>0.315121</td><td>0.00134078</td></tr><tr><th>7</th><td>1</td><td>1024</td><td>1.25797</td><td>0.00229108</td></tr><tr><th>8</th><td>1</td><td>2048</td><td>5.03762</td><td>0.0261172</td></tr><tr><th>9</th><td>1</td><td>4096</td><td>20.1212</td><td>0.00930737</td></tr><tr><th>10</th><td>1</td><td>8192</td><td>80.4756</td><td>0.0324686</td></tr><tr><th>11</th><td>2</td><td>16</td><td>0.0005531</td><td>6.71343e-5</td></tr><tr><th>12</th><td>2</td><td>32</td><td>0.0014915</td><td>5.95878e-5</td></tr><tr><th>13</th><td>2</td><td>64</td><td>0.0051842</td><td>4.81059e-5</td></tr><tr><th>14</th><td>2</td><td>128</td><td>0.0200013</td><td>0.000295714</td></tr><tr><th>15</th><td>2</td><td>256</td><td>0.0790057</td><td>0.000191973</td></tr><tr><th>16</th><td>2</td><td>512</td><td>0.315412</td><td>0.000936307</td></tr><tr><th>17</th><td>2</td><td>1024</td><td>1.25992</td><td>0.00361183</td></tr><tr><th>18</th><td>2</td><td>2048</td><td>5.05311</td><td>0.0779424</td></tr><tr><th>19</th><td>2</td><td>4096</td><td>20.141</td><td>0.0198229</td></tr><tr><th>20</th><td>2</td><td>8192</td><td>80.5685</td><td>0.130201</td></tr><tr><th>21</th><td>4</td><td>16</td><td>0.000349</td><td>0.000106583</td></tr><tr><th>22</th><td>4</td><td>32</td><td>0.0008574</td><td>0.000112302</td></tr><tr><th>23</th><td>4</td><td>64</td><td>0.0027703</td><td>1.21545e-5</td></tr><tr><th>24</th><td>4</td><td>128</td><td>0.0105666</td><td>2.63318e-5</td></tr><tr><th>25</th><td>4</td><td>256</td><td>0.0418541</td><td>0.000170202</td></tr><tr><th>26</th><td>4</td><td>512</td><td>0.165599</td><td>0.00290485</td></tr><tr><th>27</th><td>4</td><td>1024</td><td>0.646385</td><td>0.00250395</td></tr><tr><th>28</th><td>4</td><td>2048</td><td>2.57087</td><td>0.00788339</td></tr><tr><th>29</th><td>4</td><td>4096</td><td>10.1418</td><td>0.545688</td></tr><tr><th>30</th><td>4</td><td>8192</td><td>40.7984</td><td>1.28838</td></tr><tr><th>&vellip;</th><td>&vellip;</td><td>&vellip;</td><td>&vellip;</td><td>&vellip;</td></tr></tbody></table>"
      ],
      "text/latex": [
       "\\begin{tabular}{r|cccc}\n",
       "\t& threads & size & mean\\_duration & ci\\_duration\\\\\n",
       "\t\\hline\n",
       "\t& Int64 & Int64 & Float64 & Float64\\\\\n",
       "\t\\hline\n",
       "\t1 & 1 & 16 & 0.0006057 & 0.000149629 \\\\\n",
       "\t2 & 1 & 32 & 0.0015164 & 0.000173664 \\\\\n",
       "\t3 & 1 & 64 & 0.0054291 & 0.000461779 \\\\\n",
       "\t4 & 1 & 128 & 0.0199806 & 8.41163e-5 \\\\\n",
       "\t5 & 1 & 256 & 0.0789755 & 6.2003e-5 \\\\\n",
       "\t6 & 1 & 512 & 0.315121 & 0.00134078 \\\\\n",
       "\t7 & 1 & 1024 & 1.25797 & 0.00229108 \\\\\n",
       "\t8 & 1 & 2048 & 5.03762 & 0.0261172 \\\\\n",
       "\t9 & 1 & 4096 & 20.1212 & 0.00930737 \\\\\n",
       "\t10 & 1 & 8192 & 80.4756 & 0.0324686 \\\\\n",
       "\t11 & 2 & 16 & 0.0005531 & 6.71343e-5 \\\\\n",
       "\t12 & 2 & 32 & 0.0014915 & 5.95878e-5 \\\\\n",
       "\t13 & 2 & 64 & 0.0051842 & 4.81059e-5 \\\\\n",
       "\t14 & 2 & 128 & 0.0200013 & 0.000295714 \\\\\n",
       "\t15 & 2 & 256 & 0.0790057 & 0.000191973 \\\\\n",
       "\t16 & 2 & 512 & 0.315412 & 0.000936307 \\\\\n",
       "\t17 & 2 & 1024 & 1.25992 & 0.00361183 \\\\\n",
       "\t18 & 2 & 2048 & 5.05311 & 0.0779424 \\\\\n",
       "\t19 & 2 & 4096 & 20.141 & 0.0198229 \\\\\n",
       "\t20 & 2 & 8192 & 80.5685 & 0.130201 \\\\\n",
       "\t21 & 4 & 16 & 0.000349 & 0.000106583 \\\\\n",
       "\t22 & 4 & 32 & 0.0008574 & 0.000112302 \\\\\n",
       "\t23 & 4 & 64 & 0.0027703 & 1.21545e-5 \\\\\n",
       "\t24 & 4 & 128 & 0.0105666 & 2.63318e-5 \\\\\n",
       "\t25 & 4 & 256 & 0.0418541 & 0.000170202 \\\\\n",
       "\t26 & 4 & 512 & 0.165599 & 0.00290485 \\\\\n",
       "\t27 & 4 & 1024 & 0.646385 & 0.00250395 \\\\\n",
       "\t28 & 4 & 2048 & 2.57087 & 0.00788339 \\\\\n",
       "\t29 & 4 & 4096 & 10.1418 & 0.545688 \\\\\n",
       "\t30 & 4 & 8192 & 40.7984 & 1.28838 \\\\\n",
       "\t$\\dots$ & $\\dots$ & $\\dots$ & $\\dots$ & $\\dots$ \\\\\n",
       "\\end{tabular}\n"
      ],
      "text/plain": [
       "60×4 DataFrame\n",
       "│ Row │ threads │ size  │ mean_duration │ ci_duration │\n",
       "│     │ \u001b[90mInt64\u001b[39m   │ \u001b[90mInt64\u001b[39m │ \u001b[90mFloat64\u001b[39m       │ \u001b[90mFloat64\u001b[39m     │\n",
       "├─────┼─────────┼───────┼───────────────┼─────────────┤\n",
       "│ 1   │ 1       │ 16    │ 0.0006057     │ 0.000149629 │\n",
       "│ 2   │ 1       │ 32    │ 0.0015164     │ 0.000173664 │\n",
       "│ 3   │ 1       │ 64    │ 0.0054291     │ 0.000461779 │\n",
       "│ 4   │ 1       │ 128   │ 0.0199806     │ 8.41163e-5  │\n",
       "│ 5   │ 1       │ 256   │ 0.0789755     │ 6.2003e-5   │\n",
       "│ 6   │ 1       │ 512   │ 0.315121      │ 0.00134078  │\n",
       "│ 7   │ 1       │ 1024  │ 1.25797       │ 0.00229108  │\n",
       "│ 8   │ 1       │ 2048  │ 5.03762       │ 0.0261172   │\n",
       "│ 9   │ 1       │ 4096  │ 20.1212       │ 0.00930737  │\n",
       "│ 10  │ 1       │ 8192  │ 80.4756       │ 0.0324686   │\n",
       "⋮\n",
       "│ 50  │ 16      │ 8192  │ 31.0338       │ 0.11355     │\n",
       "│ 51  │ 32      │ 16    │ 0.0008227     │ 3.43737e-5  │\n",
       "│ 52  │ 32      │ 32    │ 0.0010128     │ 9.55825e-5  │\n",
       "│ 53  │ 32      │ 64    │ 0.0023241     │ 0.000197355 │\n",
       "│ 54  │ 32      │ 128   │ 0.0073973     │ 0.000263147 │\n",
       "│ 55  │ 32      │ 256   │ 0.0274522     │ 0.00175164  │\n",
       "│ 56  │ 32      │ 512   │ 0.105452      │ 0.000914943 │\n",
       "│ 57  │ 32      │ 1024  │ 0.417151      │ 0.00543975  │\n",
       "│ 58  │ 32      │ 2048  │ 1.66383       │ 0.00956852  │\n",
       "│ 59  │ 32      │ 4096  │ 6.62668       │ 0.0191489   │\n",
       "│ 60  │ 32      │ 8192  │ 26.4926       │ 0.0323266   │"
      ]
     },
     "execution_count": 65,
     "metadata": {},
     "output_type": "execute_result"
    }
   ],
   "source": [
    "#Seahorse valley\n",
    "results = run_experiments(size, 1, fileName, repetitions, threads=thread)\n",
    "pth_seahorse = parse_results(results)"
   ]
  },
  {
   "cell_type": "code",
   "execution_count": 66,
   "metadata": {},
   "outputs": [
    {
     "name": "stdout",
     "output_type": "stream",
     "text": [
      "make: 'mandelbrot_pth' is up to date.\n"
     ]
    },
    {
     "data": {
      "text/html": [
       "<table class=\"data-frame\"><thead><tr><th></th><th>threads</th><th>size</th><th>mean_duration</th><th>ci_duration</th></tr><tr><th></th><th>Int64</th><th>Int64</th><th>Float64</th><th>Float64</th></tr></thead><tbody><p>60 rows × 4 columns</p><tr><th>1</th><td>1</td><td>16</td><td>0.0005617</td><td>0.000143897</td></tr><tr><th>2</th><td>1</td><td>32</td><td>0.0014322</td><td>6.47282e-5</td></tr><tr><th>3</th><td>1</td><td>64</td><td>0.005054</td><td>0.00038594</td></tr><tr><th>4</th><td>1</td><td>128</td><td>0.0190474</td><td>0.000438982</td></tr><tr><th>5</th><td>1</td><td>256</td><td>0.0747919</td><td>0.000322182</td></tr><tr><th>6</th><td>1</td><td>512</td><td>0.297755</td><td>0.00115141</td></tr><tr><th>7</th><td>1</td><td>1024</td><td>1.18904</td><td>0.0017178</td></tr><tr><th>8</th><td>1</td><td>2048</td><td>4.75297</td><td>0.00567731</td></tr><tr><th>9</th><td>1</td><td>4096</td><td>18.9996</td><td>0.0103493</td></tr><tr><th>10</th><td>1</td><td>8192</td><td>75.9754</td><td>0.0130436</td></tr><tr><th>11</th><td>2</td><td>16</td><td>0.0005528</td><td>6.71301e-5</td></tr><tr><th>12</th><td>2</td><td>32</td><td>0.001433</td><td>5.29805e-5</td></tr><tr><th>13</th><td>2</td><td>64</td><td>0.0049418</td><td>6.42516e-5</td></tr><tr><th>14</th><td>2</td><td>128</td><td>0.0189187</td><td>7.99636e-5</td></tr><tr><th>15</th><td>2</td><td>256</td><td>0.0748729</td><td>0.00118753</td></tr><tr><th>16</th><td>2</td><td>512</td><td>0.297893</td><td>0.00179417</td></tr><tr><th>17</th><td>2</td><td>1024</td><td>1.18919</td><td>0.0027986</td></tr><tr><th>18</th><td>2</td><td>2048</td><td>4.75474</td><td>0.00654527</td></tr><tr><th>19</th><td>2</td><td>4096</td><td>19.0177</td><td>0.0198187</td></tr><tr><th>20</th><td>2</td><td>8192</td><td>76.1102</td><td>0.337967</td></tr><tr><th>21</th><td>4</td><td>16</td><td>0.0003491</td><td>4.50322e-5</td></tr><tr><th>22</th><td>4</td><td>32</td><td>0.0007889</td><td>1.34037e-5</td></tr><tr><th>23</th><td>4</td><td>64</td><td>0.0031735</td><td>0.00166273</td></tr><tr><th>24</th><td>4</td><td>128</td><td>0.0107535</td><td>0.000846613</td></tr><tr><th>25</th><td>4</td><td>256</td><td>0.0415502</td><td>0.000434198</td></tr><tr><th>26</th><td>4</td><td>512</td><td>0.164865</td><td>0.000621728</td></tr><tr><th>27</th><td>4</td><td>1024</td><td>0.658522</td><td>0.00315578</td></tr><tr><th>28</th><td>4</td><td>2048</td><td>2.6385</td><td>0.0185247</td></tr><tr><th>29</th><td>4</td><td>4096</td><td>10.5503</td><td>0.0189505</td></tr><tr><th>30</th><td>4</td><td>8192</td><td>42.8212</td><td>2.29238</td></tr><tr><th>&vellip;</th><td>&vellip;</td><td>&vellip;</td><td>&vellip;</td><td>&vellip;</td></tr></tbody></table>"
      ],
      "text/latex": [
       "\\begin{tabular}{r|cccc}\n",
       "\t& threads & size & mean\\_duration & ci\\_duration\\\\\n",
       "\t\\hline\n",
       "\t& Int64 & Int64 & Float64 & Float64\\\\\n",
       "\t\\hline\n",
       "\t1 & 1 & 16 & 0.0005617 & 0.000143897 \\\\\n",
       "\t2 & 1 & 32 & 0.0014322 & 6.47282e-5 \\\\\n",
       "\t3 & 1 & 64 & 0.005054 & 0.00038594 \\\\\n",
       "\t4 & 1 & 128 & 0.0190474 & 0.000438982 \\\\\n",
       "\t5 & 1 & 256 & 0.0747919 & 0.000322182 \\\\\n",
       "\t6 & 1 & 512 & 0.297755 & 0.00115141 \\\\\n",
       "\t7 & 1 & 1024 & 1.18904 & 0.0017178 \\\\\n",
       "\t8 & 1 & 2048 & 4.75297 & 0.00567731 \\\\\n",
       "\t9 & 1 & 4096 & 18.9996 & 0.0103493 \\\\\n",
       "\t10 & 1 & 8192 & 75.9754 & 0.0130436 \\\\\n",
       "\t11 & 2 & 16 & 0.0005528 & 6.71301e-5 \\\\\n",
       "\t12 & 2 & 32 & 0.001433 & 5.29805e-5 \\\\\n",
       "\t13 & 2 & 64 & 0.0049418 & 6.42516e-5 \\\\\n",
       "\t14 & 2 & 128 & 0.0189187 & 7.99636e-5 \\\\\n",
       "\t15 & 2 & 256 & 0.0748729 & 0.00118753 \\\\\n",
       "\t16 & 2 & 512 & 0.297893 & 0.00179417 \\\\\n",
       "\t17 & 2 & 1024 & 1.18919 & 0.0027986 \\\\\n",
       "\t18 & 2 & 2048 & 4.75474 & 0.00654527 \\\\\n",
       "\t19 & 2 & 4096 & 19.0177 & 0.0198187 \\\\\n",
       "\t20 & 2 & 8192 & 76.1102 & 0.337967 \\\\\n",
       "\t21 & 4 & 16 & 0.0003491 & 4.50322e-5 \\\\\n",
       "\t22 & 4 & 32 & 0.0007889 & 1.34037e-5 \\\\\n",
       "\t23 & 4 & 64 & 0.0031735 & 0.00166273 \\\\\n",
       "\t24 & 4 & 128 & 0.0107535 & 0.000846613 \\\\\n",
       "\t25 & 4 & 256 & 0.0415502 & 0.000434198 \\\\\n",
       "\t26 & 4 & 512 & 0.164865 & 0.000621728 \\\\\n",
       "\t27 & 4 & 1024 & 0.658522 & 0.00315578 \\\\\n",
       "\t28 & 4 & 2048 & 2.6385 & 0.0185247 \\\\\n",
       "\t29 & 4 & 4096 & 10.5503 & 0.0189505 \\\\\n",
       "\t30 & 4 & 8192 & 42.8212 & 2.29238 \\\\\n",
       "\t$\\dots$ & $\\dots$ & $\\dots$ & $\\dots$ & $\\dots$ \\\\\n",
       "\\end{tabular}\n"
      ],
      "text/plain": [
       "60×4 DataFrame\n",
       "│ Row │ threads │ size  │ mean_duration │ ci_duration │\n",
       "│     │ \u001b[90mInt64\u001b[39m   │ \u001b[90mInt64\u001b[39m │ \u001b[90mFloat64\u001b[39m       │ \u001b[90mFloat64\u001b[39m     │\n",
       "├─────┼─────────┼───────┼───────────────┼─────────────┤\n",
       "│ 1   │ 1       │ 16    │ 0.0005617     │ 0.000143897 │\n",
       "│ 2   │ 1       │ 32    │ 0.0014322     │ 6.47282e-5  │\n",
       "│ 3   │ 1       │ 64    │ 0.005054      │ 0.00038594  │\n",
       "│ 4   │ 1       │ 128   │ 0.0190474     │ 0.000438982 │\n",
       "│ 5   │ 1       │ 256   │ 0.0747919     │ 0.000322182 │\n",
       "│ 6   │ 1       │ 512   │ 0.297755      │ 0.00115141  │\n",
       "│ 7   │ 1       │ 1024  │ 1.18904       │ 0.0017178   │\n",
       "│ 8   │ 1       │ 2048  │ 4.75297       │ 0.00567731  │\n",
       "│ 9   │ 1       │ 4096  │ 18.9996       │ 0.0103493   │\n",
       "│ 10  │ 1       │ 8192  │ 75.9754       │ 0.0130436   │\n",
       "⋮\n",
       "│ 50  │ 16      │ 8192  │ 28.9803       │ 0.25479     │\n",
       "│ 51  │ 32      │ 16    │ 0.0008101     │ 5.39975e-5  │\n",
       "│ 52  │ 32      │ 32    │ 0.0009968     │ 0.000111469 │\n",
       "│ 53  │ 32      │ 64    │ 0.0023449     │ 0.00024886  │\n",
       "│ 54  │ 32      │ 128   │ 0.0069286     │ 0.000253892 │\n",
       "│ 55  │ 32      │ 256   │ 0.025894      │ 0.00134568  │\n",
       "│ 56  │ 32      │ 512   │ 0.0998317     │ 0.00301303  │\n",
       "│ 57  │ 32      │ 1024  │ 0.394773      │ 0.00567691  │\n",
       "│ 58  │ 32      │ 2048  │ 1.56986       │ 0.00721167  │\n",
       "│ 59  │ 32      │ 4096  │ 6.26311       │ 0.0205601   │\n",
       "│ 60  │ 32      │ 8192  │ 25.0308       │ 0.0410157   │"
      ]
     },
     "execution_count": 66,
     "metadata": {},
     "output_type": "execute_result"
    }
   ],
   "source": [
    "#Elephant valley\n",
    "results = run_experiments(size, 2, fileName, repetitions, threads=thread)\n",
    "pth_elephant = parse_results(results)"
   ]
  },
  {
   "cell_type": "code",
   "execution_count": 67,
   "metadata": {},
   "outputs": [
    {
     "name": "stdout",
     "output_type": "stream",
     "text": [
      "make: 'mandelbrot_pth' is up to date.\n"
     ]
    },
    {
     "data": {
      "text/html": [
       "<table class=\"data-frame\"><thead><tr><th></th><th>threads</th><th>size</th><th>mean_duration</th><th>ci_duration</th></tr><tr><th></th><th>Int64</th><th>Int64</th><th>Float64</th><th>Float64</th></tr></thead><tbody><p>60 rows × 4 columns</p><tr><th>1</th><td>1</td><td>16</td><td>0.0005551</td><td>2.55628e-5</td></tr><tr><th>2</th><td>1</td><td>32</td><td>0.0018794</td><td>0.000674058</td></tr><tr><th>3</th><td>1</td><td>64</td><td>0.0060527</td><td>0.000462175</td></tr><tr><th>4</th><td>1</td><td>128</td><td>0.0228469</td><td>0.000452017</td></tr><tr><th>5</th><td>1</td><td>256</td><td>0.0901165</td><td>0.00129533</td></tr><tr><th>6</th><td>1</td><td>512</td><td>0.358583</td><td>0.00103231</td></tr><tr><th>7</th><td>1</td><td>1024</td><td>1.43251</td><td>0.00157079</td></tr><tr><th>8</th><td>1</td><td>2048</td><td>5.72774</td><td>0.0038398</td></tr><tr><th>9</th><td>1</td><td>4096</td><td>22.913</td><td>0.0049492</td></tr><tr><th>10</th><td>1</td><td>8192</td><td>91.6348</td><td>0.0257623</td></tr><tr><th>11</th><td>2</td><td>16</td><td>0.0005884</td><td>4.36532e-5</td></tr><tr><th>12</th><td>2</td><td>32</td><td>0.00165</td><td>6.44254e-5</td></tr><tr><th>13</th><td>2</td><td>64</td><td>0.0058797</td><td>5.83046e-5</td></tr><tr><th>14</th><td>2</td><td>128</td><td>0.0227553</td><td>0.000265635</td></tr><tr><th>15</th><td>2</td><td>256</td><td>0.0921137</td><td>0.00638872</td></tr><tr><th>16</th><td>2</td><td>512</td><td>0.378082</td><td>0.0279588</td></tr><tr><th>17</th><td>2</td><td>1024</td><td>1.43466</td><td>0.00382319</td></tr><tr><th>18</th><td>2</td><td>2048</td><td>5.73159</td><td>0.00544243</td></tr><tr><th>19</th><td>2</td><td>4096</td><td>22.9251</td><td>0.00976727</td></tr><tr><th>20</th><td>2</td><td>8192</td><td>91.6922</td><td>0.0195863</td></tr><tr><th>21</th><td>4</td><td>16</td><td>0.0003909</td><td>7.98749e-5</td></tr><tr><th>22</th><td>4</td><td>32</td><td>0.0009292</td><td>6.09165e-5</td></tr><tr><th>23</th><td>4</td><td>64</td><td>0.0032396</td><td>5.17513e-5</td></tr><tr><th>24</th><td>4</td><td>128</td><td>0.0125186</td><td>9.27697e-5</td></tr><tr><th>25</th><td>4</td><td>256</td><td>0.0494697</td><td>0.000126244</td></tr><tr><th>26</th><td>4</td><td>512</td><td>0.197192</td><td>0.000426486</td></tr><tr><th>27</th><td>4</td><td>1024</td><td>0.788929</td><td>0.00578773</td></tr><tr><th>28</th><td>4</td><td>2048</td><td>3.15469</td><td>0.0121798</td></tr><tr><th>29</th><td>4</td><td>4096</td><td>12.5979</td><td>0.0153855</td></tr><tr><th>30</th><td>4</td><td>8192</td><td>50.4926</td><td>0.213873</td></tr><tr><th>&vellip;</th><td>&vellip;</td><td>&vellip;</td><td>&vellip;</td><td>&vellip;</td></tr></tbody></table>"
      ],
      "text/latex": [
       "\\begin{tabular}{r|cccc}\n",
       "\t& threads & size & mean\\_duration & ci\\_duration\\\\\n",
       "\t\\hline\n",
       "\t& Int64 & Int64 & Float64 & Float64\\\\\n",
       "\t\\hline\n",
       "\t1 & 1 & 16 & 0.0005551 & 2.55628e-5 \\\\\n",
       "\t2 & 1 & 32 & 0.0018794 & 0.000674058 \\\\\n",
       "\t3 & 1 & 64 & 0.0060527 & 0.000462175 \\\\\n",
       "\t4 & 1 & 128 & 0.0228469 & 0.000452017 \\\\\n",
       "\t5 & 1 & 256 & 0.0901165 & 0.00129533 \\\\\n",
       "\t6 & 1 & 512 & 0.358583 & 0.00103231 \\\\\n",
       "\t7 & 1 & 1024 & 1.43251 & 0.00157079 \\\\\n",
       "\t8 & 1 & 2048 & 5.72774 & 0.0038398 \\\\\n",
       "\t9 & 1 & 4096 & 22.913 & 0.0049492 \\\\\n",
       "\t10 & 1 & 8192 & 91.6348 & 0.0257623 \\\\\n",
       "\t11 & 2 & 16 & 0.0005884 & 4.36532e-5 \\\\\n",
       "\t12 & 2 & 32 & 0.00165 & 6.44254e-5 \\\\\n",
       "\t13 & 2 & 64 & 0.0058797 & 5.83046e-5 \\\\\n",
       "\t14 & 2 & 128 & 0.0227553 & 0.000265635 \\\\\n",
       "\t15 & 2 & 256 & 0.0921137 & 0.00638872 \\\\\n",
       "\t16 & 2 & 512 & 0.378082 & 0.0279588 \\\\\n",
       "\t17 & 2 & 1024 & 1.43466 & 0.00382319 \\\\\n",
       "\t18 & 2 & 2048 & 5.73159 & 0.00544243 \\\\\n",
       "\t19 & 2 & 4096 & 22.9251 & 0.00976727 \\\\\n",
       "\t20 & 2 & 8192 & 91.6922 & 0.0195863 \\\\\n",
       "\t21 & 4 & 16 & 0.0003909 & 7.98749e-5 \\\\\n",
       "\t22 & 4 & 32 & 0.0009292 & 6.09165e-5 \\\\\n",
       "\t23 & 4 & 64 & 0.0032396 & 5.17513e-5 \\\\\n",
       "\t24 & 4 & 128 & 0.0125186 & 9.27697e-5 \\\\\n",
       "\t25 & 4 & 256 & 0.0494697 & 0.000126244 \\\\\n",
       "\t26 & 4 & 512 & 0.197192 & 0.000426486 \\\\\n",
       "\t27 & 4 & 1024 & 0.788929 & 0.00578773 \\\\\n",
       "\t28 & 4 & 2048 & 3.15469 & 0.0121798 \\\\\n",
       "\t29 & 4 & 4096 & 12.5979 & 0.0153855 \\\\\n",
       "\t30 & 4 & 8192 & 50.4926 & 0.213873 \\\\\n",
       "\t$\\dots$ & $\\dots$ & $\\dots$ & $\\dots$ & $\\dots$ \\\\\n",
       "\\end{tabular}\n"
      ],
      "text/plain": [
       "60×4 DataFrame\n",
       "│ Row │ threads │ size  │ mean_duration │ ci_duration │\n",
       "│     │ \u001b[90mInt64\u001b[39m   │ \u001b[90mInt64\u001b[39m │ \u001b[90mFloat64\u001b[39m       │ \u001b[90mFloat64\u001b[39m     │\n",
       "├─────┼─────────┼───────┼───────────────┼─────────────┤\n",
       "│ 1   │ 1       │ 16    │ 0.0005551     │ 2.55628e-5  │\n",
       "│ 2   │ 1       │ 32    │ 0.0018794     │ 0.000674058 │\n",
       "│ 3   │ 1       │ 64    │ 0.0060527     │ 0.000462175 │\n",
       "│ 4   │ 1       │ 128   │ 0.0228469     │ 0.000452017 │\n",
       "│ 5   │ 1       │ 256   │ 0.0901165     │ 0.00129533  │\n",
       "│ 6   │ 1       │ 512   │ 0.358583      │ 0.00103231  │\n",
       "│ 7   │ 1       │ 1024  │ 1.43251       │ 0.00157079  │\n",
       "│ 8   │ 1       │ 2048  │ 5.72774       │ 0.0038398   │\n",
       "│ 9   │ 1       │ 4096  │ 22.913        │ 0.0049492   │\n",
       "│ 10  │ 1       │ 8192  │ 91.6348       │ 0.0257623   │\n",
       "⋮\n",
       "│ 50  │ 16      │ 8192  │ 35.3336       │ 0.196634    │\n",
       "│ 51  │ 32      │ 16    │ 0.0008307     │ 4.40218e-5  │\n",
       "│ 52  │ 32      │ 32    │ 0.0010605     │ 6.19204e-5  │\n",
       "│ 53  │ 32      │ 64    │ 0.0026158     │ 0.000228367 │\n",
       "│ 54  │ 32      │ 128   │ 0.008241      │ 0.000414592 │\n",
       "│ 55  │ 32      │ 256   │ 0.0308685     │ 0.00137575  │\n",
       "│ 56  │ 32      │ 512   │ 0.120244      │ 0.00276654  │\n",
       "│ 57  │ 32      │ 1024  │ 0.473346      │ 0.00260174  │\n",
       "│ 58  │ 32      │ 2048  │ 1.89716       │ 0.0237083   │\n",
       "│ 59  │ 32      │ 4096  │ 7.55163       │ 0.0121124   │\n",
       "│ 60  │ 32      │ 8192  │ 30.1958       │ 0.0332435   │"
      ]
     },
     "execution_count": 67,
     "metadata": {},
     "output_type": "execute_result"
    }
   ],
   "source": [
    "#Triple spiral\n",
    "results = run_experiments(size, 3, fileName, repetitions, threads=thread)\n",
    "pth_tripleSpiral = parse_results(results)"
   ]
  },
  {
   "cell_type": "markdown",
   "metadata": {},
   "source": [
    "#### OpenMP:"
   ]
  },
  {
   "cell_type": "code",
   "execution_count": 117,
   "metadata": {},
   "outputs": [
    {
     "data": {
      "text/plain": [
       "\"mandelbrot_omp\""
      ]
     },
     "execution_count": 117,
     "metadata": {},
     "output_type": "execute_result"
    }
   ],
   "source": [
    "fileName = \"mandelbrot_omp\""
   ]
  },
  {
   "cell_type": "code",
   "execution_count": 118,
   "metadata": {},
   "outputs": [
    {
     "name": "stdout",
     "output_type": "stream",
     "text": [
      "make: 'mandelbrot_omp' is up to date.\n"
     ]
    },
    {
     "data": {
      "text/html": [
       "<table class=\"data-frame\"><thead><tr><th></th><th>threads</th><th>size</th><th>mean_duration</th><th>ci_duration</th></tr><tr><th></th><th>Int64</th><th>Int64</th><th>Float64</th><th>Float64</th></tr></thead><tbody><p>60 rows × 4 columns</p><tr><th>1</th><td>1</td><td>16</td><td>9.3e-5</td><td>3.7837e-5</td></tr><tr><th>2</th><td>1</td><td>32</td><td>0.0002696</td><td>8.10829e-5</td></tr><tr><th>3</th><td>1</td><td>64</td><td>0.0009214</td><td>0.00010973</td></tr><tr><th>4</th><td>1</td><td>128</td><td>0.0034415</td><td>0.000402936</td></tr><tr><th>5</th><td>1</td><td>256</td><td>0.0124406</td><td>0.000569705</td></tr><tr><th>6</th><td>1</td><td>512</td><td>0.0494292</td><td>0.00160788</td></tr><tr><th>7</th><td>1</td><td>1024</td><td>0.201296</td><td>0.0134307</td></tr><tr><th>8</th><td>1</td><td>2048</td><td>0.766819</td><td>0.00289666</td></tr><tr><th>9</th><td>1</td><td>4096</td><td>3.05816</td><td>0.00787521</td></tr><tr><th>10</th><td>1</td><td>8192</td><td>12.2056</td><td>0.00713063</td></tr><tr><th>11</th><td>2</td><td>16</td><td>0.0001139</td><td>1.95662e-5</td></tr><tr><th>12</th><td>2</td><td>32</td><td>0.0001969</td><td>1.69728e-5</td></tr><tr><th>13</th><td>2</td><td>64</td><td>0.0005066</td><td>1.68656e-5</td></tr><tr><th>14</th><td>2</td><td>128</td><td>0.0016812</td><td>1.80301e-5</td></tr><tr><th>15</th><td>2</td><td>256</td><td>0.0062623</td><td>4.24119e-5</td></tr><tr><th>16</th><td>2</td><td>512</td><td>0.0244374</td><td>0.000499943</td></tr><tr><th>17</th><td>2</td><td>1024</td><td>0.0968457</td><td>0.00137182</td></tr><tr><th>18</th><td>2</td><td>2048</td><td>0.383101</td><td>0.000238865</td></tr><tr><th>19</th><td>2</td><td>4096</td><td>1.53006</td><td>0.00431785</td></tr><tr><th>20</th><td>2</td><td>8192</td><td>6.10723</td><td>0.00362217</td></tr><tr><th>21</th><td>4</td><td>16</td><td>0.0001225</td><td>8.37949e-6</td></tr><tr><th>22</th><td>4</td><td>32</td><td>0.0001734</td><td>1.40489e-5</td></tr><tr><th>23</th><td>4</td><td>64</td><td>0.0008514</td><td>0.00308845</td></tr><tr><th>24</th><td>4</td><td>128</td><td>0.0010243</td><td>2.19436e-5</td></tr><tr><th>25</th><td>4</td><td>256</td><td>0.0036664</td><td>6.73168e-5</td></tr><tr><th>26</th><td>4</td><td>512</td><td>0.0140918</td><td>0.000435516</td></tr><tr><th>27</th><td>4</td><td>1024</td><td>0.0550221</td><td>0.000266292</td></tr><tr><th>28</th><td>4</td><td>2048</td><td>0.222144</td><td>0.00819478</td></tr><tr><th>29</th><td>4</td><td>4096</td><td>0.877898</td><td>0.00800465</td></tr><tr><th>30</th><td>4</td><td>8192</td><td>3.51438</td><td>0.0266117</td></tr><tr><th>&vellip;</th><td>&vellip;</td><td>&vellip;</td><td>&vellip;</td><td>&vellip;</td></tr></tbody></table>"
      ],
      "text/latex": [
       "\\begin{tabular}{r|cccc}\n",
       "\t& threads & size & mean\\_duration & ci\\_duration\\\\\n",
       "\t\\hline\n",
       "\t& Int64 & Int64 & Float64 & Float64\\\\\n",
       "\t\\hline\n",
       "\t1 & 1 & 16 & 9.3e-5 & 3.7837e-5 \\\\\n",
       "\t2 & 1 & 32 & 0.0002696 & 8.10829e-5 \\\\\n",
       "\t3 & 1 & 64 & 0.0009214 & 0.00010973 \\\\\n",
       "\t4 & 1 & 128 & 0.0034415 & 0.000402936 \\\\\n",
       "\t5 & 1 & 256 & 0.0124406 & 0.000569705 \\\\\n",
       "\t6 & 1 & 512 & 0.0494292 & 0.00160788 \\\\\n",
       "\t7 & 1 & 1024 & 0.201296 & 0.0134307 \\\\\n",
       "\t8 & 1 & 2048 & 0.766819 & 0.00289666 \\\\\n",
       "\t9 & 1 & 4096 & 3.05816 & 0.00787521 \\\\\n",
       "\t10 & 1 & 8192 & 12.2056 & 0.00713063 \\\\\n",
       "\t11 & 2 & 16 & 0.0001139 & 1.95662e-5 \\\\\n",
       "\t12 & 2 & 32 & 0.0001969 & 1.69728e-5 \\\\\n",
       "\t13 & 2 & 64 & 0.0005066 & 1.68656e-5 \\\\\n",
       "\t14 & 2 & 128 & 0.0016812 & 1.80301e-5 \\\\\n",
       "\t15 & 2 & 256 & 0.0062623 & 4.24119e-5 \\\\\n",
       "\t16 & 2 & 512 & 0.0244374 & 0.000499943 \\\\\n",
       "\t17 & 2 & 1024 & 0.0968457 & 0.00137182 \\\\\n",
       "\t18 & 2 & 2048 & 0.383101 & 0.000238865 \\\\\n",
       "\t19 & 2 & 4096 & 1.53006 & 0.00431785 \\\\\n",
       "\t20 & 2 & 8192 & 6.10723 & 0.00362217 \\\\\n",
       "\t21 & 4 & 16 & 0.0001225 & 8.37949e-6 \\\\\n",
       "\t22 & 4 & 32 & 0.0001734 & 1.40489e-5 \\\\\n",
       "\t23 & 4 & 64 & 0.0008514 & 0.00308845 \\\\\n",
       "\t24 & 4 & 128 & 0.0010243 & 2.19436e-5 \\\\\n",
       "\t25 & 4 & 256 & 0.0036664 & 6.73168e-5 \\\\\n",
       "\t26 & 4 & 512 & 0.0140918 & 0.000435516 \\\\\n",
       "\t27 & 4 & 1024 & 0.0550221 & 0.000266292 \\\\\n",
       "\t28 & 4 & 2048 & 0.222144 & 0.00819478 \\\\\n",
       "\t29 & 4 & 4096 & 0.877898 & 0.00800465 \\\\\n",
       "\t30 & 4 & 8192 & 3.51438 & 0.0266117 \\\\\n",
       "\t$\\dots$ & $\\dots$ & $\\dots$ & $\\dots$ & $\\dots$ \\\\\n",
       "\\end{tabular}\n"
      ],
      "text/plain": [
       "60×4 DataFrame\n",
       "│ Row │ threads │ size  │ mean_duration │ ci_duration │\n",
       "│     │ \u001b[90mInt64\u001b[39m   │ \u001b[90mInt64\u001b[39m │ \u001b[90mFloat64\u001b[39m       │ \u001b[90mFloat64\u001b[39m     │\n",
       "├─────┼─────────┼───────┼───────────────┼─────────────┤\n",
       "│ 1   │ 1       │ 16    │ 9.3e-5        │ 3.7837e-5   │\n",
       "│ 2   │ 1       │ 32    │ 0.0002696     │ 8.10829e-5  │\n",
       "│ 3   │ 1       │ 64    │ 0.0009214     │ 0.00010973  │\n",
       "│ 4   │ 1       │ 128   │ 0.0034415     │ 0.000402936 │\n",
       "│ 5   │ 1       │ 256   │ 0.0124406     │ 0.000569705 │\n",
       "│ 6   │ 1       │ 512   │ 0.0494292     │ 0.00160788  │\n",
       "│ 7   │ 1       │ 1024  │ 0.201296      │ 0.0134307   │\n",
       "│ 8   │ 1       │ 2048  │ 0.766819      │ 0.00289666  │\n",
       "│ 9   │ 1       │ 4096  │ 3.05816       │ 0.00787521  │\n",
       "│ 10  │ 1       │ 8192  │ 12.2056       │ 0.00713063  │\n",
       "⋮\n",
       "│ 50  │ 16      │ 8192  │ 3.6482        │ 0.0123207   │\n",
       "│ 51  │ 32      │ 16    │ 0.0006678     │ 3.26117e-5  │\n",
       "│ 52  │ 32      │ 32    │ 0.0007639     │ 4.87288e-5  │\n",
       "│ 53  │ 32      │ 64    │ 0.0009328     │ 4.13803e-5  │\n",
       "│ 54  │ 32      │ 128   │ 0.0015994     │ 4.38289e-5  │\n",
       "│ 55  │ 32      │ 256   │ 0.0042466     │ 0.000182075 │\n",
       "│ 56  │ 32      │ 512   │ 0.0148932     │ 0.000498827 │\n",
       "│ 57  │ 32      │ 1024  │ 0.0577154     │ 0.00555457  │\n",
       "│ 58  │ 32      │ 2048  │ 0.228107      │ 0.00543908  │\n",
       "│ 59  │ 32      │ 4096  │ 0.913169      │ 0.0165756   │\n",
       "│ 60  │ 32      │ 8192  │ 3.69042       │ 0.0518482   │"
      ]
     },
     "execution_count": 118,
     "metadata": {},
     "output_type": "execute_result"
    }
   ],
   "source": [
    "#Full picture\n",
    "results = run_experiments(size, 0, fileName, repetitions, threads=thread)\n",
    "omp_full = parse_results(results)"
   ]
  },
  {
   "cell_type": "code",
   "execution_count": 119,
   "metadata": {},
   "outputs": [
    {
     "name": "stdout",
     "output_type": "stream",
     "text": [
      "make: 'mandelbrot_omp' is up to date.\n"
     ]
    },
    {
     "data": {
      "text/html": [
       "<table class=\"data-frame\"><thead><tr><th></th><th>threads</th><th>size</th><th>mean_duration</th><th>ci_duration</th></tr><tr><th></th><th>Int64</th><th>Int64</th><th>Float64</th><th>Float64</th></tr></thead><tbody><p>60 rows × 4 columns</p><tr><th>1</th><td>1</td><td>16</td><td>0.0003696</td><td>4.84543e-5</td></tr><tr><th>2</th><td>1</td><td>32</td><td>0.0013157</td><td>3.88396e-5</td></tr><tr><th>3</th><td>1</td><td>64</td><td>0.0052654</td><td>0.000385952</td></tr><tr><th>4</th><td>1</td><td>128</td><td>0.0202824</td><td>0.000314592</td></tr><tr><th>5</th><td>1</td><td>256</td><td>0.0806001</td><td>0.000945416</td></tr><tr><th>6</th><td>1</td><td>512</td><td>0.320312</td><td>0.000462275</td></tr><tr><th>7</th><td>1</td><td>1024</td><td>1.27829</td><td>0.00134318</td></tr><tr><th>8</th><td>1</td><td>2048</td><td>5.11059</td><td>0.00593211</td></tr><tr><th>9</th><td>1</td><td>4096</td><td>20.4307</td><td>0.0147013</td></tr><tr><th>10</th><td>1</td><td>8192</td><td>81.8045</td><td>0.436744</td></tr><tr><th>11</th><td>2</td><td>16</td><td>0.0002484</td><td>3.16472e-5</td></tr><tr><th>12</th><td>2</td><td>32</td><td>0.0007361</td><td>2.4243e-5</td></tr><tr><th>13</th><td>2</td><td>64</td><td>0.002632</td><td>2.43054e-5</td></tr><tr><th>14</th><td>2</td><td>128</td><td>0.0101844</td><td>2.65417e-5</td></tr><tr><th>15</th><td>2</td><td>256</td><td>0.040385</td><td>0.000612339</td></tr><tr><th>16</th><td>2</td><td>512</td><td>0.160314</td><td>0.000203421</td></tr><tr><th>17</th><td>2</td><td>1024</td><td>0.639643</td><td>0.000775523</td></tr><tr><th>18</th><td>2</td><td>2048</td><td>2.5574</td><td>0.00359413</td></tr><tr><th>19</th><td>2</td><td>4096</td><td>10.22</td><td>0.002838</td></tr><tr><th>20</th><td>2</td><td>8192</td><td>40.889</td><td>0.100904</td></tr><tr><th>21</th><td>4</td><td>16</td><td>0.0005073</td><td>0.00185939</td></tr><tr><th>22</th><td>4</td><td>32</td><td>0.0004862</td><td>1.40672e-5</td></tr><tr><th>23</th><td>4</td><td>64</td><td>0.0015964</td><td>3.17684e-5</td></tr><tr><th>24</th><td>4</td><td>128</td><td>0.0059424</td><td>8.51351e-5</td></tr><tr><th>25</th><td>4</td><td>256</td><td>0.0232742</td><td>0.000222925</td></tr><tr><th>26</th><td>4</td><td>512</td><td>0.0932417</td><td>0.00313922</td></tr><tr><th>27</th><td>4</td><td>1024</td><td>0.371376</td><td>0.00577385</td></tr><tr><th>28</th><td>4</td><td>2048</td><td>1.48384</td><td>0.0120724</td></tr><tr><th>29</th><td>4</td><td>4096</td><td>5.92891</td><td>0.0316283</td></tr><tr><th>30</th><td>4</td><td>8192</td><td>23.7221</td><td>0.06064</td></tr><tr><th>&vellip;</th><td>&vellip;</td><td>&vellip;</td><td>&vellip;</td><td>&vellip;</td></tr></tbody></table>"
      ],
      "text/latex": [
       "\\begin{tabular}{r|cccc}\n",
       "\t& threads & size & mean\\_duration & ci\\_duration\\\\\n",
       "\t\\hline\n",
       "\t& Int64 & Int64 & Float64 & Float64\\\\\n",
       "\t\\hline\n",
       "\t1 & 1 & 16 & 0.0003696 & 4.84543e-5 \\\\\n",
       "\t2 & 1 & 32 & 0.0013157 & 3.88396e-5 \\\\\n",
       "\t3 & 1 & 64 & 0.0052654 & 0.000385952 \\\\\n",
       "\t4 & 1 & 128 & 0.0202824 & 0.000314592 \\\\\n",
       "\t5 & 1 & 256 & 0.0806001 & 0.000945416 \\\\\n",
       "\t6 & 1 & 512 & 0.320312 & 0.000462275 \\\\\n",
       "\t7 & 1 & 1024 & 1.27829 & 0.00134318 \\\\\n",
       "\t8 & 1 & 2048 & 5.11059 & 0.00593211 \\\\\n",
       "\t9 & 1 & 4096 & 20.4307 & 0.0147013 \\\\\n",
       "\t10 & 1 & 8192 & 81.8045 & 0.436744 \\\\\n",
       "\t11 & 2 & 16 & 0.0002484 & 3.16472e-5 \\\\\n",
       "\t12 & 2 & 32 & 0.0007361 & 2.4243e-5 \\\\\n",
       "\t13 & 2 & 64 & 0.002632 & 2.43054e-5 \\\\\n",
       "\t14 & 2 & 128 & 0.0101844 & 2.65417e-5 \\\\\n",
       "\t15 & 2 & 256 & 0.040385 & 0.000612339 \\\\\n",
       "\t16 & 2 & 512 & 0.160314 & 0.000203421 \\\\\n",
       "\t17 & 2 & 1024 & 0.639643 & 0.000775523 \\\\\n",
       "\t18 & 2 & 2048 & 2.5574 & 0.00359413 \\\\\n",
       "\t19 & 2 & 4096 & 10.22 & 0.002838 \\\\\n",
       "\t20 & 2 & 8192 & 40.889 & 0.100904 \\\\\n",
       "\t21 & 4 & 16 & 0.0005073 & 0.00185939 \\\\\n",
       "\t22 & 4 & 32 & 0.0004862 & 1.40672e-5 \\\\\n",
       "\t23 & 4 & 64 & 0.0015964 & 3.17684e-5 \\\\\n",
       "\t24 & 4 & 128 & 0.0059424 & 8.51351e-5 \\\\\n",
       "\t25 & 4 & 256 & 0.0232742 & 0.000222925 \\\\\n",
       "\t26 & 4 & 512 & 0.0932417 & 0.00313922 \\\\\n",
       "\t27 & 4 & 1024 & 0.371376 & 0.00577385 \\\\\n",
       "\t28 & 4 & 2048 & 1.48384 & 0.0120724 \\\\\n",
       "\t29 & 4 & 4096 & 5.92891 & 0.0316283 \\\\\n",
       "\t30 & 4 & 8192 & 23.7221 & 0.06064 \\\\\n",
       "\t$\\dots$ & $\\dots$ & $\\dots$ & $\\dots$ & $\\dots$ \\\\\n",
       "\\end{tabular}\n"
      ],
      "text/plain": [
       "60×4 DataFrame\n",
       "│ Row │ threads │ size  │ mean_duration │ ci_duration │\n",
       "│     │ \u001b[90mInt64\u001b[39m   │ \u001b[90mInt64\u001b[39m │ \u001b[90mFloat64\u001b[39m       │ \u001b[90mFloat64\u001b[39m     │\n",
       "├─────┼─────────┼───────┼───────────────┼─────────────┤\n",
       "│ 1   │ 1       │ 16    │ 0.0003696     │ 4.84543e-5  │\n",
       "│ 2   │ 1       │ 32    │ 0.0013157     │ 3.88396e-5  │\n",
       "│ 3   │ 1       │ 64    │ 0.0052654     │ 0.000385952 │\n",
       "│ 4   │ 1       │ 128   │ 0.0202824     │ 0.000314592 │\n",
       "│ 5   │ 1       │ 256   │ 0.0806001     │ 0.000945416 │\n",
       "│ 6   │ 1       │ 512   │ 0.320312      │ 0.000462275 │\n",
       "│ 7   │ 1       │ 1024  │ 1.27829       │ 0.00134318  │\n",
       "│ 8   │ 1       │ 2048  │ 5.11059       │ 0.00593211  │\n",
       "│ 9   │ 1       │ 4096  │ 20.4307       │ 0.0147013   │\n",
       "│ 10  │ 1       │ 8192  │ 81.8045       │ 0.436744    │\n",
       "⋮\n",
       "│ 50  │ 16      │ 8192  │ 25.0156       │ 1.48394     │\n",
       "│ 51  │ 32      │ 16    │ 0.0007906     │ 0.000160768 │\n",
       "│ 52  │ 32      │ 32    │ 0.0010874     │ 0.000114302 │\n",
       "│ 53  │ 32      │ 64    │ 0.0022038     │ 0.000309146 │\n",
       "│ 54  │ 32      │ 128   │ 0.0065223     │ 0.000205494 │\n",
       "│ 55  │ 32      │ 256   │ 0.024051      │ 0.000396922 │\n",
       "│ 56  │ 32      │ 512   │ 0.0973369     │ 0.00799182  │\n",
       "│ 57  │ 32      │ 1024  │ 0.402475      │ 0.0773438   │\n",
       "│ 58  │ 32      │ 2048  │ 1.74156       │ 0.386455    │\n",
       "│ 59  │ 32      │ 4096  │ 6.23513       │ 0.0228569   │\n",
       "│ 60  │ 32      │ 8192  │ 24.9816       │ 0.127988    │"
      ]
     },
     "execution_count": 119,
     "metadata": {},
     "output_type": "execute_result"
    }
   ],
   "source": [
    "#Seahores Valley\n",
    "results = run_experiments(size, 1, fileName, repetitions, threads=thread)\n",
    "omp_seahorse = parse_results(results)"
   ]
  },
  {
   "cell_type": "code",
   "execution_count": 120,
   "metadata": {},
   "outputs": [
    {
     "name": "stdout",
     "output_type": "stream",
     "text": [
      "make: 'mandelbrot_omp' is up to date.\n"
     ]
    },
    {
     "data": {
      "text/html": [
       "<table class=\"data-frame\"><thead><tr><th></th><th>threads</th><th>size</th><th>mean_duration</th><th>ci_duration</th></tr><tr><th></th><th>Int64</th><th>Int64</th><th>Float64</th><th>Float64</th></tr></thead><tbody><p>60 rows × 4 columns</p><tr><th>1</th><td>1</td><td>16</td><td>0.0003389</td><td>1.82103e-5</td></tr><tr><th>2</th><td>1</td><td>32</td><td>0.001323</td><td>0.000159287</td></tr><tr><th>3</th><td>1</td><td>64</td><td>0.0049848</td><td>0.000409007</td></tr><tr><th>4</th><td>1</td><td>128</td><td>0.0191649</td><td>0.000215179</td></tr><tr><th>5</th><td>1</td><td>256</td><td>0.0761834</td><td>0.000816225</td></tr><tr><th>6</th><td>1</td><td>512</td><td>0.303065</td><td>0.00196455</td></tr><tr><th>7</th><td>1</td><td>1024</td><td>1.20884</td><td>0.00249248</td></tr><tr><th>8</th><td>1</td><td>2048</td><td>4.82796</td><td>0.0048442</td></tr><tr><th>9</th><td>1</td><td>4096</td><td>19.3026</td><td>0.0126658</td></tr><tr><th>10</th><td>1</td><td>8192</td><td>77.2848</td><td>0.568542</td></tr><tr><th>11</th><td>2</td><td>16</td><td>0.0002466</td><td>1.34593e-5</td></tr><tr><th>12</th><td>2</td><td>32</td><td>0.000722</td><td>3.15364e-5</td></tr><tr><th>13</th><td>2</td><td>64</td><td>0.0025259</td><td>2.70238e-5</td></tr><tr><th>14</th><td>2</td><td>128</td><td>0.009674</td><td>1.66312e-5</td></tr><tr><th>15</th><td>2</td><td>256</td><td>0.0381884</td><td>0.00011814</td></tr><tr><th>16</th><td>2</td><td>512</td><td>0.151553</td><td>0.000124247</td></tr><tr><th>17</th><td>2</td><td>1024</td><td>0.606124</td><td>0.0030855</td></tr><tr><th>18</th><td>2</td><td>2048</td><td>2.41724</td><td>0.00654283</td></tr><tr><th>19</th><td>2</td><td>4096</td><td>9.67327</td><td>0.0464284</td></tr><tr><th>20</th><td>2</td><td>8192</td><td>38.6205</td><td>0.0190716</td></tr><tr><th>21</th><td>4</td><td>16</td><td>0.0001996</td><td>7.51759e-6</td></tr><tr><th>22</th><td>4</td><td>32</td><td>0.0004841</td><td>2.31256e-5</td></tr><tr><th>23</th><td>4</td><td>64</td><td>0.0015228</td><td>4.02084e-5</td></tr><tr><th>24</th><td>4</td><td>128</td><td>0.0057268</td><td>0.000273459</td></tr><tr><th>25</th><td>4</td><td>256</td><td>0.0221729</td><td>0.000431068</td></tr><tr><th>26</th><td>4</td><td>512</td><td>0.0877298</td><td>0.000407888</td></tr><tr><th>27</th><td>4</td><td>1024</td><td>0.351687</td><td>0.00895676</td></tr><tr><th>28</th><td>4</td><td>2048</td><td>1.40142</td><td>0.00733576</td></tr><tr><th>29</th><td>4</td><td>4096</td><td>5.60112</td><td>0.0172276</td></tr><tr><th>30</th><td>4</td><td>8192</td><td>22.4433</td><td>0.205158</td></tr><tr><th>&vellip;</th><td>&vellip;</td><td>&vellip;</td><td>&vellip;</td><td>&vellip;</td></tr></tbody></table>"
      ],
      "text/latex": [
       "\\begin{tabular}{r|cccc}\n",
       "\t& threads & size & mean\\_duration & ci\\_duration\\\\\n",
       "\t\\hline\n",
       "\t& Int64 & Int64 & Float64 & Float64\\\\\n",
       "\t\\hline\n",
       "\t1 & 1 & 16 & 0.0003389 & 1.82103e-5 \\\\\n",
       "\t2 & 1 & 32 & 0.001323 & 0.000159287 \\\\\n",
       "\t3 & 1 & 64 & 0.0049848 & 0.000409007 \\\\\n",
       "\t4 & 1 & 128 & 0.0191649 & 0.000215179 \\\\\n",
       "\t5 & 1 & 256 & 0.0761834 & 0.000816225 \\\\\n",
       "\t6 & 1 & 512 & 0.303065 & 0.00196455 \\\\\n",
       "\t7 & 1 & 1024 & 1.20884 & 0.00249248 \\\\\n",
       "\t8 & 1 & 2048 & 4.82796 & 0.0048442 \\\\\n",
       "\t9 & 1 & 4096 & 19.3026 & 0.0126658 \\\\\n",
       "\t10 & 1 & 8192 & 77.2848 & 0.568542 \\\\\n",
       "\t11 & 2 & 16 & 0.0002466 & 1.34593e-5 \\\\\n",
       "\t12 & 2 & 32 & 0.000722 & 3.15364e-5 \\\\\n",
       "\t13 & 2 & 64 & 0.0025259 & 2.70238e-5 \\\\\n",
       "\t14 & 2 & 128 & 0.009674 & 1.66312e-5 \\\\\n",
       "\t15 & 2 & 256 & 0.0381884 & 0.00011814 \\\\\n",
       "\t16 & 2 & 512 & 0.151553 & 0.000124247 \\\\\n",
       "\t17 & 2 & 1024 & 0.606124 & 0.0030855 \\\\\n",
       "\t18 & 2 & 2048 & 2.41724 & 0.00654283 \\\\\n",
       "\t19 & 2 & 4096 & 9.67327 & 0.0464284 \\\\\n",
       "\t20 & 2 & 8192 & 38.6205 & 0.0190716 \\\\\n",
       "\t21 & 4 & 16 & 0.0001996 & 7.51759e-6 \\\\\n",
       "\t22 & 4 & 32 & 0.0004841 & 2.31256e-5 \\\\\n",
       "\t23 & 4 & 64 & 0.0015228 & 4.02084e-5 \\\\\n",
       "\t24 & 4 & 128 & 0.0057268 & 0.000273459 \\\\\n",
       "\t25 & 4 & 256 & 0.0221729 & 0.000431068 \\\\\n",
       "\t26 & 4 & 512 & 0.0877298 & 0.000407888 \\\\\n",
       "\t27 & 4 & 1024 & 0.351687 & 0.00895676 \\\\\n",
       "\t28 & 4 & 2048 & 1.40142 & 0.00733576 \\\\\n",
       "\t29 & 4 & 4096 & 5.60112 & 0.0172276 \\\\\n",
       "\t30 & 4 & 8192 & 22.4433 & 0.205158 \\\\\n",
       "\t$\\dots$ & $\\dots$ & $\\dots$ & $\\dots$ & $\\dots$ \\\\\n",
       "\\end{tabular}\n"
      ],
      "text/plain": [
       "60×4 DataFrame\n",
       "│ Row │ threads │ size  │ mean_duration │ ci_duration │\n",
       "│     │ \u001b[90mInt64\u001b[39m   │ \u001b[90mInt64\u001b[39m │ \u001b[90mFloat64\u001b[39m       │ \u001b[90mFloat64\u001b[39m     │\n",
       "├─────┼─────────┼───────┼───────────────┼─────────────┤\n",
       "│ 1   │ 1       │ 16    │ 0.0003389     │ 1.82103e-5  │\n",
       "│ 2   │ 1       │ 32    │ 0.001323      │ 0.000159287 │\n",
       "│ 3   │ 1       │ 64    │ 0.0049848     │ 0.000409007 │\n",
       "│ 4   │ 1       │ 128   │ 0.0191649     │ 0.000215179 │\n",
       "│ 5   │ 1       │ 256   │ 0.0761834     │ 0.000816225 │\n",
       "│ 6   │ 1       │ 512   │ 0.303065      │ 0.00196455  │\n",
       "│ 7   │ 1       │ 1024  │ 1.20884       │ 0.00249248  │\n",
       "│ 8   │ 1       │ 2048  │ 4.82796       │ 0.0048442   │\n",
       "│ 9   │ 1       │ 4096  │ 19.3026       │ 0.0126658   │\n",
       "│ 10  │ 1       │ 8192  │ 77.2848       │ 0.568542    │\n",
       "⋮\n",
       "│ 50  │ 16      │ 8192  │ 23.4048       │ 0.0441335   │\n",
       "│ 51  │ 32      │ 16    │ 0.0008014     │ 0.000143222 │\n",
       "│ 52  │ 32      │ 32    │ 0.001066      │ 0.000108823 │\n",
       "│ 53  │ 32      │ 64    │ 0.0021063     │ 0.000299959 │\n",
       "│ 54  │ 32      │ 128   │ 0.0062325     │ 0.000218812 │\n",
       "│ 55  │ 32      │ 256   │ 0.0231878     │ 0.00166239  │\n",
       "│ 56  │ 32      │ 512   │ 0.0897135     │ 0.00206633  │\n",
       "│ 57  │ 32      │ 1024  │ 0.359975      │ 0.00825684  │\n",
       "│ 58  │ 32      │ 2048  │ 1.46499       │ 0.0165789   │\n",
       "│ 59  │ 32      │ 4096  │ 5.88872       │ 0.01131     │\n",
       "│ 60  │ 32      │ 8192  │ 23.5932       │ 0.104628    │"
      ]
     },
     "execution_count": 120,
     "metadata": {},
     "output_type": "execute_result"
    }
   ],
   "source": [
    "#Elephant Valley\n",
    "results = run_experiments(size, 2, fileName, repetitions, threads=thread)\n",
    "omp_elephant = parse_results(results)"
   ]
  },
  {
   "cell_type": "code",
   "execution_count": 121,
   "metadata": {},
   "outputs": [
    {
     "name": "stdout",
     "output_type": "stream",
     "text": [
      "make: 'mandelbrot_omp' is up to date.\n"
     ]
    },
    {
     "data": {
      "text/html": [
       "<table class=\"data-frame\"><thead><tr><th></th><th>threads</th><th>size</th><th>mean_duration</th><th>ci_duration</th></tr><tr><th></th><th>Int64</th><th>Int64</th><th>Float64</th><th>Float64</th></tr></thead><tbody><p>60 rows × 4 columns</p><tr><th>1</th><td>1</td><td>16</td><td>0.0004187</td><td>4.64653e-5</td></tr><tr><th>2</th><td>1</td><td>32</td><td>0.0014873</td><td>1.97313e-5</td></tr><tr><th>3</th><td>1</td><td>64</td><td>0.0059734</td><td>0.000459371</td></tr><tr><th>4</th><td>1</td><td>128</td><td>0.0229475</td><td>0.000252539</td></tr><tr><th>5</th><td>1</td><td>256</td><td>0.0913082</td><td>0.000478305</td></tr><tr><th>6</th><td>1</td><td>512</td><td>0.367429</td><td>0.0133693</td></tr><tr><th>7</th><td>1</td><td>1024</td><td>1.4761</td><td>0.0804898</td></tr><tr><th>8</th><td>1</td><td>2048</td><td>5.81183</td><td>0.005814</td></tr><tr><th>9</th><td>1</td><td>4096</td><td>23.2412</td><td>0.0223732</td></tr><tr><th>10</th><td>1</td><td>8192</td><td>93.0606</td><td>0.517063</td></tr><tr><th>11</th><td>2</td><td>16</td><td>0.0002765</td><td>8.27699e-6</td></tr><tr><th>12</th><td>2</td><td>32</td><td>0.0008233</td><td>1.02492e-5</td></tr><tr><th>13</th><td>2</td><td>64</td><td>0.0029921</td><td>1.00982e-5</td></tr><tr><th>14</th><td>2</td><td>128</td><td>0.0115793</td><td>6.28427e-5</td></tr><tr><th>15</th><td>2</td><td>256</td><td>0.0457532</td><td>6.6163e-5</td></tr><tr><th>16</th><td>2</td><td>512</td><td>0.182448</td><td>0.000717782</td></tr><tr><th>17</th><td>2</td><td>1024</td><td>0.727838</td><td>0.00246176</td></tr><tr><th>18</th><td>2</td><td>2048</td><td>2.90912</td><td>0.00465741</td></tr><tr><th>19</th><td>2</td><td>4096</td><td>11.6325</td><td>0.0114417</td></tr><tr><th>20</th><td>2</td><td>8192</td><td>46.537</td><td>0.140536</td></tr><tr><th>21</th><td>4</td><td>16</td><td>0.0002159</td><td>1.03074e-5</td></tr><tr><th>22</th><td>4</td><td>32</td><td>0.0005502</td><td>9.18392e-6</td></tr><tr><th>23</th><td>4</td><td>64</td><td>0.0018176</td><td>4.80296e-5</td></tr><tr><th>24</th><td>4</td><td>128</td><td>0.0067682</td><td>9.48923e-5</td></tr><tr><th>25</th><td>4</td><td>256</td><td>0.0266164</td><td>0.00133699</td></tr><tr><th>26</th><td>4</td><td>512</td><td>0.106457</td><td>0.00597806</td></tr><tr><th>27</th><td>4</td><td>1024</td><td>0.422075</td><td>0.00279182</td></tr><tr><th>28</th><td>4</td><td>2048</td><td>1.68764</td><td>0.0119638</td></tr><tr><th>29</th><td>4</td><td>4096</td><td>6.76023</td><td>0.044414</td></tr><tr><th>30</th><td>4</td><td>8192</td><td>26.9781</td><td>0.0682377</td></tr><tr><th>&vellip;</th><td>&vellip;</td><td>&vellip;</td><td>&vellip;</td><td>&vellip;</td></tr></tbody></table>"
      ],
      "text/latex": [
       "\\begin{tabular}{r|cccc}\n",
       "\t& threads & size & mean\\_duration & ci\\_duration\\\\\n",
       "\t\\hline\n",
       "\t& Int64 & Int64 & Float64 & Float64\\\\\n",
       "\t\\hline\n",
       "\t1 & 1 & 16 & 0.0004187 & 4.64653e-5 \\\\\n",
       "\t2 & 1 & 32 & 0.0014873 & 1.97313e-5 \\\\\n",
       "\t3 & 1 & 64 & 0.0059734 & 0.000459371 \\\\\n",
       "\t4 & 1 & 128 & 0.0229475 & 0.000252539 \\\\\n",
       "\t5 & 1 & 256 & 0.0913082 & 0.000478305 \\\\\n",
       "\t6 & 1 & 512 & 0.367429 & 0.0133693 \\\\\n",
       "\t7 & 1 & 1024 & 1.4761 & 0.0804898 \\\\\n",
       "\t8 & 1 & 2048 & 5.81183 & 0.005814 \\\\\n",
       "\t9 & 1 & 4096 & 23.2412 & 0.0223732 \\\\\n",
       "\t10 & 1 & 8192 & 93.0606 & 0.517063 \\\\\n",
       "\t11 & 2 & 16 & 0.0002765 & 8.27699e-6 \\\\\n",
       "\t12 & 2 & 32 & 0.0008233 & 1.02492e-5 \\\\\n",
       "\t13 & 2 & 64 & 0.0029921 & 1.00982e-5 \\\\\n",
       "\t14 & 2 & 128 & 0.0115793 & 6.28427e-5 \\\\\n",
       "\t15 & 2 & 256 & 0.0457532 & 6.6163e-5 \\\\\n",
       "\t16 & 2 & 512 & 0.182448 & 0.000717782 \\\\\n",
       "\t17 & 2 & 1024 & 0.727838 & 0.00246176 \\\\\n",
       "\t18 & 2 & 2048 & 2.90912 & 0.00465741 \\\\\n",
       "\t19 & 2 & 4096 & 11.6325 & 0.0114417 \\\\\n",
       "\t20 & 2 & 8192 & 46.537 & 0.140536 \\\\\n",
       "\t21 & 4 & 16 & 0.0002159 & 1.03074e-5 \\\\\n",
       "\t22 & 4 & 32 & 0.0005502 & 9.18392e-6 \\\\\n",
       "\t23 & 4 & 64 & 0.0018176 & 4.80296e-5 \\\\\n",
       "\t24 & 4 & 128 & 0.0067682 & 9.48923e-5 \\\\\n",
       "\t25 & 4 & 256 & 0.0266164 & 0.00133699 \\\\\n",
       "\t26 & 4 & 512 & 0.106457 & 0.00597806 \\\\\n",
       "\t27 & 4 & 1024 & 0.422075 & 0.00279182 \\\\\n",
       "\t28 & 4 & 2048 & 1.68764 & 0.0119638 \\\\\n",
       "\t29 & 4 & 4096 & 6.76023 & 0.044414 \\\\\n",
       "\t30 & 4 & 8192 & 26.9781 & 0.0682377 \\\\\n",
       "\t$\\dots$ & $\\dots$ & $\\dots$ & $\\dots$ & $\\dots$ \\\\\n",
       "\\end{tabular}\n"
      ],
      "text/plain": [
       "60×4 DataFrame\n",
       "│ Row │ threads │ size  │ mean_duration │ ci_duration │\n",
       "│     │ \u001b[90mInt64\u001b[39m   │ \u001b[90mInt64\u001b[39m │ \u001b[90mFloat64\u001b[39m       │ \u001b[90mFloat64\u001b[39m     │\n",
       "├─────┼─────────┼───────┼───────────────┼─────────────┤\n",
       "│ 1   │ 1       │ 16    │ 0.0004187     │ 4.64653e-5  │\n",
       "│ 2   │ 1       │ 32    │ 0.0014873     │ 1.97313e-5  │\n",
       "│ 3   │ 1       │ 64    │ 0.0059734     │ 0.000459371 │\n",
       "│ 4   │ 1       │ 128   │ 0.0229475     │ 0.000252539 │\n",
       "│ 5   │ 1       │ 256   │ 0.0913082     │ 0.000478305 │\n",
       "│ 6   │ 1       │ 512   │ 0.367429      │ 0.0133693   │\n",
       "│ 7   │ 1       │ 1024  │ 1.4761        │ 0.0804898   │\n",
       "│ 8   │ 1       │ 2048  │ 5.81183       │ 0.005814    │\n",
       "│ 9   │ 1       │ 4096  │ 23.2412       │ 0.0223732   │\n",
       "│ 10  │ 1       │ 8192  │ 93.0606       │ 0.517063    │\n",
       "⋮\n",
       "│ 50  │ 16      │ 8192  │ 28.1828       │ 0.0351037   │\n",
       "│ 51  │ 32      │ 16    │ 0.0008034     │ 4.1053e-5   │\n",
       "│ 52  │ 32      │ 32    │ 0.0011089     │ 7.18931e-5  │\n",
       "│ 53  │ 32      │ 64    │ 0.0024411     │ 0.000325173 │\n",
       "│ 54  │ 32      │ 128   │ 0.0073805     │ 0.00015208  │\n",
       "│ 55  │ 32      │ 256   │ 0.0273475     │ 0.000853119 │\n",
       "│ 56  │ 32      │ 512   │ 0.10917       │ 0.00691513  │\n",
       "│ 57  │ 32      │ 1024  │ 0.441167      │ 0.0121982   │\n",
       "│ 58  │ 32      │ 2048  │ 1.77401       │ 0.0210278   │\n",
       "│ 59  │ 32      │ 4096  │ 7.09882       │ 0.0223834   │\n",
       "│ 60  │ 32      │ 8192  │ 28.4654       │ 0.310417    │"
      ]
     },
     "execution_count": 121,
     "metadata": {},
     "output_type": "execute_result"
    }
   ],
   "source": [
    "#Triple spiral\n",
    "results = run_experiments(size, 3, fileName, repetitions, threads=thread)\n",
    "omp_tripleSpiral = parse_results(results)"
   ]
  },
  {
   "cell_type": "markdown",
   "metadata": {},
   "source": [
    "#### Exportando em .csv:"
   ]
  },
  {
   "cell_type": "code",
   "execution_count": 122,
   "metadata": {},
   "outputs": [
    {
     "data": {
      "text/plain": [
       "save_csv_results (generic function with 1 method)"
      ]
     },
     "execution_count": 122,
     "metadata": {},
     "output_type": "execute_result"
    }
   ],
   "source": [
    "using CSV\n",
    "function save_csv_results(parsed_results, name)\n",
    "    CSV.write(string(name, \".csv\"), parsed_results)\n",
    "end"
   ]
  },
  {
   "cell_type": "code",
   "execution_count": 123,
   "metadata": {},
   "outputs": [
    {
     "data": {
      "text/plain": [
       "\"seq_tripleSpiral.csv\""
      ]
     },
     "execution_count": 123,
     "metadata": {},
     "output_type": "execute_result"
    }
   ],
   "source": [
    "#Sequencial\n",
    "save_csv_results(seq_full, \"seq_full\")\n",
    "save_csv_results(seq_seahorse, \"seq_seahorse\")\n",
    "save_csv_results(seq_elephant, \"seq_elephant\")\n",
    "save_csv_results(seq_tripleSpiral, \"seq_tripleSpiral\")"
   ]
  },
  {
   "cell_type": "code",
   "execution_count": 124,
   "metadata": {},
   "outputs": [
    {
     "data": {
      "text/plain": [
       "\"pth_tripleSpiral.csv\""
      ]
     },
     "execution_count": 124,
     "metadata": {},
     "output_type": "execute_result"
    }
   ],
   "source": [
    "#Pthreads\n",
    "save_csv_results(pth_full, \"pth_full\")\n",
    "save_csv_results(pth_seahorse, \"pth_seahorse\")\n",
    "save_csv_results(pth_elephant, \"pth_elephant\")\n",
    "save_csv_results(pth_tripleSpiral, \"pth_tripleSpiral\")"
   ]
  },
  {
   "cell_type": "code",
   "execution_count": 125,
   "metadata": {},
   "outputs": [
    {
     "data": {
      "text/plain": [
       "\"omp_tripleSpiral.csv\""
      ]
     },
     "execution_count": 125,
     "metadata": {},
     "output_type": "execute_result"
    }
   ],
   "source": [
    "#OpenMP\n",
    "save_csv_results(omp_full, \"omp_full\")\n",
    "save_csv_results(omp_seahorse, \"omp_seahorse\")\n",
    "save_csv_results(omp_elephant, \"omp_elephant\")\n",
    "save_csv_results(omp_tripleSpiral, \"omp_tripleSpiral\")"
   ]
  },
  {
   "cell_type": "markdown",
   "metadata": {},
   "source": [
    "#### Importando .csv:"
   ]
  },
  {
   "cell_type": "code",
   "execution_count": 126,
   "metadata": {},
   "outputs": [
    {
     "data": {
      "text/plain": [
       "read_csv_results (generic function with 1 method)"
      ]
     },
     "execution_count": 126,
     "metadata": {},
     "output_type": "execute_result"
    }
   ],
   "source": [
    "function read_csv_results(filename)\n",
    "    return CSV.read(filename)\n",
    "end"
   ]
  },
  {
   "cell_type": "code",
   "execution_count": 127,
   "metadata": {},
   "outputs": [
    {
     "data": {
      "text/html": [
       "<table class=\"data-frame\"><thead><tr><th></th><th>threads</th><th>size</th><th>mean_duration</th><th>ci_duration</th></tr><tr><th></th><th>Int64</th><th>Int64</th><th>Float64</th><th>Float64</th></tr></thead><tbody><p>10 rows × 4 columns</p><tr><th>1</th><td>0</td><td>16</td><td>0.0003627</td><td>1.13931e-5</td></tr><tr><th>2</th><td>0</td><td>32</td><td>0.0014456</td><td>6.35059e-5</td></tr><tr><th>3</th><td>0</td><td>64</td><td>0.0058111</td><td>0.000296101</td></tr><tr><th>4</th><td>0</td><td>128</td><td>0.022827</td><td>0.00114868</td></tr><tr><th>5</th><td>0</td><td>256</td><td>0.0905581</td><td>0.000635128</td></tr><tr><th>6</th><td>0</td><td>512</td><td>0.361428</td><td>0.0014605</td></tr><tr><th>7</th><td>0</td><td>1024</td><td>1.44384</td><td>0.00198878</td></tr><tr><th>8</th><td>0</td><td>2048</td><td>5.78284</td><td>0.0298312</td></tr><tr><th>9</th><td>0</td><td>4096</td><td>23.1094</td><td>0.0484658</td></tr><tr><th>10</th><td>0</td><td>8192</td><td>92.389</td><td>0.0612936</td></tr></tbody></table>"
      ],
      "text/latex": [
       "\\begin{tabular}{r|cccc}\n",
       "\t& threads & size & mean\\_duration & ci\\_duration\\\\\n",
       "\t\\hline\n",
       "\t& Int64 & Int64 & Float64 & Float64\\\\\n",
       "\t\\hline\n",
       "\t1 & 0 & 16 & 0.0003627 & 1.13931e-5 \\\\\n",
       "\t2 & 0 & 32 & 0.0014456 & 6.35059e-5 \\\\\n",
       "\t3 & 0 & 64 & 0.0058111 & 0.000296101 \\\\\n",
       "\t4 & 0 & 128 & 0.022827 & 0.00114868 \\\\\n",
       "\t5 & 0 & 256 & 0.0905581 & 0.000635128 \\\\\n",
       "\t6 & 0 & 512 & 0.361428 & 0.0014605 \\\\\n",
       "\t7 & 0 & 1024 & 1.44384 & 0.00198878 \\\\\n",
       "\t8 & 0 & 2048 & 5.78284 & 0.0298312 \\\\\n",
       "\t9 & 0 & 4096 & 23.1094 & 0.0484658 \\\\\n",
       "\t10 & 0 & 8192 & 92.389 & 0.0612936 \\\\\n",
       "\\end{tabular}\n"
      ],
      "text/plain": [
       "10×4 DataFrame\n",
       "│ Row │ threads │ size  │ mean_duration │ ci_duration │\n",
       "│     │ \u001b[90mInt64\u001b[39m   │ \u001b[90mInt64\u001b[39m │ \u001b[90mFloat64\u001b[39m       │ \u001b[90mFloat64\u001b[39m     │\n",
       "├─────┼─────────┼───────┼───────────────┼─────────────┤\n",
       "│ 1   │ 0       │ 16    │ 0.0003627     │ 1.13931e-5  │\n",
       "│ 2   │ 0       │ 32    │ 0.0014456     │ 6.35059e-5  │\n",
       "│ 3   │ 0       │ 64    │ 0.0058111     │ 0.000296101 │\n",
       "│ 4   │ 0       │ 128   │ 0.022827      │ 0.00114868  │\n",
       "│ 5   │ 0       │ 256   │ 0.0905581     │ 0.000635128 │\n",
       "│ 6   │ 0       │ 512   │ 0.361428      │ 0.0014605   │\n",
       "│ 7   │ 0       │ 1024  │ 1.44384       │ 0.00198878  │\n",
       "│ 8   │ 0       │ 2048  │ 5.78284       │ 0.0298312   │\n",
       "│ 9   │ 0       │ 4096  │ 23.1094       │ 0.0484658   │\n",
       "│ 10  │ 0       │ 8192  │ 92.389        │ 0.0612936   │"
      ]
     },
     "execution_count": 127,
     "metadata": {},
     "output_type": "execute_result"
    }
   ],
   "source": [
    "#Sequencial\n",
    "seq_full = read_csv_results(\"seq_full.csv\")\n",
    "seq_seahorse = read_csv_results(\"seq_seahorse.csv\")\n",
    "seq_elephant = read_csv_results(\"seq_elephant.csv\")\n",
    "seq_tripleSpiral = read_csv_results(\"seq_tripleSpiral.csv\")"
   ]
  },
  {
   "cell_type": "code",
   "execution_count": 128,
   "metadata": {},
   "outputs": [
    {
     "data": {
      "text/html": [
       "<table class=\"data-frame\"><thead><tr><th></th><th>threads</th><th>size</th><th>mean_duration</th><th>ci_duration</th></tr><tr><th></th><th>Int64</th><th>Int64</th><th>Float64</th><th>Float64</th></tr></thead><tbody><p>60 rows × 4 columns</p><tr><th>1</th><td>1</td><td>16</td><td>0.0005551</td><td>2.55628e-5</td></tr><tr><th>2</th><td>1</td><td>32</td><td>0.0018794</td><td>0.000674058</td></tr><tr><th>3</th><td>1</td><td>64</td><td>0.0060527</td><td>0.000462175</td></tr><tr><th>4</th><td>1</td><td>128</td><td>0.0228469</td><td>0.000452017</td></tr><tr><th>5</th><td>1</td><td>256</td><td>0.0901165</td><td>0.00129533</td></tr><tr><th>6</th><td>1</td><td>512</td><td>0.358583</td><td>0.00103231</td></tr><tr><th>7</th><td>1</td><td>1024</td><td>1.43251</td><td>0.00157079</td></tr><tr><th>8</th><td>1</td><td>2048</td><td>5.72774</td><td>0.0038398</td></tr><tr><th>9</th><td>1</td><td>4096</td><td>22.913</td><td>0.0049492</td></tr><tr><th>10</th><td>1</td><td>8192</td><td>91.6348</td><td>0.0257623</td></tr><tr><th>11</th><td>2</td><td>16</td><td>0.0005884</td><td>4.36532e-5</td></tr><tr><th>12</th><td>2</td><td>32</td><td>0.00165</td><td>6.44254e-5</td></tr><tr><th>13</th><td>2</td><td>64</td><td>0.0058797</td><td>5.83046e-5</td></tr><tr><th>14</th><td>2</td><td>128</td><td>0.0227553</td><td>0.000265635</td></tr><tr><th>15</th><td>2</td><td>256</td><td>0.0921137</td><td>0.00638872</td></tr><tr><th>16</th><td>2</td><td>512</td><td>0.378082</td><td>0.0279588</td></tr><tr><th>17</th><td>2</td><td>1024</td><td>1.43466</td><td>0.00382319</td></tr><tr><th>18</th><td>2</td><td>2048</td><td>5.73159</td><td>0.00544243</td></tr><tr><th>19</th><td>2</td><td>4096</td><td>22.9251</td><td>0.00976727</td></tr><tr><th>20</th><td>2</td><td>8192</td><td>91.6922</td><td>0.0195863</td></tr><tr><th>21</th><td>4</td><td>16</td><td>0.0003909</td><td>7.98749e-5</td></tr><tr><th>22</th><td>4</td><td>32</td><td>0.0009292</td><td>6.09165e-5</td></tr><tr><th>23</th><td>4</td><td>64</td><td>0.0032396</td><td>5.17513e-5</td></tr><tr><th>24</th><td>4</td><td>128</td><td>0.0125186</td><td>9.27697e-5</td></tr><tr><th>25</th><td>4</td><td>256</td><td>0.0494697</td><td>0.000126244</td></tr><tr><th>26</th><td>4</td><td>512</td><td>0.197192</td><td>0.000426486</td></tr><tr><th>27</th><td>4</td><td>1024</td><td>0.788929</td><td>0.00578773</td></tr><tr><th>28</th><td>4</td><td>2048</td><td>3.15469</td><td>0.0121798</td></tr><tr><th>29</th><td>4</td><td>4096</td><td>12.5979</td><td>0.0153855</td></tr><tr><th>30</th><td>4</td><td>8192</td><td>50.4926</td><td>0.213873</td></tr><tr><th>&vellip;</th><td>&vellip;</td><td>&vellip;</td><td>&vellip;</td><td>&vellip;</td></tr></tbody></table>"
      ],
      "text/latex": [
       "\\begin{tabular}{r|cccc}\n",
       "\t& threads & size & mean\\_duration & ci\\_duration\\\\\n",
       "\t\\hline\n",
       "\t& Int64 & Int64 & Float64 & Float64\\\\\n",
       "\t\\hline\n",
       "\t1 & 1 & 16 & 0.0005551 & 2.55628e-5 \\\\\n",
       "\t2 & 1 & 32 & 0.0018794 & 0.000674058 \\\\\n",
       "\t3 & 1 & 64 & 0.0060527 & 0.000462175 \\\\\n",
       "\t4 & 1 & 128 & 0.0228469 & 0.000452017 \\\\\n",
       "\t5 & 1 & 256 & 0.0901165 & 0.00129533 \\\\\n",
       "\t6 & 1 & 512 & 0.358583 & 0.00103231 \\\\\n",
       "\t7 & 1 & 1024 & 1.43251 & 0.00157079 \\\\\n",
       "\t8 & 1 & 2048 & 5.72774 & 0.0038398 \\\\\n",
       "\t9 & 1 & 4096 & 22.913 & 0.0049492 \\\\\n",
       "\t10 & 1 & 8192 & 91.6348 & 0.0257623 \\\\\n",
       "\t11 & 2 & 16 & 0.0005884 & 4.36532e-5 \\\\\n",
       "\t12 & 2 & 32 & 0.00165 & 6.44254e-5 \\\\\n",
       "\t13 & 2 & 64 & 0.0058797 & 5.83046e-5 \\\\\n",
       "\t14 & 2 & 128 & 0.0227553 & 0.000265635 \\\\\n",
       "\t15 & 2 & 256 & 0.0921137 & 0.00638872 \\\\\n",
       "\t16 & 2 & 512 & 0.378082 & 0.0279588 \\\\\n",
       "\t17 & 2 & 1024 & 1.43466 & 0.00382319 \\\\\n",
       "\t18 & 2 & 2048 & 5.73159 & 0.00544243 \\\\\n",
       "\t19 & 2 & 4096 & 22.9251 & 0.00976727 \\\\\n",
       "\t20 & 2 & 8192 & 91.6922 & 0.0195863 \\\\\n",
       "\t21 & 4 & 16 & 0.0003909 & 7.98749e-5 \\\\\n",
       "\t22 & 4 & 32 & 0.0009292 & 6.09165e-5 \\\\\n",
       "\t23 & 4 & 64 & 0.0032396 & 5.17513e-5 \\\\\n",
       "\t24 & 4 & 128 & 0.0125186 & 9.27697e-5 \\\\\n",
       "\t25 & 4 & 256 & 0.0494697 & 0.000126244 \\\\\n",
       "\t26 & 4 & 512 & 0.197192 & 0.000426486 \\\\\n",
       "\t27 & 4 & 1024 & 0.788929 & 0.00578773 \\\\\n",
       "\t28 & 4 & 2048 & 3.15469 & 0.0121798 \\\\\n",
       "\t29 & 4 & 4096 & 12.5979 & 0.0153855 \\\\\n",
       "\t30 & 4 & 8192 & 50.4926 & 0.213873 \\\\\n",
       "\t$\\dots$ & $\\dots$ & $\\dots$ & $\\dots$ & $\\dots$ \\\\\n",
       "\\end{tabular}\n"
      ],
      "text/plain": [
       "60×4 DataFrame\n",
       "│ Row │ threads │ size  │ mean_duration │ ci_duration │\n",
       "│     │ \u001b[90mInt64\u001b[39m   │ \u001b[90mInt64\u001b[39m │ \u001b[90mFloat64\u001b[39m       │ \u001b[90mFloat64\u001b[39m     │\n",
       "├─────┼─────────┼───────┼───────────────┼─────────────┤\n",
       "│ 1   │ 1       │ 16    │ 0.0005551     │ 2.55628e-5  │\n",
       "│ 2   │ 1       │ 32    │ 0.0018794     │ 0.000674058 │\n",
       "│ 3   │ 1       │ 64    │ 0.0060527     │ 0.000462175 │\n",
       "│ 4   │ 1       │ 128   │ 0.0228469     │ 0.000452017 │\n",
       "│ 5   │ 1       │ 256   │ 0.0901165     │ 0.00129533  │\n",
       "│ 6   │ 1       │ 512   │ 0.358583      │ 0.00103231  │\n",
       "│ 7   │ 1       │ 1024  │ 1.43251       │ 0.00157079  │\n",
       "│ 8   │ 1       │ 2048  │ 5.72774       │ 0.0038398   │\n",
       "│ 9   │ 1       │ 4096  │ 22.913        │ 0.0049492   │\n",
       "│ 10  │ 1       │ 8192  │ 91.6348       │ 0.0257623   │\n",
       "⋮\n",
       "│ 50  │ 16      │ 8192  │ 35.3336       │ 0.196634    │\n",
       "│ 51  │ 32      │ 16    │ 0.0008307     │ 4.40218e-5  │\n",
       "│ 52  │ 32      │ 32    │ 0.0010605     │ 6.19204e-5  │\n",
       "│ 53  │ 32      │ 64    │ 0.0026158     │ 0.000228367 │\n",
       "│ 54  │ 32      │ 128   │ 0.008241      │ 0.000414592 │\n",
       "│ 55  │ 32      │ 256   │ 0.0308685     │ 0.00137575  │\n",
       "│ 56  │ 32      │ 512   │ 0.120244      │ 0.00276654  │\n",
       "│ 57  │ 32      │ 1024  │ 0.473346      │ 0.00260174  │\n",
       "│ 58  │ 32      │ 2048  │ 1.89716       │ 0.0237083   │\n",
       "│ 59  │ 32      │ 4096  │ 7.55163       │ 0.0121124   │\n",
       "│ 60  │ 32      │ 8192  │ 30.1958       │ 0.0332435   │"
      ]
     },
     "execution_count": 128,
     "metadata": {},
     "output_type": "execute_result"
    }
   ],
   "source": [
    "#Pthreads\n",
    "pth_full = read_csv_results(\"pth_full.csv\")\n",
    "pth_seahorse = read_csv_results(\"pth_seahorse.csv\")\n",
    "pth_elephant = read_csv_results(\"pth_elephant.csv\")\n",
    "pth_tripleSpiral = read_csv_results(\"pth_tripleSpiral.csv\")"
   ]
  },
  {
   "cell_type": "code",
   "execution_count": 129,
   "metadata": {},
   "outputs": [
    {
     "data": {
      "text/html": [
       "<table class=\"data-frame\"><thead><tr><th></th><th>threads</th><th>size</th><th>mean_duration</th><th>ci_duration</th></tr><tr><th></th><th>Int64</th><th>Int64</th><th>Float64</th><th>Float64</th></tr></thead><tbody><p>60 rows × 4 columns</p><tr><th>1</th><td>1</td><td>16</td><td>0.0004187</td><td>4.64653e-5</td></tr><tr><th>2</th><td>1</td><td>32</td><td>0.0014873</td><td>1.97313e-5</td></tr><tr><th>3</th><td>1</td><td>64</td><td>0.0059734</td><td>0.000459371</td></tr><tr><th>4</th><td>1</td><td>128</td><td>0.0229475</td><td>0.000252539</td></tr><tr><th>5</th><td>1</td><td>256</td><td>0.0913082</td><td>0.000478305</td></tr><tr><th>6</th><td>1</td><td>512</td><td>0.367429</td><td>0.0133693</td></tr><tr><th>7</th><td>1</td><td>1024</td><td>1.4761</td><td>0.0804898</td></tr><tr><th>8</th><td>1</td><td>2048</td><td>5.81183</td><td>0.005814</td></tr><tr><th>9</th><td>1</td><td>4096</td><td>23.2412</td><td>0.0223732</td></tr><tr><th>10</th><td>1</td><td>8192</td><td>93.0606</td><td>0.517063</td></tr><tr><th>11</th><td>2</td><td>16</td><td>0.0002765</td><td>8.27699e-6</td></tr><tr><th>12</th><td>2</td><td>32</td><td>0.0008233</td><td>1.02492e-5</td></tr><tr><th>13</th><td>2</td><td>64</td><td>0.0029921</td><td>1.00982e-5</td></tr><tr><th>14</th><td>2</td><td>128</td><td>0.0115793</td><td>6.28427e-5</td></tr><tr><th>15</th><td>2</td><td>256</td><td>0.0457532</td><td>6.6163e-5</td></tr><tr><th>16</th><td>2</td><td>512</td><td>0.182448</td><td>0.000717782</td></tr><tr><th>17</th><td>2</td><td>1024</td><td>0.727838</td><td>0.00246176</td></tr><tr><th>18</th><td>2</td><td>2048</td><td>2.90912</td><td>0.00465741</td></tr><tr><th>19</th><td>2</td><td>4096</td><td>11.6325</td><td>0.0114417</td></tr><tr><th>20</th><td>2</td><td>8192</td><td>46.537</td><td>0.140536</td></tr><tr><th>21</th><td>4</td><td>16</td><td>0.0002159</td><td>1.03074e-5</td></tr><tr><th>22</th><td>4</td><td>32</td><td>0.0005502</td><td>9.18392e-6</td></tr><tr><th>23</th><td>4</td><td>64</td><td>0.0018176</td><td>4.80296e-5</td></tr><tr><th>24</th><td>4</td><td>128</td><td>0.0067682</td><td>9.48923e-5</td></tr><tr><th>25</th><td>4</td><td>256</td><td>0.0266164</td><td>0.00133699</td></tr><tr><th>26</th><td>4</td><td>512</td><td>0.106457</td><td>0.00597806</td></tr><tr><th>27</th><td>4</td><td>1024</td><td>0.422075</td><td>0.00279182</td></tr><tr><th>28</th><td>4</td><td>2048</td><td>1.68764</td><td>0.0119638</td></tr><tr><th>29</th><td>4</td><td>4096</td><td>6.76023</td><td>0.044414</td></tr><tr><th>30</th><td>4</td><td>8192</td><td>26.9781</td><td>0.0682377</td></tr><tr><th>&vellip;</th><td>&vellip;</td><td>&vellip;</td><td>&vellip;</td><td>&vellip;</td></tr></tbody></table>"
      ],
      "text/latex": [
       "\\begin{tabular}{r|cccc}\n",
       "\t& threads & size & mean\\_duration & ci\\_duration\\\\\n",
       "\t\\hline\n",
       "\t& Int64 & Int64 & Float64 & Float64\\\\\n",
       "\t\\hline\n",
       "\t1 & 1 & 16 & 0.0004187 & 4.64653e-5 \\\\\n",
       "\t2 & 1 & 32 & 0.0014873 & 1.97313e-5 \\\\\n",
       "\t3 & 1 & 64 & 0.0059734 & 0.000459371 \\\\\n",
       "\t4 & 1 & 128 & 0.0229475 & 0.000252539 \\\\\n",
       "\t5 & 1 & 256 & 0.0913082 & 0.000478305 \\\\\n",
       "\t6 & 1 & 512 & 0.367429 & 0.0133693 \\\\\n",
       "\t7 & 1 & 1024 & 1.4761 & 0.0804898 \\\\\n",
       "\t8 & 1 & 2048 & 5.81183 & 0.005814 \\\\\n",
       "\t9 & 1 & 4096 & 23.2412 & 0.0223732 \\\\\n",
       "\t10 & 1 & 8192 & 93.0606 & 0.517063 \\\\\n",
       "\t11 & 2 & 16 & 0.0002765 & 8.27699e-6 \\\\\n",
       "\t12 & 2 & 32 & 0.0008233 & 1.02492e-5 \\\\\n",
       "\t13 & 2 & 64 & 0.0029921 & 1.00982e-5 \\\\\n",
       "\t14 & 2 & 128 & 0.0115793 & 6.28427e-5 \\\\\n",
       "\t15 & 2 & 256 & 0.0457532 & 6.6163e-5 \\\\\n",
       "\t16 & 2 & 512 & 0.182448 & 0.000717782 \\\\\n",
       "\t17 & 2 & 1024 & 0.727838 & 0.00246176 \\\\\n",
       "\t18 & 2 & 2048 & 2.90912 & 0.00465741 \\\\\n",
       "\t19 & 2 & 4096 & 11.6325 & 0.0114417 \\\\\n",
       "\t20 & 2 & 8192 & 46.537 & 0.140536 \\\\\n",
       "\t21 & 4 & 16 & 0.0002159 & 1.03074e-5 \\\\\n",
       "\t22 & 4 & 32 & 0.0005502 & 9.18392e-6 \\\\\n",
       "\t23 & 4 & 64 & 0.0018176 & 4.80296e-5 \\\\\n",
       "\t24 & 4 & 128 & 0.0067682 & 9.48923e-5 \\\\\n",
       "\t25 & 4 & 256 & 0.0266164 & 0.00133699 \\\\\n",
       "\t26 & 4 & 512 & 0.106457 & 0.00597806 \\\\\n",
       "\t27 & 4 & 1024 & 0.422075 & 0.00279182 \\\\\n",
       "\t28 & 4 & 2048 & 1.68764 & 0.0119638 \\\\\n",
       "\t29 & 4 & 4096 & 6.76023 & 0.044414 \\\\\n",
       "\t30 & 4 & 8192 & 26.9781 & 0.0682377 \\\\\n",
       "\t$\\dots$ & $\\dots$ & $\\dots$ & $\\dots$ & $\\dots$ \\\\\n",
       "\\end{tabular}\n"
      ],
      "text/plain": [
       "60×4 DataFrame\n",
       "│ Row │ threads │ size  │ mean_duration │ ci_duration │\n",
       "│     │ \u001b[90mInt64\u001b[39m   │ \u001b[90mInt64\u001b[39m │ \u001b[90mFloat64\u001b[39m       │ \u001b[90mFloat64\u001b[39m     │\n",
       "├─────┼─────────┼───────┼───────────────┼─────────────┤\n",
       "│ 1   │ 1       │ 16    │ 0.0004187     │ 4.64653e-5  │\n",
       "│ 2   │ 1       │ 32    │ 0.0014873     │ 1.97313e-5  │\n",
       "│ 3   │ 1       │ 64    │ 0.0059734     │ 0.000459371 │\n",
       "│ 4   │ 1       │ 128   │ 0.0229475     │ 0.000252539 │\n",
       "│ 5   │ 1       │ 256   │ 0.0913082     │ 0.000478305 │\n",
       "│ 6   │ 1       │ 512   │ 0.367429      │ 0.0133693   │\n",
       "│ 7   │ 1       │ 1024  │ 1.4761        │ 0.0804898   │\n",
       "│ 8   │ 1       │ 2048  │ 5.81183       │ 0.005814    │\n",
       "│ 9   │ 1       │ 4096  │ 23.2412       │ 0.0223732   │\n",
       "│ 10  │ 1       │ 8192  │ 93.0606       │ 0.517063    │\n",
       "⋮\n",
       "│ 50  │ 16      │ 8192  │ 28.1828       │ 0.0351037   │\n",
       "│ 51  │ 32      │ 16    │ 0.0008034     │ 4.1053e-5   │\n",
       "│ 52  │ 32      │ 32    │ 0.0011089     │ 7.18931e-5  │\n",
       "│ 53  │ 32      │ 64    │ 0.0024411     │ 0.000325173 │\n",
       "│ 54  │ 32      │ 128   │ 0.0073805     │ 0.00015208  │\n",
       "│ 55  │ 32      │ 256   │ 0.0273475     │ 0.000853119 │\n",
       "│ 56  │ 32      │ 512   │ 0.10917       │ 0.00691513  │\n",
       "│ 57  │ 32      │ 1024  │ 0.441167      │ 0.0121982   │\n",
       "│ 58  │ 32      │ 2048  │ 1.77401       │ 0.0210278   │\n",
       "│ 59  │ 32      │ 4096  │ 7.09882       │ 0.0223834   │\n",
       "│ 60  │ 32      │ 8192  │ 28.4654       │ 0.310417    │"
      ]
     },
     "execution_count": 129,
     "metadata": {},
     "output_type": "execute_result"
    }
   ],
   "source": [
    "#OpenMP\n",
    "omp_full = read_csv_results(\"omp_full.csv\")\n",
    "omp_seahorse = read_csv_results(\"omp_seahorse.csv\")\n",
    "omp_elephant = read_csv_results(\"omp_elephant.csv\")\n",
    "omp_tripleSpiral = read_csv_results(\"omp_tripleSpiral.csv\")"
   ]
  },
  {
   "cell_type": "markdown",
   "metadata": {},
   "source": [
    "## Gráficos:"
   ]
  },
  {
   "cell_type": "markdown",
   "metadata": {},
   "source": [
    "Função para gerar os gráficos:"
   ]
  },
  {
   "cell_type": "code",
   "execution_count": 131,
   "metadata": {},
   "outputs": [
    {
     "data": {
      "text/plain": [
       "plot_results (generic function with 1 method)"
      ]
     },
     "execution_count": 131,
     "metadata": {},
     "output_type": "execute_result"
    }
   ],
   "source": [
    "\n",
    "function plot_results(x, y1, series_label1, yerror1;\n",
    "                        y2 = [], series_label2 = [], yerror2 = [],\n",
    "                        y3 = [], series_label3 = [], yerror3 = [],\n",
    "                        y4 = [], series_label4 = [], yerror4 = [])   \n",
    "    p = scatter(x,        \n",
    "            y1,\n",
    "            yerror = yerror1,\n",
    "            alpha = 0.6,\n",
    "            labels = series_label1,\n",
    "            xlabel = \"threads\",\n",
    "            color = \"red\",\n",
    "            legend = :topleft)\n",
    "    \n",
    "    if y2 != []\n",
    "        p = scatter(x,        \n",
    "            y2,\n",
    "            yerror = yerror2,\n",
    "            alpha = 0.6,\n",
    "            labels = series_label2,\n",
    "            color = \"blue\",\n",
    "            legend = :topleft)\n",
    "    end\n",
    "    if y3 != []\n",
    "        p = scatter(x,        \n",
    "            y3,\n",
    "            yerror = yerror3,\n",
    "            alpha = 0.6,\n",
    "            labels = series_label3,\n",
    "            color = \"green\",\n",
    "            legend = :topleft)\n",
    "    end\n",
    "    if y4 != []\n",
    "        p = scatter(x,        \n",
    "            y4,\n",
    "            yerror = yerror4,\n",
    "            alpha = 0.6,\n",
    "            labels = series_label4,\n",
    "            color = \"yellow\",\n",
    "            legend = :topleft)\n",
    "    end\n",
    "    return p\n",
    "end\n"
   ]
  },
  {
   "cell_type": "code",
   "execution_count": null,
   "metadata": {},
   "outputs": [],
   "source": [
    "#Sequencial\n",
    "plot_results()"
   ]
  },
  {
   "cell_type": "code",
   "execution_count": null,
   "metadata": {},
   "outputs": [],
   "source": []
  }
 ],
 "metadata": {
  "kernelspec": {
   "display_name": "Julia 1.4.0",
   "language": "julia",
   "name": "julia-1.4"
  },
  "language_info": {
   "file_extension": ".jl",
   "mimetype": "application/julia",
   "name": "julia",
   "version": "1.4.1"
  }
 },
 "nbformat": 4,
 "nbformat_minor": 2
}
