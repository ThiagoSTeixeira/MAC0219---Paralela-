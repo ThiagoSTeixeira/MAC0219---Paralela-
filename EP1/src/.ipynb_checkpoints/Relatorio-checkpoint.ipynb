{
 "cells": [
  {
   "cell_type": "markdown",
   "metadata": {},
   "source": [
    "# EP1 - Mandelbrot set\n",
    "###### Notebook baseado no dos miniEPs\n",
    "\n",
    "Preencha o nome dos 5 membros do seu grupo na tabela abaixo:\n",
    "\n",
    "| Nome | NUSP |\n",
    "|------|------|\n",
    "| Caio Andrade | 9797232 |\n",
    "| Caio Fontes | 10692061 |\n",
    "| Eduardo Laurentino | 8988212 |\n",
    "| Thiago Teixeira | 10736987 |\n",
    "| Washington Meireles | 10737157 |"
   ]
  },
  {
   "cell_type": "code",
   "execution_count": null,
   "metadata": {},
   "outputs": [],
   "source": [
    "] up"
   ]
  },
  {
   "cell_type": "code",
   "execution_count": null,
   "metadata": {},
   "outputs": [],
   "source": [
    "] st"
   ]
  },
  {
   "cell_type": "markdown",
   "metadata": {},
   "source": [
    "## Tarefa 3 - Apresentação dos resultados\n",
    "\n",
    "### Funções para compilar/Rodar os testes:"
   ]
  },
  {
   "cell_type": "code",
   "execution_count": null,
   "metadata": {},
   "outputs": [],
   "source": [
    ";make "
   ]
  },
  {
   "cell_type": "code",
   "execution_count": null,
   "metadata": {},
   "outputs": [],
   "source": [
    ";./mandelbrot_seq"
   ]
  },
  {
   "cell_type": "code",
   "execution_count": null,
   "metadata": {},
   "outputs": [],
   "source": [
    "; ./mandelbrot_seq 0.175 0.375 -0.1 0.1 200 0"
   ]
  },
  {
   "cell_type": "code",
   "execution_count": null,
   "metadata": {},
   "outputs": [],
   "source": [
    ";./mandelbrot_pth"
   ]
  },
  {
   "cell_type": "code",
   "execution_count": null,
   "metadata": {},
   "outputs": [],
   "source": [
    ";./mandelbrot_omp"
   ]
  },
  {
   "cell_type": "code",
   "execution_count": null,
   "metadata": {},
   "outputs": [],
   "source": [
    "using DataFrames, Query, StatsPlots, Statistics\n",
    "\n",
    "function measure_mandelbrot(size, f, typ; thread = 0)\n",
    "    if f==0 par = `-2.5 1.5 -2.0 2.0` #Full Picture\n",
    "    elseif f==1 par = `-0.8 -0.7 0.05 0.15` #Seahorse Valley\n",
    "    elseif f==2 par = `0.175 0.375 -0.1 0.1` #Elephant Valley\n",
    "    elseif f==3 par = `-0.188 -0.012 0.554 0.754` #Triple Spiral Valley\n",
    "    end                \n",
    "    if thread == 0 \n",
    "        results = parse.(Float64,\n",
    "            chomp(read(`./$typ $par $size`, String)))\n",
    "    else\n",
    "        results = parse.(Float64,\n",
    "            chomp(read(`./$typ $par $size $thread`, String)))\n",
    "    end\n",
    "        \n",
    "    return DataFrame(size = size,\n",
    "        f = f,\n",
    "        threads = thread,\n",
    "        duration = results[1])\n",
    "end"
   ]
  },
  {
   "cell_type": "markdown",
   "metadata": {},
   "source": [
    "A função `run_experiments` recebe os mesmos parâmetros `size`, `f`, `method` e `threads`, e um parâmetro adicional `repetitions`, com o número de repetições de cada experimento com um dado número de `threads`. A função devolve um `DataFrame` com todos os experimentos."
   ]
  },
  {
   "cell_type": "code",
   "execution_count": null,
   "metadata": {},
   "outputs": [],
   "source": [
    "function run_experiments(size, f, method, repetitions; threads = [])\n",
    "    run(`make $method`)\n",
    "    \n",
    "    results = DataFrame(size = Int[],\n",
    "        f = Int[],\n",
    "        threads = Int[],\n",
    "        duration = Float64[])  \n",
    "    \n",
    "    if threads == []\n",
    "        for r in 1:repetitions\n",
    "            for s in size\n",
    "                append!(results,\n",
    "                    measure_mandelbrot(s, f, method))    \n",
    "            end\n",
    "        end\n",
    "    else\n",
    "        for t in threads\n",
    "            for s in size\n",
    "                for r in 1:repetitions\n",
    "                    append!(results,\n",
    "                        measure_mandelbrot(s, f, method, thread = t))\n",
    "                    end\n",
    "                end\n",
    "            end\n",
    "        end\n",
    "    return results\n",
    "end"
   ]
  },
  {
   "cell_type": "markdown",
   "metadata": {},
   "source": [
    "A função `parse_results` recebe um `DataFrame` de resultados, produzido pela função `run_experiments`. A função devolve um `DataFrame` com a média e o intervalo de confiança da média a 95% das estimativas e dos tempos de execução, agrupados por número de threads."
   ]
  },
  {
   "cell_type": "code",
   "execution_count": null,
   "metadata": {},
   "outputs": [],
   "source": [
    "function parse_results(results)\n",
    "    parsed_results = results |>\n",
    "                    @groupby({_.threads,_.size}) |>\n",
    "                    @map({threads = key(_).threads,\n",
    "                          size = _.size[1],\n",
    "                          mean_duration = mean(_.duration),\n",
    "                          ci_duration = 1.96 * std(_.duration)}) |>\n",
    "                    DataFrame\n",
    "    \n",
    "    return parsed_results\n",
    "end"
   ]
  },
  {
   "cell_type": "markdown",
   "metadata": {},
   "source": [
    "### Geração de gráficos:"
   ]
  },
  {
   "cell_type": "code",
   "execution_count": null,
   "metadata": {},
   "outputs": [],
   "source": [
    "\n",
    "function plot_results(x, y1, series_label1, yerror1;\n",
    "                        y2 = [], series_label2 = [], yerror2 = [],\n",
    "                        y3 = [], series_label3 = [], yerror3 = [],\n",
    "                        y4 = [], series_label4 = [], yerror4 = [],\n",
    "                        y5 = [], series_label5 = [], yerror5 = [])   \n",
    "    p = scatter(x,        \n",
    "            y1,\n",
    "            yerror = yerror1,\n",
    "            alpha = 0.6,\n",
    "            labels = series_label1,\n",
    "            xlabel = \"threads\",\n",
    "            legend = :topleft)\n",
    "    \n",
    "    if y2 != []\n",
    "        p = scatter(x,        \n",
    "            y2,\n",
    "            yerror = yerror2,\n",
    "            alpha = 0.6,\n",
    "            labels = series_label2,\n",
    "            legend = :topleft)\n",
    "    end\n",
    "    if y3 != []\n",
    "        p = scatter(x,        \n",
    "            y3,\n",
    "            yerror = yerror3,\n",
    "            alpha = 0.6,\n",
    "            labels = series_label3,\n",
    "            legend = :topleft)\n",
    "    end\n",
    "    if y4 != []\n",
    "        p = scatter(x,        \n",
    "            y4,\n",
    "            yerror = yerror4,\n",
    "            alpha = 0.6,\n",
    "            labels = series_label4,\n",
    "            legend = :topleft)\n",
    "    end\n",
    "    if y5 != []\n",
    "        p = scatter(x,        \n",
    "            y5,\n",
    "            yerror = yerror5,\n",
    "            alpha = 0.6,\n",
    "            labels = series_label5,\n",
    "            legend = :topleft)\n",
    "    end\n",
    "    return p\n",
    "end\n"
   ]
  },
  {
   "cell_type": "markdown",
   "metadata": {},
   "source": [
    "## Realizando os experimentos:"
   ]
  },
  {
   "cell_type": "markdown",
   "metadata": {},
   "source": [
    "### DataFrames:"
   ]
  },
  {
   "cell_type": "markdown",
   "metadata": {},
   "source": [
    "Parametros a serem utilizados(usamos os mesmos do script `run_measurements.sh`):"
   ]
  },
  {
   "cell_type": "code",
   "execution_count": null,
   "metadata": {},
   "outputs": [],
   "source": [
    "size = [2 ^ i for i in 4:13] #resolucao\n",
    "thread = [2 ^ i for i in 0:5]\n",
    "repetitions = 10;"
   ]
  },
  {
   "cell_type": "markdown",
   "metadata": {},
   "source": [
    "#### Sequencial:"
   ]
  },
  {
   "cell_type": "code",
   "execution_count": null,
   "metadata": {},
   "outputs": [],
   "source": [
    "fileName = \"mandelbrot_seq\""
   ]
  },
  {
   "cell_type": "code",
   "execution_count": null,
   "metadata": {},
   "outputs": [],
   "source": [
    "#Full picture\n",
    "results = run_experiments(size, 0, fileName, repetitions)\n",
    "seq_full = parse_results(results)"
   ]
  },
  {
   "cell_type": "code",
   "execution_count": null,
   "metadata": {},
   "outputs": [],
   "source": [
    "#Seahorse valley\n",
    "results = run_experiments(size, 1, fileName , repetitions)\n",
    "seq_seahorse = parse_results(results)"
   ]
  },
  {
   "cell_type": "code",
   "execution_count": null,
   "metadata": {},
   "outputs": [],
   "source": [
    "#Elephant valley\n",
    "results = run_experiments(size, 2, fileName, repetitions)\n",
    "seq_elephant = parse_results(results)"
   ]
  },
  {
   "cell_type": "code",
   "execution_count": null,
   "metadata": {},
   "outputs": [],
   "source": [
    "#Triple spiral\n",
    "results = run_experiments(size, 3, fileName, repetitions)\n",
    "seq_tripleSpiral = parse_results(results)"
   ]
  },
  {
   "cell_type": "markdown",
   "metadata": {},
   "source": [
    "#### PThreads:"
   ]
  },
  {
   "cell_type": "code",
   "execution_count": null,
   "metadata": {},
   "outputs": [],
   "source": [
    "fileName = \"mandelbrot_pth\""
   ]
  },
  {
   "cell_type": "code",
   "execution_count": null,
   "metadata": {},
   "outputs": [],
   "source": [
    "#Full picture\n",
    "results = run_experiments(size, 0, fileName, repetitions, threads=thread)\n",
    "pth_full = parse_results(results)"
   ]
  },
  {
   "cell_type": "code",
   "execution_count": null,
   "metadata": {},
   "outputs": [],
   "source": [
    "#Seahorse valley\n",
    "results = run_experiments(size, 1, fileName, repetitions, threads=thread)\n",
    "pth_seahorse = parse_results(results)"
   ]
  },
  {
   "cell_type": "code",
   "execution_count": null,
   "metadata": {},
   "outputs": [],
   "source": [
    "#Elephant valley\n",
    "results = run_experiments(size, 2, fileName, repetitions, threads=thread)\n",
    "pth_elephant = parse_results(results)"
   ]
  },
  {
   "cell_type": "code",
   "execution_count": null,
   "metadata": {},
   "outputs": [],
   "source": [
    "#Triple spiral\n",
    "results = run_experiments(size, 3, fileName, repetitions, threads=thread)\n",
    "pth_tripleSpiral = parse_results(results)"
   ]
  },
  {
   "cell_type": "markdown",
   "metadata": {},
   "source": [
    "#### OpenMP:"
   ]
  },
  {
   "cell_type": "code",
   "execution_count": null,
   "metadata": {},
   "outputs": [],
   "source": [
    "fileName = \"mandelbrot_omp\""
   ]
  },
  {
   "cell_type": "code",
   "execution_count": null,
   "metadata": {},
   "outputs": [],
   "source": [
    "#Full picture\n",
    "results = run_experiments(size, 0, fileName, repetitions, threads=thread)\n",
    "omp_full = parse_results(results)"
   ]
  },
  {
   "cell_type": "code",
   "execution_count": null,
   "metadata": {},
   "outputs": [],
   "source": [
    "#Seahores Valley\n",
    "results = run_experiments(size, 1, fileName, repetitions, threads=thread)\n",
    "omp_seahorse = parse_results(results)"
   ]
  },
  {
   "cell_type": "code",
   "execution_count": null,
   "metadata": {},
   "outputs": [],
   "source": [
    "#Elephant Valley\n",
    "results = run_experiments(size, 2, fileName, repetitions, threads=thread)\n",
    "omp_elephant = parse_results(results)"
   ]
  },
  {
   "cell_type": "code",
   "execution_count": null,
   "metadata": {},
   "outputs": [],
   "source": [
    "#Triple spiral\n",
    "results = run_experiments(size, 3, fileName, repetitions, threads=thread)\n",
    "omp_tripleSpiral = parse_results(results)"
   ]
  },
  {
   "cell_type": "markdown",
   "metadata": {},
   "source": [
    "#### Salvando em .csv:"
   ]
  },
  {
   "cell_type": "code",
   "execution_count": null,
   "metadata": {},
   "outputs": [],
   "source": [
    "using CSV\n",
    "function save_csv_results(parsed_results, name)\n",
    "    CSV.write(string(\"/dataBases\", name, \".csv\"), parsed_results)\n",
    "end"
   ]
  },
  {
   "cell_type": "code",
   "execution_count": null,
   "metadata": {},
   "outputs": [],
   "source": [
    "#Sequencial\n",
    "save_csv_results(seq_full, \"seq_full\")\n",
    "save_csv_results(seq_seahorse, \"seq_seahorse\")\n",
    "save_csv_results(seq_elephant, \"seq_elephant\")\n",
    "save_csv_results(seq_tripleSpiral, \"seq_tripleSpiral\")"
   ]
  },
  {
   "cell_type": "code",
   "execution_count": null,
   "metadata": {},
   "outputs": [],
   "source": [
    "#Pthreads\n",
    "save_csv_results(pth_full, \"pth_full\")\n",
    "save_csv_results(pth_seahorse, \"pth_seahorse\")\n",
    "save_csv_results(pth_elephant, \"pth_elephant\")\n",
    "save_csv_results(pth_tripleSpiral, \"pth_tripleSpiral\")"
   ]
  },
  {
   "cell_type": "code",
   "execution_count": null,
   "metadata": {},
   "outputs": [],
   "source": [
    "#OpenMP\n",
    "save_csv_results(omp_full, \"omp_full\")\n",
    "save_csv_results(omp_seahorse, \"omp_seahorse\")\n",
    "save_csv_results(omp_elephant, \"omp_elephant\")\n",
    "save_csv_results(omp_tripleSpiral, \"omp_tripleSpiral\")"
   ]
  },
  {
   "cell_type": "markdown",
   "metadata": {},
   "source": [
    "## Gráficos:"
   ]
  },
  {
   "cell_type": "code",
   "execution_count": null,
   "metadata": {},
   "outputs": [],
   "source": []
  },
  {
   "cell_type": "code",
   "execution_count": null,
   "metadata": {},
   "outputs": [],
   "source": []
  }
 ],
 "metadata": {
  "kernelspec": {
   "display_name": "Julia 1.4.0",
   "language": "julia",
   "name": "julia-1.4"
  },
  "language_info": {
   "file_extension": ".jl",
   "mimetype": "application/julia",
   "name": "julia",
   "version": "1.4.1"
  }
 },
 "nbformat": 4,
 "nbformat_minor": 2
}
