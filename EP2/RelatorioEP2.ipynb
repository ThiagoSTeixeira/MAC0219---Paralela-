{
 "cells": [
  {
   "cell_type": "markdown",
   "metadata": {},
   "source": [
    "# MAC0219 - Programação Concorrente, Paralela e Distribuída\n",
    "# EP2: CUDA & OpenMPI\n",
    "\n",
    "\n",
    "| Nome | NUSP |\n",
    "|------|------|\n",
    "| Caio Andrade | 9797232 |\n",
    "| Caio Fontes | 10692061 |\n",
    "| Eduardo Laurentino | 8988212 |\n",
    "| Thiago Teixeira | 10736987 |\n",
    "| Washington Meireles | 10737157 |"
   ]
  },
  {
   "cell_type": "markdown",
   "metadata": {},
   "source": [
    "Neste relatório, vamos explicar...\n",
    "\n",
    "Lorem Ipsum is simply dummy text of the printing and typesetting industry. Lorem Ipsum has been the industry's standard dummy text ever since the 1500s, when an unknown printer took a galley of type and scrambled it to make a type specimen book. It has survived not only five centuries, but also the leap into electronic typesetting, remaining essentially unchanged. It was popularised in the 1960s with the release of Letraset sheets containing Lorem Ipsum passages, and more recently with desktop publishing software like Aldus PageMaker including versions of Lorem Ipsum."
   ]
  },
  {
   "cell_type": "code",
   "execution_count": 1,
   "metadata": {},
   "outputs": [],
   "source": [
    "using DataFrames, Query, StatsPlots, Statistics, CSV"
   ]
  },
  {
   "cell_type": "code",
   "execution_count": 2,
   "metadata": {},
   "outputs": [
    {
     "data": {
      "text/plain": [
       "parse_results (generic function with 1 method)"
      ]
     },
     "execution_count": 2,
     "metadata": {},
     "output_type": "execute_result"
    }
   ],
   "source": [
    "function parse_results(results, par)\n",
    "    if par == \"processes\"\n",
    "        parsed_results = results |>\n",
    "                        @groupby({_.processes,}) |>\n",
    "                        @map({processes = key(_).processes,\n",
    "                              mean_duration = mean(_.duration),\n",
    "                              ci_duration = 1.96 * std(_.duration)}) |>\n",
    "                        DataFrame\n",
    "    else\n",
    "            parsed_results = results |>\n",
    "                        @groupby({_.dimensions,}) |>\n",
    "                        @map({dimensions = key(_).dimensions,\n",
    "                              mean_duration = mean(_.duration),\n",
    "                              ci_duration = 1.96 * std(_.duration)}) |>\n",
    "                        DataFrame\n",
    "        end\n",
    "\n",
    "    return parsed_results\n",
    "end"
   ]
  },
  {
   "cell_type": "code",
   "execution_count": 3,
   "metadata": {},
   "outputs": [
    {
     "data": {
      "text/plain": [
       "save_csv_results (generic function with 1 method)"
      ]
     },
     "execution_count": 3,
     "metadata": {},
     "output_type": "execute_result"
    }
   ],
   "source": [
    "function save_csv_results(parsed_results, name)\n",
    "    CSV.write(string(name, \".csv\"), parsed_results)\n",
    "end"
   ]
  },
  {
   "cell_type": "code",
   "execution_count": 4,
   "metadata": {},
   "outputs": [
    {
     "data": {
      "text/plain": [
       "read_csv_results (generic function with 1 method)"
      ]
     },
     "execution_count": 4,
     "metadata": {},
     "output_type": "execute_result"
    }
   ],
   "source": [
    "function read_csv_results(filename)\n",
    "    return CSV.read(filename)\n",
    "end"
   ]
  },
  {
   "cell_type": "markdown",
   "metadata": {},
   "source": [
    "# 1. Implementação em CUDA"
   ]
  },
  {
   "cell_type": "markdown",
   "metadata": {},
   "source": [
    "A implementação em CUDA foi feita tendo como base a versão sequencial, a qual adaptamos para as necessidades da paralelização com computação heterogênea, como é o caso aqui. Nesse sentido, transformamos o método `void compute_mandelbrot()` num método global, pois é este o **Kernel** do programa - isto é, o programa que conecta o _Host_ (CPU) com o _Device_ (GPU). Além disso, deixamos os métodos que são utilizados somente durante o processamento dos pixels (à saber, `int mandelbrot()` e `void update_rgb_buffer()` como exclusivas para o _device_. O restante das conexões entre as duas camadas de memória, do _Host_ e do _Device_ , foi feito manipulando adequadamente a alocação e tráfego de memória quando necessário. \n",
    "\n",
    "A divisão de tarefas é feita de maneira estática à partir das dimensões dos _Blocos_ e do _Grid_ no qual estes estão inseridos. Para que pudessemos determinar experimentalmente os melhores valores para essas dimensões, o programa solicita como argumento (além das coordenadas da região do conjunto e o tamanho da imagem) as dimensões $(x, y)$ dos blocos. A partir desses valores, determina-se também as dimensões do _Grid_ de forma a garantir que a divisão das tarefas contemple toda a imagem a ser gerada. No caso da nossa implementação, isso significa atribuir ao _Grid_ dimensões $(\\frac{image\\_size}{x}, \\frac{image\\_size}{y})$. \n",
    "\n",
    "Dessa forma, fica estabelecido que cada pixel $(i_x, i_y)$ da imagem será tratado por uma _thread_ de identidade determinada pela sua posição num determinado bloco do grid de acordo com as especificações abaixo:\n",
    "\n",
    "$$\n",
    "i_x = blockIdx.x*blockDim.x+threadIdx.x \\\\\n",
    "i_y = blockIdx.y*blockDim.y+threadIdx.y\n",
    "$$\n",
    "\n",
    "É importante observar uma condição de execução importante relativa a essa implementação: devemos ter, necessariamente, $x * y \\leq 1024$, pois ao determinarmos as dimensões dos blocos como sendo $(x, y)$, isso significa que a quantidade de _threads_ em cada bloco é igual a $x * y$.O limite de $1024$ _threads_ por bloco é uma condição própria do desenvolvimento em CUDA."
   ]
  },
  {
   "cell_type": "markdown",
   "metadata": {},
   "source": [
    "Compilação:"
   ]
  },
  {
   "cell_type": "code",
   "execution_count": 5,
   "metadata": {
    "scrolled": true
   },
   "outputs": [
    {
     "name": "stdout",
     "output_type": "stream",
     "text": [
      "nvcc -o mandelbrot_cuda -gencode arch=compute_50,code=[sm_50,compute_50] -Wno-deprecated-gpu-targets src/mandelbrot_cuda.cu\n"
     ]
    },
    {
     "name": "stderr",
     "output_type": "stream",
     "text": [
      "/bin/sh: nvcc: command not found\n",
      "make: *** [mandelbrot_cuda] Error 127\n"
     ]
    }
   ],
   "source": [
    ";make mandelbrot_cuda"
   ]
  },
  {
   "cell_type": "markdown",
   "metadata": {},
   "source": [
    "## 1.1 Experimentos com CUDA"
   ]
  },
  {
   "cell_type": "markdown",
   "metadata": {},
   "source": [
    "Seguindo as instruções do enunciado, os experimentos foram feitos usando os seguintes parâmetros fixos: $15$ **repetições** da geração de uma imagem de **tamanho** $4096$ da região **Triple Spiral Valley**.\n",
    "\n",
    "Posto isso, o objetivo aqui é realizar experimentos para diferentes valores dos parâmetros $x$ e $y$, que determinam a dimensão dos blocos e do _grid_. Para tanto, determinamos uma região de interesse para esses parâmetros cujo principal critério de escolha foi a limitação de mantermos $x * y \\leq 1024$ conforme explicado anteriormente. Nesse sentido, decidimos começar com blocos de dimensao unica (isto é, uma única thread por bloco, implicando num grid com $image\\_size * image\\_size$ blocos) e irmos dobrando até $(32, 32)$, onde têm-se em cada bloco o limite de $1024$ threads e com _grid_ de dimensão $(128, 128)$. \n",
    "\n",
    "A **região de interesse** final, com a qual realizamos os experimentos, é:\n",
    "\n",
    "**Dimensões dos blocos:** $(1,1)$, $(2,2)$, $(4,4)$, $(8,8)$, $(16,16)$ e $(32,32)$ \n",
    "\n",
    "**Respectivas dimensoes do _grid_ :** $(4096, 4096)$, $(2048, 2048)$, $(1024, 1024)$, $(512, 512)$, $(256, 256)$ e $(128, 128)$ "
   ]
  },
  {
   "cell_type": "code",
   "execution_count": 6,
   "metadata": {},
   "outputs": [
    {
     "data": {
      "text/plain": [
       "5-element Array{Tuple{Int64,Int64},1}:\n",
       " (2, 2)\n",
       " (4, 4)\n",
       " (8, 8)\n",
       " (16, 16)\n",
       " (32, 32)"
      ]
     },
     "execution_count": 6,
     "metadata": {},
     "output_type": "execute_result"
    }
   ],
   "source": [
    "dimensions = [(2,2),(4,4),(8,8),(16,16),(32,32)]"
   ]
  },
  {
   "cell_type": "code",
   "execution_count": 7,
   "metadata": {},
   "outputs": [
    {
     "data": {
      "text/plain": [
       "mandelbrot_cuda (generic function with 1 method)"
      ]
     },
     "execution_count": 7,
     "metadata": {},
     "output_type": "execute_result"
    }
   ],
   "source": [
    "function mandelbrot_cuda(size, x, y)\n",
    "    \"\"\" Executa o cálculo do conjunto de Mandelbrot na região TripleSpiralValley\n",
    "        gerando uma imagem de tamanho _size_ fazendo uso da implementação\n",
    "        em CUDA com blocos de dimensao _(x, y)_ e grid de dimensao _(size/x, size/y)_\n",
    "    \"\"\"\n",
    "    time = parse.(Float64, chomp(read(`./mandelbrot -0.188 -0.012 0.554 0.754 $size $x $y`, String)))\n",
    "    return DataFrame(dimensions = string(x, \", \", y), duration = time)\n",
    "end"
   ]
  },
  {
   "cell_type": "code",
   "execution_count": 8,
   "metadata": {},
   "outputs": [
    {
     "data": {
      "text/plain": [
       "run_experiments_cuda (generic function with 3 methods)"
      ]
     },
     "execution_count": 8,
     "metadata": {},
     "output_type": "execute_result"
    }
   ],
   "source": [
    "function run_experiments_cuda(dimensions, size=4096, repetitions=15)\n",
    "    \"\"\" Obtem a duracao dos tempos de execução associado aos cálculos de\n",
    "        conjunto de Mandelbrot na região TripleSpiralValley à partir da versão \n",
    "        paralelizada em CUDA para imagens de tamanho _size_, com uma quantidade\n",
    "        igual a _repetitions_ de repetições para cada uma das dimensoes de bloco\n",
    "        (e, por consequencia, de grid) presentes em _dimensions_\n",
    "    \"\"\"\n",
    "    \n",
    "    results = DataFrame(dimensions = String[], duration = Float64[])    \n",
    "    \n",
    "    for x_y in dimensions\n",
    "        x, y = x_y\n",
    "        for i in 1:repetitions\n",
    "            append!(results, mandelbrot_cuda(size, x, y))    \n",
    "        end\n",
    "    end\n",
    "    \n",
    "    return results\n",
    "end"
   ]
  },
  {
   "cell_type": "code",
   "execution_count": 41,
   "metadata": {},
   "outputs": [
    {
     "ename": "Base.IOError",
     "evalue": "IOError: could not spawn `./mandelbrot -0.188 -0.012 0.554 0.754 512 2 2`: no such file or directory (ENOENT)",
     "output_type": "error",
     "traceback": [
      "IOError: could not spawn `./mandelbrot -0.188 -0.012 0.554 0.754 512 2 2`: no such file or directory (ENOENT)",
      "",
      "Stacktrace:",
      " [1] _spawn_primitive(::String, ::Cmd, ::Array{Any,1}) at ./process.jl:99",
      " [2] #550 at ./process.jl:112 [inlined]",
      " [3] setup_stdios(::Base.var\"#550#551\"{Cmd}, ::Array{Any,1}) at ./process.jl:196",
      " [4] _spawn at ./process.jl:111 [inlined]",
      " [5] open(::Cmd, ::Base.DevNull; write::Bool, read::Bool) at ./process.jl:370",
      " [6] open at ./process.jl:361 [inlined]",
      " [7] open(::Cmd, ::String, ::Base.DevNull) at ./process.jl:341",
      " [8] read(::Cmd) at ./process.jl:410",
      " [9] read(::Cmd, ::Type{String}) at ./process.jl:421",
      " [10] mandelbrot_cuda(::Int64, ::Int64, ::Int64) at ./In[7]:6",
      " [11] run_experiments_cuda(::Array{Tuple{Int64,Int64},1}, ::Int64, ::Int64) at ./In[8]:14",
      " [12] top-level scope at In[41]:1"
     ]
    }
   ],
   "source": [
    "results_cuda = run_experiments_cuda(dimensions, 512, 15)\n",
    "#save_csv_results(results_cuda, \"cuda_experiments\")"
   ]
  },
  {
   "cell_type": "code",
   "execution_count": 43,
   "metadata": {},
   "outputs": [
    {
     "name": "stderr",
     "output_type": "stream",
     "text": [
      "┌ Warning: `CSV.read(input; kw...)` is deprecated in favor of `DataFrame!(CSV.File(input; kw...))`\n",
      "└ @ CSV /Users/caioandrade/.julia/packages/CSV/W9RT2/src/CSV.jl:40\n"
     ]
    },
    {
     "data": {
      "text/html": [
       "<table class=\"data-frame\"><thead><tr><th></th><th>dimensions</th><th>mean_duration</th><th>ci_duration</th></tr><tr><th></th><th>String</th><th>Float64</th><th>Float64</th></tr></thead><tbody><p>5 rows × 3 columns</p><tr><th>1</th><td>2, 2</td><td>0.0248423</td><td>0.00222969</td></tr><tr><th>2</th><td>4, 4</td><td>0.0250052</td><td>0.00295183</td></tr><tr><th>3</th><td>8, 8</td><td>0.0248343</td><td>0.00108345</td></tr><tr><th>4</th><td>16, 16</td><td>0.0244791</td><td>0.00111605</td></tr><tr><th>5</th><td>32, 32</td><td>0.0243553</td><td>0.000819009</td></tr></tbody></table>"
      ],
      "text/latex": [
       "\\begin{tabular}{r|ccc}\n",
       "\t& dimensions & mean\\_duration & ci\\_duration\\\\\n",
       "\t\\hline\n",
       "\t& String & Float64 & Float64\\\\\n",
       "\t\\hline\n",
       "\t1 & 2, 2 & 0.0248423 & 0.00222969 \\\\\n",
       "\t2 & 4, 4 & 0.0250052 & 0.00295183 \\\\\n",
       "\t3 & 8, 8 & 0.0248343 & 0.00108345 \\\\\n",
       "\t4 & 16, 16 & 0.0244791 & 0.00111605 \\\\\n",
       "\t5 & 32, 32 & 0.0243553 & 0.000819009 \\\\\n",
       "\\end{tabular}\n"
      ],
      "text/plain": [
       "5×3 DataFrame\n",
       "│ Row │ dimensions │ mean_duration │ ci_duration │\n",
       "│     │ \u001b[90mString\u001b[39m     │ \u001b[90mFloat64\u001b[39m       │ \u001b[90mFloat64\u001b[39m     │\n",
       "├─────┼────────────┼───────────────┼─────────────┤\n",
       "│ 1   │ 2, 2       │ 0.0248423     │ 0.00222969  │\n",
       "│ 2   │ 4, 4       │ 0.0250052     │ 0.00295183  │\n",
       "│ 3   │ 8, 8       │ 0.0248343     │ 0.00108345  │\n",
       "│ 4   │ 16, 16     │ 0.0244791     │ 0.00111605  │\n",
       "│ 5   │ 32, 32     │ 0.0243553     │ 0.000819009 │"
      ]
     },
     "execution_count": 43,
     "metadata": {},
     "output_type": "execute_result"
    }
   ],
   "source": [
    "save_csv_results(results_cuda, \"cuda_experiments\")\n",
    "experiments_cuda = read_csv_results(\"cuda_experiments.csv\")\n",
    "final_results_cuda = parse_results(experiments_cuda, \"dimensions\")"
   ]
  },
  {
   "cell_type": "markdown",
   "metadata": {},
   "source": [
    "# 2. Implementação em OMPI"
   ]
  },
  {
   "cell_type": "markdown",
   "metadata": {},
   "source": [
    "A implementação em OMPI também teve como base a implementação sequencial do programa, que foi adequada para a paralelização através da troca de mensagens. Para este fim, a função `compute_mandelbrot` foi adaptada para receber parâmetros adicionais e uma função responsável por gerenciar a troca de mensagens - `compute_mandelbrot_ompi`- foi criada. Iremos explicar a implementação descrevendo o que é feito pelo processo principal (de rank 0, também chamado de `MASTER` no código) e pelos processos auxiliares.\n",
    "\n",
    "**Processo Principal:**\n",
    "\n",
    "No processo principal, primeiramente são inicializadas várias variáveis globais e os tipos de dados a serem utilizados pelas mensagens são definidos. Logo a seguir, o processo realiza a inicialização e os cálculos dos parametros a serem passados a cada outro processo para definir em que região da imagem ele irá trabalhar. \n",
    "\n",
    "A imagem é dividida em quadrantes com lado de tamanho $(image\\_size\\div\\sqrt{n})+ 1$ arredondado para um número inteiro, onde $n$ é o número de processos que realizam trabalho, o último processo sempre se torna responsável por toda a parte restante quando chega o momento de definir o seu trabalho, em situações normais isso equivale a apenas mais um quadrante. Se toda a imagem já tiver sido atribuída e ainda tivermos processos restantes eles não realizam nenhuma computação. O intuito dessa divisão é garantir que toda a imagem seja coberta com qualquer número de processos e para qualquer tamanho de imagem, mesmo que certa ineficiências ocorram na divisão.\n",
    "\n",
    "O processo principal então manda mensagens para todos os processos auxiliares com os valores que definem as coordenadas de começo e término da região que cada um deverá processar. Em seguida ele espera os processos terminarem a computação.\n",
    "\n",
    "O processo principal então recebe um vetor 1D com os valores de $x$,$y$ e $iterations$ para cada pixel, e uma variável `count` indicando o tamanho desse vetor. Depois de receber os resultados de todos processos o processo principal transfere os valores para a imagem determinado as cores correspondentes.\n",
    "\n",
    "**Processos Auxiliares**\n",
    "\n",
    "Os processos auxiliares realizam o mesmo processo de inicialização das variáveis globais e dos tipos de dados. Depois disso esperam, através da chamada `MPI_Recv` uma mensagem do processo principal definindo a sua região da imagem.\n",
    "\n",
    "Em outras palavras, fizemos uma divisão de trabalho entre processo principal e processos auxiliares de forma que o processo principal ficou encarregado de **gerenciar** o trabalho que cada processo auxiliar executa, ou seja, ele é encarregado de fazer a divisão de trabalho, inicializar variáveis e orquestrar o trabalho entre os processos auxiliares, **enviando** trechos da imagem que cada processo deverá calcular e **recebendo** o resultado, e consequentemente montando a imagem resultado. Os processos auxiliares simplesmente calculam como sua região da imagem deve ser colorida e enviam para o processo principal.\n",
    "\n",
    "Compilação:"
   ]
  },
  {
   "cell_type": "code",
   "execution_count": 11,
   "metadata": {},
   "outputs": [
    {
     "name": "stdout",
     "output_type": "stream",
     "text": [
      "mpicc -o mandelbrot_ompi -lm src/mandelbrot_ompi.c\n"
     ]
    },
    {
     "name": "stderr",
     "output_type": "stream",
     "text": [
      "make: mpicc: No such file or directory\n",
      "make: *** [mandelbrot_ompi] Error 1\n"
     ]
    }
   ],
   "source": [
    ";make mandelbrot_ompi"
   ]
  },
  {
   "cell_type": "markdown",
   "metadata": {},
   "source": [
    "## 2.1 Experimentos com OMPI"
   ]
  },
  {
   "cell_type": "markdown",
   "metadata": {},
   "source": [
    "Seguindo as instruções do enunciado, os experimentos foram feitos usando os seguintes parâmetros fixos: $15$ **repetições** da geração de uma imagem de **tamanho** $4096$ da região **Triple Spiral Valley**.\n",
    "\n",
    "O objetivo é determinar um número ideal $n$ de processos para a implementação através desses experimentos. Definimos a região de interesse conforme sugestão do enunciado, mas sempre tendo pelo menos um processo principal que coletasse os resultados, sendo assim a **região de interesse** com que realizamos os experimentos foi:\n",
    "\n",
    "**Número de Processos:** $2$,$3$,$5$,$9$,$17$,$33$,$65$\n"
   ]
  },
  {
   "cell_type": "code",
   "execution_count": 12,
   "metadata": {},
   "outputs": [
    {
     "data": {
      "text/plain": [
       "7-element Array{Int64,1}:\n",
       "  2\n",
       "  3\n",
       "  5\n",
       "  9\n",
       " 17\n",
       " 33\n",
       " 65"
      ]
     },
     "execution_count": 12,
     "metadata": {},
     "output_type": "execute_result"
    }
   ],
   "source": [
    "#definir regiao\n",
    "processes = [2,3,5,9,17,33,65]"
   ]
  },
  {
   "cell_type": "code",
   "execution_count": 13,
   "metadata": {
    "scrolled": true
   },
   "outputs": [
    {
     "data": {
      "text/plain": [
       "mandelbrot_ompi (generic function with 1 method)"
      ]
     },
     "execution_count": 13,
     "metadata": {},
     "output_type": "execute_result"
    }
   ],
   "source": [
    "#funcao pra rodar experimentos nessa regiao\n",
    "function mandelbrot_ompi(size,n_proc)\n",
    "    \"\"\" Executa o cálculo do conjunto de Mandelbrot na região TripleSpiralValley\n",
    "        gerando uma imagem de tamanho _size_ fazendo uso da implementação\n",
    "        em OMPI com _n_proc_ processos.\n",
    "    \"\"\"\n",
    "    time = parse.(Float64, chomp(read(`mpirun -np $n_proc --host localhost:$n_proc mandelbrot_ompi -0.188 -0.012 0.554 0.754 $size`, String)))\n",
    "    return DataFrame(processes = string(n_proc), duration = time)\n",
    "end"
   ]
  },
  {
   "cell_type": "code",
   "execution_count": 14,
   "metadata": {},
   "outputs": [
    {
     "data": {
      "text/plain": [
       "run_experiments_ompi (generic function with 3 methods)"
      ]
     },
     "execution_count": 14,
     "metadata": {},
     "output_type": "execute_result"
    }
   ],
   "source": [
    "#funcao pra rodar experimentos nessa regiao\n",
    "function run_experiments_ompi(process_range, size=4096, repetitions=15)\n",
    "    \"\"\" Obtem a duracao dos tempos de execução associado aos cálculos de\n",
    "        conjunto de Mandelbrot na região TripleSpiralValley à partir da versão \n",
    "        paralelizada em OMPI para imagens de tamanho _size_, com uma quantidade\n",
    "        igual a _repetitions_ de repetições para cada número de processos em\n",
    "        _process_range_\n",
    "    \"\"\"\n",
    "    \n",
    "    results = DataFrame(processes = String[], duration = Float64[])    \n",
    "    \n",
    "    for n in process_range\n",
    "        for i in 1:repetitions\n",
    "            append!(results, mandelbrot_ompi(size,n))    \n",
    "        end\n",
    "    end\n",
    "    \n",
    "    return results\n",
    "end"
   ]
  },
  {
   "cell_type": "code",
   "execution_count": 46,
   "metadata": {},
   "outputs": [
    {
     "ename": "Base.IOError",
     "evalue": "IOError: could not spawn `mpirun -np 2 --host localhost:2 mandelbrot_ompi -0.188 -0.012 0.554 0.754 4096`: no such file or directory (ENOENT)",
     "output_type": "error",
     "traceback": [
      "IOError: could not spawn `mpirun -np 2 --host localhost:2 mandelbrot_ompi -0.188 -0.012 0.554 0.754 4096`: no such file or directory (ENOENT)",
      "",
      "Stacktrace:",
      " [1] _spawn_primitive(::String, ::Cmd, ::Array{Any,1}) at ./process.jl:99",
      " [2] #550 at ./process.jl:112 [inlined]",
      " [3] setup_stdios(::Base.var\"#550#551\"{Cmd}, ::Array{Any,1}) at ./process.jl:196",
      " [4] _spawn at ./process.jl:111 [inlined]",
      " [5] open(::Cmd, ::Base.DevNull; write::Bool, read::Bool) at ./process.jl:370",
      " [6] open at ./process.jl:361 [inlined]",
      " [7] open(::Cmd, ::String, ::Base.DevNull) at ./process.jl:341",
      " [8] read(::Cmd) at ./process.jl:410",
      " [9] read(::Cmd, ::Type{String}) at ./process.jl:421",
      " [10] mandelbrot_ompi(::Int64, ::Int64) at ./In[13]:7",
      " [11] run_experiments_ompi(::Array{Int64,1}, ::Int64, ::Int64) at ./In[14]:14",
      " [12] run_experiments_ompi(::Array{Int64,1}) at ./In[14]:3",
      " [13] top-level scope at In[46]:1"
     ]
    }
   ],
   "source": [
    "#rodar os experimentos e salvar em csv\n",
    "\n",
    "results_ompi = run_experiments_ompi(processes) \n",
    "save_csv_results(results_ompi, \"ompi_experiments\")"
   ]
  },
  {
   "cell_type": "code",
   "execution_count": 16,
   "metadata": {},
   "outputs": [
    {
     "name": "stderr",
     "output_type": "stream",
     "text": [
      "┌ Warning: `CSV.read(input; kw...)` is deprecated in favor of `DataFrame!(CSV.File(input; kw...))`\n",
      "└ @ CSV /Users/caioandrade/.julia/packages/CSV/W9RT2/src/CSV.jl:40\n"
     ]
    },
    {
     "data": {
      "text/html": [
       "<table class=\"data-frame\"><thead><tr><th></th><th>processes</th><th>mean_duration</th><th>ci_duration</th></tr><tr><th></th><th>Int64</th><th>Float64</th><th>Float64</th></tr></thead><tbody><p>7 rows × 3 columns</p><tr><th>1</th><td>2</td><td>26.7508</td><td>0.215736</td></tr><tr><th>2</th><td>3</td><td>26.7096</td><td>0.198727</td></tr><tr><th>3</th><td>5</td><td>9.23427</td><td>0.192052</td></tr><tr><th>4</th><td>9</td><td>9.45713</td><td>0.452817</td></tr><tr><th>5</th><td>17</td><td>4.68719</td><td>0.367088</td></tr><tr><th>6</th><td>33</td><td>4.10299</td><td>0.438417</td></tr><tr><th>7</th><td>65</td><td>4.25879</td><td>0.279031</td></tr></tbody></table>"
      ],
      "text/latex": [
       "\\begin{tabular}{r|ccc}\n",
       "\t& processes & mean\\_duration & ci\\_duration\\\\\n",
       "\t\\hline\n",
       "\t& Int64 & Float64 & Float64\\\\\n",
       "\t\\hline\n",
       "\t1 & 2 & 26.7508 & 0.215736 \\\\\n",
       "\t2 & 3 & 26.7096 & 0.198727 \\\\\n",
       "\t3 & 5 & 9.23427 & 0.192052 \\\\\n",
       "\t4 & 9 & 9.45713 & 0.452817 \\\\\n",
       "\t5 & 17 & 4.68719 & 0.367088 \\\\\n",
       "\t6 & 33 & 4.10299 & 0.438417 \\\\\n",
       "\t7 & 65 & 4.25879 & 0.279031 \\\\\n",
       "\\end{tabular}\n"
      ],
      "text/plain": [
       "7×3 DataFrame\n",
       "│ Row │ processes │ mean_duration │ ci_duration │\n",
       "│     │ \u001b[90mInt64\u001b[39m     │ \u001b[90mFloat64\u001b[39m       │ \u001b[90mFloat64\u001b[39m     │\n",
       "├─────┼───────────┼───────────────┼─────────────┤\n",
       "│ 1   │ 2         │ 26.7508       │ 0.215736    │\n",
       "│ 2   │ 3         │ 26.7096       │ 0.198727    │\n",
       "│ 3   │ 5         │ 9.23427       │ 0.192052    │\n",
       "│ 4   │ 9         │ 9.45713       │ 0.452817    │\n",
       "│ 5   │ 17        │ 4.68719       │ 0.367088    │\n",
       "│ 6   │ 33        │ 4.10299       │ 0.438417    │\n",
       "│ 7   │ 65        │ 4.25879       │ 0.279031    │"
      ]
     },
     "execution_count": 16,
     "metadata": {},
     "output_type": "execute_result"
    }
   ],
   "source": [
    "#ler o csv e gerar o parser com medias e CIs\n",
    "experiments_ompi = read_csv_results(\"ompi_experiments.csv\")\n",
    "\n",
    "# Não sei qual erro está dando\n",
    "final_results_ompi = parse_results(experiments_ompi, \"processes\") "
   ]
  },
  {
   "cell_type": "markdown",
   "metadata": {},
   "source": [
    "# 3. Implementação em OMPI + OMP"
   ]
  },
  {
   "cell_type": "markdown",
   "metadata": {},
   "source": [
    "Nessa implementação, mantivemos a estrutura de comunicação definida na implementação com OMP e alteramos como cada processo auxiliar processa sua região da imagem: para calcular o número de iterações até a convergência de cada pixel, paralelizamos a computação por OpenMP. Para tanto, as mudanças ocorreram apenas na função `compute_mandelbrot`.\n",
    "\n",
    "Compilação:"
   ]
  },
  {
   "cell_type": "code",
   "execution_count": 17,
   "metadata": {},
   "outputs": [
    {
     "name": "stdout",
     "output_type": "stream",
     "text": [
      "mpicc -o mandelbrot_ompi_omp -lm -fopenmp src/mandelbrot_ompi_omp.c\n"
     ]
    },
    {
     "name": "stderr",
     "output_type": "stream",
     "text": [
      "make: mpicc: No such file or directory\n",
      "make: *** [mandelbrot_ompi_omp] Error 1\n"
     ]
    }
   ],
   "source": [
    ";make mandelbrot_ompi_omp"
   ]
  },
  {
   "cell_type": "markdown",
   "metadata": {},
   "source": [
    "## 3.1 Experimentos com OMPI + OMP\n",
    "\n",
    "Seguindo as instruções do enunciado, os experimentos foram feitos usando os seguintes parâmetros fixos: $15$ **repetições** da geração de uma imagem de **tamanho** $4096$ da região **Triple Spiral Valley**.\n",
    "\n",
    "Os números de processos foram determinados da mesma maneira que na implementação em OMPI, para fins de equivalência dos experimentos. O número $t$ de threads varia entre 1 e 64 seguindo as potências de 2, afim de cobrir uma região grande, permitindo analisar o impacto desse parâmetro. Consideramos que valores maiores gerariam um overhead muito grande, tornando o experimento pouco informativo.\n",
    "\n",
    "**FALAR/JUSTITIFICAR DEFINIÇÃO DA REGIAO DE INTERESSE!**\n",
    "\n",
    "**Número de Processos:** $2$,$3$,$5$,$9$,$17$,$33$,$65$\n",
    "\n",
    "**Número de Threads:** $1$,$2$,$4$,$8$,$16$,$32$,$64$\n"
   ]
  },
  {
   "cell_type": "code",
   "execution_count": 18,
   "metadata": {},
   "outputs": [
    {
     "data": {
      "text/plain": [
       "7-element Array{Int64,1}:\n",
       "  1\n",
       "  2\n",
       "  4\n",
       "  8\n",
       " 16\n",
       " 32\n",
       " 64"
      ]
     },
     "execution_count": 18,
     "metadata": {},
     "output_type": "execute_result"
    }
   ],
   "source": [
    "#definir regiao\n",
    "processes = [2,3,5,9,17,33,65]\n",
    "threads = [1,2,4,8,16,32,64]"
   ]
  },
  {
   "cell_type": "code",
   "execution_count": 19,
   "metadata": {},
   "outputs": [
    {
     "data": {
      "text/plain": [
       "mandelbrot_ompi_omp (generic function with 1 method)"
      ]
     },
     "execution_count": 19,
     "metadata": {},
     "output_type": "execute_result"
    }
   ],
   "source": [
    "#funcao pra rodar experimentos nessa regiao\n",
    "function mandelbrot_ompi_omp(size,n_proc,n_threads)\n",
    "    \"\"\" Executa o cálculo do conjunto de Mandelbrot na região TripleSpiralValley\n",
    "        gerando uma imagem de tamanho _size_ fazendo uso da implementação\n",
    "        em OMPI com _n_proc_ processos.\n",
    "    \"\"\"\n",
    "    time = parse.(Float64, chomp(read(\n",
    "                `mpirun -np $n_proc --host localhost:$n_proc mandelbrot_ompi_omp -0.188 -0.012 0.554 0.754 $size $n_threads`, \n",
    "                String)\n",
    "            ))\n",
    "    return DataFrame(processes = string(n_proc),threads=string(n_threads), duration = time)\n",
    "end"
   ]
  },
  {
   "cell_type": "code",
   "execution_count": 20,
   "metadata": {},
   "outputs": [
    {
     "data": {
      "text/plain": [
       "run_experiments_ompi_omp (generic function with 3 methods)"
      ]
     },
     "execution_count": 20,
     "metadata": {},
     "output_type": "execute_result"
    }
   ],
   "source": [
    "#funcao pra rodar experimentos nessa regiao\n",
    "function run_experiments_ompi_omp(process_range,thread_range, size=4096, repetitions=15)\n",
    "      \"\"\" Obtem a duracao dos tempos de execução associado aos cálculos de\n",
    "        conjunto de Mandelbrot na região TripleSpiralValley à partir da versão \n",
    "        paralelizada em OMPI e OMP para imagens de tamanho _size_, com uma quantidade\n",
    "        igual a _repetitions_ de repetições para cada número de processos em\n",
    "        _process_range_ e número de threads em _thread_range_.\n",
    "    \"\"\"\n",
    "    \n",
    "    results = DataFrame(processes = String[],threads=String[], duration = Float64[])    \n",
    "    \n",
    "    for n in process_range\n",
    "        for t in thread_range\n",
    "            for i in 1:repetitions\n",
    "                append!(results, mandelbrot_ompi_omp(size,n,t))\n",
    "            end\n",
    "        end\n",
    "    end\n",
    "    \n",
    "    return results\n",
    "end"
   ]
  },
  {
   "cell_type": "code",
   "execution_count": 21,
   "metadata": {},
   "outputs": [
    {
     "ename": "Base.IOError",
     "evalue": "IOError: could not spawn `mpirun -np 2 --host localhost:2 mandelbrot_ompi_omp -0.188 -0.012 0.554 0.754 256 1`: no such file or directory (ENOENT)",
     "output_type": "error",
     "traceback": [
      "IOError: could not spawn `mpirun -np 2 --host localhost:2 mandelbrot_ompi_omp -0.188 -0.012 0.554 0.754 256 1`: no such file or directory (ENOENT)",
      "",
      "Stacktrace:",
      " [1] _spawn_primitive(::String, ::Cmd, ::Array{Any,1}) at ./process.jl:99",
      " [2] #550 at ./process.jl:112 [inlined]",
      " [3] setup_stdios(::Base.var\"#550#551\"{Cmd}, ::Array{Any,1}) at ./process.jl:196",
      " [4] _spawn at ./process.jl:111 [inlined]",
      " [5] open(::Cmd, ::Base.DevNull; write::Bool, read::Bool) at ./process.jl:370",
      " [6] open at ./process.jl:361 [inlined]",
      " [7] open(::Cmd, ::String, ::Base.DevNull) at ./process.jl:341",
      " [8] read(::Cmd) at ./process.jl:410",
      " [9] read(::Cmd, ::Type{String}) at ./process.jl:421",
      " [10] mandelbrot_ompi_omp(::Int64, ::Int64, ::Int64) at ./In[19]:7",
      " [11] run_experiments_ompi_omp(::Array{Int64,1}, ::Array{Int64,1}, ::Int64, ::Int64) at ./In[20]:15",
      " [12] top-level scope at In[21]:1"
     ]
    }
   ],
   "source": [
    "#rodar os experimentos e salvar em csv \n",
    "results_ompi_omp = run_experiments_ompi_omp(processes,threads,256,5)"
   ]
  },
  {
   "cell_type": "code",
   "execution_count": 22,
   "metadata": {},
   "outputs": [
    {
     "ename": "UndefVarError",
     "evalue": "UndefVarError: results_ompi_omp not defined",
     "output_type": "error",
     "traceback": [
      "UndefVarError: results_ompi_omp not defined",
      "",
      "Stacktrace:",
      " [1] top-level scope at In[22]:1"
     ]
    }
   ],
   "source": [
    "#ler o csv e gerar o parser com medias e CIs\n",
    "save_csv_results(results_ompi_omp, \"ompi_omp_experiments\")\n",
    "experiments_ompi_omp = read_csv_results(\"ompi_omp_experiments.csv\")\n",
    "final_results_ompi_omp = parse_results(experiments_ompi_omp, \"processes\") "
   ]
  },
  {
   "cell_type": "markdown",
   "metadata": {},
   "source": [
    "# 4. Implementação em OMPI + CUDA"
   ]
  },
  {
   "cell_type": "markdown",
   "metadata": {},
   "source": [
    "Lorem Ipsum is simply dummy text of the printing and typesetting industry. Lorem Ipsum has been the industry's standard dummy text ever since the 1500s, when an unknown printer took a galley of type and scrambled it to make a type specimen book. It has survived not only five centuries, but also the leap into electronic typesetting, remaining essentially unchanged. It was popularised in the 1960s with the release of Letraset sheets containing Lorem Ipsum passages, and more recently with desktop publishing software like Aldus PageMaker including versions of Lorem Ipsum.\n",
    "\n",
    "Lorem Ipsum is simply dummy text of the printing and typesetting industry. Lorem Ipsum has been the industry's standard dummy text ever since the 1500s, when an unknown printer took a galley of type and scrambled it to make a type specimen book. It has survived not only five centuries, but also the leap into electronic typesetting, remaining essentially unchanged. It was popularised in the 1960s with the release of Letraset sheets containing Lorem Ipsum passages, and more recently with desktop publishing software like Aldus PageMaker including versions of Lorem Ipsum.\n",
    "\n",
    "Lorem Ipsum is simply dummy text of the printing and typesetting industry. Lorem Ipsum has been the industry's standard dummy text ever since the 1500s, when an unknown printer took a galley of type and scrambled it to make a type specimen book. It has survived not only five centuries, but also the leap into electronic typesetting, remaining essentially unchanged. It was popularised in the 1960s with the release of Letraset sheets containing Lorem Ipsum passages, and more recently with desktop publishing software like Aldus PageMaker including versions of Lorem Ipsum.\n",
    "\n",
    "Compilação:"
   ]
  },
  {
   "cell_type": "code",
   "execution_count": null,
   "metadata": {},
   "outputs": [],
   "source": []
  },
  {
   "cell_type": "markdown",
   "metadata": {},
   "source": [
    "## 4.1 Experimentos com OMPI + CUDA\n",
    "\n",
    "Lorem Ipsum is simply dummy text of the printing and typesetting industry. Lorem Ipsum has been the industry's standard dummy text ever since the 1500s, when an unknown printer took a galley of type and scrambled it to make a type specimen book. It has survived not only five centuries, but also the leap into electronic typesetting, remaining essentially unchanged. It was popularised in the 1960s with the release of Letraset sheets containing Lorem Ipsum passages, and more recently with desktop publishing software like Aldus PageMaker including versions of Lorem Ipsum.\n",
    "\n",
    "Lorem Ipsum is simply dummy text of the printing and typesetting industry. Lorem Ipsum has been the industry's standard dummy text ever since the 1500s, when an unknown printer took a galley of type and scrambled it to make a type specimen book. It has survived not only five centuries, but also the leap into electronic typesetting, remaining essentially unchanged. It was popularised in the 1960s with the release of Letraset sheets containing Lorem Ipsum passages, and more recently with desktop publishing software like Aldus PageMaker including versions of Lorem Ipsum.\n",
    "\n",
    "**FALAR/JUSTITIFICAR DEFINIÇÃO DA REGIAO DE INTERESSE!**"
   ]
  },
  {
   "cell_type": "code",
   "execution_count": 23,
   "metadata": {},
   "outputs": [],
   "source": [
    "#definir regiao"
   ]
  },
  {
   "cell_type": "code",
   "execution_count": 24,
   "metadata": {},
   "outputs": [],
   "source": [
    "#funcao pra rodar experimentos nessa regiao"
   ]
  },
  {
   "cell_type": "code",
   "execution_count": 25,
   "metadata": {},
   "outputs": [],
   "source": [
    "#funcao pra rodar experimentos nessa regiao"
   ]
  },
  {
   "cell_type": "code",
   "execution_count": 26,
   "metadata": {},
   "outputs": [],
   "source": [
    "#rodar os experimentos e salvar em csv "
   ]
  },
  {
   "cell_type": "code",
   "execution_count": 27,
   "metadata": {},
   "outputs": [],
   "source": [
    "#ler o csv e gerar o parser com medias e CIs"
   ]
  },
  {
   "cell_type": "markdown",
   "metadata": {},
   "source": [
    "# 5. Análise dos resultados dos experimentos\n",
    "\n",
    "Lorem Ipsum is simply dummy text of the printing and typesetting industry. Lorem Ipsum has been the industry's standard dummy text ever since the 1500s, when an unknown printer took a galley of type and scrambled it to make a type specimen book. It has survived not only five centuries, but also the leap into electronic typesetting, remaining essentially unchanged. It was popularised in the 1960s with the release of Letraset sheets containing Lorem Ipsum passages, and more recently with desktop publishing software like Aldus PageMaker including versions of Lorem Ipsum.\n",
    "\n",
    "Lorem Ipsum is simply dummy text of the printing and typesetting industry. Lorem Ipsum has been the industry's standard dummy text ever since the 1500s, when an unknown printer took a galley of type and scrambled it to make a type specimen book. It has survived not only five centuries, but also the leap into electronic typesetting, remaining essentially unchanged. It was popularised in the 1960s with the release of Letraset sheets containing Lorem Ipsum passages, and more recently with desktop publishing software like Aldus PageMaker including versions of Lorem Ipsum.\n",
    "\n",
    "Faremos uso das duas funções abaixo para gerar os gráficos sobre os quais analisaremos cada caso:"
   ]
  },
  {
   "cell_type": "code",
   "execution_count": 28,
   "metadata": {},
   "outputs": [
    {
     "data": {
      "text/plain": [
       "plot_results_scatter (generic function with 1 method)"
      ]
     },
     "execution_count": 28,
     "metadata": {},
     "output_type": "execute_result"
    }
   ],
   "source": [
    "function plot_results_scatter(x, xlabel_, ylabel_, title_,\n",
    "                        y1, series_label, yerror1)  \n",
    "    p = plot(x,        \n",
    "            y1,\n",
    "            yerror = yerror1,\n",
    "            alpha = 0.9,\n",
    "            labels = series_label,\n",
    "            xlabel = xlabel_,\n",
    "            ylabel = ylabel_,\n",
    "            title = title_,\n",
    "            color = \"red\",\n",
    "            seriestype = :scatter,\n",
    "            lw = 1,\n",
    "            legend = :topright)\n",
    "    return p\n",
    "end"
   ]
  },
  {
   "cell_type": "code",
   "execution_count": 29,
   "metadata": {},
   "outputs": [
    {
     "data": {
      "text/plain": [
       "plot_results (generic function with 1 method)"
      ]
     },
     "execution_count": 29,
     "metadata": {},
     "output_type": "execute_result"
    }
   ],
   "source": [
    "#implementar função pra gear grafico de todos os pontos\n",
    "function plot_results(x, y, series_label, xlabel_, ylabel_, title_)      \n",
    "    p = scatter(x, y,\n",
    "            alpha = 0.6,\n",
    "            labels = series_label,\n",
    "            xlabel = xlabel_,\n",
    "            ylabel = ylabel_,\n",
    "            title = title_,\n",
    "            legend = :topright)\n",
    "    return p\n",
    "end\n",
    "\n"
   ]
  },
  {
   "cell_type": "markdown",
   "metadata": {},
   "source": [
    "## 5.1 Resultados da versão CUDA\n",
    "\n",
    "[ANALISE GERAL]\n",
    "\n",
    "Lorem Ipsum is simply dummy text of the printing and typesetting industry. Lorem Ipsum has been the industry's standard dummy text ever since the 1500s, when an unknown printer took a galley of type and scrambled it to make a type specimen book. It has survived not only five centuries, but also the leap into electronic typesetting, remaining essentially unchanged. It was popularised in the 1960s with the release of Letraset sheets containing Lorem Ipsum passages, and more recently with desktop publishing software like Aldus PageMaker including versions of Lorem Ipsum.\n",
    "\n",
    "Lorem Ipsum is simply dummy text of the printing and typesetting industry. Lorem Ipsum has been the industry's standard dummy text ever since the 1500s, when an unknown printer took a galley of type and scrambled it to make a type specimen book. It has survived not only five centuries, but also the leap into electronic typesetting, remaining essentially unchanged. It was popularised in the 1960s with the release of Letraset sheets containing Lorem Ipsum passages, and more recently with desktop publishing software like Aldus PageMaker including versions of Lorem Ipsum.\n"
   ]
  },
  {
   "cell_type": "code",
   "execution_count": 30,
   "metadata": {},
   "outputs": [
    {
     "ename": "UndefVarError",
     "evalue": "UndefVarError: results_cuda not defined",
     "output_type": "error",
     "traceback": [
      "UndefVarError: results_cuda not defined",
      "",
      "Stacktrace:",
      " [1] top-level scope at In[30]:1"
     ]
    }
   ],
   "source": [
    "#plotar graficos com todos os pontos\n",
    "\n",
    "\n",
    "plot_results(results_cuda.dimensions,\n",
    "    results_cuda.duration,    \n",
    "    \"Duração\", \"Dimensão\", \"Tempo(s)\", \"Experimentos em CUDA\")\n",
    "\n"
   ]
  },
  {
   "cell_type": "code",
   "execution_count": 31,
   "metadata": {},
   "outputs": [
    {
     "ename": "UndefVarError",
     "evalue": "UndefVarError: final_results_cuda not defined",
     "output_type": "error",
     "traceback": [
      "UndefVarError: final_results_cuda not defined",
      "",
      "Stacktrace:",
      " [1] top-level scope at In[31]:1"
     ]
    }
   ],
   "source": [
    "plot_results_scatter(final_results_cuda.dimensions, \"Dimensoes\", \"Tempo(s)\", \"CUDA\",\n",
    "                     final_results_cuda.mean_duration, \"Tempo médio de execução\", \n",
    "                    final_results_cuda.ci_duration)"
   ]
  },
  {
   "cell_type": "markdown",
   "metadata": {},
   "source": [
    "**ESCOLHER E JUSTIFICAR OS MELHORES PARAMETROS!**\n",
    "\n",
    "Lorem Ipsum is simply dummy text of the printing and typesetting industry. Lorem Ipsum has been the industry's standard dummy text ever since the 1500s, when an unknown printer took a galley of type and scrambled it to make a type specimen book. It has survived not only five centuries, but also the leap into electronic typesetting, remaining essentially unchanged. It was popularised in the 1960s with the release of Letraset sheets containing Lorem Ipsum passages, and more recently with desktop publishing software like Aldus PageMaker including versions of Lorem Ipsum.\n",
    "\n",
    "Lorem Ipsum is simply dummy text of the printing and typesetting industry. Lorem Ipsum has been the industry's standard dummy text ever since the 1500s, when an unknown printer took a galley of type and scrambled it to make a type specimen book. It has survived not only five centuries, but also the leap into electronic typesetting, remaining essentially unchanged. It was popularised in the 1960s with the release of Letraset sheets containing Lorem Ipsum passages, and more recently with desktop publishing software like Aldus PageMaker including versions of Lorem Ipsum."
   ]
  },
  {
   "cell_type": "code",
   "execution_count": null,
   "metadata": {},
   "outputs": [],
   "source": []
  },
  {
   "cell_type": "markdown",
   "metadata": {},
   "source": [
    "## 5.2 Resultados da versão OMPI\n",
    "\n",
    "[ANALISE GERAL]\n",
    "\n",
    "Lorem Ipsum is simply dummy text of the printing and typesetting industry. Lorem Ipsum has been the industry's standard dummy text ever since the 1500s, when an unknown printer took a galley of type and scrambled it to make a type specimen book. It has survived not only five centuries, but also the leap into electronic typesetting, remaining essentially unchanged. It was popularised in the 1960s with the release of Letraset sheets containing Lorem Ipsum passages, and more recently with desktop publishing software like Aldus PageMaker including versions of Lorem Ipsum.\n",
    "\n",
    "Lorem Ipsum is simply dummy text of the printing and typesetting industry. Lorem Ipsum has been the industry's standard dummy text ever since the 1500s, when an unknown printer took a galley of type and scrambled it to make a type specimen book. It has survived not only five centuries, but also the leap into electronic typesetting, remaining essentially unchanged. It was popularised in the 1960s with the release of Letraset sheets containing Lorem Ipsum passages, and more recently with desktop publishing software like Aldus PageMaker including versions of Lorem Ipsum.\n"
   ]
  },
  {
   "cell_type": "code",
   "execution_count": 32,
   "metadata": {},
   "outputs": [],
   "source": [
    "#plotar graficos com todos os pontos"
   ]
  },
  {
   "cell_type": "code",
   "execution_count": 33,
   "metadata": {},
   "outputs": [],
   "source": [
    "#plotar graficos com tempo medio e intervalo de confiança"
   ]
  },
  {
   "cell_type": "markdown",
   "metadata": {},
   "source": [
    "**ESCOLHER E JUSTIFICAR OS MELHORES PARAMETROS BASEANDO-SE NOS GRAFICOS!**\n",
    "\n",
    "Lorem Ipsum is simply dummy text of the printing and typesetting industry. Lorem Ipsum has been the industry's standard dummy text ever since the 1500s, when an unknown printer took a galley of type and scrambled it to make a type specimen book. It has survived not only five centuries, but also the leap into electronic typesetting, remaining essentially unchanged. It was popularised in the 1960s with the release of Letraset sheets containing Lorem Ipsum passages, and more recently with desktop publishing software like Aldus PageMaker including versions of Lorem Ipsum.\n",
    "\n",
    "Lorem Ipsum is simply dummy text of the printing and typesetting industry. Lorem Ipsum has been the industry's standard dummy text ever since the 1500s, when an unknown printer took a galley of type and scrambled it to make a type specimen book. It has survived not only five centuries, but also the leap into electronic typesetting, remaining essentially unchanged. It was popularised in the 1960s with the release of Letraset sheets containing Lorem Ipsum passages, and more recently with desktop publishing software like Aldus PageMaker including versions of Lorem Ipsum."
   ]
  },
  {
   "cell_type": "code",
   "execution_count": null,
   "metadata": {},
   "outputs": [],
   "source": []
  },
  {
   "cell_type": "markdown",
   "metadata": {},
   "source": [
    "## 5.3 Resultados da versão OMPI + OMP\n",
    "\n",
    "[ANALISE GERAL]\n",
    "\n",
    "Lorem Ipsum is simply dummy text of the printing and typesetting industry. Lorem Ipsum has been the industry's standard dummy text ever since the 1500s, when an unknown printer took a galley of type and scrambled it to make a type specimen book. It has survived not only five centuries, but also the leap into electronic typesetting, remaining essentially unchanged. It was popularised in the 1960s with the release of Letraset sheets containing Lorem Ipsum passages, and more recently with desktop publishing software like Aldus PageMaker including versions of Lorem Ipsum.\n",
    "\n",
    "Lorem Ipsum is simply dummy text of the printing and typesetting industry. Lorem Ipsum has been the industry's standard dummy text ever since the 1500s, when an unknown printer took a galley of type and scrambled it to make a type specimen book. It has survived not only five centuries, but also the leap into electronic typesetting, remaining essentially unchanged. It was popularised in the 1960s with the release of Letraset sheets containing Lorem Ipsum passages, and more recently with desktop publishing software like Aldus PageMaker including versions of Lorem Ipsum.\n"
   ]
  },
  {
   "cell_type": "code",
   "execution_count": 34,
   "metadata": {},
   "outputs": [],
   "source": [
    "#plotar graficos com todos os pontos"
   ]
  },
  {
   "cell_type": "code",
   "execution_count": 35,
   "metadata": {},
   "outputs": [],
   "source": [
    "#plotar graficos com tempo medio e intervalo de confiança"
   ]
  },
  {
   "cell_type": "markdown",
   "metadata": {},
   "source": [
    "**ESCOLHER E JUSTIFICAR OS MELHORES PARAMETROS BASEANDO-SE NOS GRAFICOS!**\n",
    "\n",
    "Lorem Ipsum is simply dummy text of the printing and typesetting industry. Lorem Ipsum has been the industry's standard dummy text ever since the 1500s, when an unknown printer took a galley of type and scrambled it to make a type specimen book. It has survived not only five centuries, but also the leap into electronic typesetting, remaining essentially unchanged. It was popularised in the 1960s with the release of Letraset sheets containing Lorem Ipsum passages, and more recently with desktop publishing software like Aldus PageMaker including versions of Lorem Ipsum.\n",
    "\n",
    "Lorem Ipsum is simply dummy text of the printing and typesetting industry. Lorem Ipsum has been the industry's standard dummy text ever since the 1500s, when an unknown printer took a galley of type and scrambled it to make a type specimen book. It has survived not only five centuries, but also the leap into electronic typesetting, remaining essentially unchanged. It was popularised in the 1960s with the release of Letraset sheets containing Lorem Ipsum passages, and more recently with desktop publishing software like Aldus PageMaker including versions of Lorem Ipsum."
   ]
  },
  {
   "cell_type": "code",
   "execution_count": null,
   "metadata": {},
   "outputs": [],
   "source": []
  },
  {
   "cell_type": "markdown",
   "metadata": {},
   "source": [
    "## 5.4 Resultados da versão OMPI + CUDA\n",
    "\n",
    "[ANALISE GERAL]\n",
    "\n",
    "Lorem Ipsum is simply dummy text of the printing and typesetting industry. Lorem Ipsum has been the industry's standard dummy text ever since the 1500s, when an unknown printer took a galley of type and scrambled it to make a type specimen book. It has survived not only five centuries, but also the leap into electronic typesetting, remaining essentially unchanged. It was popularised in the 1960s with the release of Letraset sheets containing Lorem Ipsum passages, and more recently with desktop publishing software like Aldus PageMaker including versions of Lorem Ipsum.\n",
    "\n",
    "Lorem Ipsum is simply dummy text of the printing and typesetting industry. Lorem Ipsum has been the industry's standard dummy text ever since the 1500s, when an unknown printer took a galley of type and scrambled it to make a type specimen book. It has survived not only five centuries, but also the leap into electronic typesetting, remaining essentially unchanged. It was popularised in the 1960s with the release of Letraset sheets containing Lorem Ipsum passages, and more recently with desktop publishing software like Aldus PageMaker including versions of Lorem Ipsum.\n"
   ]
  },
  {
   "cell_type": "code",
   "execution_count": 36,
   "metadata": {},
   "outputs": [],
   "source": [
    "#plotar graficos com todos os pontos"
   ]
  },
  {
   "cell_type": "code",
   "execution_count": 37,
   "metadata": {},
   "outputs": [],
   "source": [
    "#plotar graficos com tempo medio e intervalo de confiança"
   ]
  },
  {
   "cell_type": "markdown",
   "metadata": {},
   "source": [
    "**ESCOLHER E JUSTIFICAR OS MELHORES PARAMETROS BASEANDO-SE NOS GRAFICOS!**\n",
    "\n",
    "Lorem Ipsum is simply dummy text of the printing and typesetting industry. Lorem Ipsum has been the industry's standard dummy text ever since the 1500s, when an unknown printer took a galley of type and scrambled it to make a type specimen book. It has survived not only five centuries, but also the leap into electronic typesetting, remaining essentially unchanged. It was popularised in the 1960s with the release of Letraset sheets containing Lorem Ipsum passages, and more recently with desktop publishing software like Aldus PageMaker including versions of Lorem Ipsum.\n",
    "\n",
    "Lorem Ipsum is simply dummy text of the printing and typesetting industry. Lorem Ipsum has been the industry's standard dummy text ever since the 1500s, when an unknown printer took a galley of type and scrambled it to make a type specimen book. It has survived not only five centuries, but also the leap into electronic typesetting, remaining essentially unchanged. It was popularised in the 1960s with the release of Letraset sheets containing Lorem Ipsum passages, and more recently with desktop publishing software like Aldus PageMaker including versions of Lorem Ipsum."
   ]
  },
  {
   "cell_type": "markdown",
   "metadata": {},
   "source": [
    "# 6. Comparação entre as diferentes versões"
   ]
  },
  {
   "cell_type": "markdown",
   "metadata": {},
   "source": [
    "Lorem Ipsum is simply dummy text of the printing and typesetting industry. Lorem Ipsum has been the industry's standard dummy text ever since the 1500s, when an unknown printer took a galley of type and scrambled it to make a type specimen book. It has survived not only five centuries, but also the leap into electronic typesetting, remaining essentially unchanged. It was popularised in the 1960s with the release of Letraset sheets containing Lorem Ipsum passages, and more recently with desktop publishing software like Aldus PageMaker including versions of Lorem Ipsum.\n",
    "\n",
    "Lorem Ipsum is simply dummy text of the printing and typesetting industry. Lorem Ipsum has been the industry's standard dummy text ever since the 1500s, when an unknown printer took a galley of type and scrambled it to make a type specimen book. It has survived not only five centuries, but also the leap into electronic typesetting, remaining essentially unchanged. It was popularised in the 1960s with the release of Letraset sheets containing Lorem Ipsum passages, and more recently with desktop publishing software like Aldus PageMaker including versions of Lorem Ipsum."
   ]
  },
  {
   "cell_type": "code",
   "execution_count": 38,
   "metadata": {},
   "outputs": [],
   "source": [
    "#plotar graficos!!!"
   ]
  },
  {
   "cell_type": "code",
   "execution_count": 39,
   "metadata": {},
   "outputs": [],
   "source": [
    "#plotar graficos!!!"
   ]
  },
  {
   "cell_type": "code",
   "execution_count": 40,
   "metadata": {},
   "outputs": [],
   "source": [
    "#plotar graficos!!!"
   ]
  },
  {
   "cell_type": "markdown",
   "metadata": {},
   "source": [
    "***Usando os parâmetros determinados na seção anterior, comparar os desempenhos das seguintes versões do programa basenado-se nos graficos!!!!***\n",
    "\n",
    "Lorem Ipsum is simply dummy text of the printing and typesetting industry. Lorem Ipsum has been the industry's standard dummy text ever since the 1500s, when an unknown printer took a galley of type and scrambled it to make a type specimen book. It has survived not only five centuries, but also the leap into electronic typesetting, remaining essentially unchanged. It was popularised in the 1960s with the release of Letraset sheets containing Lorem Ipsum passages, and more recently with desktop publishing software like Aldus PageMaker including versions of Lorem Ipsum.\n",
    "\n",
    "Lorem Ipsum is simply dummy text of the printing and typesetting industry. Lorem Ipsum has been the industry's standard dummy text ever since the 1500s, when an unknown printer took a galley of type and scrambled it to make a type specimen book. It has survived not only five centuries, but also the leap into electronic typesetting, remaining essentially unchanged. It was popularised in the 1960s with the release of Letraset sheets containing Lorem Ipsum passages, and more recently with desktop publishing software like Aldus PageMaker including versions of Lorem Ipsum.\n",
    "\n",
    "Lorem Ipsum is simply dummy text of the printing and typesetting industry. Lorem Ipsum has been the industry's standard dummy text ever since the 1500s, when an unknown printer took a galley of type and scrambled it to make a type specimen book. It has survived not only five centuries, but also the leap into electronic typesetting, remaining essentially unchanged. It was popularised in the 1960s with the release of Letraset sheets containing Lorem Ipsum passages, and more recently with desktop publishing software like Aldus PageMaker including versions of Lorem Ipsum.\n",
    "\n",
    "Lorem Ipsum is simply dummy text of the printing and typesetting industry. Lorem Ipsum has been the industry's standard dummy text ever since the 1500s, when an unknown printer took a galley of type and scrambled it to make a type specimen book. It has survived not only five centuries, but also the leap into electronic typesetting, remaining essentially unchanged. It was popularised in the 1960s with the release of Letraset sheets containing Lorem Ipsum passages, and more recently with desktop publishing software like Aldus PageMaker including versions of Lorem Ipsum."
   ]
  },
  {
   "cell_type": "markdown",
   "metadata": {},
   "source": [
    "# 7. Conclusão"
   ]
  },
  {
   "cell_type": "markdown",
   "metadata": {},
   "source": [
    "Lorem Ipsum is simply dummy text of the printing and typesetting industry. Lorem Ipsum has been the industry's standard dummy text ever since the 1500s, when an unknown printer took a galley of type and scrambled it to make a type specimen book. It has survived not only five centuries, but also the leap into electronic typesetting, remaining essentially unchanged. It was popularised in the 1960s with the release of Letraset sheets containing Lorem Ipsum passages, and more recently with desktop publishing software like Aldus PageMaker including versions of Lorem Ipsum.\n",
    "\n",
    "Lorem Ipsum is simply dummy text of the printing and typesetting industry. Lorem Ipsum has been the industry's standard dummy text ever since the 1500s, when an unknown printer took a galley of type and scrambled it to make a type specimen book. It has survived not only five centuries, but also the leap into electronic typesetting, remaining essentially unchanged. It was popularised in the 1960s with the release of Letraset sheets containing Lorem Ipsum passages, and more recently with desktop publishing software like Aldus PageMaker including versions of Lorem Ipsum.\n",
    "\n",
    "Lorem Ipsum is simply dummy text of the printing and typesetting industry. Lorem Ipsum has been the industry's standard dummy text ever since the 1500s, when an unknown printer took a galley of type and scrambled it to make a type specimen book. It has survived not only five centuries, but also the leap into electronic typesetting, remaining essentially unchanged. It was popularised in the 1960s with the release of Letraset sheets containing Lorem Ipsum passages, and more recently with desktop publishing software like Aldus PageMaker including versions of Lorem Ipsum.\n",
    "\n",
    "Lorem Ipsum is simply dummy text of the printing and typesetting industry. Lorem Ipsum has been the industry's standard dummy text ever since the 1500s, when an unknown printer took a galley of type and scrambled it to make a type specimen book. It has survived not only five centuries, but also the leap into electronic typesetting, remaining essentially unchanged. It was popularised in the 1960s with the release of Letraset sheets containing Lorem Ipsum passages, and more recently with desktop publishing software like Aldus PageMaker including versions of Lorem Ipsum."
   ]
  },
  {
   "cell_type": "code",
   "execution_count": null,
   "metadata": {},
   "outputs": [],
   "source": []
  }
 ],
 "metadata": {
  "kernelspec": {
   "display_name": "Julia 1.4.0",
   "language": "julia",
   "name": "julia-1.4"
  },
  "language_info": {
   "file_extension": ".jl",
   "mimetype": "application/julia",
   "name": "julia",
   "version": "1.4.0"
  }
 },
 "nbformat": 4,
 "nbformat_minor": 4
}
