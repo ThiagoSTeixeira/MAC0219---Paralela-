{
 "cells": [
  {
   "cell_type": "markdown",
   "metadata": {},
   "source": [
    "# MAC0219 - Programação Concorrente, Paralela e Distribuída\n",
    "# EP2: CUDA & OpenMPI\n",
    "\n",
    "\n",
    "| Nome | NUSP |\n",
    "|------|------|\n",
    "| Caio Andrade | 9797232 |\n",
    "| Caio Fontes | 10692061 |\n",
    "| Eduardo Laurentino | 8988212 |\n",
    "| Thiago Teixeira | 10736987 |\n",
    "| Washington Meireles | 10737157 |"
   ]
  },
  {
   "cell_type": "markdown",
   "metadata": {},
   "source": [
    "Neste relatório, vamos explicar...\n",
    "\n",
    "Lorem Ipsum is simply dummy text of the printing and typesetting industry. Lorem Ipsum has been the industry's standard dummy text ever since the 1500s, when an unknown printer took a galley of type and scrambled it to make a type specimen book. It has survived not only five centuries, but also the leap into electronic typesetting, remaining essentially unchanged. It was popularised in the 1960s with the release of Letraset sheets containing Lorem Ipsum passages, and more recently with desktop publishing software like Aldus PageMaker including versions of Lorem Ipsum."
   ]
  },
  {
   "cell_type": "code",
   "execution_count": 6,
   "metadata": {},
   "outputs": [
    {
     "name": "stderr",
     "output_type": "stream",
     "text": [
      "┌ Info: Precompiling DataFrames [a93c6f00-e57d-5684-b7b6-d8193f3e46c0]\n",
      "└ @ Base loading.jl:1273\n",
      "┌ Info: Precompiling Query [1a8c2f83-1ff3-5112-b086-8aa67b057ba1]\n",
      "└ @ Base loading.jl:1273\n",
      "┌ Info: Precompiling StatsPlots [f3b207a7-027a-5e70-b257-86293d7955fd]\n",
      "└ @ Base loading.jl:1273\n",
      "┌ Info: Precompiling CSV [336ed68f-0bac-5ca0-87d4-7b16caf5d00b]\n",
      "└ @ Base loading.jl:1273\n"
     ]
    }
   ],
   "source": [
    "using DataFrames, Query, StatsPlots, Statistics, CSV"
   ]
  },
  {
   "cell_type": "code",
   "execution_count": 7,
   "metadata": {},
   "outputs": [
    {
     "data": {
      "text/plain": [
       "parse_results (generic function with 1 method)"
      ]
     },
     "execution_count": 7,
     "metadata": {},
     "output_type": "execute_result"
    }
   ],
   "source": [
    "function parse_results(results)\n",
    "    parsed_results = results |>\n",
    "                    @groupby({_.dimensions,}) |>\n",
    "                    @map({dimensions = key(_).dimensions,\n",
    "                          mean_duration = mean(_.duration),\n",
    "                          ci_duration = 1.96 * std(_.duration)}) |>\n",
    "                    DataFrame\n",
    "    \n",
    "    return parsed_results\n",
    "end"
   ]
  },
  {
   "cell_type": "code",
   "execution_count": 8,
   "metadata": {},
   "outputs": [
    {
     "data": {
      "text/plain": [
       "save_csv_results (generic function with 1 method)"
      ]
     },
     "execution_count": 8,
     "metadata": {},
     "output_type": "execute_result"
    }
   ],
   "source": [
    "function save_csv_results(parsed_results, name)\n",
    "    CSV.write(string(name, \".csv\"), parsed_results)\n",
    "end"
   ]
  },
  {
   "cell_type": "code",
   "execution_count": 9,
   "metadata": {},
   "outputs": [
    {
     "data": {
      "text/plain": [
       "read_csv_results (generic function with 1 method)"
      ]
     },
     "execution_count": 9,
     "metadata": {},
     "output_type": "execute_result"
    }
   ],
   "source": [
    "function read_csv_results(filename)\n",
    "    return CSV.read(filename)\n",
    "end"
   ]
  },
  {
   "cell_type": "markdown",
   "metadata": {},
   "source": [
    "# 1. Implementação em CUDA"
   ]
  },
  {
   "cell_type": "markdown",
   "metadata": {},
   "source": [
    "A implementação em CUDA foi feita tendo como base a versão sequencial, a qual adaptamos para as necessidades da paralelização com computação heterogênea, como é o caso aqui. Nesse sentido, transformamos o método `void compute_mandelbrot()` num método global, pois é este o **Kernel** do programa - isto é, o programa que conecta o _Host_ (CPU) com o _Device_ (GPU). Além disso, deixamos os métodos que são utilizados somente durante o processamento dos pixels (à saber, `int mandelbrot()` e `void update_rgb_buffer()` como exclusivas para o _device_. O restante das conexões entre as duas camadas de memória, do _Host_ e do _Device_ , foi feito manipulando adequadamente a alocação e tráfego de memória quando necessário. \n",
    "\n",
    "A divisão de tarefas é feita de maneira estática à partir das dimensões dos _Blocos_ e do _Grid_ no qual estes estão inseridos. Para que pudessemos determinar experimentalmente os melhores valores para essas dimensões, o programa solicita que como argumento (além das coordenadas da região do conjunto e o tamanho da imagem) as dimensões $(x, y)$ dos blocos. À partir desses valores, determina-se também as dimensões do _Grid_ de forma a garantir que a divisão das tarefas contemple toda a imagem a ser gerada. No caso da nossa implementação, isso significa atribuir ao _Grid_ dimensões $(\\frac{image\\_size}{x}, \\frac{image\\_size}{y})$. \n",
    "\n",
    "Dessa forma, fica estabelicido que cada pixel $(i_x, i_y)$ da imagem será tratado por uma _thread_ de identidade determinada pela sua posição num determinado bloco do grid de acordo com as especificações abaixo:\n",
    "\n",
    "$$\n",
    "i_x = blockIdx.x*blockDim.x+threadIdx.x \\\\\n",
    "i_y = blockIdx.y*blockDim.y+threadIdx.y\n",
    "$$\n",
    "\n",
    "É importante observar um condição de execução importante relavativa a essa implementação: devemos ter, necessariamente, $x * y \\leq 1024$. Isto pois ao determinarmos as dimensões dos blocos como sendo $(x, y)$, isso significa que a quantidade de _threads_ em cada bloco é igual a $x * y$, e o limite de $1024$ _threads_ por bloco é uma condição própria do desenvolvimento em CUDA."
   ]
  },
  {
   "cell_type": "markdown",
   "metadata": {},
   "source": [
    "Compilação:"
   ]
  },
  {
   "cell_type": "code",
   "execution_count": 5,
   "metadata": {},
   "outputs": [
    {
     "name": "stderr",
     "output_type": "stream",
     "text": [
      "┌ Warning: Parsing command \"nvcc -gencode arch=compute_50,code=[sm_50,compute_50] mandelbrot_cuda.cu -o mandelbrot -Wno-deprecated-gpu-targets\". Special characters \"#{}()[]<>|&*?~;\" should now be quoted in commands\n",
      "│   caller = shell_parse(::String, ::Bool; special::String) at shell.jl:107\n",
      "└ @ Base ./shell.jl:107\n"
     ]
    }
   ],
   "source": [
    ";nvcc -gencode arch=compute_50,code=[sm_50,compute_50] mandelbrot_cuda.cu -o mandelbrot -Wno-deprecated-gpu-targets"
   ]
  },
  {
   "cell_type": "markdown",
   "metadata": {},
   "source": [
    "## 1.1 Experimentos com CUDA"
   ]
  },
  {
   "cell_type": "markdown",
   "metadata": {},
   "source": [
    "Seguindo as instruções do enunciado, os experimentos foram feitos usando os seguintes parâmetros fixos: $15$ **repetições** da geração de uma imagem de **tamanho** $4096$ da região **Triple Spiral Valley**.\n",
    "\n",
    "Posto isso, o objetivo aqui é realizar experimentos para diferentes valores dos parâmetros $x$ e $y$, que determinam a dimensão dos blocos e do _grid_. Para tanto, determinamos uma região de interesse para esses parâmetros cujo principal critério de escolha foi a limitação de mantermos $x * y \\leq 1024$ conforme explicado anteriormente. Nesse sentido, decidimos começar com blocos de dimensao unica (isto é, uma única thread por bloco, implicando num grid com $image\\_size * image\\_size$ blocos) e irmos dobrando até $(32, 32)$, onde têm-se em cada bloco o limite de $1024$ threads e com _grid_ de dimensão $(128, 128)$. \n",
    "\n",
    "A **região de interesse** final, com a qual realizamos os experimentos, é:\n",
    "\n",
    "**Dimensões dos blocos:** $(1,1)$, $(2,2)$, $(4,4)$, $(8,8)$, $(16,16)$ e $(32,32)$ \n",
    "\n",
    "**Respectivas dimensoes do _grid_ :** $(4096, 4096)$, $(2048, 2048)$, $(1024, 1024)$, $(512, 512)$, $(256, 256)$ e $(128, 128)$ "
   ]
  },
  {
   "cell_type": "code",
   "execution_count": 6,
   "metadata": {
    "collapsed": true
   },
   "outputs": [
    {
     "data": {
      "text/plain": [
       "5-element Array{Tuple{Int64,Int64},1}:\n",
       " (2, 2)\n",
       " (4, 4)\n",
       " (8, 8)\n",
       " (16, 16)\n",
       " (32, 32)"
      ]
     },
     "execution_count": 6,
     "metadata": {},
     "output_type": "execute_result"
    }
   ],
   "source": [
    "dimensions = [(2,2),(4,4),(8,8),(16,16),(32,32)]"
   ]
  },
  {
   "cell_type": "code",
   "execution_count": 7,
   "metadata": {
    "collapsed": true
   },
   "outputs": [
    {
     "data": {
      "text/plain": [
       "mandelbrot_cuda (generic function with 1 method)"
      ]
     },
     "execution_count": 7,
     "metadata": {},
     "output_type": "execute_result"
    }
   ],
   "source": [
    "function mandelbrot_cuda(size, x, y)\n",
    "    \"\"\" Executa o cálculo do conjunto de Mandelbrot na região TripleSpiralValley\n",
    "        gerando uma imagem de tamanho _size_ fazendo uso da implementação\n",
    "        em CUDA com blocos de dimensao _(x, y)_ e grid de dimensao _(size/x, size/y)_\n",
    "    \"\"\"\n",
    "    time = parse.(Float64, chomp(read(`./mandelbrot -0.188 -0.012 0.554 0.754 $size $x $y`, String)))\n",
    "    return DataFrame(dimensions = string(x, \", \", y), duration = time)\n",
    "end"
   ]
  },
  {
   "cell_type": "code",
   "execution_count": 8,
   "metadata": {
    "collapsed": true
   },
   "outputs": [
    {
     "data": {
      "text/plain": [
       "run_experiments_cuda (generic function with 3 methods)"
      ]
     },
     "execution_count": 8,
     "metadata": {},
     "output_type": "execute_result"
    }
   ],
   "source": [
    "function run_experiments_cuda(dimensions, size=4096, repetitions=15)\n",
    "    \"\"\" Obtem a duracao dos tempos de execução associado aos cálculos de\n",
    "        conjunto de Mandelbrot na região TripleSpiralValley à partir da versão \n",
    "        paralelizada em CUDA para imagens de tamanho _size_, com uma quantidade\n",
    "        igual a _repetitions_ de repetições para cada uma das dimensoes de bloco\n",
    "        (e, por consequencia, de grid) presentes em _dimensions_\n",
    "    \"\"\"\n",
    "    \n",
    "    results = DataFrame(dimensions = String[], duration = Float64[])    \n",
    "    \n",
    "    for x_y in dimensions\n",
    "        x, y = x_y\n",
    "        for i in 1:repetitions\n",
    "            append!(results, mandelbrot_cuda(size, x, y))    \n",
    "        end\n",
    "    end\n",
    "    \n",
    "    return results\n",
    "end"
   ]
  },
  {
   "cell_type": "code",
   "execution_count": 15,
   "metadata": {
    "collapsed": true
   },
   "outputs": [
    {
     "data": {
      "text/html": [
       "<table class=\"data-frame\"><thead><tr><th></th><th>dimensions</th><th>duration</th></tr><tr><th></th><th>String</th><th>Float64</th></tr></thead><tbody><p>75 rows × 2 columns</p><tr><th>1</th><td>2, 2</td><td>0.280372</td></tr><tr><th>2</th><td>2, 2</td><td>0.277381</td></tr><tr><th>3</th><td>2, 2</td><td>0.281127</td></tr><tr><th>4</th><td>2, 2</td><td>0.277549</td></tr><tr><th>5</th><td>2, 2</td><td>0.277367</td></tr><tr><th>6</th><td>2, 2</td><td>0.277539</td></tr><tr><th>7</th><td>2, 2</td><td>0.277394</td></tr><tr><th>8</th><td>2, 2</td><td>0.277444</td></tr><tr><th>9</th><td>2, 2</td><td>0.277479</td></tr><tr><th>10</th><td>2, 2</td><td>0.277444</td></tr><tr><th>11</th><td>2, 2</td><td>0.277436</td></tr><tr><th>12</th><td>2, 2</td><td>0.283792</td></tr><tr><th>13</th><td>2, 2</td><td>0.277397</td></tr><tr><th>14</th><td>2, 2</td><td>0.277554</td></tr><tr><th>15</th><td>2, 2</td><td>0.30112</td></tr><tr><th>16</th><td>4, 4</td><td>0.07912</td></tr><tr><th>17</th><td>4, 4</td><td>0.078964</td></tr><tr><th>18</th><td>4, 4</td><td>0.071205</td></tr><tr><th>19</th><td>4, 4</td><td>0.075528</td></tr><tr><th>20</th><td>4, 4</td><td>0.078793</td></tr><tr><th>21</th><td>4, 4</td><td>0.071292</td></tr><tr><th>22</th><td>4, 4</td><td>0.077578</td></tr><tr><th>23</th><td>4, 4</td><td>0.077942</td></tr><tr><th>24</th><td>4, 4</td><td>0.071151</td></tr><tr><th>25</th><td>4, 4</td><td>0.077817</td></tr><tr><th>26</th><td>4, 4</td><td>0.071313</td></tr><tr><th>27</th><td>4, 4</td><td>0.077832</td></tr><tr><th>28</th><td>4, 4</td><td>0.071359</td></tr><tr><th>29</th><td>4, 4</td><td>0.077974</td></tr><tr><th>30</th><td>4, 4</td><td>0.071453</td></tr><tr><th>&vellip;</th><td>&vellip;</td><td>&vellip;</td></tr></tbody></table>"
      ],
      "text/latex": [
       "\\begin{tabular}{r|cc}\n",
       "\t& dimensions & duration\\\\\n",
       "\t\\hline\n",
       "\t& String & Float64\\\\\n",
       "\t\\hline\n",
       "\t1 & 2, 2 & 0.280372 \\\\\n",
       "\t2 & 2, 2 & 0.277381 \\\\\n",
       "\t3 & 2, 2 & 0.281127 \\\\\n",
       "\t4 & 2, 2 & 0.277549 \\\\\n",
       "\t5 & 2, 2 & 0.277367 \\\\\n",
       "\t6 & 2, 2 & 0.277539 \\\\\n",
       "\t7 & 2, 2 & 0.277394 \\\\\n",
       "\t8 & 2, 2 & 0.277444 \\\\\n",
       "\t9 & 2, 2 & 0.277479 \\\\\n",
       "\t10 & 2, 2 & 0.277444 \\\\\n",
       "\t11 & 2, 2 & 0.277436 \\\\\n",
       "\t12 & 2, 2 & 0.283792 \\\\\n",
       "\t13 & 2, 2 & 0.277397 \\\\\n",
       "\t14 & 2, 2 & 0.277554 \\\\\n",
       "\t15 & 2, 2 & 0.30112 \\\\\n",
       "\t16 & 4, 4 & 0.07912 \\\\\n",
       "\t17 & 4, 4 & 0.078964 \\\\\n",
       "\t18 & 4, 4 & 0.071205 \\\\\n",
       "\t19 & 4, 4 & 0.075528 \\\\\n",
       "\t20 & 4, 4 & 0.078793 \\\\\n",
       "\t21 & 4, 4 & 0.071292 \\\\\n",
       "\t22 & 4, 4 & 0.077578 \\\\\n",
       "\t23 & 4, 4 & 0.077942 \\\\\n",
       "\t24 & 4, 4 & 0.071151 \\\\\n",
       "\t25 & 4, 4 & 0.077817 \\\\\n",
       "\t26 & 4, 4 & 0.071313 \\\\\n",
       "\t27 & 4, 4 & 0.077832 \\\\\n",
       "\t28 & 4, 4 & 0.071359 \\\\\n",
       "\t29 & 4, 4 & 0.077974 \\\\\n",
       "\t30 & 4, 4 & 0.071453 \\\\\n",
       "\t$\\dots$ & $\\dots$ & $\\dots$ \\\\\n",
       "\\end{tabular}\n"
      ],
      "text/plain": [
       "75×2 DataFrame\n",
       "│ Row │ dimensions │ duration │\n",
       "│     │ \u001b[90mString\u001b[39m     │ \u001b[90mFloat64\u001b[39m  │\n",
       "├─────┼────────────┼──────────┤\n",
       "│ 1   │ 2, 2       │ 0.280372 │\n",
       "│ 2   │ 2, 2       │ 0.277381 │\n",
       "│ 3   │ 2, 2       │ 0.281127 │\n",
       "│ 4   │ 2, 2       │ 0.277549 │\n",
       "│ 5   │ 2, 2       │ 0.277367 │\n",
       "│ 6   │ 2, 2       │ 0.277539 │\n",
       "│ 7   │ 2, 2       │ 0.277394 │\n",
       "│ 8   │ 2, 2       │ 0.277444 │\n",
       "│ 9   │ 2, 2       │ 0.277479 │\n",
       "│ 10  │ 2, 2       │ 0.277444 │\n",
       "⋮\n",
       "│ 65  │ 32, 32     │ 0.038981 │\n",
       "│ 66  │ 32, 32     │ 0.037483 │\n",
       "│ 67  │ 32, 32     │ 0.03992  │\n",
       "│ 68  │ 32, 32     │ 0.037069 │\n",
       "│ 69  │ 32, 32     │ 0.03697  │\n",
       "│ 70  │ 32, 32     │ 0.036809 │\n",
       "│ 71  │ 32, 32     │ 0.036726 │\n",
       "│ 72  │ 32, 32     │ 0.041728 │\n",
       "│ 73  │ 32, 32     │ 0.042799 │\n",
       "│ 74  │ 32, 32     │ 0.037822 │\n",
       "│ 75  │ 32, 32     │ 0.036757 │"
      ]
     },
     "execution_count": 15,
     "metadata": {},
     "output_type": "execute_result"
    }
   ],
   "source": [
    "results_cuda = run_experiments_cuda(dimensions, 512, 15)\n",
    "#save_csv_results(results_cuda, \"cuda_experiments\")"
   ]
  },
  {
   "cell_type": "code",
   "execution_count": 16,
   "metadata": {},
   "outputs": [
    {
     "data": {
      "text/html": [
       "<table class=\"data-frame\"><thead><tr><th></th><th>dimensions</th><th>mean_duration</th><th>ci_duration</th></tr><tr><th></th><th>String</th><th>Float64</th><th>Float64</th></tr></thead><tbody><p>5 rows × 3 columns</p><tr><th>1</th><td>2, 2</td><td>0.279893</td><td>0.0120944</td></tr><tr><th>2</th><td>4, 4</td><td>0.0752881</td><td>0.00680193</td></tr><tr><th>3</th><td>8, 8</td><td>0.038103</td><td>0.00336642</td></tr><tr><th>4</th><td>16, 16</td><td>0.0370511</td><td>0.00239222</td></tr><tr><th>5</th><td>32, 32</td><td>0.0382651</td><td>0.00401231</td></tr></tbody></table>"
      ],
      "text/latex": [
       "\\begin{tabular}{r|ccc}\n",
       "\t& dimensions & mean\\_duration & ci\\_duration\\\\\n",
       "\t\\hline\n",
       "\t& String & Float64 & Float64\\\\\n",
       "\t\\hline\n",
       "\t1 & 2, 2 & 0.279893 & 0.0120944 \\\\\n",
       "\t2 & 4, 4 & 0.0752881 & 0.00680193 \\\\\n",
       "\t3 & 8, 8 & 0.038103 & 0.00336642 \\\\\n",
       "\t4 & 16, 16 & 0.0370511 & 0.00239222 \\\\\n",
       "\t5 & 32, 32 & 0.0382651 & 0.00401231 \\\\\n",
       "\\end{tabular}\n"
      ],
      "text/plain": [
       "5×3 DataFrame\n",
       "│ Row │ dimensions │ mean_duration │ ci_duration │\n",
       "│     │ \u001b[90mString\u001b[39m     │ \u001b[90mFloat64\u001b[39m       │ \u001b[90mFloat64\u001b[39m     │\n",
       "├─────┼────────────┼───────────────┼─────────────┤\n",
       "│ 1   │ 2, 2       │ 0.279893      │ 0.0120944   │\n",
       "│ 2   │ 4, 4       │ 0.0752881     │ 0.00680193  │\n",
       "│ 3   │ 8, 8       │ 0.038103      │ 0.00336642  │\n",
       "│ 4   │ 16, 16     │ 0.0370511     │ 0.00239222  │\n",
       "│ 5   │ 32, 32     │ 0.0382651     │ 0.00401231  │"
      ]
     },
     "execution_count": 16,
     "metadata": {},
     "output_type": "execute_result"
    }
   ],
   "source": [
    "save_csv_results(results_cuda, \"cuda_experiments\")\n",
    "experiments_cuda = read_csv_results(\"cuda_experiments.csv\")\n",
    "final_results_cuda = parse_results(experiments_cuda)"
   ]
  },
  {
   "cell_type": "markdown",
   "metadata": {},
   "source": [
    "# 2. Implementação em OMPI"
   ]
  },
  {
   "cell_type": "markdown",
   "metadata": {},
   "source": [
    "Lorem Ipsum is simply dummy text of the printing and typesetting industry. Lorem Ipsum has been the industry's standard dummy text ever since the 1500s, when an unknown printer took a galley of type and scrambled it to make a type specimen book. It has survived not only five centuries, but also the leap into electronic typesetting, remaining essentially unchanged. It was popularised in the 1960s with the release of Letraset sheets containing Lorem Ipsum passages, and more recently with desktop publishing software like Aldus PageMaker including versions of Lorem Ipsum.\n",
    "\n",
    "Lorem Ipsum is simply dummy text of the printing and typesetting industry. Lorem Ipsum has been the industry's standard dummy text ever since the 1500s, when an unknown printer took a galley of type and scrambled it to make a type specimen book. It has survived not only five centuries, but also the leap into electronic typesetting, remaining essentially unchanged. It was popularised in the 1960s with the release of Letraset sheets containing Lorem Ipsum passages, and more recently with desktop publishing software like Aldus PageMaker including versions of Lorem Ipsum.\n",
    "\n",
    "Lorem Ipsum is simply dummy text of the printing and typesetting industry. Lorem Ipsum has been the industry's standard dummy text ever since the 1500s, when an unknown printer took a galley of type and scrambled it to make a type specimen book. It has survived not only five centuries, but also the leap into electronic typesetting, remaining essentially unchanged. It was popularised in the 1960s with the release of Letraset sheets containing Lorem Ipsum passages, and more recently with desktop publishing software like Aldus PageMaker including versions of Lorem Ipsum.\n",
    "\n",
    "Compilação:"
   ]
  },
  {
   "cell_type": "code",
   "execution_count": 3,
   "metadata": {},
   "outputs": [
    {
     "name": "stdout",
     "output_type": "stream",
     "text": [
      "mpicc -o mandelbrot_ompi -lm src/mandelbrot_ompi.c\n"
     ]
    }
   ],
   "source": [
    ";make mandelbrot_ompi"
   ]
  },
  {
   "cell_type": "markdown",
   "metadata": {},
   "source": [
    "## 2.1 Experimentos com OMPI"
   ]
  },
  {
   "cell_type": "markdown",
   "metadata": {},
   "source": [
    "Seguindo as instruções do enunciado, os experimentos foram feitos usando os seguintes parâmetros fixos: $15$ **repetições** da geração de uma imagem de **tamanho** $4096$ da região **Triple Spiral Valley**.\n",
    "\n",
    "O objetivo é determinar um número ideal $n$ de processos para a implementação através desses experimentos. Definimos a região de interesse conforme sugestão do enunciado, mas sempre tendo pelo menos um processo principal que coletasse os resultados, sendo assim a **região de interesse** com que realizamos os experimentos foi:\n",
    "\n",
    "**Número de Processos:** $2$,$3$,$5$,$9$,$17$,$33$,$65$\n"
   ]
  },
  {
   "cell_type": "code",
   "execution_count": 14,
   "metadata": {
    "collapsed": true
   },
   "outputs": [
    {
     "data": {
      "text/plain": [
       "7-element Array{Int64,1}:\n",
       "  2\n",
       "  3\n",
       "  5\n",
       "  9\n",
       " 17\n",
       " 33\n",
       " 65"
      ]
     },
     "execution_count": 14,
     "metadata": {},
     "output_type": "execute_result"
    }
   ],
   "source": [
    "#definir regiao\n",
    "processes = [2,3,5,9,17,33,65]"
   ]
  },
  {
   "cell_type": "code",
   "execution_count": 16,
   "metadata": {
    "scrolled": true
   },
   "outputs": [
    {
     "data": {
      "text/plain": [
       "mandelbrot_ompi (generic function with 1 method)"
      ]
     },
     "execution_count": 16,
     "metadata": {},
     "output_type": "execute_result"
    }
   ],
   "source": [
    "#funcao pra rodar experimentos nessa regiao\n",
    "function mandelbrot_ompi(size,n_proc)\n",
    "    \"\"\" Executa o cálculo do conjunto de Mandelbrot na região TripleSpiralValley\n",
    "        gerando uma imagem de tamanho _size_ fazendo uso da implementação\n",
    "        em OMPI com _n_proc_ processos.\n",
    "    \"\"\"\n",
    "    time = parse.(Float64, chomp(read(`mpirun -np $n_proc --host localhost:$n_proc mandelbrot_ompi -0.188 -0.012 0.554 0.754 $size`, String)))\n",
    "    return DataFrame(processes = string(n_proc), duration = time)\n",
    "end"
   ]
  },
  {
   "cell_type": "code",
   "execution_count": 12,
   "metadata": {
    "collapsed": true
   },
   "outputs": [
    {
     "data": {
      "text/plain": [
       "run_experiments_ompi (generic function with 3 methods)"
      ]
     },
     "execution_count": 12,
     "metadata": {},
     "output_type": "execute_result"
    }
   ],
   "source": [
    "#funcao pra rodar experimentos nessa regiao\n",
    "function run_experiments_ompi(process_range, size=4096, repetitions=15)\n",
    "    \"\"\" Obtem a duracao dos tempos de execução associado aos cálculos de\n",
    "        conjunto de Mandelbrot na região TripleSpiralValley à partir da versão \n",
    "        paralelizada em OMPI para imagens de tamanho _size_, com uma quantidade\n",
    "        igual a _repetitions_ de repetições para cada número de processos em\n",
    "        _process_range_\n",
    "    \"\"\"\n",
    "    \n",
    "    results = DataFrame(processes = String[], duration = Float64[])    \n",
    "    \n",
    "    for n in process_range\n",
    "        for i in 1:repetitions\n",
    "            append!(results, mandelbrot_ompi(size,n))    \n",
    "        end\n",
    "    end\n",
    "    \n",
    "    return results\n",
    "end"
   ]
  },
  {
   "cell_type": "code",
   "execution_count": 17,
   "metadata": {
    "collapsed": true
   },
   "outputs": [
    {
     "data": {
      "text/html": [
       "<table class=\"data-frame\"><thead><tr><th></th><th>processes</th><th>duration</th></tr><tr><th></th><th>String</th><th>Float64</th></tr></thead><tbody><p>35 rows × 2 columns</p><tr><th>1</th><td>2</td><td>0.176253</td></tr><tr><th>2</th><td>2</td><td>0.18379</td></tr><tr><th>3</th><td>2</td><td>0.166159</td></tr><tr><th>4</th><td>2</td><td>0.16615</td></tr><tr><th>5</th><td>2</td><td>0.165941</td></tr><tr><th>6</th><td>3</td><td>0.170693</td></tr><tr><th>7</th><td>3</td><td>0.17025</td></tr><tr><th>8</th><td>3</td><td>0.171302</td></tr><tr><th>9</th><td>3</td><td>0.173578</td></tr><tr><th>10</th><td>3</td><td>0.17103</td></tr><tr><th>11</th><td>5</td><td>0.111095</td></tr><tr><th>12</th><td>5</td><td>0.105456</td></tr><tr><th>13</th><td>5</td><td>0.115321</td></tr><tr><th>14</th><td>5</td><td>0.111676</td></tr><tr><th>15</th><td>5</td><td>0.116732</td></tr><tr><th>16</th><td>9</td><td>0.132816</td></tr><tr><th>17</th><td>9</td><td>0.133867</td></tr><tr><th>18</th><td>9</td><td>0.126947</td></tr><tr><th>19</th><td>9</td><td>0.12626</td></tr><tr><th>20</th><td>9</td><td>0.127564</td></tr><tr><th>21</th><td>17</td><td>0.148149</td></tr><tr><th>22</th><td>17</td><td>0.152828</td></tr><tr><th>23</th><td>17</td><td>0.126065</td></tr><tr><th>24</th><td>17</td><td>0.140778</td></tr><tr><th>25</th><td>17</td><td>0.158185</td></tr><tr><th>26</th><td>33</td><td>0.195694</td></tr><tr><th>27</th><td>33</td><td>0.188304</td></tr><tr><th>28</th><td>33</td><td>0.180948</td></tr><tr><th>29</th><td>33</td><td>0.174724</td></tr><tr><th>30</th><td>33</td><td>0.190115</td></tr><tr><th>&vellip;</th><td>&vellip;</td><td>&vellip;</td></tr></tbody></table>"
      ],
      "text/latex": [
       "\\begin{tabular}{r|cc}\n",
       "\t& processes & duration\\\\\n",
       "\t\\hline\n",
       "\t& String & Float64\\\\\n",
       "\t\\hline\n",
       "\t1 & 2 & 0.176253 \\\\\n",
       "\t2 & 2 & 0.18379 \\\\\n",
       "\t3 & 2 & 0.166159 \\\\\n",
       "\t4 & 2 & 0.16615 \\\\\n",
       "\t5 & 2 & 0.165941 \\\\\n",
       "\t6 & 3 & 0.170693 \\\\\n",
       "\t7 & 3 & 0.17025 \\\\\n",
       "\t8 & 3 & 0.171302 \\\\\n",
       "\t9 & 3 & 0.173578 \\\\\n",
       "\t10 & 3 & 0.17103 \\\\\n",
       "\t11 & 5 & 0.111095 \\\\\n",
       "\t12 & 5 & 0.105456 \\\\\n",
       "\t13 & 5 & 0.115321 \\\\\n",
       "\t14 & 5 & 0.111676 \\\\\n",
       "\t15 & 5 & 0.116732 \\\\\n",
       "\t16 & 9 & 0.132816 \\\\\n",
       "\t17 & 9 & 0.133867 \\\\\n",
       "\t18 & 9 & 0.126947 \\\\\n",
       "\t19 & 9 & 0.12626 \\\\\n",
       "\t20 & 9 & 0.127564 \\\\\n",
       "\t21 & 17 & 0.148149 \\\\\n",
       "\t22 & 17 & 0.152828 \\\\\n",
       "\t23 & 17 & 0.126065 \\\\\n",
       "\t24 & 17 & 0.140778 \\\\\n",
       "\t25 & 17 & 0.158185 \\\\\n",
       "\t26 & 33 & 0.195694 \\\\\n",
       "\t27 & 33 & 0.188304 \\\\\n",
       "\t28 & 33 & 0.180948 \\\\\n",
       "\t29 & 33 & 0.174724 \\\\\n",
       "\t30 & 33 & 0.190115 \\\\\n",
       "\t$\\dots$ & $\\dots$ & $\\dots$ \\\\\n",
       "\\end{tabular}\n"
      ],
      "text/plain": [
       "35×2 DataFrame\n",
       "│ Row │ processes │ duration │\n",
       "│     │ \u001b[90mString\u001b[39m    │ \u001b[90mFloat64\u001b[39m  │\n",
       "├─────┼───────────┼──────────┤\n",
       "│ 1   │ 2         │ 0.176253 │\n",
       "│ 2   │ 2         │ 0.18379  │\n",
       "│ 3   │ 2         │ 0.166159 │\n",
       "│ 4   │ 2         │ 0.16615  │\n",
       "│ 5   │ 2         │ 0.165941 │\n",
       "│ 6   │ 3         │ 0.170693 │\n",
       "│ 7   │ 3         │ 0.17025  │\n",
       "│ 8   │ 3         │ 0.171302 │\n",
       "│ 9   │ 3         │ 0.173578 │\n",
       "│ 10  │ 3         │ 0.17103  │\n",
       "⋮\n",
       "│ 25  │ 17        │ 0.158185 │\n",
       "│ 26  │ 33        │ 0.195694 │\n",
       "│ 27  │ 33        │ 0.188304 │\n",
       "│ 28  │ 33        │ 0.180948 │\n",
       "│ 29  │ 33        │ 0.174724 │\n",
       "│ 30  │ 33        │ 0.190115 │\n",
       "│ 31  │ 65        │ 0.287946 │\n",
       "│ 32  │ 65        │ 0.341278 │\n",
       "│ 33  │ 65        │ 0.29412  │\n",
       "│ 34  │ 65        │ 0.310022 │\n",
       "│ 35  │ 65        │ 0.369635 │"
      ]
     },
     "execution_count": 17,
     "metadata": {},
     "output_type": "execute_result"
    }
   ],
   "source": [
    "#rodar os experimentos e salvar em csv \n",
    "results_ompi = run_experiments_ompi(processes,256,5) # rodei com um tamanho menor só pra conseguir fazer no meu PC"
   ]
  },
  {
   "cell_type": "code",
   "execution_count": 22,
   "metadata": {
    "collapsed": true
   },
   "outputs": [
    {
     "data": {
      "text/html": [
       "<table class=\"data-frame\"><thead><tr><th></th><th>processes</th><th>duration</th></tr><tr><th></th><th>Int64</th><th>Float64</th></tr></thead><tbody><p>35 rows × 2 columns</p><tr><th>1</th><td>2</td><td>0.176253</td></tr><tr><th>2</th><td>2</td><td>0.18379</td></tr><tr><th>3</th><td>2</td><td>0.166159</td></tr><tr><th>4</th><td>2</td><td>0.16615</td></tr><tr><th>5</th><td>2</td><td>0.165941</td></tr><tr><th>6</th><td>3</td><td>0.170693</td></tr><tr><th>7</th><td>3</td><td>0.17025</td></tr><tr><th>8</th><td>3</td><td>0.171302</td></tr><tr><th>9</th><td>3</td><td>0.173578</td></tr><tr><th>10</th><td>3</td><td>0.17103</td></tr><tr><th>11</th><td>5</td><td>0.111095</td></tr><tr><th>12</th><td>5</td><td>0.105456</td></tr><tr><th>13</th><td>5</td><td>0.115321</td></tr><tr><th>14</th><td>5</td><td>0.111676</td></tr><tr><th>15</th><td>5</td><td>0.116732</td></tr><tr><th>16</th><td>9</td><td>0.132816</td></tr><tr><th>17</th><td>9</td><td>0.133867</td></tr><tr><th>18</th><td>9</td><td>0.126947</td></tr><tr><th>19</th><td>9</td><td>0.12626</td></tr><tr><th>20</th><td>9</td><td>0.127564</td></tr><tr><th>21</th><td>17</td><td>0.148149</td></tr><tr><th>22</th><td>17</td><td>0.152828</td></tr><tr><th>23</th><td>17</td><td>0.126065</td></tr><tr><th>24</th><td>17</td><td>0.140778</td></tr><tr><th>25</th><td>17</td><td>0.158185</td></tr><tr><th>26</th><td>33</td><td>0.195694</td></tr><tr><th>27</th><td>33</td><td>0.188304</td></tr><tr><th>28</th><td>33</td><td>0.180948</td></tr><tr><th>29</th><td>33</td><td>0.174724</td></tr><tr><th>30</th><td>33</td><td>0.190115</td></tr><tr><th>&vellip;</th><td>&vellip;</td><td>&vellip;</td></tr></tbody></table>"
      ],
      "text/latex": [
       "\\begin{tabular}{r|cc}\n",
       "\t& processes & duration\\\\\n",
       "\t\\hline\n",
       "\t& Int64 & Float64\\\\\n",
       "\t\\hline\n",
       "\t1 & 2 & 0.176253 \\\\\n",
       "\t2 & 2 & 0.18379 \\\\\n",
       "\t3 & 2 & 0.166159 \\\\\n",
       "\t4 & 2 & 0.16615 \\\\\n",
       "\t5 & 2 & 0.165941 \\\\\n",
       "\t6 & 3 & 0.170693 \\\\\n",
       "\t7 & 3 & 0.17025 \\\\\n",
       "\t8 & 3 & 0.171302 \\\\\n",
       "\t9 & 3 & 0.173578 \\\\\n",
       "\t10 & 3 & 0.17103 \\\\\n",
       "\t11 & 5 & 0.111095 \\\\\n",
       "\t12 & 5 & 0.105456 \\\\\n",
       "\t13 & 5 & 0.115321 \\\\\n",
       "\t14 & 5 & 0.111676 \\\\\n",
       "\t15 & 5 & 0.116732 \\\\\n",
       "\t16 & 9 & 0.132816 \\\\\n",
       "\t17 & 9 & 0.133867 \\\\\n",
       "\t18 & 9 & 0.126947 \\\\\n",
       "\t19 & 9 & 0.12626 \\\\\n",
       "\t20 & 9 & 0.127564 \\\\\n",
       "\t21 & 17 & 0.148149 \\\\\n",
       "\t22 & 17 & 0.152828 \\\\\n",
       "\t23 & 17 & 0.126065 \\\\\n",
       "\t24 & 17 & 0.140778 \\\\\n",
       "\t25 & 17 & 0.158185 \\\\\n",
       "\t26 & 33 & 0.195694 \\\\\n",
       "\t27 & 33 & 0.188304 \\\\\n",
       "\t28 & 33 & 0.180948 \\\\\n",
       "\t29 & 33 & 0.174724 \\\\\n",
       "\t30 & 33 & 0.190115 \\\\\n",
       "\t$\\dots$ & $\\dots$ & $\\dots$ \\\\\n",
       "\\end{tabular}\n"
      ],
      "text/plain": [
       "35×2 DataFrame\n",
       "│ Row │ processes │ duration │\n",
       "│     │ \u001b[90mInt64\u001b[39m     │ \u001b[90mFloat64\u001b[39m  │\n",
       "├─────┼───────────┼──────────┤\n",
       "│ 1   │ 2         │ 0.176253 │\n",
       "│ 2   │ 2         │ 0.18379  │\n",
       "│ 3   │ 2         │ 0.166159 │\n",
       "│ 4   │ 2         │ 0.16615  │\n",
       "│ 5   │ 2         │ 0.165941 │\n",
       "│ 6   │ 3         │ 0.170693 │\n",
       "│ 7   │ 3         │ 0.17025  │\n",
       "│ 8   │ 3         │ 0.171302 │\n",
       "│ 9   │ 3         │ 0.173578 │\n",
       "│ 10  │ 3         │ 0.17103  │\n",
       "⋮\n",
       "│ 25  │ 17        │ 0.158185 │\n",
       "│ 26  │ 33        │ 0.195694 │\n",
       "│ 27  │ 33        │ 0.188304 │\n",
       "│ 28  │ 33        │ 0.180948 │\n",
       "│ 29  │ 33        │ 0.174724 │\n",
       "│ 30  │ 33        │ 0.190115 │\n",
       "│ 31  │ 65        │ 0.287946 │\n",
       "│ 32  │ 65        │ 0.341278 │\n",
       "│ 33  │ 65        │ 0.29412  │\n",
       "│ 34  │ 65        │ 0.310022 │\n",
       "│ 35  │ 65        │ 0.369635 │"
      ]
     },
     "execution_count": 22,
     "metadata": {},
     "output_type": "execute_result"
    }
   ],
   "source": [
    "#ler o csv e gerar o parser com medias e CIs\n",
    "save_csv_results(results_ompi, \"ompi_experiments\")\n",
    "experiments_ompi = read_csv_results(\"ompi_experiments.csv\")\n",
    "\n",
    "# Não sei qual erro está dando\n",
    "# final_results_ompi = parse_results(experiments_ompi) "
   ]
  },
  {
   "cell_type": "markdown",
   "metadata": {},
   "source": [
    "# 3. Implementação em OMPI + OMP"
   ]
  },
  {
   "cell_type": "markdown",
   "metadata": {},
   "source": [
    "Lorem Ipsum is simply dummy text of the printing and typesetting industry. Lorem Ipsum has been the industry's standard dummy text ever since the 1500s, when an unknown printer took a galley of type and scrambled it to make a type specimen book. It has survived not only five centuries, but also the leap into electronic typesetting, remaining essentially unchanged. It was popularised in the 1960s with the release of Letraset sheets containing Lorem Ipsum passages, and more recently with desktop publishing software like Aldus PageMaker including versions of Lorem Ipsum.\n",
    "\n",
    "Lorem Ipsum is simply dummy text of the printing and typesetting industry. Lorem Ipsum has been the industry's standard dummy text ever since the 1500s, when an unknown printer took a galley of type and scrambled it to make a type specimen book. It has survived not only five centuries, but also the leap into electronic typesetting, remaining essentially unchanged. It was popularised in the 1960s with the release of Letraset sheets containing Lorem Ipsum passages, and more recently with desktop publishing software like Aldus PageMaker including versions of Lorem Ipsum.\n",
    "\n",
    "Lorem Ipsum is simply dummy text of the printing and typesetting industry. Lorem Ipsum has been the industry's standard dummy text ever since the 1500s, when an unknown printer took a galley of type and scrambled it to make a type specimen book. It has survived not only five centuries, but also the leap into electronic typesetting, remaining essentially unchanged. It was popularised in the 1960s with the release of Letraset sheets containing Lorem Ipsum passages, and more recently with desktop publishing software like Aldus PageMaker including versions of Lorem Ipsum.\n",
    "\n",
    "Compilação:"
   ]
  },
  {
   "cell_type": "code",
   "execution_count": 35,
   "metadata": {},
   "outputs": [
    {
     "name": "stdout",
     "output_type": "stream",
     "text": [
      "mpicc -o mandelbrot_ompi_omp -lm -fopenmp src/mandelbrot_ompi_omp.c\n"
     ]
    }
   ],
   "source": [
    ";make mandelbrot_ompi_omp"
   ]
  },
  {
   "cell_type": "markdown",
   "metadata": {},
   "source": [
    "## 3.1 Experimentos com OMPI + OMP\n",
    "\n",
    "Seguindo as instruções do enunciado, os experimentos foram feitos usando os seguintes parâmetros fixos: $15$ **repetições** da geração de uma imagem de **tamanho** $4096$ da região **Triple Spiral Valley**.\n",
    "\n",
    "Lorem Ipsum is simply dummy text of the printing and typesetting industry. Lorem Ipsum has been the industry's standard dummy text ever since the 1500s, when an unknown printer took a galley of type and scrambled it to make a type specimen book. It has survived not only five centuries, but also the leap into electronic typesetting, remaining essentially unchanged. It was popularised in the 1960s with the release of Letraset sheets containing Lorem Ipsum passages, and more recently with desktop publishing software like Aldus PageMaker including versions of Lorem Ipsum.\n",
    "\n",
    "**FALAR/JUSTITIFICAR DEFINIÇÃO DA REGIAO DE INTERESSE!**\n",
    "\n",
    "**Número de Processos:** $2$,$3$,$5$,$9$,$17$,$33$,$65$\n",
    "**Número de Threads:** $1$,$2$,$4$,$8$,$16$,$32$,$64$\n"
   ]
  },
  {
   "cell_type": "code",
   "execution_count": 38,
   "metadata": {},
   "outputs": [
    {
     "data": {
      "text/plain": [
       "7-element Array{Int64,1}:\n",
       "  1\n",
       "  2\n",
       "  4\n",
       "  8\n",
       " 16\n",
       " 32\n",
       " 64"
      ]
     },
     "execution_count": 38,
     "metadata": {},
     "output_type": "execute_result"
    }
   ],
   "source": [
    "#definir regiao\n",
    "processes = [2,3,5,9,17,33,65]\n",
    "threads = [1,2,4,8,16,32,64]"
   ]
  },
  {
   "cell_type": "code",
   "execution_count": 31,
   "metadata": {},
   "outputs": [
    {
     "data": {
      "text/plain": [
       "mandelbrot_ompi_omp (generic function with 1 method)"
      ]
     },
     "execution_count": 31,
     "metadata": {},
     "output_type": "execute_result"
    }
   ],
   "source": [
    "#funcao pra rodar experimentos nessa regiao\n",
    "function mandelbrot_ompi_omp(size,n_proc,n_threads)\n",
    "    \"\"\" Executa o cálculo do conjunto de Mandelbrot na região TripleSpiralValley\n",
    "        gerando uma imagem de tamanho _size_ fazendo uso da implementação\n",
    "        em OMPI com _n_proc_ processos.\n",
    "    \"\"\"\n",
    "    time = parse.(Float64, chomp(read(`mpirun -np $n_proc --host localhost:$n_proc mandelbrot_ompi_omp -0.188 -0.012 0.554 0.754 $size $n_threads`, String)))\n",
    "    return DataFrame(processes = string(n_proc),threads=string(n_threads), duration = time)\n",
    "end"
   ]
  },
  {
   "cell_type": "code",
   "execution_count": 32,
   "metadata": {},
   "outputs": [
    {
     "data": {
      "text/plain": [
       "run_experiments_ompi_omp (generic function with 3 methods)"
      ]
     },
     "execution_count": 32,
     "metadata": {},
     "output_type": "execute_result"
    }
   ],
   "source": [
    "#funcao pra rodar experimentos nessa regiao\n",
    "function run_experiments_ompi_omp(process_range,thread_range, size=4096, repetitions=15)\n",
    "      \"\"\" Obtem a duracao dos tempos de execução associado aos cálculos de\n",
    "        conjunto de Mandelbrot na região TripleSpiralValley à partir da versão \n",
    "        paralelizada em OMPI e OMP para imagens de tamanho _size_, com uma quantidade\n",
    "        igual a _repetitions_ de repetições para cada número de processos em\n",
    "        _process_range_ e número de threads em _thread_range_.\n",
    "    \"\"\"\n",
    "    \n",
    "    results = DataFrame(processes = String[],threads=String[], duration = Float64[])    \n",
    "    \n",
    "    for n in process_range\n",
    "        for t in thread_range\n",
    "            for i in 1:repetitions\n",
    "                append!(results, mandelbrot_ompi_omp(size,n,t))\n",
    "            end\n",
    "        end\n",
    "    end\n",
    "    \n",
    "    return results\n",
    "end"
   ]
  },
  {
   "cell_type": "code",
   "execution_count": 39,
   "metadata": {
    "collapsed": true
   },
   "outputs": [
    {
     "name": "stderr",
     "output_type": "stream",
     "text": [
      "--------------------------------------------------------------------------\n",
      "Primary job  terminated normally, but 1 process returned\n",
      "a non-zero exit code. Per user-direction, the job has been aborted.\n",
      "--------------------------------------------------------------------------\n",
      "--------------------------------------------------------------------------\n",
      "mpirun noticed that process rank 0 with PID 0 on node localhost exited on signal 11 (Segmentation fault).\n",
      "--------------------------------------------------------------------------\n"
     ]
    },
    {
     "ename": "ProcessFailedException",
     "evalue": "failed process: Process(`mpirun -np 5 --host localhost:5 mandelbrot_ompi_omp -0.188 -0.012 0.554 0.754 256 2`, ProcessExited(139)) [139]\n",
     "output_type": "error",
     "traceback": [
      "failed process: Process(`mpirun -np 5 --host localhost:5 mandelbrot_ompi_omp -0.188 -0.012 0.554 0.754 256 2`, ProcessExited(139)) [139]\n",
      "",
      "Stacktrace:",
      " [1] pipeline_error at ./process.jl:525 [inlined]",
      " [2] read(::Cmd) at ./process.jl:412",
      " [3] read(::Cmd, ::Type{String}) at ./process.jl:421",
      " [4] mandelbrot_ompi_omp(::Int64, ::Int64, ::Int64) at ./In[31]:7",
      " [5] run_experiments_ompi_omp(::Array{Int64,1}, ::Array{Int64,1}, ::Int64, ::Int64) at ./In[32]:15",
      " [6] top-level scope at In[39]:1"
     ]
    }
   ],
   "source": [
    "#rodar os experimentos e salvar em csv \n",
    "results_ompi_omp = run_experiments_ompi_omp(processes,threads,256,5)"
   ]
  },
  {
   "cell_type": "code",
   "execution_count": null,
   "metadata": {},
   "outputs": [],
   "source": [
    "#ler o csv e gerar o parser com medias e CIs\n",
    "save_csv_results(results_ompi_omp, \"ompi_omp_experiments\")\n",
    "experiments_ompi_omp = read_csv_results(\"ompi_omp_experiments.csv\")\n",
    "final_results_ompi_omp = parse_results(experiments_ompi_omp) "
   ]
  },
  {
   "cell_type": "code",
   "execution_count": null,
   "metadata": {},
   "outputs": [],
   "source": []
  },
  {
   "cell_type": "markdown",
   "metadata": {},
   "source": [
    "# 4. Implementação em OMPI + CUDA"
   ]
  },
  {
   "cell_type": "markdown",
   "metadata": {},
   "source": [
    "Lorem Ipsum is simply dummy text of the printing and typesetting industry. Lorem Ipsum has been the industry's standard dummy text ever since the 1500s, when an unknown printer took a galley of type and scrambled it to make a type specimen book. It has survived not only five centuries, but also the leap into electronic typesetting, remaining essentially unchanged. It was popularised in the 1960s with the release of Letraset sheets containing Lorem Ipsum passages, and more recently with desktop publishing software like Aldus PageMaker including versions of Lorem Ipsum.\n",
    "\n",
    "Lorem Ipsum is simply dummy text of the printing and typesetting industry. Lorem Ipsum has been the industry's standard dummy text ever since the 1500s, when an unknown printer took a galley of type and scrambled it to make a type specimen book. It has survived not only five centuries, but also the leap into electronic typesetting, remaining essentially unchanged. It was popularised in the 1960s with the release of Letraset sheets containing Lorem Ipsum passages, and more recently with desktop publishing software like Aldus PageMaker including versions of Lorem Ipsum.\n",
    "\n",
    "Lorem Ipsum is simply dummy text of the printing and typesetting industry. Lorem Ipsum has been the industry's standard dummy text ever since the 1500s, when an unknown printer took a galley of type and scrambled it to make a type specimen book. It has survived not only five centuries, but also the leap into electronic typesetting, remaining essentially unchanged. It was popularised in the 1960s with the release of Letraset sheets containing Lorem Ipsum passages, and more recently with desktop publishing software like Aldus PageMaker including versions of Lorem Ipsum.\n",
    "\n",
    "Compilação:"
   ]
  },
  {
   "cell_type": "code",
   "execution_count": null,
   "metadata": {},
   "outputs": [],
   "source": []
  },
  {
   "cell_type": "markdown",
   "metadata": {},
   "source": [
    "## 4.1 Experimentos com OMPI + CUDA\n",
    "\n",
    "Lorem Ipsum is simply dummy text of the printing and typesetting industry. Lorem Ipsum has been the industry's standard dummy text ever since the 1500s, when an unknown printer took a galley of type and scrambled it to make a type specimen book. It has survived not only five centuries, but also the leap into electronic typesetting, remaining essentially unchanged. It was popularised in the 1960s with the release of Letraset sheets containing Lorem Ipsum passages, and more recently with desktop publishing software like Aldus PageMaker including versions of Lorem Ipsum.\n",
    "\n",
    "Lorem Ipsum is simply dummy text of the printing and typesetting industry. Lorem Ipsum has been the industry's standard dummy text ever since the 1500s, when an unknown printer took a galley of type and scrambled it to make a type specimen book. It has survived not only five centuries, but also the leap into electronic typesetting, remaining essentially unchanged. It was popularised in the 1960s with the release of Letraset sheets containing Lorem Ipsum passages, and more recently with desktop publishing software like Aldus PageMaker including versions of Lorem Ipsum.\n",
    "\n",
    "**FALAR/JUSTITIFICAR DEFINIÇÃO DA REGIAO DE INTERESSE!**"
   ]
  },
  {
   "cell_type": "code",
   "execution_count": null,
   "metadata": {},
   "outputs": [],
   "source": [
    "#definir regiao"
   ]
  },
  {
   "cell_type": "code",
   "execution_count": null,
   "metadata": {},
   "outputs": [],
   "source": [
    "#funcao pra rodar experimentos nessa regiao"
   ]
  },
  {
   "cell_type": "code",
   "execution_count": null,
   "metadata": {},
   "outputs": [],
   "source": [
    "#funcao pra rodar experimentos nessa regiao"
   ]
  },
  {
   "cell_type": "code",
   "execution_count": 32,
   "metadata": {},
   "outputs": [],
   "source": [
    "#rodar os experimentos e salvar em csv "
   ]
  },
  {
   "cell_type": "code",
   "execution_count": null,
   "metadata": {},
   "outputs": [],
   "source": [
    "#ler o csv e gerar o parser com medias e CIs"
   ]
  },
  {
   "cell_type": "markdown",
   "metadata": {},
   "source": [
    "# 5. Análise dos resultados dos experimentos\n",
    "\n",
    "Lorem Ipsum is simply dummy text of the printing and typesetting industry. Lorem Ipsum has been the industry's standard dummy text ever since the 1500s, when an unknown printer took a galley of type and scrambled it to make a type specimen book. It has survived not only five centuries, but also the leap into electronic typesetting, remaining essentially unchanged. It was popularised in the 1960s with the release of Letraset sheets containing Lorem Ipsum passages, and more recently with desktop publishing software like Aldus PageMaker including versions of Lorem Ipsum.\n",
    "\n",
    "Lorem Ipsum is simply dummy text of the printing and typesetting industry. Lorem Ipsum has been the industry's standard dummy text ever since the 1500s, when an unknown printer took a galley of type and scrambled it to make a type specimen book. It has survived not only five centuries, but also the leap into electronic typesetting, remaining essentially unchanged. It was popularised in the 1960s with the release of Letraset sheets containing Lorem Ipsum passages, and more recently with desktop publishing software like Aldus PageMaker including versions of Lorem Ipsum.\n",
    "\n",
    "Faremos uso das duas funções abaixo para gerar os gráficos sobre os quais analisaremos cada caso:"
   ]
  },
  {
   "cell_type": "code",
   "execution_count": 21,
   "metadata": {},
   "outputs": [
    {
     "data": {
      "text/plain": [
       "plot_results_scatter (generic function with 1 method)"
      ]
     },
     "execution_count": 21,
     "metadata": {},
     "output_type": "execute_result"
    }
   ],
   "source": [
    "function plot_results_scatter(x, xlabel_, ylabel_, title_,\n",
    "                        y1, series_label, yerror1)  \n",
    "    p = plot(x,        \n",
    "            y1,\n",
    "            yerror = yerror1,\n",
    "            alpha = 0.9,\n",
    "            labels = series_label,\n",
    "            xlabel = xlabel_,\n",
    "            ylabel = ylabel_,\n",
    "            title = title_,\n",
    "            color = \"red\",\n",
    "            seriestype = :scatter,\n",
    "            lw = 1,\n",
    "            legend = :topright)\n",
    "    return p\n",
    "end"
   ]
  },
  {
   "cell_type": "code",
   "execution_count": 27,
   "metadata": {},
   "outputs": [
    {
     "data": {
      "text/plain": [
       "plot_results (generic function with 2 methods)"
      ]
     },
     "execution_count": 27,
     "metadata": {},
     "output_type": "execute_result"
    }
   ],
   "source": [
    "#implementar função pra gear grafico de todos os pontos\n",
    "function plot_results(x, y, series_label, xlabel_, ylabel_, title_)      \n",
    "    p = scatter(x, y,\n",
    "            alpha = 0.6,\n",
    "            labels = series_label,\n",
    "            xlabel = xlabel_,\n",
    "            ylabel = ylabel_,\n",
    "            title = title_,\n",
    "            legend = :topright)\n",
    "    return p\n",
    "end\n",
    "\n"
   ]
  },
  {
   "cell_type": "markdown",
   "metadata": {},
   "source": [
    "## 5.1 Resultados da versão CUDA\n",
    "\n",
    "[ANALISE GERAL]\n",
    "\n",
    "Lorem Ipsum is simply dummy text of the printing and typesetting industry. Lorem Ipsum has been the industry's standard dummy text ever since the 1500s, when an unknown printer took a galley of type and scrambled it to make a type specimen book. It has survived not only five centuries, but also the leap into electronic typesetting, remaining essentially unchanged. It was popularised in the 1960s with the release of Letraset sheets containing Lorem Ipsum passages, and more recently with desktop publishing software like Aldus PageMaker including versions of Lorem Ipsum.\n",
    "\n",
    "Lorem Ipsum is simply dummy text of the printing and typesetting industry. Lorem Ipsum has been the industry's standard dummy text ever since the 1500s, when an unknown printer took a galley of type and scrambled it to make a type specimen book. It has survived not only five centuries, but also the leap into electronic typesetting, remaining essentially unchanged. It was popularised in the 1960s with the release of Letraset sheets containing Lorem Ipsum passages, and more recently with desktop publishing software like Aldus PageMaker including versions of Lorem Ipsum.\n"
   ]
  },
  {
   "cell_type": "code",
   "execution_count": 29,
   "metadata": {},
   "outputs": [
    {
     "data": {
      "image/svg+xml": [
       "<?xml version=\"1.0\" encoding=\"utf-8\"?>\n",
       "<svg xmlns=\"http://www.w3.org/2000/svg\" xmlns:xlink=\"http://www.w3.org/1999/xlink\" width=\"600\" height=\"400\" viewBox=\"0 0 2400 1600\">\n",
       "<defs>\n",
       "  <clipPath id=\"clip060\">\n",
       "    <rect x=\"0\" y=\"0\" width=\"2400\" height=\"1600\"/>\n",
       "  </clipPath>\n",
       "</defs>\n",
       "<path clip-path=\"url(#clip060)\" d=\"\n",
       "M0 1600 L2400 1600 L2400 0 L0 0  Z\n",
       "  \" fill=\"#ffffff\" fill-rule=\"evenodd\" fill-opacity=\"1\"/>\n",
       "<defs>\n",
       "  <clipPath id=\"clip061\">\n",
       "    <rect x=\"480\" y=\"0\" width=\"1681\" height=\"1600\"/>\n",
       "  </clipPath>\n",
       "</defs>\n",
       "<path clip-path=\"url(#clip060)\" d=\"\n",
       "M237.482 1423.18 L2352.76 1423.18 L2352.76 123.472 L237.482 123.472  Z\n",
       "  \" fill=\"#ffffff\" fill-rule=\"evenodd\" fill-opacity=\"1\"/>\n",
       "<defs>\n",
       "  <clipPath id=\"clip062\">\n",
       "    <rect x=\"237\" y=\"123\" width=\"2116\" height=\"1301\"/>\n",
       "  </clipPath>\n",
       "</defs>\n",
       "<polyline clip-path=\"url(#clip062)\" style=\"stroke:#000000; stroke-width:2; stroke-opacity:0.1; fill:none\" points=\"\n",
       "  297.348,1423.18 297.348,123.472 \n",
       "  \"/>\n",
       "<polyline clip-path=\"url(#clip062)\" style=\"stroke:#000000; stroke-width:2; stroke-opacity:0.1; fill:none\" points=\"\n",
       "  796.234,1423.18 796.234,123.472 \n",
       "  \"/>\n",
       "<polyline clip-path=\"url(#clip062)\" style=\"stroke:#000000; stroke-width:2; stroke-opacity:0.1; fill:none\" points=\"\n",
       "  1295.12,1423.18 1295.12,123.472 \n",
       "  \"/>\n",
       "<polyline clip-path=\"url(#clip062)\" style=\"stroke:#000000; stroke-width:2; stroke-opacity:0.1; fill:none\" points=\"\n",
       "  1794,1423.18 1794,123.472 \n",
       "  \"/>\n",
       "<polyline clip-path=\"url(#clip062)\" style=\"stroke:#000000; stroke-width:2; stroke-opacity:0.1; fill:none\" points=\"\n",
       "  2292.89,1423.18 2292.89,123.472 \n",
       "  \"/>\n",
       "<polyline clip-path=\"url(#clip062)\" style=\"stroke:#000000; stroke-width:2; stroke-opacity:0.1; fill:none\" points=\"\n",
       "  237.482,1323.79 2352.76,1323.79 \n",
       "  \"/>\n",
       "<polyline clip-path=\"url(#clip062)\" style=\"stroke:#000000; stroke-width:2; stroke-opacity:0.1; fill:none\" points=\"\n",
       "  237.482,1092.12 2352.76,1092.12 \n",
       "  \"/>\n",
       "<polyline clip-path=\"url(#clip062)\" style=\"stroke:#000000; stroke-width:2; stroke-opacity:0.1; fill:none\" points=\"\n",
       "  237.482,860.452 2352.76,860.452 \n",
       "  \"/>\n",
       "<polyline clip-path=\"url(#clip062)\" style=\"stroke:#000000; stroke-width:2; stroke-opacity:0.1; fill:none\" points=\"\n",
       "  237.482,628.783 2352.76,628.783 \n",
       "  \"/>\n",
       "<polyline clip-path=\"url(#clip062)\" style=\"stroke:#000000; stroke-width:2; stroke-opacity:0.1; fill:none\" points=\"\n",
       "  237.482,397.114 2352.76,397.114 \n",
       "  \"/>\n",
       "<polyline clip-path=\"url(#clip062)\" style=\"stroke:#000000; stroke-width:2; stroke-opacity:0.1; fill:none\" points=\"\n",
       "  237.482,165.446 2352.76,165.446 \n",
       "  \"/>\n",
       "<polyline clip-path=\"url(#clip060)\" style=\"stroke:#000000; stroke-width:4; stroke-opacity:1; fill:none\" points=\"\n",
       "  237.482,1423.18 2352.76,1423.18 \n",
       "  \"/>\n",
       "<polyline clip-path=\"url(#clip060)\" style=\"stroke:#000000; stroke-width:4; stroke-opacity:1; fill:none\" points=\"\n",
       "  237.482,1423.18 237.482,123.472 \n",
       "  \"/>\n",
       "<polyline clip-path=\"url(#clip060)\" style=\"stroke:#000000; stroke-width:4; stroke-opacity:1; fill:none\" points=\"\n",
       "  297.348,1423.18 297.348,1407.58 \n",
       "  \"/>\n",
       "<polyline clip-path=\"url(#clip060)\" style=\"stroke:#000000; stroke-width:4; stroke-opacity:1; fill:none\" points=\"\n",
       "  796.234,1423.18 796.234,1407.58 \n",
       "  \"/>\n",
       "<polyline clip-path=\"url(#clip060)\" style=\"stroke:#000000; stroke-width:4; stroke-opacity:1; fill:none\" points=\"\n",
       "  1295.12,1423.18 1295.12,1407.58 \n",
       "  \"/>\n",
       "<polyline clip-path=\"url(#clip060)\" style=\"stroke:#000000; stroke-width:4; stroke-opacity:1; fill:none\" points=\"\n",
       "  1794,1423.18 1794,1407.58 \n",
       "  \"/>\n",
       "<polyline clip-path=\"url(#clip060)\" style=\"stroke:#000000; stroke-width:4; stroke-opacity:1; fill:none\" points=\"\n",
       "  2292.89,1423.18 2292.89,1407.58 \n",
       "  \"/>\n",
       "<polyline clip-path=\"url(#clip060)\" style=\"stroke:#000000; stroke-width:4; stroke-opacity:1; fill:none\" points=\"\n",
       "  237.482,1323.79 262.865,1323.79 \n",
       "  \"/>\n",
       "<polyline clip-path=\"url(#clip060)\" style=\"stroke:#000000; stroke-width:4; stroke-opacity:1; fill:none\" points=\"\n",
       "  237.482,1092.12 262.865,1092.12 \n",
       "  \"/>\n",
       "<polyline clip-path=\"url(#clip060)\" style=\"stroke:#000000; stroke-width:4; stroke-opacity:1; fill:none\" points=\"\n",
       "  237.482,860.452 262.865,860.452 \n",
       "  \"/>\n",
       "<polyline clip-path=\"url(#clip060)\" style=\"stroke:#000000; stroke-width:4; stroke-opacity:1; fill:none\" points=\"\n",
       "  237.482,628.783 262.865,628.783 \n",
       "  \"/>\n",
       "<polyline clip-path=\"url(#clip060)\" style=\"stroke:#000000; stroke-width:4; stroke-opacity:1; fill:none\" points=\"\n",
       "  237.482,397.114 262.865,397.114 \n",
       "  \"/>\n",
       "<polyline clip-path=\"url(#clip060)\" style=\"stroke:#000000; stroke-width:4; stroke-opacity:1; fill:none\" points=\"\n",
       "  237.482,165.446 262.865,165.446 \n",
       "  \"/>\n",
       "<path clip-path=\"url(#clip060)\" d=\"M 0 0 M266.538 1472.72 L282.857 1472.72 L282.857 1476.65 L260.913 1476.65 L260.913 1472.72 Q263.575 1469.96 268.158 1465.33 Q272.765 1460.68 273.946 1459.34 Q276.191 1456.81 277.07 1455.08 Q277.973 1453.32 277.973 1451.63 Q277.973 1448.87 276.029 1447.14 Q274.108 1445.4 271.006 1445.4 Q268.807 1445.4 266.353 1446.17 Q263.922 1446.93 261.145 1448.48 L261.145 1443.76 Q263.969 1442.62 266.422 1442.05 Q268.876 1441.47 270.913 1441.47 Q276.283 1441.47 279.478 1444.15 Q282.672 1446.84 282.672 1451.33 Q282.672 1453.46 281.862 1455.38 Q281.075 1457.28 278.969 1459.87 Q278.39 1460.54 275.288 1463.76 Q272.186 1466.95 266.538 1472.72 Z\" fill=\"#000000\" fill-rule=\"evenodd\" fill-opacity=\"1\" /><path clip-path=\"url(#clip060)\" d=\"M 0 0 M288.413 1470.77 L293.297 1470.77 L293.297 1474.75 L289.501 1482.16 L286.515 1482.16 L288.413 1474.75 L288.413 1470.77 Z\" fill=\"#000000\" fill-rule=\"evenodd\" fill-opacity=\"1\" /><path clip-path=\"url(#clip060)\" d=\"M 0 0 M317.464 1472.72 L333.783 1472.72 L333.783 1476.65 L311.839 1476.65 L311.839 1472.72 Q314.501 1469.96 319.084 1465.33 Q323.691 1460.68 324.871 1459.34 Q327.117 1456.81 327.996 1455.08 Q328.899 1453.32 328.899 1451.63 Q328.899 1448.87 326.954 1447.14 Q325.033 1445.4 321.931 1445.4 Q319.732 1445.4 317.279 1446.17 Q314.848 1446.93 312.07 1448.48 L312.07 1443.76 Q314.894 1442.62 317.348 1442.05 Q319.802 1441.47 321.839 1441.47 Q327.209 1441.47 330.404 1444.15 Q333.598 1446.84 333.598 1451.33 Q333.598 1453.46 332.788 1455.38 Q332.001 1457.28 329.894 1459.87 Q329.316 1460.54 326.214 1463.76 Q323.112 1466.95 317.464 1472.72 Z\" fill=\"#000000\" fill-rule=\"evenodd\" fill-opacity=\"1\" /><path clip-path=\"url(#clip060)\" d=\"M 0 0 M772.738 1446.17 L760.933 1464.61 L772.738 1464.61 L772.738 1446.17 M771.511 1442.09 L777.391 1442.09 L777.391 1464.61 L782.322 1464.61 L782.322 1468.5 L777.391 1468.5 L777.391 1476.65 L772.738 1476.65 L772.738 1468.5 L757.137 1468.5 L757.137 1463.99 L771.511 1442.09 Z\" fill=\"#000000\" fill-rule=\"evenodd\" fill-opacity=\"1\" /><path clip-path=\"url(#clip060)\" d=\"M 0 0 M787.877 1470.77 L792.761 1470.77 L792.761 1474.75 L788.965 1482.16 L785.979 1482.16 L787.877 1474.75 L787.877 1470.77 Z\" fill=\"#000000\" fill-rule=\"evenodd\" fill-opacity=\"1\" /><path clip-path=\"url(#clip060)\" d=\"M 0 0 M825.747 1446.17 L813.942 1464.61 L825.747 1464.61 L825.747 1446.17 M824.52 1442.09 L830.4 1442.09 L830.4 1464.61 L835.331 1464.61 L835.331 1468.5 L830.4 1468.5 L830.4 1476.65 L825.747 1476.65 L825.747 1468.5 L810.145 1468.5 L810.145 1463.99 L824.52 1442.09 Z\" fill=\"#000000\" fill-rule=\"evenodd\" fill-opacity=\"1\" /><path clip-path=\"url(#clip060)\" d=\"M 0 0 M1268.9 1460.24 Q1265.57 1460.24 1263.65 1462.02 Q1261.75 1463.8 1261.75 1466.93 Q1261.75 1470.05 1263.65 1471.84 Q1265.57 1473.62 1268.9 1473.62 Q1272.24 1473.62 1274.16 1471.84 Q1276.08 1470.03 1276.08 1466.93 Q1276.08 1463.8 1274.16 1462.02 Q1272.26 1460.24 1268.9 1460.24 M1264.23 1458.25 Q1261.22 1457.51 1259.53 1455.45 Q1257.86 1453.39 1257.86 1450.43 Q1257.86 1446.28 1260.8 1443.87 Q1263.76 1441.47 1268.9 1441.47 Q1274.07 1441.47 1277.01 1443.87 Q1279.95 1446.28 1279.95 1450.43 Q1279.95 1453.39 1278.26 1455.45 Q1276.59 1457.51 1273.6 1458.25 Q1276.98 1459.04 1278.86 1461.33 Q1280.76 1463.62 1280.76 1466.93 Q1280.76 1471.95 1277.68 1474.64 Q1274.62 1477.32 1268.9 1477.32 Q1263.19 1477.32 1260.11 1474.64 Q1257.05 1471.95 1257.05 1466.93 Q1257.05 1463.62 1258.95 1461.33 Q1260.85 1459.04 1264.23 1458.25 M1262.51 1450.86 Q1262.51 1453.55 1264.18 1455.05 Q1265.87 1456.56 1268.9 1456.56 Q1271.91 1456.56 1273.6 1455.05 Q1275.32 1453.55 1275.32 1450.86 Q1275.32 1448.18 1273.6 1446.68 Q1271.91 1445.17 1268.9 1445.17 Q1265.87 1445.17 1264.18 1446.68 Q1262.51 1448.18 1262.51 1450.86 Z\" fill=\"#000000\" fill-rule=\"evenodd\" fill-opacity=\"1\" /><path clip-path=\"url(#clip060)\" d=\"M 0 0 M1286.31 1470.77 L1291.2 1470.77 L1291.2 1474.75 L1287.4 1482.16 L1284.41 1482.16 L1286.31 1474.75 L1286.31 1470.77 Z\" fill=\"#000000\" fill-rule=\"evenodd\" fill-opacity=\"1\" /><path clip-path=\"url(#clip060)\" d=\"M 0 0 M1321.33 1460.24 Q1318 1460.24 1316.08 1462.02 Q1314.18 1463.8 1314.18 1466.93 Q1314.18 1470.05 1316.08 1471.84 Q1318 1473.62 1321.33 1473.62 Q1324.67 1473.62 1326.59 1471.84 Q1328.51 1470.03 1328.51 1466.93 Q1328.51 1463.8 1326.59 1462.02 Q1324.69 1460.24 1321.33 1460.24 M1316.66 1458.25 Q1313.65 1457.51 1311.96 1455.45 Q1310.29 1453.39 1310.29 1450.43 Q1310.29 1446.28 1313.23 1443.87 Q1316.2 1441.47 1321.33 1441.47 Q1326.5 1441.47 1329.44 1443.87 Q1332.38 1446.28 1332.38 1450.43 Q1332.38 1453.39 1330.69 1455.45 Q1329.02 1457.51 1326.03 1458.25 Q1329.41 1459.04 1331.29 1461.33 Q1333.19 1463.62 1333.19 1466.93 Q1333.19 1471.95 1330.11 1474.64 Q1327.05 1477.32 1321.33 1477.32 Q1315.62 1477.32 1312.54 1474.64 Q1309.48 1471.95 1309.48 1466.93 Q1309.48 1463.62 1311.38 1461.33 Q1313.28 1459.04 1316.66 1458.25 M1314.95 1450.86 Q1314.95 1453.55 1316.61 1455.05 Q1318.3 1456.56 1321.33 1456.56 Q1324.34 1456.56 1326.03 1455.05 Q1327.75 1453.55 1327.75 1450.86 Q1327.75 1448.18 1326.03 1446.68 Q1324.34 1445.17 1321.33 1445.17 Q1318.3 1445.17 1316.61 1446.68 Q1314.95 1448.18 1314.95 1450.86 Z\" fill=\"#000000\" fill-rule=\"evenodd\" fill-opacity=\"1\" /><path clip-path=\"url(#clip060)\" d=\"M 0 0 M1731.56 1472.72 L1739.2 1472.72 L1739.2 1446.35 L1730.89 1448.02 L1730.89 1443.76 L1739.16 1442.09 L1743.83 1442.09 L1743.83 1472.72 L1751.47 1472.72 L1751.47 1476.65 L1731.56 1476.65 L1731.56 1472.72 Z\" fill=\"#000000\" fill-rule=\"evenodd\" fill-opacity=\"1\" /><path clip-path=\"url(#clip060)\" d=\"M 0 0 M1767.12 1457.51 Q1763.97 1457.51 1762.12 1459.66 Q1760.29 1461.81 1760.29 1465.56 Q1760.29 1469.29 1762.12 1471.47 Q1763.97 1473.62 1767.12 1473.62 Q1770.27 1473.62 1772.09 1471.47 Q1773.95 1469.29 1773.95 1465.56 Q1773.95 1461.81 1772.09 1459.66 Q1770.27 1457.51 1767.12 1457.51 M1776.4 1442.86 L1776.4 1447.11 Q1774.64 1446.28 1772.84 1445.84 Q1771.05 1445.4 1769.29 1445.4 Q1764.66 1445.4 1762.21 1448.53 Q1759.78 1451.65 1759.43 1457.97 Q1760.8 1455.96 1762.86 1454.89 Q1764.92 1453.8 1767.4 1453.8 Q1772.6 1453.8 1775.61 1456.98 Q1778.65 1460.12 1778.65 1465.56 Q1778.65 1470.89 1775.5 1474.11 Q1772.35 1477.32 1767.12 1477.32 Q1761.12 1477.32 1757.95 1472.74 Q1754.78 1468.13 1754.78 1459.41 Q1754.78 1451.21 1758.67 1446.35 Q1762.56 1441.47 1769.11 1441.47 Q1770.87 1441.47 1772.65 1441.81 Q1774.46 1442.16 1776.4 1442.86 Z\" fill=\"#000000\" fill-rule=\"evenodd\" fill-opacity=\"1\" /><path clip-path=\"url(#clip060)\" d=\"M 0 0 M1784.2 1470.77 L1789.09 1470.77 L1789.09 1474.75 L1785.29 1482.16 L1782.3 1482.16 L1784.2 1474.75 L1784.2 1470.77 Z\" fill=\"#000000\" fill-rule=\"evenodd\" fill-opacity=\"1\" /><path clip-path=\"url(#clip060)\" d=\"M 0 0 M1810.03 1472.72 L1817.67 1472.72 L1817.67 1446.35 L1809.36 1448.02 L1809.36 1443.76 L1817.63 1442.09 L1822.3 1442.09 L1822.3 1472.72 L1829.94 1472.72 L1829.94 1476.65 L1810.03 1476.65 L1810.03 1472.72 Z\" fill=\"#000000\" fill-rule=\"evenodd\" fill-opacity=\"1\" /><path clip-path=\"url(#clip060)\" d=\"M 0 0 M1845.59 1457.51 Q1842.44 1457.51 1840.59 1459.66 Q1838.76 1461.81 1838.76 1465.56 Q1838.76 1469.29 1840.59 1471.47 Q1842.44 1473.62 1845.59 1473.62 Q1848.74 1473.62 1850.57 1471.47 Q1852.42 1469.29 1852.42 1465.56 Q1852.42 1461.81 1850.57 1459.66 Q1848.74 1457.51 1845.59 1457.51 M1854.87 1442.86 L1854.87 1447.11 Q1853.11 1446.28 1851.31 1445.84 Q1849.52 1445.4 1847.77 1445.4 Q1843.14 1445.4 1840.68 1448.53 Q1838.25 1451.65 1837.9 1457.97 Q1839.27 1455.96 1841.33 1454.89 Q1843.39 1453.8 1845.87 1453.8 Q1851.08 1453.8 1854.08 1456.98 Q1857.12 1460.12 1857.12 1465.56 Q1857.12 1470.89 1853.97 1474.11 Q1850.82 1477.32 1845.59 1477.32 Q1839.59 1477.32 1836.42 1472.74 Q1833.25 1468.13 1833.25 1459.41 Q1833.25 1451.21 1837.14 1446.35 Q1841.03 1441.47 1847.58 1441.47 Q1849.34 1441.47 1851.12 1441.81 Q1852.93 1442.16 1854.87 1442.86 Z\" fill=\"#000000\" fill-rule=\"evenodd\" fill-opacity=\"1\" /><path clip-path=\"url(#clip060)\" d=\"M 0 0 M2245.78 1458.02 Q2249.14 1458.74 2251.01 1461 Q2252.91 1463.27 2252.91 1466.61 Q2252.91 1471.72 2249.39 1474.52 Q2245.88 1477.32 2239.39 1477.32 Q2237.22 1477.32 2234.9 1476.88 Q2232.61 1476.47 2230.16 1475.61 L2230.16 1471.1 Q2232.1 1472.23 2234.42 1472.81 Q2236.73 1473.39 2239.26 1473.39 Q2243.65 1473.39 2245.95 1471.65 Q2248.26 1469.92 2248.26 1466.61 Q2248.26 1463.55 2246.11 1461.84 Q2243.98 1460.1 2240.16 1460.1 L2236.13 1460.1 L2236.13 1456.26 L2240.34 1456.26 Q2243.79 1456.26 2245.62 1454.89 Q2247.45 1453.5 2247.45 1450.91 Q2247.45 1448.25 2245.55 1446.84 Q2243.68 1445.4 2240.16 1445.4 Q2238.24 1445.4 2236.04 1445.82 Q2233.84 1446.24 2231.2 1447.11 L2231.2 1442.95 Q2233.86 1442.21 2236.18 1441.84 Q2238.51 1441.47 2240.58 1441.47 Q2245.9 1441.47 2249 1443.9 Q2252.1 1446.3 2252.1 1450.43 Q2252.1 1453.3 2250.46 1455.29 Q2248.82 1457.25 2245.78 1458.02 Z\" fill=\"#000000\" fill-rule=\"evenodd\" fill-opacity=\"1\" /><path clip-path=\"url(#clip060)\" d=\"M 0 0 M2262.01 1472.72 L2278.33 1472.72 L2278.33 1476.65 L2256.39 1476.65 L2256.39 1472.72 Q2259.05 1469.96 2263.63 1465.33 Q2268.24 1460.68 2269.42 1459.34 Q2271.66 1456.81 2272.54 1455.08 Q2273.45 1453.32 2273.45 1451.63 Q2273.45 1448.87 2271.5 1447.14 Q2269.58 1445.4 2266.48 1445.4 Q2264.28 1445.4 2261.83 1446.17 Q2259.39 1446.93 2256.62 1448.48 L2256.62 1443.76 Q2259.44 1442.62 2261.89 1442.05 Q2264.35 1441.47 2266.39 1441.47 Q2271.76 1441.47 2274.95 1444.15 Q2278.14 1446.84 2278.14 1451.33 Q2278.14 1453.46 2277.33 1455.38 Q2276.55 1457.28 2274.44 1459.87 Q2273.86 1460.54 2270.76 1463.76 Q2267.66 1466.95 2262.01 1472.72 Z\" fill=\"#000000\" fill-rule=\"evenodd\" fill-opacity=\"1\" /><path clip-path=\"url(#clip060)\" d=\"M 0 0 M2283.89 1470.77 L2288.77 1470.77 L2288.77 1474.75 L2284.97 1482.16 L2281.99 1482.16 L2283.89 1474.75 L2283.89 1470.77 Z\" fill=\"#000000\" fill-rule=\"evenodd\" fill-opacity=\"1\" /><path clip-path=\"url(#clip060)\" d=\"M 0 0 M2323.07 1458.02 Q2326.43 1458.74 2328.31 1461 Q2330.2 1463.27 2330.2 1466.61 Q2330.2 1471.72 2326.69 1474.52 Q2323.17 1477.32 2316.69 1477.32 Q2314.51 1477.32 2312.2 1476.88 Q2309.9 1476.47 2307.45 1475.61 L2307.45 1471.1 Q2309.39 1472.23 2311.71 1472.81 Q2314.02 1473.39 2316.55 1473.39 Q2320.95 1473.39 2323.24 1471.65 Q2325.55 1469.92 2325.55 1466.61 Q2325.55 1463.55 2323.4 1461.84 Q2321.27 1460.1 2317.45 1460.1 L2313.42 1460.1 L2313.42 1456.26 L2317.63 1456.26 Q2321.08 1456.26 2322.91 1454.89 Q2324.74 1453.5 2324.74 1450.91 Q2324.74 1448.25 2322.84 1446.84 Q2320.97 1445.4 2317.45 1445.4 Q2315.53 1445.4 2313.33 1445.82 Q2311.13 1446.24 2308.49 1447.11 L2308.49 1442.95 Q2311.15 1442.21 2313.47 1441.84 Q2315.81 1441.47 2317.87 1441.47 Q2323.19 1441.47 2326.29 1443.9 Q2329.39 1446.3 2329.39 1450.43 Q2329.39 1453.3 2327.75 1455.29 Q2326.11 1457.25 2323.07 1458.02 Z\" fill=\"#000000\" fill-rule=\"evenodd\" fill-opacity=\"1\" /><path clip-path=\"url(#clip060)\" d=\"M 0 0 M2339.3 1472.72 L2355.62 1472.72 L2355.62 1476.65 L2333.68 1476.65 L2333.68 1472.72 Q2336.34 1469.96 2340.92 1465.33 Q2345.53 1460.68 2346.71 1459.34 Q2348.95 1456.81 2349.83 1455.08 Q2350.74 1453.32 2350.74 1451.63 Q2350.74 1448.87 2348.79 1447.14 Q2346.87 1445.4 2343.77 1445.4 Q2341.57 1445.4 2339.12 1446.17 Q2336.69 1446.93 2333.91 1448.48 L2333.91 1443.76 Q2336.73 1442.62 2339.19 1442.05 Q2341.64 1441.47 2343.68 1441.47 Q2349.05 1441.47 2352.24 1444.15 Q2355.44 1446.84 2355.44 1451.33 Q2355.44 1453.46 2354.63 1455.38 Q2353.84 1457.28 2351.73 1459.87 Q2351.15 1460.54 2348.05 1463.76 Q2344.95 1466.95 2339.3 1472.72 Z\" fill=\"#000000\" fill-rule=\"evenodd\" fill-opacity=\"1\" /><path clip-path=\"url(#clip060)\" d=\"M 0 0 M138.552 1309.59 Q134.941 1309.59 133.112 1313.15 Q131.306 1316.69 131.306 1323.82 Q131.306 1330.93 133.112 1334.5 Q134.941 1338.04 138.552 1338.04 Q142.186 1338.04 143.992 1334.5 Q145.82 1330.93 145.82 1323.82 Q145.82 1316.69 143.992 1313.15 Q142.186 1309.59 138.552 1309.59 M138.552 1305.88 Q144.362 1305.88 147.417 1310.49 Q150.496 1315.07 150.496 1323.82 Q150.496 1332.55 147.417 1337.16 Q144.362 1341.74 138.552 1341.74 Q132.742 1341.74 129.663 1337.16 Q126.607 1332.55 126.607 1323.82 Q126.607 1315.07 129.663 1310.49 Q132.742 1305.88 138.552 1305.88 Z\" fill=\"#000000\" fill-rule=\"evenodd\" fill-opacity=\"1\" /><path clip-path=\"url(#clip060)\" d=\"M 0 0 M155.566 1335.19 L160.45 1335.19 L160.45 1341.07 L155.566 1341.07 L155.566 1335.19 Z\" fill=\"#000000\" fill-rule=\"evenodd\" fill-opacity=\"1\" /><path clip-path=\"url(#clip060)\" d=\"M 0 0 M175.519 1309.59 Q171.908 1309.59 170.079 1313.15 Q168.274 1316.69 168.274 1323.82 Q168.274 1330.93 170.079 1334.5 Q171.908 1338.04 175.519 1338.04 Q179.153 1338.04 180.959 1334.5 Q182.788 1330.93 182.788 1323.82 Q182.788 1316.69 180.959 1313.15 Q179.153 1309.59 175.519 1309.59 M175.519 1305.88 Q181.329 1305.88 184.385 1310.49 Q187.464 1315.07 187.464 1323.82 Q187.464 1332.55 184.385 1337.16 Q181.329 1341.74 175.519 1341.74 Q169.709 1341.74 166.63 1337.16 Q163.575 1332.55 163.575 1323.82 Q163.575 1315.07 166.63 1310.49 Q169.709 1305.88 175.519 1305.88 Z\" fill=\"#000000\" fill-rule=\"evenodd\" fill-opacity=\"1\" /><path clip-path=\"url(#clip060)\" d=\"M 0 0 M192.579 1306.51 L210.936 1306.51 L210.936 1310.44 L196.862 1310.44 L196.862 1318.92 Q197.88 1318.57 198.899 1318.41 Q199.917 1318.22 200.936 1318.22 Q206.723 1318.22 210.102 1321.39 Q213.482 1324.56 213.482 1329.98 Q213.482 1335.56 210.01 1338.66 Q206.538 1341.74 200.218 1341.74 Q198.042 1341.74 195.774 1341.37 Q193.528 1341 191.121 1340.26 L191.121 1335.56 Q193.204 1336.69 195.426 1337.25 Q197.649 1337.81 200.126 1337.81 Q204.13 1337.81 206.468 1335.7 Q208.806 1333.59 208.806 1329.98 Q208.806 1326.37 206.468 1324.26 Q204.13 1322.16 200.126 1322.16 Q198.251 1322.16 196.376 1322.57 Q194.524 1322.99 192.579 1323.87 L192.579 1306.51 Z\" fill=\"#000000\" fill-rule=\"evenodd\" fill-opacity=\"1\" /><path clip-path=\"url(#clip060)\" d=\"M 0 0 M138.783 1077.92 Q135.172 1077.92 133.343 1081.48 Q131.538 1085.03 131.538 1092.16 Q131.538 1099.26 133.343 1102.83 Q135.172 1106.37 138.783 1106.37 Q142.417 1106.37 144.223 1102.83 Q146.052 1099.26 146.052 1092.16 Q146.052 1085.03 144.223 1081.48 Q142.417 1077.92 138.783 1077.92 M138.783 1074.22 Q144.593 1074.22 147.649 1078.82 Q150.728 1083.41 150.728 1092.16 Q150.728 1100.88 147.649 1105.49 Q144.593 1110.07 138.783 1110.07 Q132.973 1110.07 129.894 1105.49 Q126.839 1100.88 126.839 1092.16 Q126.839 1083.41 129.894 1078.82 Q132.973 1074.22 138.783 1074.22 Z\" fill=\"#000000\" fill-rule=\"evenodd\" fill-opacity=\"1\" /><path clip-path=\"url(#clip060)\" d=\"M 0 0 M155.797 1103.52 L160.681 1103.52 L160.681 1109.4 L155.797 1109.4 L155.797 1103.52 Z\" fill=\"#000000\" fill-rule=\"evenodd\" fill-opacity=\"1\" /><path clip-path=\"url(#clip060)\" d=\"M 0 0 M166.561 1105.47 L174.2 1105.47 L174.2 1079.1 L165.89 1080.77 L165.89 1076.51 L174.153 1074.84 L178.829 1074.84 L178.829 1105.47 L186.468 1105.47 L186.468 1109.4 L166.561 1109.4 L166.561 1105.47 Z\" fill=\"#000000\" fill-rule=\"evenodd\" fill-opacity=\"1\" /><path clip-path=\"url(#clip060)\" d=\"M 0 0 M201.538 1077.92 Q197.926 1077.92 196.098 1081.48 Q194.292 1085.03 194.292 1092.16 Q194.292 1099.26 196.098 1102.83 Q197.926 1106.37 201.538 1106.37 Q205.172 1106.37 206.977 1102.83 Q208.806 1099.26 208.806 1092.16 Q208.806 1085.03 206.977 1081.48 Q205.172 1077.92 201.538 1077.92 M201.538 1074.22 Q207.348 1074.22 210.403 1078.82 Q213.482 1083.41 213.482 1092.16 Q213.482 1100.88 210.403 1105.49 Q207.348 1110.07 201.538 1110.07 Q195.727 1110.07 192.649 1105.49 Q189.593 1100.88 189.593 1092.16 Q189.593 1083.41 192.649 1078.82 Q195.727 1074.22 201.538 1074.22 Z\" fill=\"#000000\" fill-rule=\"evenodd\" fill-opacity=\"1\" /><path clip-path=\"url(#clip060)\" d=\"M 0 0 M139.779 846.251 Q136.168 846.251 134.339 849.815 Q132.533 853.357 132.533 860.487 Q132.533 867.593 134.339 871.158 Q136.168 874.7 139.779 874.7 Q143.413 874.7 145.218 871.158 Q147.047 867.593 147.047 860.487 Q147.047 853.357 145.218 849.815 Q143.413 846.251 139.779 846.251 M139.779 842.547 Q145.589 842.547 148.644 847.153 Q151.723 851.737 151.723 860.487 Q151.723 869.213 148.644 873.82 Q145.589 878.403 139.779 878.403 Q133.968 878.403 130.89 873.82 Q127.834 869.213 127.834 860.487 Q127.834 851.737 130.89 847.153 Q133.968 842.547 139.779 842.547 Z\" fill=\"#000000\" fill-rule=\"evenodd\" fill-opacity=\"1\" /><path clip-path=\"url(#clip060)\" d=\"M 0 0 M156.792 871.852 L161.677 871.852 L161.677 877.732 L156.792 877.732 L156.792 871.852 Z\" fill=\"#000000\" fill-rule=\"evenodd\" fill-opacity=\"1\" /><path clip-path=\"url(#clip060)\" d=\"M 0 0 M167.556 873.797 L175.195 873.797 L175.195 847.431 L166.885 849.098 L166.885 844.839 L175.149 843.172 L179.825 843.172 L179.825 873.797 L187.464 873.797 L187.464 877.732 L167.556 877.732 L167.556 873.797 Z\" fill=\"#000000\" fill-rule=\"evenodd\" fill-opacity=\"1\" /><path clip-path=\"url(#clip060)\" d=\"M 0 0 M192.579 843.172 L210.936 843.172 L210.936 847.107 L196.862 847.107 L196.862 855.579 Q197.88 855.232 198.899 855.07 Q199.917 854.885 200.936 854.885 Q206.723 854.885 210.102 858.056 Q213.482 861.227 213.482 866.644 Q213.482 872.223 210.01 875.325 Q206.538 878.403 200.218 878.403 Q198.042 878.403 195.774 878.033 Q193.528 877.663 191.121 876.922 L191.121 872.223 Q193.204 873.357 195.426 873.913 Q197.649 874.468 200.126 874.468 Q204.13 874.468 206.468 872.362 Q208.806 870.255 208.806 866.644 Q208.806 863.033 206.468 860.927 Q204.13 858.82 200.126 858.82 Q198.251 858.82 196.376 859.237 Q194.524 859.653 192.579 860.533 L192.579 843.172 Z\" fill=\"#000000\" fill-rule=\"evenodd\" fill-opacity=\"1\" /><path clip-path=\"url(#clip060)\" d=\"M 0 0 M139.154 614.582 Q135.543 614.582 133.714 618.147 Q131.908 621.688 131.908 628.818 Q131.908 635.924 133.714 639.489 Q135.543 643.031 139.154 643.031 Q142.788 643.031 144.593 639.489 Q146.422 635.924 146.422 628.818 Q146.422 621.688 144.593 618.147 Q142.788 614.582 139.154 614.582 M139.154 610.878 Q144.964 610.878 148.019 615.485 Q151.098 620.068 151.098 628.818 Q151.098 637.545 148.019 642.151 Q144.964 646.735 139.154 646.735 Q133.343 646.735 130.265 642.151 Q127.209 637.545 127.209 628.818 Q127.209 620.068 130.265 615.485 Q133.343 610.878 139.154 610.878 Z\" fill=\"#000000\" fill-rule=\"evenodd\" fill-opacity=\"1\" /><path clip-path=\"url(#clip060)\" d=\"M 0 0 M156.167 640.184 L161.052 640.184 L161.052 646.063 L156.167 646.063 L156.167 640.184 Z\" fill=\"#000000\" fill-rule=\"evenodd\" fill-opacity=\"1\" /><path clip-path=\"url(#clip060)\" d=\"M 0 0 M170.149 642.128 L186.468 642.128 L186.468 646.063 L164.524 646.063 L164.524 642.128 Q167.186 639.373 171.769 634.744 Q176.376 630.091 177.556 628.748 Q179.802 626.225 180.681 624.489 Q181.584 622.73 181.584 621.04 Q181.584 618.286 179.64 616.549 Q177.718 614.813 174.616 614.813 Q172.417 614.813 169.964 615.577 Q167.533 616.341 164.755 617.892 L164.755 613.17 Q167.579 612.036 170.033 611.457 Q172.487 610.878 174.524 610.878 Q179.894 610.878 183.089 613.563 Q186.283 616.249 186.283 620.739 Q186.283 622.869 185.473 624.79 Q184.686 626.688 182.579 629.281 Q182.001 629.952 178.899 633.17 Q175.797 636.364 170.149 642.128 Z\" fill=\"#000000\" fill-rule=\"evenodd\" fill-opacity=\"1\" /><path clip-path=\"url(#clip060)\" d=\"M 0 0 M201.538 614.582 Q197.926 614.582 196.098 618.147 Q194.292 621.688 194.292 628.818 Q194.292 635.924 196.098 639.489 Q197.926 643.031 201.538 643.031 Q205.172 643.031 206.977 639.489 Q208.806 635.924 208.806 628.818 Q208.806 621.688 206.977 618.147 Q205.172 614.582 201.538 614.582 M201.538 610.878 Q207.348 610.878 210.403 615.485 Q213.482 620.068 213.482 628.818 Q213.482 637.545 210.403 642.151 Q207.348 646.735 201.538 646.735 Q195.727 646.735 192.649 642.151 Q189.593 637.545 189.593 628.818 Q189.593 620.068 192.649 615.485 Q195.727 610.878 201.538 610.878 Z\" fill=\"#000000\" fill-rule=\"evenodd\" fill-opacity=\"1\" /><path clip-path=\"url(#clip060)\" d=\"M 0 0 M140.149 382.913 Q136.538 382.913 134.709 386.478 Q132.904 390.02 132.904 397.149 Q132.904 404.256 134.709 407.82 Q136.538 411.362 140.149 411.362 Q143.783 411.362 145.589 407.82 Q147.417 404.256 147.417 397.149 Q147.417 390.02 145.589 386.478 Q143.783 382.913 140.149 382.913 M140.149 379.209 Q145.959 379.209 149.015 383.816 Q152.093 388.399 152.093 397.149 Q152.093 405.876 149.015 410.482 Q145.959 415.066 140.149 415.066 Q134.339 415.066 131.26 410.482 Q128.205 405.876 128.205 397.149 Q128.205 388.399 131.26 383.816 Q134.339 379.209 140.149 379.209 Z\" fill=\"#000000\" fill-rule=\"evenodd\" fill-opacity=\"1\" /><path clip-path=\"url(#clip060)\" d=\"M 0 0 M157.163 408.515 L162.047 408.515 L162.047 414.394 L157.163 414.394 L157.163 408.515 Z\" fill=\"#000000\" fill-rule=\"evenodd\" fill-opacity=\"1\" /><path clip-path=\"url(#clip060)\" d=\"M 0 0 M171.144 410.459 L187.464 410.459 L187.464 414.394 L165.519 414.394 L165.519 410.459 Q168.181 407.705 172.765 403.075 Q177.371 398.422 178.552 397.08 Q180.797 394.557 181.677 392.82 Q182.579 391.061 182.579 389.371 Q182.579 386.617 180.635 384.881 Q178.714 383.145 175.612 383.145 Q173.413 383.145 170.959 383.909 Q168.528 384.672 165.751 386.223 L165.751 381.501 Q168.575 380.367 171.028 379.788 Q173.482 379.209 175.519 379.209 Q180.889 379.209 184.084 381.895 Q187.278 384.58 187.278 389.071 Q187.278 391.2 186.468 393.121 Q185.681 395.02 183.575 397.612 Q182.996 398.283 179.894 401.501 Q176.792 404.695 171.144 410.459 Z\" fill=\"#000000\" fill-rule=\"evenodd\" fill-opacity=\"1\" /><path clip-path=\"url(#clip060)\" d=\"M 0 0 M192.579 379.834 L210.936 379.834 L210.936 383.77 L196.862 383.77 L196.862 392.242 Q197.88 391.895 198.899 391.733 Q199.917 391.547 200.936 391.547 Q206.723 391.547 210.102 394.719 Q213.482 397.89 213.482 403.307 Q213.482 408.885 210.01 411.987 Q206.538 415.066 200.218 415.066 Q198.042 415.066 195.774 414.695 Q193.528 414.325 191.121 413.584 L191.121 408.885 Q193.204 410.019 195.426 410.575 Q197.649 411.131 200.126 411.131 Q204.13 411.131 206.468 409.024 Q208.806 406.918 208.806 403.307 Q208.806 399.695 206.468 397.589 Q204.13 395.483 200.126 395.483 Q198.251 395.483 196.376 395.899 Q194.524 396.316 192.579 397.195 L192.579 379.834 Z\" fill=\"#000000\" fill-rule=\"evenodd\" fill-opacity=\"1\" /><path clip-path=\"url(#clip060)\" d=\"M 0 0 M138.205 151.244 Q134.593 151.244 132.765 154.809 Q130.959 158.351 130.959 165.48 Q130.959 172.587 132.765 176.152 Q134.593 179.693 138.205 179.693 Q141.839 179.693 143.644 176.152 Q145.473 172.587 145.473 165.48 Q145.473 158.351 143.644 154.809 Q141.839 151.244 138.205 151.244 M138.205 147.541 Q144.015 147.541 147.07 152.147 Q150.149 156.73 150.149 165.48 Q150.149 174.207 147.07 178.814 Q144.015 183.397 138.205 183.397 Q132.394 183.397 129.316 178.814 Q126.26 174.207 126.26 165.48 Q126.26 156.73 129.316 152.147 Q132.394 147.541 138.205 147.541 Z\" fill=\"#000000\" fill-rule=\"evenodd\" fill-opacity=\"1\" /><path clip-path=\"url(#clip060)\" d=\"M 0 0 M155.218 176.846 L160.103 176.846 L160.103 182.726 L155.218 182.726 L155.218 176.846 Z\" fill=\"#000000\" fill-rule=\"evenodd\" fill-opacity=\"1\" /><path clip-path=\"url(#clip060)\" d=\"M 0 0 M179.339 164.092 Q182.695 164.809 184.57 167.078 Q186.468 169.346 186.468 172.679 Q186.468 177.795 182.95 180.596 Q179.431 183.397 172.95 183.397 Q170.774 183.397 168.459 182.957 Q166.167 182.541 163.714 181.684 L163.714 177.17 Q165.658 178.304 167.973 178.883 Q170.288 179.462 172.811 179.462 Q177.209 179.462 179.501 177.726 Q181.815 175.99 181.815 172.679 Q181.815 169.624 179.663 167.911 Q177.533 166.175 173.714 166.175 L169.686 166.175 L169.686 162.332 L173.899 162.332 Q177.348 162.332 179.177 160.967 Q181.005 159.578 181.005 156.985 Q181.005 154.323 179.107 152.911 Q177.232 151.476 173.714 151.476 Q171.792 151.476 169.593 151.893 Q167.394 152.309 164.755 153.189 L164.755 149.022 Q167.417 148.281 169.732 147.911 Q172.07 147.541 174.13 147.541 Q179.454 147.541 182.556 149.971 Q185.658 152.379 185.658 156.499 Q185.658 159.369 184.014 161.36 Q182.371 163.328 179.339 164.092 Z\" fill=\"#000000\" fill-rule=\"evenodd\" fill-opacity=\"1\" /><path clip-path=\"url(#clip060)\" d=\"M 0 0 M201.538 151.244 Q197.926 151.244 196.098 154.809 Q194.292 158.351 194.292 165.48 Q194.292 172.587 196.098 176.152 Q197.926 179.693 201.538 179.693 Q205.172 179.693 206.977 176.152 Q208.806 172.587 208.806 165.48 Q208.806 158.351 206.977 154.809 Q205.172 151.244 201.538 151.244 M201.538 147.541 Q207.348 147.541 210.403 152.147 Q213.482 156.73 213.482 165.48 Q213.482 174.207 210.403 178.814 Q207.348 183.397 201.538 183.397 Q195.727 183.397 192.649 178.814 Q189.593 174.207 189.593 165.48 Q189.593 156.73 192.649 152.147 Q195.727 147.541 201.538 147.541 Z\" fill=\"#000000\" fill-rule=\"evenodd\" fill-opacity=\"1\" /><path clip-path=\"url(#clip060)\" d=\"M 0 0 M842.613 12.096 L880.853 12.096 L880.853 18.9825 L850.795 18.9825 L850.795 36.8875 L879.597 36.8875 L879.597 43.7741 L850.795 43.7741 L850.795 65.6895 L881.582 65.6895 L881.582 72.576 L842.613 72.576 L842.613 12.096 Z\" fill=\"#000000\" fill-rule=\"evenodd\" fill-opacity=\"1\" /><path clip-path=\"url(#clip060)\" d=\"M 0 0 M927.115 27.2059 L910.708 49.2833 L927.965 72.576 L919.175 72.576 L905.969 54.752 L892.763 72.576 L883.972 72.576 L901.594 48.8377 L885.471 27.2059 L894.262 27.2059 L906.293 43.369 L918.324 27.2059 L927.115 27.2059 Z\" fill=\"#000000\" fill-rule=\"evenodd\" fill-opacity=\"1\" /><path clip-path=\"url(#clip060)\" d=\"M 0 0 M942.994 65.7705 L942.994 89.8329 L935.5 89.8329 L935.5 27.2059 L942.994 27.2059 L942.994 34.0924 Q945.344 30.0415 948.908 28.0971 Q952.514 26.1121 957.496 26.1121 Q965.76 26.1121 970.905 32.6746 Q976.09 39.2371 976.09 49.9314 Q976.09 60.6258 970.905 67.1883 Q965.76 73.7508 957.496 73.7508 Q952.514 73.7508 948.908 71.8063 Q945.344 69.8214 942.994 65.7705 M968.353 49.9314 Q968.353 41.7081 964.95 37.0496 Q961.588 32.3505 955.673 32.3505 Q949.759 32.3505 946.356 37.0496 Q942.994 41.7081 942.994 49.9314 Q942.994 58.1548 946.356 62.8538 Q949.759 67.5124 955.673 67.5124 Q961.588 67.5124 964.95 62.8538 Q968.353 58.1548 968.353 49.9314 Z\" fill=\"#000000\" fill-rule=\"evenodd\" fill-opacity=\"1\" /><path clip-path=\"url(#clip060)\" d=\"M 0 0 M1022.72 48.0275 L1022.72 51.6733 L988.445 51.6733 Q988.931 59.3701 993.063 63.421 Q997.236 67.4314 1004.65 67.4314 Q1008.94 67.4314 1012.95 66.3781 Q1017 65.3249 1020.97 63.2184 L1020.97 70.267 Q1016.96 71.9684 1012.75 72.8596 Q1008.54 73.7508 1004.2 73.7508 Q993.347 73.7508 986.987 67.4314 Q980.667 61.1119 980.667 50.3365 Q980.667 39.1965 986.663 32.6746 Q992.699 26.1121 1002.91 26.1121 Q1012.06 26.1121 1017.37 32.0264 Q1022.72 37.9003 1022.72 48.0275 M1015.26 45.84 Q1015.18 39.7232 1011.82 36.0774 Q1008.5 32.4315 1002.99 32.4315 Q996.75 32.4315 992.982 35.9558 Q989.255 39.4801 988.688 45.8805 L1015.26 45.84 Z\" fill=\"#000000\" fill-rule=\"evenodd\" fill-opacity=\"1\" /><path clip-path=\"url(#clip060)\" d=\"M 0 0 M1056.82 34.1734 Q1055.57 33.4443 1054.07 33.1202 Q1052.61 32.7556 1050.83 32.7556 Q1044.51 32.7556 1041.11 36.8875 Q1037.74 40.9789 1037.74 48.6757 L1037.74 72.576 L1030.25 72.576 L1030.25 27.2059 L1037.74 27.2059 L1037.74 34.2544 Q1040.09 30.1225 1043.86 28.1376 Q1047.63 26.1121 1053.02 26.1121 Q1053.79 26.1121 1054.72 26.2337 Q1055.65 26.3147 1056.78 26.5172 L1056.82 34.1734 Z\" fill=\"#000000\" fill-rule=\"evenodd\" fill-opacity=\"1\" /><path clip-path=\"url(#clip060)\" d=\"M 0 0 M1064.64 27.2059 L1072.1 27.2059 L1072.1 72.576 L1064.64 72.576 L1064.64 27.2059 M1064.64 9.54393 L1072.1 9.54393 L1072.1 18.9825 L1064.64 18.9825 L1064.64 9.54393 Z\" fill=\"#000000\" fill-rule=\"evenodd\" fill-opacity=\"1\" /><path clip-path=\"url(#clip060)\" d=\"M 0 0 M1115.24 35.9153 Q1118.03 30.8922 1121.92 28.5022 Q1125.81 26.1121 1131.08 26.1121 Q1138.17 26.1121 1142.01 31.0947 Q1145.86 36.0368 1145.86 45.1919 L1145.86 72.576 L1138.37 72.576 L1138.37 45.4349 Q1138.37 38.913 1136.06 35.7533 Q1133.75 32.5936 1129.01 32.5936 Q1123.22 32.5936 1119.86 36.4419 Q1116.49 40.2903 1116.49 46.9338 L1116.49 72.576 L1109 72.576 L1109 45.4349 Q1109 38.8725 1106.69 35.7533 Q1104.38 32.5936 1099.56 32.5936 Q1093.85 32.5936 1090.49 36.4824 Q1087.13 40.3308 1087.13 46.9338 L1087.13 72.576 L1079.63 72.576 L1079.63 27.2059 L1087.13 27.2059 L1087.13 34.2544 Q1089.68 30.082 1093.24 28.0971 Q1096.81 26.1121 1101.71 26.1121 Q1106.65 26.1121 1110.09 28.6237 Q1113.58 31.1352 1115.24 35.9153 Z\" fill=\"#000000\" fill-rule=\"evenodd\" fill-opacity=\"1\" /><path clip-path=\"url(#clip060)\" d=\"M 0 0 M1192.49 48.0275 L1192.49 51.6733 L1158.22 51.6733 Q1158.7 59.3701 1162.84 63.421 Q1167.01 67.4314 1174.42 67.4314 Q1178.72 67.4314 1182.73 66.3781 Q1186.78 65.3249 1190.75 63.2184 L1190.75 70.267 Q1186.74 71.9684 1182.52 72.8596 Q1178.31 73.7508 1173.98 73.7508 Q1163.12 73.7508 1156.76 67.4314 Q1150.44 61.1119 1150.44 50.3365 Q1150.44 39.1965 1156.44 32.6746 Q1162.47 26.1121 1172.68 26.1121 Q1181.84 26.1121 1187.14 32.0264 Q1192.49 37.9003 1192.49 48.0275 M1185.04 45.84 Q1184.95 39.7232 1181.59 36.0774 Q1178.27 32.4315 1172.76 32.4315 Q1166.52 32.4315 1162.76 35.9558 Q1159.03 39.4801 1158.46 45.8805 L1185.04 45.84 Z\" fill=\"#000000\" fill-rule=\"evenodd\" fill-opacity=\"1\" /><path clip-path=\"url(#clip060)\" d=\"M 0 0 M1238.02 45.1919 L1238.02 72.576 L1230.57 72.576 L1230.57 45.4349 Q1230.57 38.994 1228.06 35.7938 Q1225.54 32.5936 1220.52 32.5936 Q1214.49 32.5936 1211 36.4419 Q1207.52 40.2903 1207.52 46.9338 L1207.52 72.576 L1200.02 72.576 L1200.02 27.2059 L1207.52 27.2059 L1207.52 34.2544 Q1210.19 30.163 1213.8 28.1376 Q1217.44 26.1121 1222.18 26.1121 Q1230 26.1121 1234.01 30.9732 Q1238.02 35.7938 1238.02 45.1919 Z\" fill=\"#000000\" fill-rule=\"evenodd\" fill-opacity=\"1\" /><path clip-path=\"url(#clip060)\" d=\"M 0 0 M1253.21 14.324 L1253.21 27.2059 L1268.57 27.2059 L1268.57 32.9987 L1253.21 32.9987 L1253.21 57.6282 Q1253.21 63.1779 1254.71 64.7578 Q1256.25 66.3376 1260.91 66.3376 L1268.57 66.3376 L1268.57 72.576 L1260.91 72.576 Q1252.28 72.576 1249 69.3758 Q1245.72 66.1351 1245.72 57.6282 L1245.72 32.9987 L1240.25 32.9987 L1240.25 27.2059 L1245.72 27.2059 L1245.72 14.324 L1253.21 14.324 Z\" fill=\"#000000\" fill-rule=\"evenodd\" fill-opacity=\"1\" /><path clip-path=\"url(#clip060)\" d=\"M 0 0 M1293.96 32.4315 Q1287.97 32.4315 1284.49 37.1306 Q1281 41.7891 1281 49.9314 Q1281 58.0738 1284.44 62.7728 Q1287.93 67.4314 1293.96 67.4314 Q1299.92 67.4314 1303.4 62.7323 Q1306.89 58.0333 1306.89 49.9314 Q1306.89 41.8701 1303.4 37.1711 Q1299.92 32.4315 1293.96 32.4315 M1293.96 26.1121 Q1303.69 26.1121 1309.24 32.4315 Q1314.79 38.7509 1314.79 49.9314 Q1314.79 61.0714 1309.24 67.4314 Q1303.69 73.7508 1293.96 73.7508 Q1284.2 73.7508 1278.65 67.4314 Q1273.14 61.0714 1273.14 49.9314 Q1273.14 38.7509 1278.65 32.4315 Q1284.2 26.1121 1293.96 26.1121 Z\" fill=\"#000000\" fill-rule=\"evenodd\" fill-opacity=\"1\" /><path clip-path=\"url(#clip060)\" d=\"M 0 0 M1351.53 28.5427 L1351.53 35.5912 Q1348.37 33.9709 1344.97 33.1607 Q1341.56 32.3505 1337.92 32.3505 Q1332.37 32.3505 1329.57 34.0519 Q1326.82 35.7533 1326.82 39.156 Q1326.82 41.7486 1328.8 43.2475 Q1330.79 44.7058 1336.78 46.0426 L1339.33 46.6097 Q1347.27 48.3111 1350.6 51.4303 Q1353.96 54.509 1353.96 60.0587 Q1353.96 66.3781 1348.94 70.0644 Q1343.95 73.7508 1335.2 73.7508 Q1331.56 73.7508 1327.59 73.0216 Q1323.66 72.3329 1319.28 70.9151 L1319.28 63.2184 Q1323.41 65.3654 1327.42 66.4591 Q1331.44 67.5124 1335.36 67.5124 Q1340.63 67.5124 1343.47 65.73 Q1346.3 63.9071 1346.3 60.6258 Q1346.3 57.5877 1344.24 55.9673 Q1342.21 54.3469 1335.28 52.8481 L1332.69 52.2405 Q1325.76 50.7821 1322.69 47.7845 Q1319.61 44.7463 1319.61 39.4801 Q1319.61 33.0797 1324.14 29.5959 Q1328.68 26.1121 1337.03 26.1121 Q1341.16 26.1121 1344.8 26.7198 Q1348.45 27.3274 1351.53 28.5427 Z\" fill=\"#000000\" fill-rule=\"evenodd\" fill-opacity=\"1\" /><path clip-path=\"url(#clip060)\" d=\"M 0 0 M1426.96 48.0275 L1426.96 51.6733 L1392.68 51.6733 Q1393.17 59.3701 1397.3 63.421 Q1401.48 67.4314 1408.89 67.4314 Q1413.18 67.4314 1417.19 66.3781 Q1421.24 65.3249 1425.21 63.2184 L1425.21 70.267 Q1421.2 71.9684 1416.99 72.8596 Q1412.78 73.7508 1408.44 73.7508 Q1397.59 73.7508 1391.23 67.4314 Q1384.91 61.1119 1384.91 50.3365 Q1384.91 39.1965 1390.9 32.6746 Q1396.94 26.1121 1407.15 26.1121 Q1416.3 26.1121 1421.61 32.0264 Q1426.96 37.9003 1426.96 48.0275 M1419.5 45.84 Q1419.42 39.7232 1416.06 36.0774 Q1412.74 32.4315 1407.23 32.4315 Q1400.99 32.4315 1397.22 35.9558 Q1393.5 39.4801 1392.93 45.8805 L1419.5 45.84 Z\" fill=\"#000000\" fill-rule=\"evenodd\" fill-opacity=\"1\" /><path clip-path=\"url(#clip060)\" d=\"M 0 0 M1470.1 35.9153 Q1472.89 30.8922 1476.78 28.5022 Q1480.67 26.1121 1485.94 26.1121 Q1493.03 26.1121 1496.87 31.0947 Q1500.72 36.0368 1500.72 45.1919 L1500.72 72.576 L1493.23 72.576 L1493.23 45.4349 Q1493.23 38.913 1490.92 35.7533 Q1488.61 32.5936 1483.87 32.5936 Q1478.08 32.5936 1474.72 36.4419 Q1471.35 40.2903 1471.35 46.9338 L1471.35 72.576 L1463.86 72.576 L1463.86 45.4349 Q1463.86 38.8725 1461.55 35.7533 Q1459.24 32.5936 1454.42 32.5936 Q1448.71 32.5936 1445.35 36.4824 Q1441.98 40.3308 1441.98 46.9338 L1441.98 72.576 L1434.49 72.576 L1434.49 27.2059 L1441.98 27.2059 L1441.98 34.2544 Q1444.54 30.082 1448.1 28.0971 Q1451.67 26.1121 1456.57 26.1121 Q1461.51 26.1121 1464.95 28.6237 Q1468.44 31.1352 1470.1 35.9153 Z\" fill=\"#000000\" fill-rule=\"evenodd\" fill-opacity=\"1\" /><path clip-path=\"url(#clip060)\" d=\"M 0 0 M1580.53 16.7545 L1580.53 25.383 Q1576.39 21.5346 1571.69 19.6307 Q1567.04 17.7268 1561.77 17.7268 Q1551.4 17.7268 1545.89 24.0867 Q1540.38 30.4061 1540.38 42.3968 Q1540.38 54.3469 1545.89 60.7069 Q1551.4 67.0263 1561.77 67.0263 Q1567.04 67.0263 1571.69 65.1223 Q1576.39 63.2184 1580.53 59.3701 L1580.53 67.9175 Q1576.23 70.8341 1571.41 72.2924 Q1566.63 73.7508 1561.28 73.7508 Q1547.55 73.7508 1539.65 65.3654 Q1531.75 56.9395 1531.75 42.3968 Q1531.75 27.8135 1539.65 19.4281 Q1547.55 11.0023 1561.28 11.0023 Q1566.71 11.0023 1571.49 12.4606 Q1576.31 13.8784 1580.53 16.7545 Z\" fill=\"#000000\" fill-rule=\"evenodd\" fill-opacity=\"1\" /><path clip-path=\"url(#clip060)\" d=\"M 0 0 M1587.74 12.096 L1595.96 12.096 L1595.96 48.8377 Q1595.96 58.5599 1599.48 62.8538 Q1603.01 67.1073 1610.91 67.1073 Q1618.77 67.1073 1622.29 62.8538 Q1625.81 58.5599 1625.81 48.8377 L1625.81 12.096 L1634.04 12.096 L1634.04 49.8504 Q1634.04 61.6791 1628.16 67.7149 Q1622.33 73.7508 1610.91 73.7508 Q1599.44 73.7508 1593.57 67.7149 Q1587.74 61.6791 1587.74 49.8504 L1587.74 12.096 Z\" fill=\"#000000\" fill-rule=\"evenodd\" fill-opacity=\"1\" /><path clip-path=\"url(#clip060)\" d=\"M 0 0 M1650.36 18.8205 L1650.36 65.8515 L1660.25 65.8515 Q1672.76 65.8515 1678.56 60.1802 Q1684.39 54.509 1684.39 42.2752 Q1684.39 30.1225 1678.56 24.4918 Q1672.76 18.8205 1660.25 18.8205 L1650.36 18.8205 M1642.18 12.096 L1658.99 12.096 Q1676.57 12.096 1684.8 19.4281 Q1693.02 26.7198 1693.02 42.2752 Q1693.02 57.9117 1684.76 65.2439 Q1676.49 72.576 1658.99 72.576 L1642.18 72.576 L1642.18 12.096 Z\" fill=\"#000000\" fill-rule=\"evenodd\" fill-opacity=\"1\" /><path clip-path=\"url(#clip060)\" d=\"M 0 0 M1719.92 20.1573 L1708.82 50.2555 L1731.06 50.2555 L1719.92 20.1573 M1715.3 12.096 L1724.58 12.096 L1747.63 72.576 L1739.12 72.576 L1733.61 57.061 L1706.35 57.061 L1700.84 72.576 L1692.21 72.576 L1715.3 12.096 Z\" fill=\"#000000\" fill-rule=\"evenodd\" fill-opacity=\"1\" /><path clip-path=\"url(#clip060)\" d=\"M 0 0 M1159.83 1513.81 L1159.83 1550.76 L1167.6 1550.76 Q1177.43 1550.76 1181.98 1546.3 Q1186.57 1541.85 1186.57 1532.24 Q1186.57 1522.69 1181.98 1518.26 Q1177.43 1513.81 1167.6 1513.81 L1159.83 1513.81 M1153.4 1508.52 L1166.61 1508.52 Q1180.42 1508.52 1186.89 1514.28 Q1193.35 1520.01 1193.35 1532.24 Q1193.35 1544.52 1186.85 1550.28 Q1180.36 1556.04 1166.61 1556.04 L1153.4 1556.04 L1153.4 1508.52 Z\" fill=\"#000000\" fill-rule=\"evenodd\" fill-opacity=\"1\" /><path clip-path=\"url(#clip060)\" d=\"M 0 0 M1199.49 1520.4 L1205.35 1520.4 L1205.35 1556.04 L1199.49 1556.04 L1199.49 1520.4 M1199.49 1506.52 L1205.35 1506.52 L1205.35 1513.93 L1199.49 1513.93 L1199.49 1506.52 Z\" fill=\"#000000\" fill-rule=\"evenodd\" fill-opacity=\"1\" /><path clip-path=\"url(#clip060)\" d=\"M 0 0 M1239.24 1527.24 Q1241.44 1523.29 1244.5 1521.41 Q1247.55 1519.54 1251.69 1519.54 Q1257.26 1519.54 1260.28 1523.45 Q1263.31 1527.33 1263.31 1534.53 L1263.31 1556.04 L1257.42 1556.04 L1257.42 1534.72 Q1257.42 1529.59 1255.6 1527.11 Q1253.79 1524.63 1250.07 1524.63 Q1245.51 1524.63 1242.87 1527.65 Q1240.23 1530.68 1240.23 1535.9 L1240.23 1556.04 L1234.34 1556.04 L1234.34 1534.72 Q1234.34 1529.56 1232.53 1527.11 Q1230.71 1524.63 1226.93 1524.63 Q1222.44 1524.63 1219.8 1527.68 Q1217.15 1530.71 1217.15 1535.9 L1217.15 1556.04 L1211.27 1556.04 L1211.27 1520.4 L1217.15 1520.4 L1217.15 1525.93 Q1219.16 1522.66 1221.96 1521.1 Q1224.76 1519.54 1228.61 1519.54 Q1232.5 1519.54 1235.2 1521.51 Q1237.94 1523.48 1239.24 1527.24 Z\" fill=\"#000000\" fill-rule=\"evenodd\" fill-opacity=\"1\" /><path clip-path=\"url(#clip060)\" d=\"M 0 0 M1299.94 1536.76 L1299.94 1539.62 L1273.01 1539.62 Q1273.4 1545.67 1276.64 1548.85 Q1279.92 1552 1285.75 1552 Q1289.12 1552 1292.27 1551.17 Q1295.45 1550.35 1298.57 1548.69 L1298.57 1554.23 Q1295.42 1555.57 1292.11 1556.27 Q1288.8 1556.97 1285.4 1556.97 Q1276.87 1556.97 1271.87 1552 Q1266.9 1547.04 1266.9 1538.57 Q1266.9 1529.82 1271.61 1524.69 Q1276.36 1519.54 1284.38 1519.54 Q1291.57 1519.54 1295.74 1524.18 Q1299.94 1528.8 1299.94 1536.76 M1294.08 1535.04 Q1294.02 1530.23 1291.38 1527.37 Q1288.77 1524.5 1284.44 1524.5 Q1279.54 1524.5 1276.58 1527.27 Q1273.65 1530.04 1273.2 1535.07 L1294.08 1535.04 Z\" fill=\"#000000\" fill-rule=\"evenodd\" fill-opacity=\"1\" /><path clip-path=\"url(#clip060)\" d=\"M 0 0 M1335.72 1534.53 L1335.72 1556.04 L1329.86 1556.04 L1329.86 1534.72 Q1329.86 1529.66 1327.89 1527.14 Q1325.91 1524.63 1321.97 1524.63 Q1317.22 1524.63 1314.49 1527.65 Q1311.75 1530.68 1311.75 1535.9 L1311.75 1556.04 L1305.86 1556.04 L1305.86 1520.4 L1311.75 1520.4 L1311.75 1525.93 Q1313.85 1522.72 1316.68 1521.13 Q1319.55 1519.54 1323.27 1519.54 Q1329.41 1519.54 1332.57 1523.36 Q1335.72 1527.14 1335.72 1534.53 Z\" fill=\"#000000\" fill-rule=\"evenodd\" fill-opacity=\"1\" /><path clip-path=\"url(#clip060)\" d=\"M 0 0 M1364.58 1521.45 L1364.58 1526.98 Q1362.1 1525.71 1359.43 1525.07 Q1356.75 1524.44 1353.89 1524.44 Q1349.53 1524.44 1347.33 1525.77 Q1345.17 1527.11 1345.17 1529.79 Q1345.17 1531.82 1346.73 1533 Q1348.29 1534.15 1353 1535.2 L1355 1535.64 Q1361.24 1536.98 1363.85 1539.43 Q1366.49 1541.85 1366.49 1546.21 Q1366.49 1551.17 1362.55 1554.07 Q1358.63 1556.97 1351.76 1556.97 Q1348.89 1556.97 1345.77 1556.39 Q1342.69 1555.85 1339.25 1554.74 L1339.25 1548.69 Q1342.5 1550.38 1345.65 1551.24 Q1348.8 1552.07 1351.89 1552.07 Q1356.02 1552.07 1358.25 1550.66 Q1360.48 1549.23 1360.48 1546.65 Q1360.48 1544.27 1358.86 1542.99 Q1357.26 1541.72 1351.82 1540.54 L1349.78 1540.07 Q1344.34 1538.92 1341.92 1536.56 Q1339.5 1534.18 1339.5 1530.04 Q1339.5 1525.01 1343.07 1522.27 Q1346.63 1519.54 1353.19 1519.54 Q1356.44 1519.54 1359.3 1520.01 Q1362.17 1520.49 1364.58 1521.45 Z\" fill=\"#000000\" fill-rule=\"evenodd\" fill-opacity=\"1\" /><path clip-path=\"url(#clip060)\" d=\"M 0 0 M1388.84 1538.12 Q1381.74 1538.12 1379 1539.75 Q1376.27 1541.37 1376.27 1545.29 Q1376.27 1548.4 1378.3 1550.25 Q1380.37 1552.07 1383.9 1552.07 Q1388.77 1552.07 1391.7 1548.63 Q1394.66 1545.16 1394.66 1539.43 L1394.66 1538.12 L1388.84 1538.12 M1400.52 1535.71 L1400.52 1556.04 L1394.66 1556.04 L1394.66 1550.63 Q1392.66 1553.88 1389.67 1555.44 Q1386.67 1556.97 1382.35 1556.97 Q1376.87 1556.97 1373.62 1553.91 Q1370.41 1550.82 1370.41 1545.67 Q1370.41 1539.65 1374.42 1536.6 Q1378.46 1533.54 1386.45 1533.54 L1394.66 1533.54 L1394.66 1532.97 Q1394.66 1528.93 1391.99 1526.73 Q1389.35 1524.5 1384.54 1524.5 Q1381.49 1524.5 1378.59 1525.23 Q1375.69 1525.97 1373.02 1527.43 L1373.02 1522.02 Q1376.23 1520.78 1379.26 1520.17 Q1382.28 1519.54 1385.15 1519.54 Q1392.88 1519.54 1396.7 1523.55 Q1400.52 1527.56 1400.52 1535.71 M1385.27 1512.44 L1383.46 1510.69 Q1382.76 1510.05 1382.22 1509.77 Q1381.71 1509.45 1381.29 1509.45 Q1380.09 1509.45 1379.51 1510.62 Q1378.94 1511.77 1378.88 1514.38 L1374.9 1514.38 Q1374.96 1510.08 1376.58 1507.76 Q1378.21 1505.4 1381.1 1505.4 Q1382.31 1505.4 1383.33 1505.85 Q1384.35 1506.3 1385.53 1507.35 L1387.34 1509.1 Q1388.04 1509.73 1388.55 1510.05 Q1389.09 1510.34 1389.51 1510.34 Q1390.72 1510.34 1391.29 1509.19 Q1391.86 1508.01 1391.93 1505.4 L1395.9 1505.4 Q1395.84 1509.7 1394.22 1512.06 Q1392.59 1514.38 1389.7 1514.38 Q1388.49 1514.38 1387.47 1513.93 Q1386.45 1513.49 1385.27 1512.44 Z\" fill=\"#000000\" fill-rule=\"evenodd\" fill-opacity=\"1\" /><path clip-path=\"url(#clip060)\" d=\"M 0 0 M1420.48 1524.5 Q1415.76 1524.5 1413.03 1528.19 Q1410.29 1531.85 1410.29 1538.25 Q1410.29 1544.65 1413 1548.34 Q1415.73 1552 1420.48 1552 Q1425.15 1552 1427.89 1548.31 Q1430.63 1544.62 1430.63 1538.25 Q1430.63 1531.92 1427.89 1528.23 Q1425.15 1524.5 1420.48 1524.5 M1420.48 1519.54 Q1428.11 1519.54 1432.47 1524.5 Q1436.84 1529.47 1436.84 1538.25 Q1436.84 1547 1432.47 1552 Q1428.11 1556.97 1420.48 1556.97 Q1412.8 1556.97 1408.44 1552 Q1404.12 1547 1404.12 1538.25 Q1404.12 1529.47 1408.44 1524.5 Q1412.8 1519.54 1420.48 1519.54 Z\" fill=\"#000000\" fill-rule=\"evenodd\" fill-opacity=\"1\" /><path clip-path=\"url(#clip060)\" d=\"M 0 0 M40.4842 907.658 L40.4842 867.459 L45.895 867.459 L45.895 884.328 L88.0042 884.328 L88.0042 890.789 L45.895 890.789 L45.895 907.658 L40.4842 907.658 Z\" fill=\"#000000\" fill-rule=\"evenodd\" fill-opacity=\"1\" /><path clip-path=\"url(#clip060)\" d=\"M 0 0 M68.7161 841.901 L71.5806 841.901 L71.5806 868.827 Q77.6281 868.446 80.8109 865.199 Q83.9619 861.921 83.9619 856.096 Q83.9619 852.722 83.1344 849.571 Q82.3069 846.388 80.6518 843.269 L86.1899 843.269 Q87.5267 846.42 88.227 849.73 Q88.9272 853.041 88.9272 856.446 Q88.9272 864.976 83.9619 869.973 Q78.9967 874.939 70.5303 874.939 Q61.7774 874.939 56.6531 870.228 Q51.4968 865.486 51.4968 857.465 Q51.4968 850.271 56.1438 846.102 Q60.7589 841.901 68.7161 841.901 M66.9973 847.757 Q62.1912 847.821 59.3266 850.462 Q56.4621 853.072 56.4621 857.401 Q56.4621 862.303 59.2312 865.263 Q62.0002 868.191 67.0292 868.637 L66.9973 847.757 Z\" fill=\"#000000\" fill-rule=\"evenodd\" fill-opacity=\"1\" /><path clip-path=\"url(#clip060)\" d=\"M 0 0 M59.1993 808.003 Q55.2526 805.807 53.3747 802.751 Q51.4968 799.696 51.4968 795.558 Q51.4968 789.988 55.4117 786.965 Q59.2948 783.941 66.4881 783.941 L88.0042 783.941 L88.0042 789.829 L66.679 789.829 Q61.5546 789.829 59.072 791.643 Q56.5894 793.458 56.5894 797.181 Q56.5894 801.733 59.6131 804.375 Q62.6368 807.016 67.8567 807.016 L88.0042 807.016 L88.0042 812.905 L66.679 812.905 Q61.5228 812.905 59.072 814.719 Q56.5894 816.533 56.5894 820.321 Q56.5894 824.809 59.6449 827.45 Q62.6686 830.092 67.8567 830.092 L88.0042 830.092 L88.0042 835.98 L52.3562 835.98 L52.3562 830.092 L57.8944 830.092 Q54.616 828.087 53.0564 825.286 Q51.4968 822.485 51.4968 818.634 Q51.4968 814.751 53.4702 812.045 Q55.4436 809.308 59.1993 808.003 Z\" fill=\"#000000\" fill-rule=\"evenodd\" fill-opacity=\"1\" /><path clip-path=\"url(#clip060)\" d=\"M 0 0 M82.657 772.132 L101.563 772.132 L101.563 778.021 L52.3562 778.021 L52.3562 772.132 L57.7671 772.132 Q54.5842 770.286 53.0564 767.485 Q51.4968 764.653 51.4968 760.738 Q51.4968 754.245 56.6531 750.203 Q61.8093 746.129 70.212 746.129 Q78.6147 746.129 83.771 750.203 Q88.9272 754.245 88.9272 760.738 Q88.9272 764.653 87.3994 767.485 Q85.8398 770.286 82.657 772.132 M70.212 752.208 Q63.7508 752.208 60.0905 754.881 Q56.3984 757.523 56.3984 762.17 Q56.3984 766.817 60.0905 769.491 Q63.7508 772.132 70.212 772.132 Q76.6732 772.132 80.3653 769.491 Q84.0256 766.817 84.0256 762.17 Q84.0256 757.523 80.3653 754.881 Q76.6732 752.208 70.212 752.208 Z\" fill=\"#000000\" fill-rule=\"evenodd\" fill-opacity=\"1\" /><path clip-path=\"url(#clip060)\" d=\"M 0 0 M56.4621 726.172 Q56.4621 730.883 60.1542 733.62 Q63.8145 736.357 70.212 736.357 Q76.6095 736.357 80.3017 733.652 Q83.9619 730.914 83.9619 726.172 Q83.9619 721.493 80.2698 718.756 Q76.5777 716.019 70.212 716.019 Q63.8781 716.019 60.186 718.756 Q56.4621 721.493 56.4621 726.172 M51.4968 726.172 Q51.4968 718.533 56.4621 714.173 Q61.4273 709.812 70.212 709.812 Q78.9649 709.812 83.9619 714.173 Q88.9272 718.533 88.9272 726.172 Q88.9272 733.843 83.9619 738.203 Q78.9649 742.532 70.212 742.532 Q61.4273 742.532 56.4621 738.203 Q51.4968 733.843 51.4968 726.172 Z\" fill=\"#000000\" fill-rule=\"evenodd\" fill-opacity=\"1\" /><path clip-path=\"url(#clip060)\" d=\"M 0 0 M38.5426 689.601 Q45.8632 693.866 53.0246 695.935 Q60.186 698.004 67.5384 698.004 Q74.8908 698.004 82.1159 695.935 Q89.3091 693.834 96.5979 689.601 L96.5979 694.694 Q89.1182 699.468 81.8931 701.855 Q74.668 704.21 67.5384 704.21 Q60.4406 704.21 53.2474 701.855 Q46.0542 699.5 38.5426 694.694 L38.5426 689.601 Z\" fill=\"#000000\" fill-rule=\"evenodd\" fill-opacity=\"1\" /><path clip-path=\"url(#clip060)\" d=\"M 0 0 M53.4065 660.733 L58.9447 660.733 Q57.6716 663.215 57.035 665.889 Q56.3984 668.562 56.3984 671.427 Q56.3984 675.787 57.7352 677.984 Q59.072 680.148 61.7456 680.148 Q63.7826 680.148 64.9603 678.588 Q66.1061 677.029 67.1565 672.318 L67.6021 670.313 Q68.9389 664.075 71.3897 661.465 Q73.8086 658.823 78.1691 658.823 Q83.1344 658.823 86.0308 662.77 Q88.9272 666.684 88.9272 673.559 Q88.9272 676.424 88.3543 679.543 Q87.8132 682.631 86.6992 686.068 L80.6518 686.068 Q82.3387 682.822 83.198 679.671 Q84.0256 676.52 84.0256 673.432 Q84.0256 669.294 82.6251 667.066 Q81.1929 664.838 78.6147 664.838 Q76.2276 664.838 74.9545 666.462 Q73.6813 668.053 72.5037 673.496 L72.0262 675.533 Q70.8804 680.975 68.5251 683.394 Q66.138 685.813 62.0002 685.813 Q56.9713 685.813 54.2341 682.249 Q51.4968 678.684 51.4968 672.127 Q51.4968 668.881 51.9743 666.016 Q52.4517 663.152 53.4065 660.733 Z\" fill=\"#000000\" fill-rule=\"evenodd\" fill-opacity=\"1\" /><path clip-path=\"url(#clip060)\" d=\"M 0 0 M38.5426 653.603 L38.5426 648.51 Q46.0542 643.736 53.2474 641.381 Q60.4406 638.994 67.5384 638.994 Q74.668 638.994 81.8931 641.381 Q89.1182 643.736 96.5979 648.51 L96.5979 653.603 Q89.3091 649.37 82.1159 647.301 Q74.8908 645.2 67.5384 645.2 Q60.186 645.2 53.0246 647.301 Q45.8632 649.37 38.5426 653.603 Z\" fill=\"#000000\" fill-rule=\"evenodd\" fill-opacity=\"1\" /><circle clip-path=\"url(#clip062)\" cx=\"297.348\" cy=\"256.39\" r=\"14\" fill=\"#009af9\" fill-rule=\"evenodd\" fill-opacity=\"0.6\" stroke=\"#000000\" stroke-opacity=\"0.6\" stroke-width=\"3.2\"/>\n",
       "<circle clip-path=\"url(#clip062)\" cx=\"297.348\" cy=\"270.248\" r=\"14\" fill=\"#009af9\" fill-rule=\"evenodd\" fill-opacity=\"0.6\" stroke=\"#000000\" stroke-opacity=\"0.6\" stroke-width=\"3.2\"/>\n",
       "<circle clip-path=\"url(#clip062)\" cx=\"297.348\" cy=\"252.891\" r=\"14\" fill=\"#009af9\" fill-rule=\"evenodd\" fill-opacity=\"0.6\" stroke=\"#000000\" stroke-opacity=\"0.6\" stroke-width=\"3.2\"/>\n",
       "<circle clip-path=\"url(#clip062)\" cx=\"297.348\" cy=\"269.47\" r=\"14\" fill=\"#009af9\" fill-rule=\"evenodd\" fill-opacity=\"0.6\" stroke=\"#000000\" stroke-opacity=\"0.6\" stroke-width=\"3.2\"/>\n",
       "<circle clip-path=\"url(#clip062)\" cx=\"297.348\" cy=\"270.313\" r=\"14\" fill=\"#009af9\" fill-rule=\"evenodd\" fill-opacity=\"0.6\" stroke=\"#000000\" stroke-opacity=\"0.6\" stroke-width=\"3.2\"/>\n",
       "<circle clip-path=\"url(#clip062)\" cx=\"297.348\" cy=\"269.516\" r=\"14\" fill=\"#009af9\" fill-rule=\"evenodd\" fill-opacity=\"0.6\" stroke=\"#000000\" stroke-opacity=\"0.6\" stroke-width=\"3.2\"/>\n",
       "<circle clip-path=\"url(#clip062)\" cx=\"297.348\" cy=\"270.188\" r=\"14\" fill=\"#009af9\" fill-rule=\"evenodd\" fill-opacity=\"0.6\" stroke=\"#000000\" stroke-opacity=\"0.6\" stroke-width=\"3.2\"/>\n",
       "<circle clip-path=\"url(#clip062)\" cx=\"297.348\" cy=\"269.956\" r=\"14\" fill=\"#009af9\" fill-rule=\"evenodd\" fill-opacity=\"0.6\" stroke=\"#000000\" stroke-opacity=\"0.6\" stroke-width=\"3.2\"/>\n",
       "<circle clip-path=\"url(#clip062)\" cx=\"297.348\" cy=\"269.794\" r=\"14\" fill=\"#009af9\" fill-rule=\"evenodd\" fill-opacity=\"0.6\" stroke=\"#000000\" stroke-opacity=\"0.6\" stroke-width=\"3.2\"/>\n",
       "<circle clip-path=\"url(#clip062)\" cx=\"297.348\" cy=\"269.956\" r=\"14\" fill=\"#009af9\" fill-rule=\"evenodd\" fill-opacity=\"0.6\" stroke=\"#000000\" stroke-opacity=\"0.6\" stroke-width=\"3.2\"/>\n",
       "<circle clip-path=\"url(#clip062)\" cx=\"297.348\" cy=\"269.993\" r=\"14\" fill=\"#009af9\" fill-rule=\"evenodd\" fill-opacity=\"0.6\" stroke=\"#000000\" stroke-opacity=\"0.6\" stroke-width=\"3.2\"/>\n",
       "<circle clip-path=\"url(#clip062)\" cx=\"297.348\" cy=\"240.543\" r=\"14\" fill=\"#009af9\" fill-rule=\"evenodd\" fill-opacity=\"0.6\" stroke=\"#000000\" stroke-opacity=\"0.6\" stroke-width=\"3.2\"/>\n",
       "<circle clip-path=\"url(#clip062)\" cx=\"297.348\" cy=\"270.174\" r=\"14\" fill=\"#009af9\" fill-rule=\"evenodd\" fill-opacity=\"0.6\" stroke=\"#000000\" stroke-opacity=\"0.6\" stroke-width=\"3.2\"/>\n",
       "<circle clip-path=\"url(#clip062)\" cx=\"297.348\" cy=\"269.446\" r=\"14\" fill=\"#009af9\" fill-rule=\"evenodd\" fill-opacity=\"0.6\" stroke=\"#000000\" stroke-opacity=\"0.6\" stroke-width=\"3.2\"/>\n",
       "<circle clip-path=\"url(#clip062)\" cx=\"297.348\" cy=\"160.256\" r=\"14\" fill=\"#009af9\" fill-rule=\"evenodd\" fill-opacity=\"0.6\" stroke=\"#000000\" stroke-opacity=\"0.6\" stroke-width=\"3.2\"/>\n",
       "<circle clip-path=\"url(#clip062)\" cx=\"796.234\" cy=\"1188.87\" r=\"14\" fill=\"#009af9\" fill-rule=\"evenodd\" fill-opacity=\"0.6\" stroke=\"#000000\" stroke-opacity=\"0.6\" stroke-width=\"3.2\"/>\n",
       "<circle clip-path=\"url(#clip062)\" cx=\"796.234\" cy=\"1189.59\" r=\"14\" fill=\"#009af9\" fill-rule=\"evenodd\" fill-opacity=\"0.6\" stroke=\"#000000\" stroke-opacity=\"0.6\" stroke-width=\"3.2\"/>\n",
       "<circle clip-path=\"url(#clip062)\" cx=\"796.234\" cy=\"1225.54\" r=\"14\" fill=\"#009af9\" fill-rule=\"evenodd\" fill-opacity=\"0.6\" stroke=\"#000000\" stroke-opacity=\"0.6\" stroke-width=\"3.2\"/>\n",
       "<circle clip-path=\"url(#clip062)\" cx=\"796.234\" cy=\"1205.51\" r=\"14\" fill=\"#009af9\" fill-rule=\"evenodd\" fill-opacity=\"0.6\" stroke=\"#000000\" stroke-opacity=\"0.6\" stroke-width=\"3.2\"/>\n",
       "<circle clip-path=\"url(#clip062)\" cx=\"796.234\" cy=\"1190.38\" r=\"14\" fill=\"#009af9\" fill-rule=\"evenodd\" fill-opacity=\"0.6\" stroke=\"#000000\" stroke-opacity=\"0.6\" stroke-width=\"3.2\"/>\n",
       "<circle clip-path=\"url(#clip062)\" cx=\"796.234\" cy=\"1225.14\" r=\"14\" fill=\"#009af9\" fill-rule=\"evenodd\" fill-opacity=\"0.6\" stroke=\"#000000\" stroke-opacity=\"0.6\" stroke-width=\"3.2\"/>\n",
       "<circle clip-path=\"url(#clip062)\" cx=\"796.234\" cy=\"1196.01\" r=\"14\" fill=\"#009af9\" fill-rule=\"evenodd\" fill-opacity=\"0.6\" stroke=\"#000000\" stroke-opacity=\"0.6\" stroke-width=\"3.2\"/>\n",
       "<circle clip-path=\"url(#clip062)\" cx=\"796.234\" cy=\"1194.32\" r=\"14\" fill=\"#009af9\" fill-rule=\"evenodd\" fill-opacity=\"0.6\" stroke=\"#000000\" stroke-opacity=\"0.6\" stroke-width=\"3.2\"/>\n",
       "<circle clip-path=\"url(#clip062)\" cx=\"796.234\" cy=\"1225.79\" r=\"14\" fill=\"#009af9\" fill-rule=\"evenodd\" fill-opacity=\"0.6\" stroke=\"#000000\" stroke-opacity=\"0.6\" stroke-width=\"3.2\"/>\n",
       "<circle clip-path=\"url(#clip062)\" cx=\"796.234\" cy=\"1194.9\" r=\"14\" fill=\"#009af9\" fill-rule=\"evenodd\" fill-opacity=\"0.6\" stroke=\"#000000\" stroke-opacity=\"0.6\" stroke-width=\"3.2\"/>\n",
       "<circle clip-path=\"url(#clip062)\" cx=\"796.234\" cy=\"1225.04\" r=\"14\" fill=\"#009af9\" fill-rule=\"evenodd\" fill-opacity=\"0.6\" stroke=\"#000000\" stroke-opacity=\"0.6\" stroke-width=\"3.2\"/>\n",
       "<circle clip-path=\"url(#clip062)\" cx=\"796.234\" cy=\"1194.83\" r=\"14\" fill=\"#009af9\" fill-rule=\"evenodd\" fill-opacity=\"0.6\" stroke=\"#000000\" stroke-opacity=\"0.6\" stroke-width=\"3.2\"/>\n",
       "<circle clip-path=\"url(#clip062)\" cx=\"796.234\" cy=\"1224.83\" r=\"14\" fill=\"#009af9\" fill-rule=\"evenodd\" fill-opacity=\"0.6\" stroke=\"#000000\" stroke-opacity=\"0.6\" stroke-width=\"3.2\"/>\n",
       "<circle clip-path=\"url(#clip062)\" cx=\"796.234\" cy=\"1194.18\" r=\"14\" fill=\"#009af9\" fill-rule=\"evenodd\" fill-opacity=\"0.6\" stroke=\"#000000\" stroke-opacity=\"0.6\" stroke-width=\"3.2\"/>\n",
       "<circle clip-path=\"url(#clip062)\" cx=\"796.234\" cy=\"1224.39\" r=\"14\" fill=\"#009af9\" fill-rule=\"evenodd\" fill-opacity=\"0.6\" stroke=\"#000000\" stroke-opacity=\"0.6\" stroke-width=\"3.2\"/>\n",
       "<circle clip-path=\"url(#clip062)\" cx=\"1295.12\" cy=\"1368.94\" r=\"14\" fill=\"#009af9\" fill-rule=\"evenodd\" fill-opacity=\"0.6\" stroke=\"#000000\" stroke-opacity=\"0.6\" stroke-width=\"3.2\"/>\n",
       "<circle clip-path=\"url(#clip062)\" cx=\"1295.12\" cy=\"1374.34\" r=\"14\" fill=\"#009af9\" fill-rule=\"evenodd\" fill-opacity=\"0.6\" stroke=\"#000000\" stroke-opacity=\"0.6\" stroke-width=\"3.2\"/>\n",
       "<circle clip-path=\"url(#clip062)\" cx=\"1295.12\" cy=\"1385.99\" r=\"14\" fill=\"#009af9\" fill-rule=\"evenodd\" fill-opacity=\"0.6\" stroke=\"#000000\" stroke-opacity=\"0.6\" stroke-width=\"3.2\"/>\n",
       "<circle clip-path=\"url(#clip062)\" cx=\"1295.12\" cy=\"1368.99\" r=\"14\" fill=\"#009af9\" fill-rule=\"evenodd\" fill-opacity=\"0.6\" stroke=\"#000000\" stroke-opacity=\"0.6\" stroke-width=\"3.2\"/>\n",
       "<circle clip-path=\"url(#clip062)\" cx=\"1295.12\" cy=\"1373.45\" r=\"14\" fill=\"#009af9\" fill-rule=\"evenodd\" fill-opacity=\"0.6\" stroke=\"#000000\" stroke-opacity=\"0.6\" stroke-width=\"3.2\"/>\n",
       "<circle clip-path=\"url(#clip062)\" cx=\"1295.12\" cy=\"1386.34\" r=\"14\" fill=\"#009af9\" fill-rule=\"evenodd\" fill-opacity=\"0.6\" stroke=\"#000000\" stroke-opacity=\"0.6\" stroke-width=\"3.2\"/>\n",
       "<circle clip-path=\"url(#clip062)\" cx=\"1295.12\" cy=\"1370.4\" r=\"14\" fill=\"#009af9\" fill-rule=\"evenodd\" fill-opacity=\"0.6\" stroke=\"#000000\" stroke-opacity=\"0.6\" stroke-width=\"3.2\"/>\n",
       "<circle clip-path=\"url(#clip062)\" cx=\"1295.12\" cy=\"1386.11\" r=\"14\" fill=\"#009af9\" fill-rule=\"evenodd\" fill-opacity=\"0.6\" stroke=\"#000000\" stroke-opacity=\"0.6\" stroke-width=\"3.2\"/>\n",
       "<circle clip-path=\"url(#clip062)\" cx=\"1295.12\" cy=\"1376.84\" r=\"14\" fill=\"#009af9\" fill-rule=\"evenodd\" fill-opacity=\"0.6\" stroke=\"#000000\" stroke-opacity=\"0.6\" stroke-width=\"3.2\"/>\n",
       "<circle clip-path=\"url(#clip062)\" cx=\"1295.12\" cy=\"1365.2\" r=\"14\" fill=\"#009af9\" fill-rule=\"evenodd\" fill-opacity=\"0.6\" stroke=\"#000000\" stroke-opacity=\"0.6\" stroke-width=\"3.2\"/>\n",
       "<circle clip-path=\"url(#clip062)\" cx=\"1295.12\" cy=\"1386.09\" r=\"14\" fill=\"#009af9\" fill-rule=\"evenodd\" fill-opacity=\"0.6\" stroke=\"#000000\" stroke-opacity=\"0.6\" stroke-width=\"3.2\"/>\n",
       "<circle clip-path=\"url(#clip062)\" cx=\"1295.12\" cy=\"1384.97\" r=\"14\" fill=\"#009af9\" fill-rule=\"evenodd\" fill-opacity=\"0.6\" stroke=\"#000000\" stroke-opacity=\"0.6\" stroke-width=\"3.2\"/>\n",
       "<circle clip-path=\"url(#clip062)\" cx=\"1295.12\" cy=\"1383.83\" r=\"14\" fill=\"#009af9\" fill-rule=\"evenodd\" fill-opacity=\"0.6\" stroke=\"#000000\" stroke-opacity=\"0.6\" stroke-width=\"3.2\"/>\n",
       "<circle clip-path=\"url(#clip062)\" cx=\"1295.12\" cy=\"1386.4\" r=\"14\" fill=\"#009af9\" fill-rule=\"evenodd\" fill-opacity=\"0.6\" stroke=\"#000000\" stroke-opacity=\"0.6\" stroke-width=\"3.2\"/>\n",
       "<circle clip-path=\"url(#clip062)\" cx=\"1295.12\" cy=\"1385.83\" r=\"14\" fill=\"#009af9\" fill-rule=\"evenodd\" fill-opacity=\"0.6\" stroke=\"#000000\" stroke-opacity=\"0.6\" stroke-width=\"3.2\"/>\n",
       "<circle clip-path=\"url(#clip062)\" cx=\"1794\" cy=\"1386.27\" r=\"14\" fill=\"#009af9\" fill-rule=\"evenodd\" fill-opacity=\"0.6\" stroke=\"#000000\" stroke-opacity=\"0.6\" stroke-width=\"3.2\"/>\n",
       "<circle clip-path=\"url(#clip062)\" cx=\"1794\" cy=\"1386.34\" r=\"14\" fill=\"#009af9\" fill-rule=\"evenodd\" fill-opacity=\"0.6\" stroke=\"#000000\" stroke-opacity=\"0.6\" stroke-width=\"3.2\"/>\n",
       "<circle clip-path=\"url(#clip062)\" cx=\"1794\" cy=\"1369.31\" r=\"14\" fill=\"#009af9\" fill-rule=\"evenodd\" fill-opacity=\"0.6\" stroke=\"#000000\" stroke-opacity=\"0.6\" stroke-width=\"3.2\"/>\n",
       "<circle clip-path=\"url(#clip062)\" cx=\"1794\" cy=\"1386.16\" r=\"14\" fill=\"#009af9\" fill-rule=\"evenodd\" fill-opacity=\"0.6\" stroke=\"#000000\" stroke-opacity=\"0.6\" stroke-width=\"3.2\"/>\n",
       "<circle clip-path=\"url(#clip062)\" cx=\"1794\" cy=\"1386.35\" r=\"14\" fill=\"#009af9\" fill-rule=\"evenodd\" fill-opacity=\"0.6\" stroke=\"#000000\" stroke-opacity=\"0.6\" stroke-width=\"3.2\"/>\n",
       "<circle clip-path=\"url(#clip062)\" cx=\"1794\" cy=\"1386.12\" r=\"14\" fill=\"#009af9\" fill-rule=\"evenodd\" fill-opacity=\"0.6\" stroke=\"#000000\" stroke-opacity=\"0.6\" stroke-width=\"3.2\"/>\n",
       "<circle clip-path=\"url(#clip062)\" cx=\"1794\" cy=\"1386.24\" r=\"14\" fill=\"#009af9\" fill-rule=\"evenodd\" fill-opacity=\"0.6\" stroke=\"#000000\" stroke-opacity=\"0.6\" stroke-width=\"3.2\"/>\n",
       "<circle clip-path=\"url(#clip062)\" cx=\"1794\" cy=\"1386.14\" r=\"14\" fill=\"#009af9\" fill-rule=\"evenodd\" fill-opacity=\"0.6\" stroke=\"#000000\" stroke-opacity=\"0.6\" stroke-width=\"3.2\"/>\n",
       "<circle clip-path=\"url(#clip062)\" cx=\"1794\" cy=\"1382.12\" r=\"14\" fill=\"#009af9\" fill-rule=\"evenodd\" fill-opacity=\"0.6\" stroke=\"#000000\" stroke-opacity=\"0.6\" stroke-width=\"3.2\"/>\n",
       "<circle clip-path=\"url(#clip062)\" cx=\"1794\" cy=\"1386.2\" r=\"14\" fill=\"#009af9\" fill-rule=\"evenodd\" fill-opacity=\"0.6\" stroke=\"#000000\" stroke-opacity=\"0.6\" stroke-width=\"3.2\"/>\n",
       "<circle clip-path=\"url(#clip062)\" cx=\"1794\" cy=\"1386.05\" r=\"14\" fill=\"#009af9\" fill-rule=\"evenodd\" fill-opacity=\"0.6\" stroke=\"#000000\" stroke-opacity=\"0.6\" stroke-width=\"3.2\"/>\n",
       "<circle clip-path=\"url(#clip062)\" cx=\"1794\" cy=\"1386.15\" r=\"14\" fill=\"#009af9\" fill-rule=\"evenodd\" fill-opacity=\"0.6\" stroke=\"#000000\" stroke-opacity=\"0.6\" stroke-width=\"3.2\"/>\n",
       "<circle clip-path=\"url(#clip062)\" cx=\"1794\" cy=\"1386.27\" r=\"14\" fill=\"#009af9\" fill-rule=\"evenodd\" fill-opacity=\"0.6\" stroke=\"#000000\" stroke-opacity=\"0.6\" stroke-width=\"3.2\"/>\n",
       "<circle clip-path=\"url(#clip062)\" cx=\"1794\" cy=\"1386.14\" r=\"14\" fill=\"#009af9\" fill-rule=\"evenodd\" fill-opacity=\"0.6\" stroke=\"#000000\" stroke-opacity=\"0.6\" stroke-width=\"3.2\"/>\n",
       "<circle clip-path=\"url(#clip062)\" cx=\"1794\" cy=\"1370.93\" r=\"14\" fill=\"#009af9\" fill-rule=\"evenodd\" fill-opacity=\"0.6\" stroke=\"#000000\" stroke-opacity=\"0.6\" stroke-width=\"3.2\"/>\n",
       "<circle clip-path=\"url(#clip062)\" cx=\"2292.89\" cy=\"1384.76\" r=\"14\" fill=\"#009af9\" fill-rule=\"evenodd\" fill-opacity=\"0.6\" stroke=\"#000000\" stroke-opacity=\"0.6\" stroke-width=\"3.2\"/>\n",
       "<circle clip-path=\"url(#clip062)\" cx=\"2292.89\" cy=\"1385.27\" r=\"14\" fill=\"#009af9\" fill-rule=\"evenodd\" fill-opacity=\"0.6\" stroke=\"#000000\" stroke-opacity=\"0.6\" stroke-width=\"3.2\"/>\n",
       "<circle clip-path=\"url(#clip062)\" cx=\"2292.89\" cy=\"1385.24\" r=\"14\" fill=\"#009af9\" fill-rule=\"evenodd\" fill-opacity=\"0.6\" stroke=\"#000000\" stroke-opacity=\"0.6\" stroke-width=\"3.2\"/>\n",
       "<circle clip-path=\"url(#clip062)\" cx=\"2292.89\" cy=\"1367.32\" r=\"14\" fill=\"#009af9\" fill-rule=\"evenodd\" fill-opacity=\"0.6\" stroke=\"#000000\" stroke-opacity=\"0.6\" stroke-width=\"3.2\"/>\n",
       "<circle clip-path=\"url(#clip062)\" cx=\"2292.89\" cy=\"1374.84\" r=\"14\" fill=\"#009af9\" fill-rule=\"evenodd\" fill-opacity=\"0.6\" stroke=\"#000000\" stroke-opacity=\"0.6\" stroke-width=\"3.2\"/>\n",
       "<circle clip-path=\"url(#clip062)\" cx=\"2292.89\" cy=\"1381.79\" r=\"14\" fill=\"#009af9\" fill-rule=\"evenodd\" fill-opacity=\"0.6\" stroke=\"#000000\" stroke-opacity=\"0.6\" stroke-width=\"3.2\"/>\n",
       "<circle clip-path=\"url(#clip062)\" cx=\"2292.89\" cy=\"1370.49\" r=\"14\" fill=\"#009af9\" fill-rule=\"evenodd\" fill-opacity=\"0.6\" stroke=\"#000000\" stroke-opacity=\"0.6\" stroke-width=\"3.2\"/>\n",
       "<circle clip-path=\"url(#clip062)\" cx=\"2292.89\" cy=\"1383.7\" r=\"14\" fill=\"#009af9\" fill-rule=\"evenodd\" fill-opacity=\"0.6\" stroke=\"#000000\" stroke-opacity=\"0.6\" stroke-width=\"3.2\"/>\n",
       "<circle clip-path=\"url(#clip062)\" cx=\"2292.89\" cy=\"1384.16\" r=\"14\" fill=\"#009af9\" fill-rule=\"evenodd\" fill-opacity=\"0.6\" stroke=\"#000000\" stroke-opacity=\"0.6\" stroke-width=\"3.2\"/>\n",
       "<circle clip-path=\"url(#clip062)\" cx=\"2292.89\" cy=\"1384.91\" r=\"14\" fill=\"#009af9\" fill-rule=\"evenodd\" fill-opacity=\"0.6\" stroke=\"#000000\" stroke-opacity=\"0.6\" stroke-width=\"3.2\"/>\n",
       "<circle clip-path=\"url(#clip062)\" cx=\"2292.89\" cy=\"1385.29\" r=\"14\" fill=\"#009af9\" fill-rule=\"evenodd\" fill-opacity=\"0.6\" stroke=\"#000000\" stroke-opacity=\"0.6\" stroke-width=\"3.2\"/>\n",
       "<circle clip-path=\"url(#clip062)\" cx=\"2292.89\" cy=\"1362.12\" r=\"14\" fill=\"#009af9\" fill-rule=\"evenodd\" fill-opacity=\"0.6\" stroke=\"#000000\" stroke-opacity=\"0.6\" stroke-width=\"3.2\"/>\n",
       "<circle clip-path=\"url(#clip062)\" cx=\"2292.89\" cy=\"1357.15\" r=\"14\" fill=\"#009af9\" fill-rule=\"evenodd\" fill-opacity=\"0.6\" stroke=\"#000000\" stroke-opacity=\"0.6\" stroke-width=\"3.2\"/>\n",
       "<circle clip-path=\"url(#clip062)\" cx=\"2292.89\" cy=\"1380.21\" r=\"14\" fill=\"#009af9\" fill-rule=\"evenodd\" fill-opacity=\"0.6\" stroke=\"#000000\" stroke-opacity=\"0.6\" stroke-width=\"3.2\"/>\n",
       "<circle clip-path=\"url(#clip062)\" cx=\"2292.89\" cy=\"1385.15\" r=\"14\" fill=\"#009af9\" fill-rule=\"evenodd\" fill-opacity=\"0.6\" stroke=\"#000000\" stroke-opacity=\"0.6\" stroke-width=\"3.2\"/>\n",
       "<path clip-path=\"url(#clip060)\" d=\"\n",
       "M1867.45 327.952 L2280.76 327.952 L2280.76 206.992 L1867.45 206.992  Z\n",
       "  \" fill=\"#ffffff\" fill-rule=\"evenodd\" fill-opacity=\"1\"/>\n",
       "<polyline clip-path=\"url(#clip060)\" style=\"stroke:#000000; stroke-width:4; stroke-opacity:1; fill:none\" points=\"\n",
       "  1867.45,327.952 2280.76,327.952 2280.76,206.992 1867.45,206.992 1867.45,327.952 \n",
       "  \"/>\n",
       "<circle clip-path=\"url(#clip060)\" cx=\"1975.45\" cy=\"267.472\" r=\"23\" fill=\"#009af9\" fill-rule=\"evenodd\" fill-opacity=\"0.6\" stroke=\"#000000\" stroke-opacity=\"0.6\" stroke-width=\"5.12\"/>\n",
       "<path clip-path=\"url(#clip060)\" d=\"M 0 0 M2064.12 254.035 L2064.12 280.91 L2069.77 280.91 Q2076.92 280.91 2080.23 277.669 Q2083.57 274.428 2083.57 267.437 Q2083.57 260.493 2080.23 257.275 Q2076.92 254.035 2069.77 254.035 L2064.12 254.035 M2059.45 250.192 L2069.05 250.192 Q2079.1 250.192 2083.8 254.382 Q2088.5 258.549 2088.5 267.437 Q2088.5 276.373 2083.78 280.562 Q2079.05 284.752 2069.05 284.752 L2059.45 284.752 L2059.45 250.192 Z\" fill=\"#000000\" fill-rule=\"evenodd\" fill-opacity=\"1\" /><path clip-path=\"url(#clip060)\" d=\"M 0 0 M2092.53 274.521 L2092.53 258.826 L2096.78 258.826 L2096.78 274.359 Q2096.78 278.039 2098.22 279.891 Q2099.65 281.72 2102.53 281.72 Q2105.97 281.72 2107.96 279.521 Q2109.98 277.322 2109.98 273.525 L2109.98 258.826 L2114.24 258.826 L2114.24 284.752 L2109.98 284.752 L2109.98 280.771 Q2108.43 283.132 2106.37 284.289 Q2104.33 285.423 2101.62 285.423 Q2097.15 285.423 2094.84 282.646 Q2092.53 279.868 2092.53 274.521 M2103.24 258.201 L2103.24 258.201 Z\" fill=\"#000000\" fill-rule=\"evenodd\" fill-opacity=\"1\" /><path clip-path=\"url(#clip060)\" d=\"M 0 0 M2133.73 262.808 Q2133.01 262.391 2132.15 262.206 Q2131.32 261.998 2130.3 261.998 Q2126.69 261.998 2124.75 264.359 Q2122.83 266.697 2122.83 271.095 L2122.83 284.752 L2118.54 284.752 L2118.54 258.826 L2122.83 258.826 L2122.83 262.854 Q2124.17 260.493 2126.32 259.359 Q2128.47 258.201 2131.55 258.201 Q2131.99 258.201 2132.52 258.271 Q2133.06 258.317 2133.71 258.433 L2133.73 262.808 Z\" fill=\"#000000\" fill-rule=\"evenodd\" fill-opacity=\"1\" /><path clip-path=\"url(#clip060)\" d=\"M 0 0 M2149.98 271.72 Q2144.82 271.72 2142.83 272.9 Q2140.84 274.081 2140.84 276.928 Q2140.84 279.197 2142.32 280.539 Q2143.82 281.859 2146.39 281.859 Q2149.93 281.859 2152.06 279.359 Q2154.21 276.836 2154.21 272.669 L2154.21 271.72 L2149.98 271.72 M2158.47 269.961 L2158.47 284.752 L2154.21 284.752 L2154.21 280.817 Q2152.76 283.178 2150.58 284.312 Q2148.4 285.423 2145.26 285.423 Q2141.27 285.423 2138.91 283.201 Q2136.58 280.956 2136.58 277.206 Q2136.58 272.831 2139.49 270.609 Q2142.43 268.386 2148.24 268.386 L2154.21 268.386 L2154.21 267.97 Q2154.21 265.03 2152.27 263.433 Q2150.35 261.812 2146.85 261.812 Q2144.63 261.812 2142.52 262.345 Q2140.42 262.877 2138.47 263.942 L2138.47 260.007 Q2140.81 259.104 2143.01 258.664 Q2145.21 258.201 2147.29 258.201 Q2152.92 258.201 2155.7 261.118 Q2158.47 264.035 2158.47 269.961 Z\" fill=\"#000000\" fill-rule=\"evenodd\" fill-opacity=\"1\" /><path clip-path=\"url(#clip060)\" d=\"M 0 0 M2181.6 259.822 L2181.6 263.803 Q2179.79 262.808 2177.96 262.322 Q2176.16 261.812 2174.31 261.812 Q2170.16 261.812 2167.87 264.451 Q2165.58 267.067 2165.58 271.812 Q2165.58 276.558 2167.87 279.197 Q2170.16 281.812 2174.31 281.812 Q2176.16 281.812 2177.96 281.326 Q2179.79 280.817 2181.6 279.822 L2181.6 283.757 Q2179.82 284.59 2177.9 285.007 Q2176 285.423 2173.84 285.423 Q2167.99 285.423 2164.54 281.743 Q2161.09 278.062 2161.09 271.812 Q2161.09 265.47 2164.56 261.836 Q2168.06 258.201 2174.12 258.201 Q2176.09 258.201 2177.96 258.618 Q2179.84 259.012 2181.6 259.822 M2175.58 284.752 Q2176.85 286.187 2177.48 287.391 Q2178.1 288.618 2178.1 289.729 Q2178.1 291.789 2176.71 292.831 Q2175.33 293.896 2172.59 293.896 Q2171.53 293.896 2170.51 293.757 Q2169.52 293.618 2168.52 293.34 L2168.52 290.308 Q2169.31 290.701 2170.16 290.863 Q2171.02 291.048 2172.11 291.048 Q2173.47 291.048 2174.17 290.493 Q2174.86 289.937 2174.86 288.872 Q2174.86 288.178 2174.35 287.16 Q2173.87 286.164 2172.83 284.752 L2175.58 284.752 Z\" fill=\"#000000\" fill-rule=\"evenodd\" fill-opacity=\"1\" /><path clip-path=\"url(#clip060)\" d=\"M 0 0 M2197.85 271.72 Q2192.69 271.72 2190.7 272.9 Q2188.71 274.081 2188.71 276.928 Q2188.71 279.197 2190.19 280.539 Q2191.69 281.859 2194.26 281.859 Q2197.8 281.859 2199.93 279.359 Q2202.08 276.836 2202.08 272.669 L2202.08 271.72 L2197.85 271.72 M2206.34 269.961 L2206.34 284.752 L2202.08 284.752 L2202.08 280.817 Q2200.63 283.178 2198.45 284.312 Q2196.27 285.423 2193.13 285.423 Q2189.15 285.423 2186.78 283.201 Q2184.45 280.956 2184.45 277.206 Q2184.45 272.831 2187.36 270.609 Q2190.3 268.386 2196.11 268.386 L2202.08 268.386 L2202.08 267.97 Q2202.08 265.03 2200.14 263.433 Q2198.22 261.812 2194.72 261.812 Q2192.5 261.812 2190.4 262.345 Q2188.29 262.877 2186.34 263.942 L2186.34 260.007 Q2188.68 259.104 2190.88 258.664 Q2193.08 258.201 2195.16 258.201 Q2200.79 258.201 2203.57 261.118 Q2206.34 264.035 2206.34 269.961 M2195.26 253.039 L2193.94 251.766 Q2193.43 251.303 2193.03 251.095 Q2192.66 250.863 2192.36 250.863 Q2191.48 250.863 2191.07 251.72 Q2190.65 252.553 2190.6 254.451 L2187.71 254.451 Q2187.76 251.326 2188.94 249.637 Q2190.12 247.924 2192.22 247.924 Q2193.1 247.924 2193.84 248.248 Q2194.58 248.572 2195.44 249.336 L2196.76 250.609 Q2197.27 251.072 2197.64 251.303 Q2198.03 251.512 2198.33 251.512 Q2199.21 251.512 2199.63 250.678 Q2200.05 249.822 2200.09 247.924 L2202.99 247.924 Q2202.94 251.049 2201.76 252.762 Q2200.58 254.451 2198.47 254.451 Q2197.59 254.451 2196.85 254.127 Q2196.11 253.803 2195.26 253.039 Z\" fill=\"#000000\" fill-rule=\"evenodd\" fill-opacity=\"1\" /><path clip-path=\"url(#clip060)\" d=\"M 0 0 M2220.86 261.812 Q2217.43 261.812 2215.44 264.498 Q2213.45 267.16 2213.45 271.812 Q2213.45 276.465 2215.42 279.15 Q2217.41 281.812 2220.86 281.812 Q2224.26 281.812 2226.25 279.127 Q2228.24 276.442 2228.24 271.812 Q2228.24 267.206 2226.25 264.521 Q2224.26 261.812 2220.86 261.812 M2220.86 258.201 Q2226.41 258.201 2229.58 261.812 Q2232.76 265.424 2232.76 271.812 Q2232.76 278.178 2229.58 281.812 Q2226.41 285.423 2220.86 285.423 Q2215.28 285.423 2212.11 281.812 Q2208.96 278.178 2208.96 271.812 Q2208.96 265.424 2212.11 261.812 Q2215.28 258.201 2220.86 258.201 Z\" fill=\"#000000\" fill-rule=\"evenodd\" fill-opacity=\"1\" /></svg>\n"
      ]
     },
     "execution_count": 29,
     "metadata": {},
     "output_type": "execute_result"
    }
   ],
   "source": [
    "#plotar graficos com todos os pontos\n",
    "\n",
    "\n",
    "plot_results(results_cuda.dimensions,\n",
    "    results_cuda.duration,    \n",
    "    \"Duração\", \"Dimensão\", \"Tempo(s)\", \"Experimentos em CUDA\")\n",
    "\n"
   ]
  },
  {
   "cell_type": "code",
   "execution_count": 30,
   "metadata": {},
   "outputs": [
    {
     "data": {
      "image/svg+xml": [
       "<?xml version=\"1.0\" encoding=\"utf-8\"?>\n",
       "<svg xmlns=\"http://www.w3.org/2000/svg\" xmlns:xlink=\"http://www.w3.org/1999/xlink\" width=\"600\" height=\"400\" viewBox=\"0 0 2400 1600\">\n",
       "<defs>\n",
       "  <clipPath id=\"clip100\">\n",
       "    <rect x=\"0\" y=\"0\" width=\"2400\" height=\"1600\"/>\n",
       "  </clipPath>\n",
       "</defs>\n",
       "<path clip-path=\"url(#clip100)\" d=\"\n",
       "M0 1600 L2400 1600 L2400 0 L0 0  Z\n",
       "  \" fill=\"#ffffff\" fill-rule=\"evenodd\" fill-opacity=\"1\"/>\n",
       "<defs>\n",
       "  <clipPath id=\"clip101\">\n",
       "    <rect x=\"480\" y=\"0\" width=\"1681\" height=\"1600\"/>\n",
       "  </clipPath>\n",
       "</defs>\n",
       "<path clip-path=\"url(#clip100)\" d=\"\n",
       "M237.135 1423.18 L2352.76 1423.18 L2352.76 123.472 L237.135 123.472  Z\n",
       "  \" fill=\"#ffffff\" fill-rule=\"evenodd\" fill-opacity=\"1\"/>\n",
       "<defs>\n",
       "  <clipPath id=\"clip102\">\n",
       "    <rect x=\"237\" y=\"123\" width=\"2117\" height=\"1301\"/>\n",
       "  </clipPath>\n",
       "</defs>\n",
       "<polyline clip-path=\"url(#clip102)\" style=\"stroke:#000000; stroke-width:2; stroke-opacity:0.1; fill:none\" points=\"\n",
       "  297.011,1423.18 297.011,123.472 \n",
       "  \"/>\n",
       "<polyline clip-path=\"url(#clip102)\" style=\"stroke:#000000; stroke-width:2; stroke-opacity:0.1; fill:none\" points=\"\n",
       "  795.978,1423.18 795.978,123.472 \n",
       "  \"/>\n",
       "<polyline clip-path=\"url(#clip102)\" style=\"stroke:#000000; stroke-width:2; stroke-opacity:0.1; fill:none\" points=\"\n",
       "  1294.95,1423.18 1294.95,123.472 \n",
       "  \"/>\n",
       "<polyline clip-path=\"url(#clip102)\" style=\"stroke:#000000; stroke-width:2; stroke-opacity:0.1; fill:none\" points=\"\n",
       "  1793.91,1423.18 1793.91,123.472 \n",
       "  \"/>\n",
       "<polyline clip-path=\"url(#clip102)\" style=\"stroke:#000000; stroke-width:2; stroke-opacity:0.1; fill:none\" points=\"\n",
       "  2292.88,1423.18 2292.88,123.472 \n",
       "  \"/>\n",
       "<polyline clip-path=\"url(#clip102)\" style=\"stroke:#000000; stroke-width:2; stroke-opacity:0.1; fill:none\" points=\"\n",
       "  237.135,1311.48 2352.76,1311.48 \n",
       "  \"/>\n",
       "<polyline clip-path=\"url(#clip102)\" style=\"stroke:#000000; stroke-width:2; stroke-opacity:0.1; fill:none\" points=\"\n",
       "  237.135,1073.61 2352.76,1073.61 \n",
       "  \"/>\n",
       "<polyline clip-path=\"url(#clip102)\" style=\"stroke:#000000; stroke-width:2; stroke-opacity:0.1; fill:none\" points=\"\n",
       "  237.135,835.743 2352.76,835.743 \n",
       "  \"/>\n",
       "<polyline clip-path=\"url(#clip102)\" style=\"stroke:#000000; stroke-width:2; stroke-opacity:0.1; fill:none\" points=\"\n",
       "  237.135,597.875 2352.76,597.875 \n",
       "  \"/>\n",
       "<polyline clip-path=\"url(#clip102)\" style=\"stroke:#000000; stroke-width:2; stroke-opacity:0.1; fill:none\" points=\"\n",
       "  237.135,360.006 2352.76,360.006 \n",
       "  \"/>\n",
       "<polyline clip-path=\"url(#clip100)\" style=\"stroke:#000000; stroke-width:4; stroke-opacity:1; fill:none\" points=\"\n",
       "  237.135,1423.18 2352.76,1423.18 \n",
       "  \"/>\n",
       "<polyline clip-path=\"url(#clip100)\" style=\"stroke:#000000; stroke-width:4; stroke-opacity:1; fill:none\" points=\"\n",
       "  237.135,1423.18 237.135,123.472 \n",
       "  \"/>\n",
       "<polyline clip-path=\"url(#clip100)\" style=\"stroke:#000000; stroke-width:4; stroke-opacity:1; fill:none\" points=\"\n",
       "  297.011,1423.18 297.011,1407.58 \n",
       "  \"/>\n",
       "<polyline clip-path=\"url(#clip100)\" style=\"stroke:#000000; stroke-width:4; stroke-opacity:1; fill:none\" points=\"\n",
       "  795.978,1423.18 795.978,1407.58 \n",
       "  \"/>\n",
       "<polyline clip-path=\"url(#clip100)\" style=\"stroke:#000000; stroke-width:4; stroke-opacity:1; fill:none\" points=\"\n",
       "  1294.95,1423.18 1294.95,1407.58 \n",
       "  \"/>\n",
       "<polyline clip-path=\"url(#clip100)\" style=\"stroke:#000000; stroke-width:4; stroke-opacity:1; fill:none\" points=\"\n",
       "  1793.91,1423.18 1793.91,1407.58 \n",
       "  \"/>\n",
       "<polyline clip-path=\"url(#clip100)\" style=\"stroke:#000000; stroke-width:4; stroke-opacity:1; fill:none\" points=\"\n",
       "  2292.88,1423.18 2292.88,1407.58 \n",
       "  \"/>\n",
       "<polyline clip-path=\"url(#clip100)\" style=\"stroke:#000000; stroke-width:4; stroke-opacity:1; fill:none\" points=\"\n",
       "  237.135,1311.48 262.522,1311.48 \n",
       "  \"/>\n",
       "<polyline clip-path=\"url(#clip100)\" style=\"stroke:#000000; stroke-width:4; stroke-opacity:1; fill:none\" points=\"\n",
       "  237.135,1073.61 262.522,1073.61 \n",
       "  \"/>\n",
       "<polyline clip-path=\"url(#clip100)\" style=\"stroke:#000000; stroke-width:4; stroke-opacity:1; fill:none\" points=\"\n",
       "  237.135,835.743 262.522,835.743 \n",
       "  \"/>\n",
       "<polyline clip-path=\"url(#clip100)\" style=\"stroke:#000000; stroke-width:4; stroke-opacity:1; fill:none\" points=\"\n",
       "  237.135,597.875 262.522,597.875 \n",
       "  \"/>\n",
       "<polyline clip-path=\"url(#clip100)\" style=\"stroke:#000000; stroke-width:4; stroke-opacity:1; fill:none\" points=\"\n",
       "  237.135,360.006 262.522,360.006 \n",
       "  \"/>\n",
       "<path clip-path=\"url(#clip100)\" d=\"M 0 0 M266.201 1472.72 L282.52 1472.72 L282.52 1476.65 L260.576 1476.65 L260.576 1472.72 Q263.238 1469.96 267.821 1465.33 Q272.428 1460.68 273.608 1459.34 Q275.853 1456.81 276.733 1455.08 Q277.636 1453.32 277.636 1451.63 Q277.636 1448.87 275.691 1447.14 Q273.77 1445.4 270.668 1445.4 Q268.469 1445.4 266.016 1446.17 Q263.585 1446.93 260.807 1448.48 L260.807 1443.76 Q263.631 1442.62 266.085 1442.05 Q268.539 1441.47 270.576 1441.47 Q275.946 1441.47 279.14 1444.15 Q282.335 1446.84 282.335 1451.33 Q282.335 1453.46 281.525 1455.38 Q280.738 1457.28 278.631 1459.87 Q278.053 1460.54 274.951 1463.76 Q271.849 1466.95 266.201 1472.72 Z\" fill=\"#000000\" fill-rule=\"evenodd\" fill-opacity=\"1\" /><path clip-path=\"url(#clip100)\" d=\"M 0 0 M288.076 1470.77 L292.96 1470.77 L292.96 1474.75 L289.164 1482.16 L286.177 1482.16 L288.076 1474.75 L288.076 1470.77 Z\" fill=\"#000000\" fill-rule=\"evenodd\" fill-opacity=\"1\" /><path clip-path=\"url(#clip100)\" d=\"M 0 0 M317.126 1472.72 L333.446 1472.72 L333.446 1476.65 L311.501 1476.65 L311.501 1472.72 Q314.163 1469.96 318.747 1465.33 Q323.353 1460.68 324.534 1459.34 Q326.779 1456.81 327.659 1455.08 Q328.562 1453.32 328.562 1451.63 Q328.562 1448.87 326.617 1447.14 Q324.696 1445.4 321.594 1445.4 Q319.395 1445.4 316.941 1446.17 Q314.511 1446.93 311.733 1448.48 L311.733 1443.76 Q314.557 1442.62 317.011 1442.05 Q319.464 1441.47 321.501 1441.47 Q326.872 1441.47 330.066 1444.15 Q333.261 1446.84 333.261 1451.33 Q333.261 1453.46 332.45 1455.38 Q331.663 1457.28 329.557 1459.87 Q328.978 1460.54 325.876 1463.76 Q322.775 1466.95 317.126 1472.72 Z\" fill=\"#000000\" fill-rule=\"evenodd\" fill-opacity=\"1\" /><path clip-path=\"url(#clip100)\" d=\"M 0 0 M772.483 1446.17 L760.677 1464.61 L772.483 1464.61 L772.483 1446.17 M771.256 1442.09 L777.136 1442.09 L777.136 1464.61 L782.066 1464.61 L782.066 1468.5 L777.136 1468.5 L777.136 1476.65 L772.483 1476.65 L772.483 1468.5 L756.881 1468.5 L756.881 1463.99 L771.256 1442.09 Z\" fill=\"#000000\" fill-rule=\"evenodd\" fill-opacity=\"1\" /><path clip-path=\"url(#clip100)\" d=\"M 0 0 M787.622 1470.77 L792.506 1470.77 L792.506 1474.75 L788.71 1482.16 L785.723 1482.16 L787.622 1474.75 L787.622 1470.77 Z\" fill=\"#000000\" fill-rule=\"evenodd\" fill-opacity=\"1\" /><path clip-path=\"url(#clip100)\" d=\"M 0 0 M825.492 1446.17 L813.686 1464.61 L825.492 1464.61 L825.492 1446.17 M824.265 1442.09 L830.145 1442.09 L830.145 1464.61 L835.075 1464.61 L835.075 1468.5 L830.145 1468.5 L830.145 1476.65 L825.492 1476.65 L825.492 1468.5 L809.89 1468.5 L809.89 1463.99 L824.265 1442.09 Z\" fill=\"#000000\" fill-rule=\"evenodd\" fill-opacity=\"1\" /><path clip-path=\"url(#clip100)\" d=\"M 0 0 M1268.73 1460.24 Q1265.4 1460.24 1263.48 1462.02 Q1261.58 1463.8 1261.58 1466.93 Q1261.58 1470.05 1263.48 1471.84 Q1265.4 1473.62 1268.73 1473.62 Q1272.06 1473.62 1273.98 1471.84 Q1275.91 1470.03 1275.91 1466.93 Q1275.91 1463.8 1273.98 1462.02 Q1272.09 1460.24 1268.73 1460.24 M1264.05 1458.25 Q1261.05 1457.51 1259.36 1455.45 Q1257.69 1453.39 1257.69 1450.43 Q1257.69 1446.28 1260.63 1443.87 Q1263.59 1441.47 1268.73 1441.47 Q1273.89 1441.47 1276.83 1443.87 Q1279.77 1446.28 1279.77 1450.43 Q1279.77 1453.39 1278.08 1455.45 Q1276.42 1457.51 1273.43 1458.25 Q1276.81 1459.04 1278.68 1461.33 Q1280.58 1463.62 1280.58 1466.93 Q1280.58 1471.95 1277.5 1474.64 Q1274.45 1477.32 1268.73 1477.32 Q1263.01 1477.32 1259.93 1474.64 Q1256.88 1471.95 1256.88 1466.93 Q1256.88 1463.62 1258.78 1461.33 Q1260.67 1459.04 1264.05 1458.25 M1262.34 1450.86 Q1262.34 1453.55 1264.01 1455.05 Q1265.7 1456.56 1268.73 1456.56 Q1271.74 1456.56 1273.43 1455.05 Q1275.14 1453.55 1275.14 1450.86 Q1275.14 1448.18 1273.43 1446.68 Q1271.74 1445.17 1268.73 1445.17 Q1265.7 1445.17 1264.01 1446.68 Q1262.34 1448.18 1262.34 1450.86 Z\" fill=\"#000000\" fill-rule=\"evenodd\" fill-opacity=\"1\" /><path clip-path=\"url(#clip100)\" d=\"M 0 0 M1286.14 1470.77 L1291.02 1470.77 L1291.02 1474.75 L1287.23 1482.16 L1284.24 1482.16 L1286.14 1474.75 L1286.14 1470.77 Z\" fill=\"#000000\" fill-rule=\"evenodd\" fill-opacity=\"1\" /><path clip-path=\"url(#clip100)\" d=\"M 0 0 M1321.16 1460.24 Q1317.83 1460.24 1315.91 1462.02 Q1314.01 1463.8 1314.01 1466.93 Q1314.01 1470.05 1315.91 1471.84 Q1317.83 1473.62 1321.16 1473.62 Q1324.49 1473.62 1326.42 1471.84 Q1328.34 1470.03 1328.34 1466.93 Q1328.34 1463.8 1326.42 1462.02 Q1324.52 1460.24 1321.16 1460.24 M1316.48 1458.25 Q1313.48 1457.51 1311.79 1455.45 Q1310.12 1453.39 1310.12 1450.43 Q1310.12 1446.28 1313.06 1443.87 Q1316.02 1441.47 1321.16 1441.47 Q1326.32 1441.47 1329.26 1443.87 Q1332.2 1446.28 1332.2 1450.43 Q1332.2 1453.39 1330.51 1455.45 Q1328.85 1457.51 1325.86 1458.25 Q1329.24 1459.04 1331.11 1461.33 Q1333.01 1463.62 1333.01 1466.93 Q1333.01 1471.95 1329.93 1474.64 Q1326.88 1477.32 1321.16 1477.32 Q1315.44 1477.32 1312.36 1474.64 Q1309.31 1471.95 1309.31 1466.93 Q1309.31 1463.62 1311.21 1461.33 Q1313.1 1459.04 1316.48 1458.25 M1314.77 1450.86 Q1314.77 1453.55 1316.44 1455.05 Q1318.13 1456.56 1321.16 1456.56 Q1324.17 1456.56 1325.86 1455.05 Q1327.57 1453.55 1327.57 1450.86 Q1327.57 1448.18 1325.86 1446.68 Q1324.17 1445.17 1321.16 1445.17 Q1318.13 1445.17 1316.44 1446.68 Q1314.77 1448.18 1314.77 1450.86 Z\" fill=\"#000000\" fill-rule=\"evenodd\" fill-opacity=\"1\" /><path clip-path=\"url(#clip100)\" d=\"M 0 0 M1731.47 1472.72 L1739.11 1472.72 L1739.11 1446.35 L1730.8 1448.02 L1730.8 1443.76 L1739.06 1442.09 L1743.74 1442.09 L1743.74 1472.72 L1751.38 1472.72 L1751.38 1476.65 L1731.47 1476.65 L1731.47 1472.72 Z\" fill=\"#000000\" fill-rule=\"evenodd\" fill-opacity=\"1\" /><path clip-path=\"url(#clip100)\" d=\"M 0 0 M1767.03 1457.51 Q1763.88 1457.51 1762.03 1459.66 Q1760.2 1461.81 1760.2 1465.56 Q1760.2 1469.29 1762.03 1471.47 Q1763.88 1473.62 1767.03 1473.62 Q1770.17 1473.62 1772 1471.47 Q1773.85 1469.29 1773.85 1465.56 Q1773.85 1461.81 1772 1459.66 Q1770.17 1457.51 1767.03 1457.51 M1776.31 1442.86 L1776.31 1447.11 Q1774.55 1446.28 1772.74 1445.84 Q1770.96 1445.4 1769.2 1445.4 Q1764.57 1445.4 1762.12 1448.53 Q1759.69 1451.65 1759.34 1457.97 Q1760.71 1455.96 1762.77 1454.89 Q1764.83 1453.8 1767.3 1453.8 Q1772.51 1453.8 1775.52 1456.98 Q1778.55 1460.12 1778.55 1465.56 Q1778.55 1470.89 1775.41 1474.11 Q1772.26 1477.32 1767.03 1477.32 Q1761.03 1477.32 1757.86 1472.74 Q1754.69 1468.13 1754.69 1459.41 Q1754.69 1451.21 1758.58 1446.35 Q1762.47 1441.47 1769.02 1441.47 Q1770.78 1441.47 1772.56 1441.81 Q1774.36 1442.16 1776.31 1442.86 Z\" fill=\"#000000\" fill-rule=\"evenodd\" fill-opacity=\"1\" /><path clip-path=\"url(#clip100)\" d=\"M 0 0 M1784.11 1470.77 L1788.99 1470.77 L1788.99 1474.75 L1785.2 1482.16 L1782.21 1482.16 L1784.11 1474.75 L1784.11 1470.77 Z\" fill=\"#000000\" fill-rule=\"evenodd\" fill-opacity=\"1\" /><path clip-path=\"url(#clip100)\" d=\"M 0 0 M1809.94 1472.72 L1817.58 1472.72 L1817.58 1446.35 L1809.27 1448.02 L1809.27 1443.76 L1817.54 1442.09 L1822.21 1442.09 L1822.21 1472.72 L1829.85 1472.72 L1829.85 1476.65 L1809.94 1476.65 L1809.94 1472.72 Z\" fill=\"#000000\" fill-rule=\"evenodd\" fill-opacity=\"1\" /><path clip-path=\"url(#clip100)\" d=\"M 0 0 M1845.5 1457.51 Q1842.35 1457.51 1840.5 1459.66 Q1838.67 1461.81 1838.67 1465.56 Q1838.67 1469.29 1840.5 1471.47 Q1842.35 1473.62 1845.5 1473.62 Q1848.65 1473.62 1850.47 1471.47 Q1852.33 1469.29 1852.33 1465.56 Q1852.33 1461.81 1850.47 1459.66 Q1848.65 1457.51 1845.5 1457.51 M1854.78 1442.86 L1854.78 1447.11 Q1853.02 1446.28 1851.22 1445.84 Q1849.43 1445.4 1847.67 1445.4 Q1843.04 1445.4 1840.59 1448.53 Q1838.16 1451.65 1837.81 1457.97 Q1839.18 1455.96 1841.24 1454.89 Q1843.3 1453.8 1845.78 1453.8 Q1850.98 1453.8 1853.99 1456.98 Q1857.03 1460.12 1857.03 1465.56 Q1857.03 1470.89 1853.88 1474.11 Q1850.73 1477.32 1845.5 1477.32 Q1839.5 1477.32 1836.33 1472.74 Q1833.16 1468.13 1833.16 1459.41 Q1833.16 1451.21 1837.05 1446.35 Q1840.94 1441.47 1847.49 1441.47 Q1849.25 1441.47 1851.03 1441.81 Q1852.84 1442.16 1854.78 1442.86 Z\" fill=\"#000000\" fill-rule=\"evenodd\" fill-opacity=\"1\" /><path clip-path=\"url(#clip100)\" d=\"M 0 0 M2245.77 1458.02 Q2249.13 1458.74 2251.01 1461 Q2252.9 1463.27 2252.9 1466.61 Q2252.9 1471.72 2249.38 1474.52 Q2245.87 1477.32 2239.38 1477.32 Q2237.21 1477.32 2234.89 1476.88 Q2232.6 1476.47 2230.15 1475.61 L2230.15 1471.1 Q2232.09 1472.23 2234.41 1472.81 Q2236.72 1473.39 2239.25 1473.39 Q2243.64 1473.39 2245.94 1471.65 Q2248.25 1469.92 2248.25 1466.61 Q2248.25 1463.55 2246.1 1461.84 Q2243.97 1460.1 2240.15 1460.1 L2236.12 1460.1 L2236.12 1456.26 L2240.33 1456.26 Q2243.78 1456.26 2245.61 1454.89 Q2247.44 1453.5 2247.44 1450.91 Q2247.44 1448.25 2245.54 1446.84 Q2243.67 1445.4 2240.15 1445.4 Q2238.23 1445.4 2236.03 1445.82 Q2233.83 1446.24 2231.19 1447.11 L2231.19 1442.95 Q2233.85 1442.21 2236.17 1441.84 Q2238.51 1441.47 2240.57 1441.47 Q2245.89 1441.47 2248.99 1443.9 Q2252.09 1446.3 2252.09 1450.43 Q2252.09 1453.3 2250.45 1455.29 Q2248.81 1457.25 2245.77 1458.02 Z\" fill=\"#000000\" fill-rule=\"evenodd\" fill-opacity=\"1\" /><path clip-path=\"url(#clip100)\" d=\"M 0 0 M2262 1472.72 L2278.32 1472.72 L2278.32 1476.65 L2256.38 1476.65 L2256.38 1472.72 Q2259.04 1469.96 2263.62 1465.33 Q2268.23 1460.68 2269.41 1459.34 Q2271.65 1456.81 2272.53 1455.08 Q2273.44 1453.32 2273.44 1451.63 Q2273.44 1448.87 2271.49 1447.14 Q2269.57 1445.4 2266.47 1445.4 Q2264.27 1445.4 2261.82 1446.17 Q2259.38 1446.93 2256.61 1448.48 L2256.61 1443.76 Q2259.43 1442.62 2261.88 1442.05 Q2264.34 1441.47 2266.38 1441.47 Q2271.75 1441.47 2274.94 1444.15 Q2278.13 1446.84 2278.13 1451.33 Q2278.13 1453.46 2277.32 1455.38 Q2276.54 1457.28 2274.43 1459.87 Q2273.85 1460.54 2270.75 1463.76 Q2267.65 1466.95 2262 1472.72 Z\" fill=\"#000000\" fill-rule=\"evenodd\" fill-opacity=\"1\" /><path clip-path=\"url(#clip100)\" d=\"M 0 0 M2283.88 1470.77 L2288.76 1470.77 L2288.76 1474.75 L2284.96 1482.16 L2281.98 1482.16 L2283.88 1474.75 L2283.88 1470.77 Z\" fill=\"#000000\" fill-rule=\"evenodd\" fill-opacity=\"1\" /><path clip-path=\"url(#clip100)\" d=\"M 0 0 M2323.06 1458.02 Q2326.42 1458.74 2328.3 1461 Q2330.19 1463.27 2330.19 1466.61 Q2330.19 1471.72 2326.68 1474.52 Q2323.16 1477.32 2316.68 1477.32 Q2314.5 1477.32 2312.19 1476.88 Q2309.89 1476.47 2307.44 1475.61 L2307.44 1471.1 Q2309.38 1472.23 2311.7 1472.81 Q2314.01 1473.39 2316.54 1473.39 Q2320.94 1473.39 2323.23 1471.65 Q2325.54 1469.92 2325.54 1466.61 Q2325.54 1463.55 2323.39 1461.84 Q2321.26 1460.1 2317.44 1460.1 L2313.41 1460.1 L2313.41 1456.26 L2317.63 1456.26 Q2321.07 1456.26 2322.9 1454.89 Q2324.73 1453.5 2324.73 1450.91 Q2324.73 1448.25 2322.83 1446.84 Q2320.96 1445.4 2317.44 1445.4 Q2315.52 1445.4 2313.32 1445.82 Q2311.12 1446.24 2308.48 1447.11 L2308.48 1442.95 Q2311.14 1442.21 2313.46 1441.84 Q2315.8 1441.47 2317.86 1441.47 Q2323.18 1441.47 2326.28 1443.9 Q2329.38 1446.3 2329.38 1450.43 Q2329.38 1453.3 2327.74 1455.29 Q2326.1 1457.25 2323.06 1458.02 Z\" fill=\"#000000\" fill-rule=\"evenodd\" fill-opacity=\"1\" /><path clip-path=\"url(#clip100)\" d=\"M 0 0 M2339.29 1472.72 L2355.61 1472.72 L2355.61 1476.65 L2333.67 1476.65 L2333.67 1472.72 Q2336.33 1469.96 2340.91 1465.33 Q2345.52 1460.68 2346.7 1459.34 Q2348.94 1456.81 2349.82 1455.08 Q2350.73 1453.32 2350.73 1451.63 Q2350.73 1448.87 2348.78 1447.14 Q2346.86 1445.4 2343.76 1445.4 Q2341.56 1445.4 2339.11 1446.17 Q2336.68 1446.93 2333.9 1448.48 L2333.9 1443.76 Q2336.72 1442.62 2339.18 1442.05 Q2341.63 1441.47 2343.67 1441.47 Q2349.04 1441.47 2352.23 1444.15 Q2355.43 1446.84 2355.43 1451.33 Q2355.43 1453.46 2354.62 1455.38 Q2353.83 1457.28 2351.72 1459.87 Q2351.14 1460.54 2348.04 1463.76 Q2344.94 1466.95 2339.29 1472.72 Z\" fill=\"#000000\" fill-rule=\"evenodd\" fill-opacity=\"1\" /><path clip-path=\"url(#clip100)\" d=\"M 0 0 M138.205 1297.28 Q134.593 1297.28 132.765 1300.84 Q130.959 1304.39 130.959 1311.51 Q130.959 1318.62 132.765 1322.19 Q134.593 1325.73 138.205 1325.73 Q141.839 1325.73 143.644 1322.19 Q145.473 1318.62 145.473 1311.51 Q145.473 1304.39 143.644 1300.84 Q141.839 1297.28 138.205 1297.28 M138.205 1293.58 Q144.015 1293.58 147.07 1298.18 Q150.149 1302.76 150.149 1311.51 Q150.149 1320.24 147.07 1324.85 Q144.015 1329.43 138.205 1329.43 Q132.394 1329.43 129.316 1324.85 Q126.26 1320.24 126.26 1311.51 Q126.26 1302.76 129.316 1298.18 Q132.394 1293.58 138.205 1293.58 Z\" fill=\"#000000\" fill-rule=\"evenodd\" fill-opacity=\"1\" /><path clip-path=\"url(#clip100)\" d=\"M 0 0 M155.218 1322.88 L160.103 1322.88 L160.103 1328.76 L155.218 1328.76 L155.218 1322.88 Z\" fill=\"#000000\" fill-rule=\"evenodd\" fill-opacity=\"1\" /><path clip-path=\"url(#clip100)\" d=\"M 0 0 M175.172 1297.28 Q171.561 1297.28 169.732 1300.84 Q167.927 1304.39 167.927 1311.51 Q167.927 1318.62 169.732 1322.19 Q171.561 1325.73 175.172 1325.73 Q178.806 1325.73 180.612 1322.19 Q182.44 1318.62 182.44 1311.51 Q182.44 1304.39 180.612 1300.84 Q178.806 1297.28 175.172 1297.28 M175.172 1293.58 Q180.982 1293.58 184.038 1298.18 Q187.116 1302.76 187.116 1311.51 Q187.116 1320.24 184.038 1324.85 Q180.982 1329.43 175.172 1329.43 Q169.362 1329.43 166.283 1324.85 Q163.228 1320.24 163.228 1311.51 Q163.228 1302.76 166.283 1298.18 Q169.362 1293.58 175.172 1293.58 Z\" fill=\"#000000\" fill-rule=\"evenodd\" fill-opacity=\"1\" /><path clip-path=\"url(#clip100)\" d=\"M 0 0 M192.232 1294.2 L210.588 1294.2 L210.588 1298.14 L196.514 1298.14 L196.514 1306.61 Q197.533 1306.26 198.551 1306.1 Q199.57 1305.91 200.588 1305.91 Q206.375 1305.91 209.755 1309.08 Q213.135 1312.26 213.135 1317.67 Q213.135 1323.25 209.662 1326.35 Q206.19 1329.43 199.871 1329.43 Q197.695 1329.43 195.426 1329.06 Q193.181 1328.69 190.774 1327.95 L190.774 1323.25 Q192.857 1324.39 195.079 1324.94 Q197.301 1325.5 199.778 1325.5 Q203.783 1325.5 206.121 1323.39 Q208.459 1321.28 208.459 1317.67 Q208.459 1314.06 206.121 1311.95 Q203.783 1309.85 199.778 1309.85 Q197.903 1309.85 196.028 1310.26 Q194.176 1310.68 192.232 1311.56 L192.232 1294.2 Z\" fill=\"#000000\" fill-rule=\"evenodd\" fill-opacity=\"1\" /><path clip-path=\"url(#clip100)\" d=\"M 0 0 M138.436 1059.41 Q134.825 1059.41 132.996 1062.98 Q131.191 1066.52 131.191 1073.65 Q131.191 1080.75 132.996 1084.32 Q134.825 1087.86 138.436 1087.86 Q142.07 1087.86 143.876 1084.32 Q145.704 1080.75 145.704 1073.65 Q145.704 1066.52 143.876 1062.98 Q142.07 1059.41 138.436 1059.41 M138.436 1055.71 Q144.246 1055.71 147.302 1060.31 Q150.38 1064.9 150.38 1073.65 Q150.38 1082.37 147.302 1086.98 Q144.246 1091.56 138.436 1091.56 Q132.626 1091.56 129.547 1086.98 Q126.492 1082.37 126.492 1073.65 Q126.492 1064.9 129.547 1060.31 Q132.626 1055.71 138.436 1055.71 Z\" fill=\"#000000\" fill-rule=\"evenodd\" fill-opacity=\"1\" /><path clip-path=\"url(#clip100)\" d=\"M 0 0 M155.45 1085.01 L160.334 1085.01 L160.334 1090.89 L155.45 1090.89 L155.45 1085.01 Z\" fill=\"#000000\" fill-rule=\"evenodd\" fill-opacity=\"1\" /><path clip-path=\"url(#clip100)\" d=\"M 0 0 M166.214 1086.96 L173.852 1086.96 L173.852 1060.59 L165.542 1062.26 L165.542 1058 L173.806 1056.33 L178.482 1056.33 L178.482 1086.96 L186.121 1086.96 L186.121 1090.89 L166.214 1090.89 L166.214 1086.96 Z\" fill=\"#000000\" fill-rule=\"evenodd\" fill-opacity=\"1\" /><path clip-path=\"url(#clip100)\" d=\"M 0 0 M201.19 1059.41 Q197.579 1059.41 195.751 1062.98 Q193.945 1066.52 193.945 1073.65 Q193.945 1080.75 195.751 1084.32 Q197.579 1087.86 201.19 1087.86 Q204.825 1087.86 206.63 1084.32 Q208.459 1080.75 208.459 1073.65 Q208.459 1066.52 206.63 1062.98 Q204.825 1059.41 201.19 1059.41 M201.19 1055.71 Q207 1055.71 210.056 1060.31 Q213.135 1064.9 213.135 1073.65 Q213.135 1082.37 210.056 1086.98 Q207 1091.56 201.19 1091.56 Q195.38 1091.56 192.301 1086.98 Q189.246 1082.37 189.246 1073.65 Q189.246 1064.9 192.301 1060.31 Q195.38 1055.71 201.19 1055.71 Z\" fill=\"#000000\" fill-rule=\"evenodd\" fill-opacity=\"1\" /><path clip-path=\"url(#clip100)\" d=\"M 0 0 M139.431 821.542 Q135.82 821.542 133.992 825.107 Q132.186 828.648 132.186 835.778 Q132.186 842.884 133.992 846.449 Q135.82 849.991 139.431 849.991 Q143.066 849.991 144.871 846.449 Q146.7 842.884 146.7 835.778 Q146.7 828.648 144.871 825.107 Q143.066 821.542 139.431 821.542 M139.431 817.838 Q145.242 817.838 148.297 822.445 Q151.376 827.028 151.376 835.778 Q151.376 844.505 148.297 849.111 Q145.242 853.694 139.431 853.694 Q133.621 853.694 130.543 849.111 Q127.487 844.505 127.487 835.778 Q127.487 827.028 130.543 822.445 Q133.621 817.838 139.431 817.838 Z\" fill=\"#000000\" fill-rule=\"evenodd\" fill-opacity=\"1\" /><path clip-path=\"url(#clip100)\" d=\"M 0 0 M156.445 847.144 L161.329 847.144 L161.329 853.023 L156.445 853.023 L156.445 847.144 Z\" fill=\"#000000\" fill-rule=\"evenodd\" fill-opacity=\"1\" /><path clip-path=\"url(#clip100)\" d=\"M 0 0 M167.209 849.088 L174.848 849.088 L174.848 822.722 L166.538 824.389 L166.538 820.13 L174.802 818.463 L179.477 818.463 L179.477 849.088 L187.116 849.088 L187.116 853.023 L167.209 853.023 L167.209 849.088 Z\" fill=\"#000000\" fill-rule=\"evenodd\" fill-opacity=\"1\" /><path clip-path=\"url(#clip100)\" d=\"M 0 0 M192.232 818.463 L210.588 818.463 L210.588 822.398 L196.514 822.398 L196.514 830.87 Q197.533 830.523 198.551 830.361 Q199.57 830.176 200.588 830.176 Q206.375 830.176 209.755 833.347 Q213.135 836.519 213.135 841.935 Q213.135 847.514 209.662 850.616 Q206.19 853.694 199.871 853.694 Q197.695 853.694 195.426 853.324 Q193.181 852.954 190.774 852.213 L190.774 847.514 Q192.857 848.648 195.079 849.204 Q197.301 849.759 199.778 849.759 Q203.783 849.759 206.121 847.653 Q208.459 845.546 208.459 841.935 Q208.459 838.324 206.121 836.218 Q203.783 834.111 199.778 834.111 Q197.903 834.111 196.028 834.528 Q194.176 834.944 192.232 835.824 L192.232 818.463 Z\" fill=\"#000000\" fill-rule=\"evenodd\" fill-opacity=\"1\" /><path clip-path=\"url(#clip100)\" d=\"M 0 0 M138.806 583.673 Q135.195 583.673 133.367 587.238 Q131.561 590.78 131.561 597.909 Q131.561 605.016 133.367 608.581 Q135.195 612.122 138.806 612.122 Q142.441 612.122 144.246 608.581 Q146.075 605.016 146.075 597.909 Q146.075 590.78 144.246 587.238 Q142.441 583.673 138.806 583.673 M138.806 579.97 Q144.617 579.97 147.672 584.576 Q150.751 589.159 150.751 597.909 Q150.751 606.636 147.672 611.243 Q144.617 615.826 138.806 615.826 Q132.996 615.826 129.918 611.243 Q126.862 606.636 126.862 597.909 Q126.862 589.159 129.918 584.576 Q132.996 579.97 138.806 579.97 Z\" fill=\"#000000\" fill-rule=\"evenodd\" fill-opacity=\"1\" /><path clip-path=\"url(#clip100)\" d=\"M 0 0 M155.82 609.275 L160.704 609.275 L160.704 615.155 L155.82 615.155 L155.82 609.275 Z\" fill=\"#000000\" fill-rule=\"evenodd\" fill-opacity=\"1\" /><path clip-path=\"url(#clip100)\" d=\"M 0 0 M169.802 611.219 L186.121 611.219 L186.121 615.155 L164.177 615.155 L164.177 611.219 Q166.839 608.465 171.422 603.835 Q176.028 599.182 177.209 597.84 Q179.454 595.317 180.334 593.581 Q181.237 591.821 181.237 590.132 Q181.237 587.377 179.292 585.641 Q177.371 583.905 174.269 583.905 Q172.07 583.905 169.616 584.669 Q167.186 585.432 164.408 586.983 L164.408 582.261 Q167.232 581.127 169.686 580.548 Q172.14 579.97 174.177 579.97 Q179.547 579.97 182.741 582.655 Q185.936 585.34 185.936 589.831 Q185.936 591.96 185.126 593.882 Q184.339 595.78 182.232 598.372 Q181.653 599.044 178.552 602.261 Q175.45 605.456 169.802 611.219 Z\" fill=\"#000000\" fill-rule=\"evenodd\" fill-opacity=\"1\" /><path clip-path=\"url(#clip100)\" d=\"M 0 0 M201.19 583.673 Q197.579 583.673 195.751 587.238 Q193.945 590.78 193.945 597.909 Q193.945 605.016 195.751 608.581 Q197.579 612.122 201.19 612.122 Q204.825 612.122 206.63 608.581 Q208.459 605.016 208.459 597.909 Q208.459 590.78 206.63 587.238 Q204.825 583.673 201.19 583.673 M201.19 579.97 Q207 579.97 210.056 584.576 Q213.135 589.159 213.135 597.909 Q213.135 606.636 210.056 611.243 Q207 615.826 201.19 615.826 Q195.38 615.826 192.301 611.243 Q189.246 606.636 189.246 597.909 Q189.246 589.159 192.301 584.576 Q195.38 579.97 201.19 579.97 Z\" fill=\"#000000\" fill-rule=\"evenodd\" fill-opacity=\"1\" /><path clip-path=\"url(#clip100)\" d=\"M 0 0 M139.802 345.805 Q136.191 345.805 134.362 349.369 Q132.556 352.911 132.556 360.041 Q132.556 367.147 134.362 370.712 Q136.191 374.254 139.802 374.254 Q143.436 374.254 145.242 370.712 Q147.07 367.147 147.07 360.041 Q147.07 352.911 145.242 349.369 Q143.436 345.805 139.802 345.805 M139.802 342.101 Q145.612 342.101 148.667 346.707 Q151.746 351.291 151.746 360.041 Q151.746 368.768 148.667 373.374 Q145.612 377.957 139.802 377.957 Q133.992 377.957 130.913 373.374 Q127.857 368.768 127.857 360.041 Q127.857 351.291 130.913 346.707 Q133.992 342.101 139.802 342.101 Z\" fill=\"#000000\" fill-rule=\"evenodd\" fill-opacity=\"1\" /><path clip-path=\"url(#clip100)\" d=\"M 0 0 M156.816 371.406 L161.7 371.406 L161.7 377.286 L156.816 377.286 L156.816 371.406 Z\" fill=\"#000000\" fill-rule=\"evenodd\" fill-opacity=\"1\" /><path clip-path=\"url(#clip100)\" d=\"M 0 0 M170.797 373.351 L187.116 373.351 L187.116 377.286 L165.172 377.286 L165.172 373.351 Q167.834 370.596 172.417 365.967 Q177.024 361.314 178.204 359.971 Q180.45 357.448 181.329 355.712 Q182.232 353.953 182.232 352.263 Q182.232 349.508 180.288 347.772 Q178.366 346.036 175.265 346.036 Q173.065 346.036 170.612 346.8 Q168.181 347.564 165.403 349.115 L165.403 344.393 Q168.228 343.258 170.681 342.68 Q173.135 342.101 175.172 342.101 Q180.542 342.101 183.737 344.786 Q186.931 347.471 186.931 351.962 Q186.931 354.092 186.121 356.013 Q185.334 357.911 183.227 360.504 Q182.649 361.175 179.547 364.393 Q176.445 367.587 170.797 373.351 Z\" fill=\"#000000\" fill-rule=\"evenodd\" fill-opacity=\"1\" /><path clip-path=\"url(#clip100)\" d=\"M 0 0 M192.232 342.726 L210.588 342.726 L210.588 346.661 L196.514 346.661 L196.514 355.133 Q197.533 354.786 198.551 354.624 Q199.57 354.439 200.588 354.439 Q206.375 354.439 209.755 357.61 Q213.135 360.781 213.135 366.198 Q213.135 371.777 209.662 374.879 Q206.19 377.957 199.871 377.957 Q197.695 377.957 195.426 377.587 Q193.181 377.217 190.774 376.476 L190.774 371.777 Q192.857 372.911 195.079 373.467 Q197.301 374.022 199.778 374.022 Q203.783 374.022 206.121 371.916 Q208.459 369.809 208.459 366.198 Q208.459 362.587 206.121 360.481 Q203.783 358.374 199.778 358.374 Q197.903 358.374 196.028 358.791 Q194.176 359.207 192.232 360.087 L192.232 342.726 Z\" fill=\"#000000\" fill-rule=\"evenodd\" fill-opacity=\"1\" /><path clip-path=\"url(#clip100)\" d=\"M 0 0 M1235.78 16.7545 L1235.78 25.383 Q1231.65 21.5346 1226.95 19.6307 Q1222.29 17.7268 1217.03 17.7268 Q1206.66 17.7268 1201.15 24.0867 Q1195.64 30.4061 1195.64 42.3968 Q1195.64 54.3469 1201.15 60.7069 Q1206.66 67.0263 1217.03 67.0263 Q1222.29 67.0263 1226.95 65.1223 Q1231.65 63.2184 1235.78 59.3701 L1235.78 67.9175 Q1231.49 70.8341 1226.67 72.2924 Q1221.89 73.7508 1216.54 73.7508 Q1202.81 73.7508 1194.91 65.3654 Q1187.01 56.9395 1187.01 42.3968 Q1187.01 27.8135 1194.91 19.4281 Q1202.81 11.0023 1216.54 11.0023 Q1221.97 11.0023 1226.75 12.4606 Q1231.57 13.8784 1235.78 16.7545 Z\" fill=\"#000000\" fill-rule=\"evenodd\" fill-opacity=\"1\" /><path clip-path=\"url(#clip100)\" d=\"M 0 0 M1242.99 12.096 L1251.22 12.096 L1251.22 48.8377 Q1251.22 58.5599 1254.74 62.8538 Q1258.26 67.1073 1266.16 67.1073 Q1274.02 67.1073 1277.55 62.8538 Q1281.07 58.5599 1281.07 48.8377 L1281.07 12.096 L1289.29 12.096 L1289.29 49.8504 Q1289.29 61.6791 1283.42 67.7149 Q1277.59 73.7508 1266.16 73.7508 Q1254.7 73.7508 1248.83 67.7149 Q1242.99 61.6791 1242.99 49.8504 L1242.99 12.096 Z\" fill=\"#000000\" fill-rule=\"evenodd\" fill-opacity=\"1\" /><path clip-path=\"url(#clip100)\" d=\"M 0 0 M1305.62 18.8205 L1305.62 65.8515 L1315.5 65.8515 Q1328.02 65.8515 1333.81 60.1802 Q1339.65 54.509 1339.65 42.2752 Q1339.65 30.1225 1333.81 24.4918 Q1328.02 18.8205 1315.5 18.8205 L1305.62 18.8205 M1297.44 12.096 L1314.25 12.096 Q1331.83 12.096 1340.05 19.4281 Q1348.28 26.7198 1348.28 42.2752 Q1348.28 57.9117 1340.01 65.2439 Q1331.75 72.576 1314.25 72.576 L1297.44 72.576 L1297.44 12.096 Z\" fill=\"#000000\" fill-rule=\"evenodd\" fill-opacity=\"1\" /><path clip-path=\"url(#clip100)\" d=\"M 0 0 M1375.17 20.1573 L1364.07 50.2555 L1386.31 50.2555 L1375.17 20.1573 M1370.56 12.096 L1379.83 12.096 L1402.88 72.576 L1394.37 72.576 L1388.87 57.061 L1361.6 57.061 L1356.09 72.576 L1347.47 72.576 L1370.56 12.096 Z\" fill=\"#000000\" fill-rule=\"evenodd\" fill-opacity=\"1\" /><path clip-path=\"url(#clip100)\" d=\"M 0 0 M1142.96 1513.81 L1142.96 1550.76 L1150.73 1550.76 Q1160.57 1550.76 1165.12 1546.3 Q1169.7 1541.85 1169.7 1532.24 Q1169.7 1522.69 1165.12 1518.26 Q1160.57 1513.81 1150.73 1513.81 L1142.96 1513.81 M1136.53 1508.52 L1149.74 1508.52 Q1163.56 1508.52 1170.02 1514.28 Q1176.48 1520.01 1176.48 1532.24 Q1176.48 1544.52 1169.99 1550.28 Q1163.49 1556.04 1149.74 1556.04 L1136.53 1556.04 L1136.53 1508.52 Z\" fill=\"#000000\" fill-rule=\"evenodd\" fill-opacity=\"1\" /><path clip-path=\"url(#clip100)\" d=\"M 0 0 M1182.62 1520.4 L1188.48 1520.4 L1188.48 1556.04 L1182.62 1556.04 L1182.62 1520.4 M1182.62 1506.52 L1188.48 1506.52 L1188.48 1513.93 L1182.62 1513.93 L1182.62 1506.52 Z\" fill=\"#000000\" fill-rule=\"evenodd\" fill-opacity=\"1\" /><path clip-path=\"url(#clip100)\" d=\"M 0 0 M1222.38 1527.24 Q1224.57 1523.29 1227.63 1521.41 Q1230.68 1519.54 1234.82 1519.54 Q1240.39 1519.54 1243.41 1523.45 Q1246.44 1527.33 1246.44 1534.53 L1246.44 1556.04 L1240.55 1556.04 L1240.55 1534.72 Q1240.55 1529.59 1238.74 1527.11 Q1236.92 1524.63 1233.2 1524.63 Q1228.65 1524.63 1226 1527.65 Q1223.36 1530.68 1223.36 1535.9 L1223.36 1556.04 L1217.47 1556.04 L1217.47 1534.72 Q1217.47 1529.56 1215.66 1527.11 Q1213.85 1524.63 1210.06 1524.63 Q1205.57 1524.63 1202.93 1527.68 Q1200.29 1530.71 1200.29 1535.9 L1200.29 1556.04 L1194.4 1556.04 L1194.4 1520.4 L1200.29 1520.4 L1200.29 1525.93 Q1202.29 1522.66 1205.09 1521.1 Q1207.89 1519.54 1211.75 1519.54 Q1215.63 1519.54 1218.33 1521.51 Q1221.07 1523.48 1222.38 1527.24 Z\" fill=\"#000000\" fill-rule=\"evenodd\" fill-opacity=\"1\" /><path clip-path=\"url(#clip100)\" d=\"M 0 0 M1283.07 1536.76 L1283.07 1539.62 L1256.15 1539.62 Q1256.53 1545.67 1259.77 1548.85 Q1263.05 1552 1268.88 1552 Q1272.25 1552 1275.4 1551.17 Q1278.59 1550.35 1281.7 1548.69 L1281.7 1554.23 Q1278.55 1555.57 1275.24 1556.27 Q1271.93 1556.97 1268.53 1556.97 Q1260 1556.97 1255 1552 Q1250.04 1547.04 1250.04 1538.57 Q1250.04 1529.82 1254.75 1524.69 Q1259.49 1519.54 1267.51 1519.54 Q1274.7 1519.54 1278.87 1524.18 Q1283.07 1528.8 1283.07 1536.76 M1277.22 1535.04 Q1277.15 1530.23 1274.51 1527.37 Q1271.9 1524.5 1267.57 1524.5 Q1262.67 1524.5 1259.71 1527.27 Q1256.78 1530.04 1256.34 1535.07 L1277.22 1535.04 Z\" fill=\"#000000\" fill-rule=\"evenodd\" fill-opacity=\"1\" /><path clip-path=\"url(#clip100)\" d=\"M 0 0 M1318.85 1534.53 L1318.85 1556.04 L1312.99 1556.04 L1312.99 1534.72 Q1312.99 1529.66 1311.02 1527.14 Q1309.05 1524.63 1305.1 1524.63 Q1300.36 1524.63 1297.62 1527.65 Q1294.88 1530.68 1294.88 1535.9 L1294.88 1556.04 L1288.99 1556.04 L1288.99 1520.4 L1294.88 1520.4 L1294.88 1525.93 Q1296.98 1522.72 1299.82 1521.13 Q1302.68 1519.54 1306.4 1519.54 Q1312.55 1519.54 1315.7 1523.36 Q1318.85 1527.14 1318.85 1534.53 Z\" fill=\"#000000\" fill-rule=\"evenodd\" fill-opacity=\"1\" /><path clip-path=\"url(#clip100)\" d=\"M 0 0 M1347.72 1521.45 L1347.72 1526.98 Q1345.23 1525.71 1342.56 1525.07 Q1339.89 1524.44 1337.02 1524.44 Q1332.66 1524.44 1330.47 1525.77 Q1328.3 1527.11 1328.3 1529.79 Q1328.3 1531.82 1329.86 1533 Q1331.42 1534.15 1336.13 1535.2 L1338.14 1535.64 Q1344.38 1536.98 1346.98 1539.43 Q1349.63 1541.85 1349.63 1546.21 Q1349.63 1551.17 1345.68 1554.07 Q1341.77 1556.97 1334.89 1556.97 Q1332.03 1556.97 1328.91 1556.39 Q1325.82 1555.85 1322.38 1554.74 L1322.38 1548.69 Q1325.63 1550.38 1328.78 1551.24 Q1331.93 1552.07 1335.02 1552.07 Q1339.16 1552.07 1341.38 1550.66 Q1343.61 1549.23 1343.61 1546.65 Q1343.61 1544.27 1341.99 1542.99 Q1340.4 1541.72 1334.95 1540.54 L1332.92 1540.07 Q1327.47 1538.92 1325.06 1536.56 Q1322.64 1534.18 1322.64 1530.04 Q1322.64 1525.01 1326.2 1522.27 Q1329.77 1519.54 1336.32 1519.54 Q1339.57 1519.54 1342.43 1520.01 Q1345.3 1520.49 1347.72 1521.45 Z\" fill=\"#000000\" fill-rule=\"evenodd\" fill-opacity=\"1\" /><path clip-path=\"url(#clip100)\" d=\"M 0 0 M1369.58 1524.5 Q1364.87 1524.5 1362.14 1528.19 Q1359.4 1531.85 1359.4 1538.25 Q1359.4 1544.65 1362.1 1548.34 Q1364.84 1552 1369.58 1552 Q1374.26 1552 1377 1548.31 Q1379.74 1544.62 1379.74 1538.25 Q1379.74 1531.92 1377 1528.23 Q1374.26 1524.5 1369.58 1524.5 M1369.58 1519.54 Q1377.22 1519.54 1381.58 1524.5 Q1385.94 1529.47 1385.94 1538.25 Q1385.94 1547 1381.58 1552 Q1377.22 1556.97 1369.58 1556.97 Q1361.91 1556.97 1357.55 1552 Q1353.22 1547 1353.22 1538.25 Q1353.22 1529.47 1357.55 1524.5 Q1361.91 1519.54 1369.58 1519.54 Z\" fill=\"#000000\" fill-rule=\"evenodd\" fill-opacity=\"1\" /><path clip-path=\"url(#clip100)\" d=\"M 0 0 M1422.58 1536.76 L1422.58 1539.62 L1395.65 1539.62 Q1396.03 1545.67 1399.28 1548.85 Q1402.56 1552 1408.38 1552 Q1411.76 1552 1414.91 1551.17 Q1418.09 1550.35 1421.21 1548.69 L1421.21 1554.23 Q1418.06 1555.57 1414.75 1556.27 Q1411.44 1556.97 1408.03 1556.97 Q1399.5 1556.97 1394.5 1552 Q1389.54 1547.04 1389.54 1538.57 Q1389.54 1529.82 1394.25 1524.69 Q1398.99 1519.54 1407.01 1519.54 Q1414.21 1519.54 1418.38 1524.18 Q1422.58 1528.8 1422.58 1536.76 M1416.72 1535.04 Q1416.66 1530.23 1414.02 1527.37 Q1411.41 1524.5 1407.08 1524.5 Q1402.18 1524.5 1399.22 1527.27 Q1396.29 1530.04 1395.84 1535.07 L1416.72 1535.04 Z\" fill=\"#000000\" fill-rule=\"evenodd\" fill-opacity=\"1\" /><path clip-path=\"url(#clip100)\" d=\"M 0 0 M1451.45 1521.45 L1451.45 1526.98 Q1448.96 1525.71 1446.29 1525.07 Q1443.62 1524.44 1440.75 1524.44 Q1436.39 1524.44 1434.2 1525.77 Q1432.03 1527.11 1432.03 1529.79 Q1432.03 1531.82 1433.59 1533 Q1435.15 1534.15 1439.86 1535.2 L1441.87 1535.64 Q1448.1 1536.98 1450.71 1539.43 Q1453.36 1541.85 1453.36 1546.21 Q1453.36 1551.17 1449.41 1554.07 Q1445.49 1556.97 1438.62 1556.97 Q1435.75 1556.97 1432.64 1556.39 Q1429.55 1555.85 1426.11 1554.74 L1426.11 1548.69 Q1429.36 1550.38 1432.51 1551.24 Q1435.66 1552.07 1438.75 1552.07 Q1442.88 1552.07 1445.11 1550.66 Q1447.34 1549.23 1447.34 1546.65 Q1447.34 1544.27 1445.72 1542.99 Q1444.13 1541.72 1438.68 1540.54 L1436.65 1540.07 Q1431.2 1538.92 1428.78 1536.56 Q1426.37 1534.18 1426.37 1530.04 Q1426.37 1525.01 1429.93 1522.27 Q1433.49 1519.54 1440.05 1519.54 Q1443.3 1519.54 1446.16 1520.01 Q1449.03 1520.49 1451.45 1521.45 Z\" fill=\"#000000\" fill-rule=\"evenodd\" fill-opacity=\"1\" /><path clip-path=\"url(#clip100)\" d=\"M 0 0 M40.4842 907.658 L40.4842 867.459 L45.895 867.459 L45.895 884.328 L88.0042 884.328 L88.0042 890.789 L45.895 890.789 L45.895 907.658 L40.4842 907.658 Z\" fill=\"#000000\" fill-rule=\"evenodd\" fill-opacity=\"1\" /><path clip-path=\"url(#clip100)\" d=\"M 0 0 M68.7161 841.901 L71.5806 841.901 L71.5806 868.827 Q77.6281 868.446 80.8109 865.199 Q83.9619 861.921 83.9619 856.096 Q83.9619 852.722 83.1344 849.571 Q82.3069 846.388 80.6518 843.269 L86.1899 843.269 Q87.5267 846.42 88.227 849.73 Q88.9272 853.041 88.9272 856.446 Q88.9272 864.976 83.9619 869.973 Q78.9967 874.939 70.5303 874.939 Q61.7774 874.939 56.6531 870.228 Q51.4968 865.486 51.4968 857.465 Q51.4968 850.271 56.1438 846.102 Q60.7589 841.901 68.7161 841.901 M66.9973 847.757 Q62.1912 847.821 59.3266 850.462 Q56.4621 853.072 56.4621 857.401 Q56.4621 862.303 59.2312 865.263 Q62.0002 868.191 67.0292 868.637 L66.9973 847.757 Z\" fill=\"#000000\" fill-rule=\"evenodd\" fill-opacity=\"1\" /><path clip-path=\"url(#clip100)\" d=\"M 0 0 M59.1993 808.003 Q55.2526 805.807 53.3747 802.751 Q51.4968 799.696 51.4968 795.558 Q51.4968 789.988 55.4117 786.965 Q59.2948 783.941 66.4881 783.941 L88.0042 783.941 L88.0042 789.829 L66.679 789.829 Q61.5546 789.829 59.072 791.643 Q56.5894 793.458 56.5894 797.181 Q56.5894 801.733 59.6131 804.375 Q62.6368 807.016 67.8567 807.016 L88.0042 807.016 L88.0042 812.905 L66.679 812.905 Q61.5228 812.905 59.072 814.719 Q56.5894 816.533 56.5894 820.321 Q56.5894 824.809 59.6449 827.45 Q62.6686 830.092 67.8567 830.092 L88.0042 830.092 L88.0042 835.98 L52.3562 835.98 L52.3562 830.092 L57.8944 830.092 Q54.616 828.087 53.0564 825.286 Q51.4968 822.485 51.4968 818.634 Q51.4968 814.751 53.4702 812.045 Q55.4436 809.308 59.1993 808.003 Z\" fill=\"#000000\" fill-rule=\"evenodd\" fill-opacity=\"1\" /><path clip-path=\"url(#clip100)\" d=\"M 0 0 M82.657 772.132 L101.563 772.132 L101.563 778.021 L52.3562 778.021 L52.3562 772.132 L57.7671 772.132 Q54.5842 770.286 53.0564 767.485 Q51.4968 764.653 51.4968 760.738 Q51.4968 754.245 56.6531 750.203 Q61.8093 746.129 70.212 746.129 Q78.6147 746.129 83.771 750.203 Q88.9272 754.245 88.9272 760.738 Q88.9272 764.653 87.3994 767.485 Q85.8398 770.286 82.657 772.132 M70.212 752.208 Q63.7508 752.208 60.0905 754.881 Q56.3984 757.523 56.3984 762.17 Q56.3984 766.817 60.0905 769.491 Q63.7508 772.132 70.212 772.132 Q76.6732 772.132 80.3653 769.491 Q84.0256 766.817 84.0256 762.17 Q84.0256 757.523 80.3653 754.881 Q76.6732 752.208 70.212 752.208 Z\" fill=\"#000000\" fill-rule=\"evenodd\" fill-opacity=\"1\" /><path clip-path=\"url(#clip100)\" d=\"M 0 0 M56.4621 726.172 Q56.4621 730.883 60.1542 733.62 Q63.8145 736.357 70.212 736.357 Q76.6095 736.357 80.3017 733.652 Q83.9619 730.914 83.9619 726.172 Q83.9619 721.493 80.2698 718.756 Q76.5777 716.019 70.212 716.019 Q63.8781 716.019 60.186 718.756 Q56.4621 721.493 56.4621 726.172 M51.4968 726.172 Q51.4968 718.533 56.4621 714.173 Q61.4273 709.812 70.212 709.812 Q78.9649 709.812 83.9619 714.173 Q88.9272 718.533 88.9272 726.172 Q88.9272 733.843 83.9619 738.203 Q78.9649 742.532 70.212 742.532 Q61.4273 742.532 56.4621 738.203 Q51.4968 733.843 51.4968 726.172 Z\" fill=\"#000000\" fill-rule=\"evenodd\" fill-opacity=\"1\" /><path clip-path=\"url(#clip100)\" d=\"M 0 0 M38.5426 689.601 Q45.8632 693.866 53.0246 695.935 Q60.186 698.004 67.5384 698.004 Q74.8908 698.004 82.1159 695.935 Q89.3091 693.834 96.5979 689.601 L96.5979 694.694 Q89.1182 699.468 81.8931 701.855 Q74.668 704.21 67.5384 704.21 Q60.4406 704.21 53.2474 701.855 Q46.0542 699.5 38.5426 694.694 L38.5426 689.601 Z\" fill=\"#000000\" fill-rule=\"evenodd\" fill-opacity=\"1\" /><path clip-path=\"url(#clip100)\" d=\"M 0 0 M53.4065 660.733 L58.9447 660.733 Q57.6716 663.215 57.035 665.889 Q56.3984 668.562 56.3984 671.427 Q56.3984 675.787 57.7352 677.984 Q59.072 680.148 61.7456 680.148 Q63.7826 680.148 64.9603 678.588 Q66.1061 677.029 67.1565 672.318 L67.6021 670.313 Q68.9389 664.075 71.3897 661.465 Q73.8086 658.823 78.1691 658.823 Q83.1344 658.823 86.0308 662.77 Q88.9272 666.684 88.9272 673.559 Q88.9272 676.424 88.3543 679.543 Q87.8132 682.631 86.6992 686.068 L80.6518 686.068 Q82.3387 682.822 83.198 679.671 Q84.0256 676.52 84.0256 673.432 Q84.0256 669.294 82.6251 667.066 Q81.1929 664.838 78.6147 664.838 Q76.2276 664.838 74.9545 666.462 Q73.6813 668.053 72.5037 673.496 L72.0262 675.533 Q70.8804 680.975 68.5251 683.394 Q66.138 685.813 62.0002 685.813 Q56.9713 685.813 54.2341 682.249 Q51.4968 678.684 51.4968 672.127 Q51.4968 668.881 51.9743 666.016 Q52.4517 663.152 53.4065 660.733 Z\" fill=\"#000000\" fill-rule=\"evenodd\" fill-opacity=\"1\" /><path clip-path=\"url(#clip100)\" d=\"M 0 0 M38.5426 653.603 L38.5426 648.51 Q46.0542 643.736 53.2474 641.381 Q60.4406 638.994 67.5384 638.994 Q74.668 638.994 81.8931 641.381 Q89.1182 643.736 96.5979 648.51 L96.5979 653.603 Q89.3091 649.37 82.1159 647.301 Q74.8908 645.2 67.5384 645.2 Q60.186 645.2 53.0246 647.301 Q45.8632 649.37 38.5426 653.603 Z\" fill=\"#000000\" fill-rule=\"evenodd\" fill-opacity=\"1\" /><polyline clip-path=\"url(#clip102)\" style=\"stroke:#ff0000; stroke-width:4; stroke-opacity:0.9; fill:none\" points=\"\n",
       "  297.011,275.332 297.011,160.256 \n",
       "  \"/>\n",
       "<polyline clip-path=\"url(#clip102)\" style=\"stroke:#ff0000; stroke-width:4; stroke-opacity:0.9; fill:none\" points=\"\n",
       "  795.978,1223.53 795.978,1158.82 \n",
       "  \"/>\n",
       "<polyline clip-path=\"url(#clip102)\" style=\"stroke:#ff0000; stroke-width:4; stroke-opacity:0.9; fill:none\" points=\"\n",
       "  1294.95,1384.09 1294.95,1352.06 \n",
       "  \"/>\n",
       "<polyline clip-path=\"url(#clip102)\" style=\"stroke:#ff0000; stroke-width:4; stroke-opacity:0.9; fill:none\" points=\"\n",
       "  1793.91,1384.46 1793.91,1361.7 \n",
       "  \"/>\n",
       "<polyline clip-path=\"url(#clip102)\" style=\"stroke:#ff0000; stroke-width:4; stroke-opacity:0.9; fill:none\" points=\"\n",
       "  2292.88,1386.4 2292.88,1348.22 \n",
       "  \"/>\n",
       "<line clip-path=\"url(#clip102)\" x1=\"313.011\" y1=\"275.332\" x2=\"281.011\" y2=\"275.332\" style=\"stroke:#ff0000; stroke-width:3.2; stroke-opacity:0.9\"/>\n",
       "<line clip-path=\"url(#clip102)\" x1=\"313.011\" y1=\"160.256\" x2=\"281.011\" y2=\"160.256\" style=\"stroke:#ff0000; stroke-width:3.2; stroke-opacity:0.9\"/>\n",
       "<line clip-path=\"url(#clip102)\" x1=\"811.978\" y1=\"1223.53\" x2=\"779.978\" y2=\"1223.53\" style=\"stroke:#ff0000; stroke-width:3.2; stroke-opacity:0.9\"/>\n",
       "<line clip-path=\"url(#clip102)\" x1=\"811.978\" y1=\"1158.82\" x2=\"779.978\" y2=\"1158.82\" style=\"stroke:#ff0000; stroke-width:3.2; stroke-opacity:0.9\"/>\n",
       "<line clip-path=\"url(#clip102)\" x1=\"1310.95\" y1=\"1384.09\" x2=\"1278.95\" y2=\"1384.09\" style=\"stroke:#ff0000; stroke-width:3.2; stroke-opacity:0.9\"/>\n",
       "<line clip-path=\"url(#clip102)\" x1=\"1310.95\" y1=\"1352.06\" x2=\"1278.95\" y2=\"1352.06\" style=\"stroke:#ff0000; stroke-width:3.2; stroke-opacity:0.9\"/>\n",
       "<line clip-path=\"url(#clip102)\" x1=\"1809.91\" y1=\"1384.46\" x2=\"1777.91\" y2=\"1384.46\" style=\"stroke:#ff0000; stroke-width:3.2; stroke-opacity:0.9\"/>\n",
       "<line clip-path=\"url(#clip102)\" x1=\"1809.91\" y1=\"1361.7\" x2=\"1777.91\" y2=\"1361.7\" style=\"stroke:#ff0000; stroke-width:3.2; stroke-opacity:0.9\"/>\n",
       "<line clip-path=\"url(#clip102)\" x1=\"2308.88\" y1=\"1386.4\" x2=\"2276.88\" y2=\"1386.4\" style=\"stroke:#ff0000; stroke-width:3.2; stroke-opacity:0.9\"/>\n",
       "<line clip-path=\"url(#clip102)\" x1=\"2308.88\" y1=\"1348.22\" x2=\"2276.88\" y2=\"1348.22\" style=\"stroke:#ff0000; stroke-width:3.2; stroke-opacity:0.9\"/>\n",
       "<circle clip-path=\"url(#clip102)\" cx=\"297.011\" cy=\"217.794\" r=\"14\" fill=\"#ff0000\" fill-rule=\"evenodd\" fill-opacity=\"0.9\" stroke=\"#000000\" stroke-opacity=\"0.9\" stroke-width=\"3.2\"/>\n",
       "<circle clip-path=\"url(#clip102)\" cx=\"795.978\" cy=\"1191.18\" r=\"14\" fill=\"#ff0000\" fill-rule=\"evenodd\" fill-opacity=\"0.9\" stroke=\"#000000\" stroke-opacity=\"0.9\" stroke-width=\"3.2\"/>\n",
       "<circle clip-path=\"url(#clip102)\" cx=\"1294.95\" cy=\"1368.08\" r=\"14\" fill=\"#ff0000\" fill-rule=\"evenodd\" fill-opacity=\"0.9\" stroke=\"#000000\" stroke-opacity=\"0.9\" stroke-width=\"3.2\"/>\n",
       "<circle clip-path=\"url(#clip102)\" cx=\"1793.91\" cy=\"1373.08\" r=\"14\" fill=\"#ff0000\" fill-rule=\"evenodd\" fill-opacity=\"0.9\" stroke=\"#000000\" stroke-opacity=\"0.9\" stroke-width=\"3.2\"/>\n",
       "<circle clip-path=\"url(#clip102)\" cx=\"2292.88\" cy=\"1367.31\" r=\"14\" fill=\"#ff0000\" fill-rule=\"evenodd\" fill-opacity=\"0.9\" stroke=\"#000000\" stroke-opacity=\"0.9\" stroke-width=\"3.2\"/>\n",
       "<path clip-path=\"url(#clip100)\" d=\"\n",
       "M1468.86 327.952 L2280.76 327.952 L2280.76 206.992 L1468.86 206.992  Z\n",
       "  \" fill=\"#ffffff\" fill-rule=\"evenodd\" fill-opacity=\"1\"/>\n",
       "<polyline clip-path=\"url(#clip100)\" style=\"stroke:#000000; stroke-width:4; stroke-opacity:1; fill:none\" points=\"\n",
       "  1468.86,327.952 2280.76,327.952 2280.76,206.992 1468.86,206.992 1468.86,327.952 \n",
       "  \"/>\n",
       "<circle clip-path=\"url(#clip100)\" cx=\"1576.86\" cy=\"267.472\" r=\"23\" fill=\"#ff0000\" fill-rule=\"evenodd\" fill-opacity=\"0.9\" stroke=\"#000000\" stroke-opacity=\"0.9\" stroke-width=\"5.12\"/>\n",
       "<path clip-path=\"url(#clip100)\" d=\"M 0 0 M1660.86 250.192 L1690.1 250.192 L1690.1 254.127 L1677.83 254.127 L1677.83 284.752 L1673.13 284.752 L1673.13 254.127 L1660.86 254.127 L1660.86 250.192 Z\" fill=\"#000000\" fill-rule=\"evenodd\" fill-opacity=\"1\" /><path clip-path=\"url(#clip100)\" d=\"M 0 0 M1708.68 270.724 L1708.68 272.808 L1689.1 272.808 Q1689.38 277.206 1691.74 279.521 Q1694.12 281.812 1698.36 281.812 Q1700.81 281.812 1703.11 281.21 Q1705.42 280.609 1707.69 279.405 L1707.69 283.433 Q1705.4 284.405 1702.99 284.914 Q1700.58 285.423 1698.11 285.423 Q1691.9 285.423 1688.27 281.812 Q1684.66 278.201 1684.66 272.044 Q1684.66 265.678 1688.08 261.951 Q1691.53 258.201 1697.37 258.201 Q1702.6 258.201 1705.63 261.581 Q1708.68 264.937 1708.68 270.724 M1704.43 269.474 Q1704.38 265.979 1702.46 263.896 Q1700.56 261.812 1697.41 261.812 Q1693.85 261.812 1691.69 263.826 Q1689.56 265.84 1689.24 269.498 L1704.43 269.474 Z\" fill=\"#000000\" fill-rule=\"evenodd\" fill-opacity=\"1\" /><path clip-path=\"url(#clip100)\" d=\"M 0 0 M1733.34 263.803 Q1734.93 260.933 1737.16 259.567 Q1739.38 258.201 1742.39 258.201 Q1746.44 258.201 1748.64 261.049 Q1750.84 263.873 1750.84 269.104 L1750.84 284.752 L1746.55 284.752 L1746.55 269.243 Q1746.55 265.516 1745.24 263.711 Q1743.92 261.905 1741.21 261.905 Q1737.9 261.905 1735.98 264.104 Q1734.05 266.303 1734.05 270.099 L1734.05 284.752 L1729.77 284.752 L1729.77 269.243 Q1729.77 265.493 1728.45 263.711 Q1727.13 261.905 1724.38 261.905 Q1721.12 261.905 1719.19 264.127 Q1717.27 266.326 1717.27 270.099 L1717.27 284.752 L1712.99 284.752 L1712.99 258.826 L1717.27 258.826 L1717.27 262.854 Q1718.73 260.47 1720.77 259.336 Q1722.8 258.201 1725.61 258.201 Q1728.43 258.201 1730.4 259.637 Q1732.39 261.072 1733.34 263.803 Z\" fill=\"#000000\" fill-rule=\"evenodd\" fill-opacity=\"1\" /><path clip-path=\"url(#clip100)\" d=\"M 0 0 M1759.43 280.863 L1759.43 294.613 L1755.14 294.613 L1755.14 258.826 L1759.43 258.826 L1759.43 262.762 Q1760.77 260.447 1762.8 259.336 Q1764.86 258.201 1767.71 258.201 Q1772.43 258.201 1775.37 261.951 Q1778.34 265.701 1778.34 271.812 Q1778.34 277.923 1775.37 281.673 Q1772.43 285.423 1767.71 285.423 Q1764.86 285.423 1762.8 284.312 Q1760.77 283.178 1759.43 280.863 M1773.92 271.812 Q1773.92 267.113 1771.97 264.451 Q1770.05 261.766 1766.67 261.766 Q1763.29 261.766 1761.35 264.451 Q1759.43 267.113 1759.43 271.812 Q1759.43 276.511 1761.35 279.197 Q1763.29 281.859 1766.67 281.859 Q1770.05 281.859 1771.97 279.197 Q1773.92 276.511 1773.92 271.812 Z\" fill=\"#000000\" fill-rule=\"evenodd\" fill-opacity=\"1\" /><path clip-path=\"url(#clip100)\" d=\"M 0 0 M1792.85 261.812 Q1789.42 261.812 1787.43 264.498 Q1785.44 267.16 1785.44 271.812 Q1785.44 276.465 1787.41 279.15 Q1789.4 281.812 1792.85 281.812 Q1796.25 281.812 1798.24 279.127 Q1800.24 276.442 1800.24 271.812 Q1800.24 267.206 1798.24 264.521 Q1796.25 261.812 1792.85 261.812 M1792.85 258.201 Q1798.41 258.201 1801.58 261.812 Q1804.75 265.424 1804.75 271.812 Q1804.75 278.178 1801.58 281.812 Q1798.41 285.423 1792.85 285.423 Q1787.27 285.423 1784.1 281.812 Q1780.95 278.178 1780.95 271.812 Q1780.95 265.424 1784.1 261.812 Q1787.27 258.201 1792.85 258.201 Z\" fill=\"#000000\" fill-rule=\"evenodd\" fill-opacity=\"1\" /><path clip-path=\"url(#clip100)\" d=\"M 0 0 M1844.47 263.803 Q1846.07 260.933 1848.29 259.567 Q1850.51 258.201 1853.52 258.201 Q1857.57 258.201 1859.77 261.049 Q1861.97 263.873 1861.97 269.104 L1861.97 284.752 L1857.69 284.752 L1857.69 269.243 Q1857.69 265.516 1856.37 263.711 Q1855.05 261.905 1852.34 261.905 Q1849.03 261.905 1847.11 264.104 Q1845.19 266.303 1845.19 270.099 L1845.19 284.752 L1840.91 284.752 L1840.91 269.243 Q1840.91 265.493 1839.59 263.711 Q1838.27 261.905 1835.51 261.905 Q1832.25 261.905 1830.33 264.127 Q1828.41 266.326 1828.41 270.099 L1828.41 284.752 L1824.12 284.752 L1824.12 258.826 L1828.41 258.826 L1828.41 262.854 Q1829.86 260.47 1831.9 259.336 Q1833.94 258.201 1836.74 258.201 Q1839.56 258.201 1841.53 259.637 Q1843.52 261.072 1844.47 263.803 Z\" fill=\"#000000\" fill-rule=\"evenodd\" fill-opacity=\"1\" /><path clip-path=\"url(#clip100)\" d=\"M 0 0 M1888.61 270.724 L1888.61 272.808 L1869.03 272.808 Q1869.31 277.206 1871.67 279.521 Q1874.05 281.812 1878.29 281.812 Q1880.74 281.812 1883.04 281.21 Q1885.35 280.609 1887.62 279.405 L1887.62 283.433 Q1885.33 284.405 1882.92 284.914 Q1880.51 285.423 1878.04 285.423 Q1871.83 285.423 1868.2 281.812 Q1864.59 278.201 1864.59 272.044 Q1864.59 265.678 1868.01 261.951 Q1871.46 258.201 1877.29 258.201 Q1882.53 258.201 1885.56 261.581 Q1888.61 264.937 1888.61 270.724 M1884.35 269.474 Q1884.31 265.979 1882.39 263.896 Q1880.49 261.812 1877.34 261.812 Q1873.78 261.812 1871.62 263.826 Q1869.49 265.84 1869.17 269.498 L1884.35 269.474 M1880.26 246.836 L1884.86 246.836 L1877.32 255.539 L1873.78 255.539 L1880.26 246.836 Z\" fill=\"#000000\" fill-rule=\"evenodd\" fill-opacity=\"1\" /><path clip-path=\"url(#clip100)\" d=\"M 0 0 M1910.14 262.762 L1910.14 248.734 L1914.4 248.734 L1914.4 284.752 L1910.14 284.752 L1910.14 280.863 Q1908.8 283.178 1906.74 284.312 Q1904.7 285.423 1901.83 285.423 Q1897.13 285.423 1894.17 281.673 Q1891.23 277.923 1891.23 271.812 Q1891.23 265.701 1894.17 261.951 Q1897.13 258.201 1901.83 258.201 Q1904.7 258.201 1906.74 259.336 Q1908.8 260.447 1910.14 262.762 M1895.63 271.812 Q1895.63 276.511 1897.55 279.197 Q1899.49 281.859 1902.87 281.859 Q1906.25 281.859 1908.2 279.197 Q1910.14 276.511 1910.14 271.812 Q1910.14 267.113 1908.2 264.451 Q1906.25 261.766 1902.87 261.766 Q1899.49 261.766 1897.55 264.451 Q1895.63 267.113 1895.63 271.812 Z\" fill=\"#000000\" fill-rule=\"evenodd\" fill-opacity=\"1\" /><path clip-path=\"url(#clip100)\" d=\"M 0 0 M1918.87 258.826 L1923.13 258.826 L1923.13 284.752 L1918.87 284.752 L1918.87 258.826 M1918.87 248.734 L1923.13 248.734 L1923.13 254.127 L1918.87 254.127 L1918.87 248.734 Z\" fill=\"#000000\" fill-rule=\"evenodd\" fill-opacity=\"1\" /><path clip-path=\"url(#clip100)\" d=\"M 0 0 M1937.64 261.812 Q1934.22 261.812 1932.23 264.498 Q1930.23 267.16 1930.23 271.812 Q1930.23 276.465 1932.2 279.15 Q1934.19 281.812 1937.64 281.812 Q1941.04 281.812 1943.04 279.127 Q1945.03 276.442 1945.03 271.812 Q1945.03 267.206 1943.04 264.521 Q1941.04 261.812 1937.64 261.812 M1937.64 258.201 Q1943.2 258.201 1946.37 261.812 Q1949.54 265.424 1949.54 271.812 Q1949.54 278.178 1946.37 281.812 Q1943.2 285.423 1937.64 285.423 Q1932.06 285.423 1928.89 281.812 Q1925.74 278.178 1925.74 271.812 Q1925.74 265.424 1928.89 261.812 Q1932.06 258.201 1937.64 258.201 Z\" fill=\"#000000\" fill-rule=\"evenodd\" fill-opacity=\"1\" /><path clip-path=\"url(#clip100)\" d=\"M 0 0 M1986.14 262.762 L1986.14 248.734 L1990.4 248.734 L1990.4 284.752 L1986.14 284.752 L1986.14 280.863 Q1984.79 283.178 1982.73 284.312 Q1980.7 285.423 1977.83 285.423 Q1973.13 285.423 1970.16 281.673 Q1967.22 277.923 1967.22 271.812 Q1967.22 265.701 1970.16 261.951 Q1973.13 258.201 1977.83 258.201 Q1980.7 258.201 1982.73 259.336 Q1984.79 260.447 1986.14 262.762 M1971.62 271.812 Q1971.62 276.511 1973.54 279.197 Q1975.49 281.859 1978.87 281.859 Q1982.25 281.859 1984.19 279.197 Q1986.14 276.511 1986.14 271.812 Q1986.14 267.113 1984.19 264.451 Q1982.25 261.766 1978.87 261.766 Q1975.49 261.766 1973.54 264.451 Q1971.62 267.113 1971.62 271.812 Z\" fill=\"#000000\" fill-rule=\"evenodd\" fill-opacity=\"1\" /><path clip-path=\"url(#clip100)\" d=\"M 0 0 M2017.04 270.724 L2017.04 272.808 L1997.46 272.808 Q1997.73 277.206 2000.1 279.521 Q2002.48 281.812 2006.72 281.812 Q2009.17 281.812 2011.46 281.21 Q2013.78 280.609 2016.04 279.405 L2016.04 283.433 Q2013.75 284.405 2011.35 284.914 Q2008.94 285.423 2006.46 285.423 Q2000.26 285.423 1996.62 281.812 Q1993.01 278.201 1993.01 272.044 Q1993.01 265.678 1996.44 261.951 Q1999.89 258.201 2005.72 258.201 Q2010.95 258.201 2013.98 261.581 Q2017.04 264.937 2017.04 270.724 M2012.78 269.474 Q2012.73 265.979 2010.81 263.896 Q2008.91 261.812 2005.77 261.812 Q2002.2 261.812 2000.05 263.826 Q1997.92 265.84 1997.6 269.498 L2012.78 269.474 Z\" fill=\"#000000\" fill-rule=\"evenodd\" fill-opacity=\"1\" /><path clip-path=\"url(#clip100)\" d=\"M 0 0 M2058.75 270.724 L2058.75 272.808 L2039.17 272.808 Q2039.45 277.206 2041.81 279.521 Q2044.19 281.812 2048.43 281.812 Q2050.88 281.812 2053.17 281.21 Q2055.49 280.609 2057.76 279.405 L2057.76 283.433 Q2055.47 284.405 2053.06 284.914 Q2050.65 285.423 2048.17 285.423 Q2041.97 285.423 2038.34 281.812 Q2034.72 278.201 2034.72 272.044 Q2034.72 265.678 2038.15 261.951 Q2041.6 258.201 2047.43 258.201 Q2052.66 258.201 2055.7 261.581 Q2058.75 264.937 2058.75 270.724 M2054.49 269.474 Q2054.45 265.979 2052.53 263.896 Q2050.63 261.812 2047.48 261.812 Q2043.91 261.812 2041.76 263.826 Q2039.63 265.84 2039.31 269.498 L2054.49 269.474 Z\" fill=\"#000000\" fill-rule=\"evenodd\" fill-opacity=\"1\" /><path clip-path=\"url(#clip100)\" d=\"M 0 0 M2083.94 258.826 L2074.56 271.442 L2084.42 284.752 L2079.4 284.752 L2071.85 274.567 L2064.31 284.752 L2059.28 284.752 L2069.35 271.187 L2060.14 258.826 L2065.16 258.826 L2072.04 268.062 L2078.91 258.826 L2083.94 258.826 Z\" fill=\"#000000\" fill-rule=\"evenodd\" fill-opacity=\"1\" /><path clip-path=\"url(#clip100)\" d=\"M 0 0 M2109.61 270.724 L2109.61 272.808 L2090.03 272.808 Q2090.3 277.206 2092.66 279.521 Q2095.05 281.812 2099.28 281.812 Q2101.74 281.812 2104.03 281.21 Q2106.34 280.609 2108.61 279.405 L2108.61 283.433 Q2106.32 284.405 2103.91 284.914 Q2101.51 285.423 2099.03 285.423 Q2092.83 285.423 2089.19 281.812 Q2085.58 278.201 2085.58 272.044 Q2085.58 265.678 2089.01 261.951 Q2092.46 258.201 2098.29 258.201 Q2103.52 258.201 2106.55 261.581 Q2109.61 264.937 2109.61 270.724 M2105.35 269.474 Q2105.3 265.979 2103.38 263.896 Q2101.48 261.812 2098.34 261.812 Q2094.77 261.812 2092.62 263.826 Q2090.49 265.84 2090.16 269.498 L2105.35 269.474 Z\" fill=\"#000000\" fill-rule=\"evenodd\" fill-opacity=\"1\" /><path clip-path=\"url(#clip100)\" d=\"M 0 0 M2132.73 259.822 L2132.73 263.803 Q2130.93 262.808 2129.1 262.322 Q2127.29 261.812 2125.44 261.812 Q2121.3 261.812 2119.01 264.451 Q2116.71 267.067 2116.71 271.812 Q2116.71 276.558 2119.01 279.197 Q2121.3 281.812 2125.44 281.812 Q2127.29 281.812 2129.1 281.326 Q2130.93 280.817 2132.73 279.822 L2132.73 283.757 Q2130.95 284.59 2129.03 285.007 Q2127.13 285.423 2124.98 285.423 Q2119.12 285.423 2115.67 281.743 Q2112.22 278.062 2112.22 271.812 Q2112.22 265.47 2115.7 261.836 Q2119.19 258.201 2125.26 258.201 Q2127.22 258.201 2129.1 258.618 Q2130.97 259.012 2132.73 259.822 Z\" fill=\"#000000\" fill-rule=\"evenodd\" fill-opacity=\"1\" /><path clip-path=\"url(#clip100)\" d=\"M 0 0 M2136.76 274.521 L2136.76 258.826 L2141.02 258.826 L2141.02 274.359 Q2141.02 278.039 2142.46 279.891 Q2143.89 281.72 2146.76 281.72 Q2150.21 281.72 2152.2 279.521 Q2154.21 277.322 2154.21 273.525 L2154.21 258.826 L2158.47 258.826 L2158.47 284.752 L2154.21 284.752 L2154.21 280.771 Q2152.66 283.132 2150.6 284.289 Q2148.57 285.423 2145.86 285.423 Q2141.39 285.423 2139.08 282.646 Q2136.76 279.868 2136.76 274.521 M2147.48 258.201 L2147.48 258.201 Z\" fill=\"#000000\" fill-rule=\"evenodd\" fill-opacity=\"1\" /><path clip-path=\"url(#clip100)\" d=\"M 0 0 M2181.6 259.822 L2181.6 263.803 Q2179.79 262.808 2177.96 262.322 Q2176.16 261.812 2174.31 261.812 Q2170.16 261.812 2167.87 264.451 Q2165.58 267.067 2165.58 271.812 Q2165.58 276.558 2167.87 279.197 Q2170.16 281.812 2174.31 281.812 Q2176.16 281.812 2177.96 281.326 Q2179.79 280.817 2181.6 279.822 L2181.6 283.757 Q2179.82 284.59 2177.9 285.007 Q2176 285.423 2173.84 285.423 Q2167.99 285.423 2164.54 281.743 Q2161.09 278.062 2161.09 271.812 Q2161.09 265.47 2164.56 261.836 Q2168.06 258.201 2174.12 258.201 Q2176.09 258.201 2177.96 258.618 Q2179.84 259.012 2181.6 259.822 M2175.58 284.752 Q2176.85 286.187 2177.48 287.391 Q2178.1 288.618 2178.1 289.729 Q2178.1 291.789 2176.71 292.831 Q2175.33 293.896 2172.59 293.896 Q2171.53 293.896 2170.51 293.757 Q2169.52 293.618 2168.52 293.34 L2168.52 290.308 Q2169.31 290.701 2170.16 290.863 Q2171.02 291.048 2172.11 291.048 Q2173.47 291.048 2174.17 290.493 Q2174.86 289.937 2174.86 288.872 Q2174.86 288.178 2174.35 287.16 Q2173.87 286.164 2172.83 284.752 L2175.58 284.752 Z\" fill=\"#000000\" fill-rule=\"evenodd\" fill-opacity=\"1\" /><path clip-path=\"url(#clip100)\" d=\"M 0 0 M2197.85 271.72 Q2192.69 271.72 2190.7 272.9 Q2188.71 274.081 2188.71 276.928 Q2188.71 279.197 2190.19 280.539 Q2191.69 281.859 2194.26 281.859 Q2197.8 281.859 2199.93 279.359 Q2202.08 276.836 2202.08 272.669 L2202.08 271.72 L2197.85 271.72 M2206.34 269.961 L2206.34 284.752 L2202.08 284.752 L2202.08 280.817 Q2200.63 283.178 2198.45 284.312 Q2196.27 285.423 2193.13 285.423 Q2189.15 285.423 2186.78 283.201 Q2184.45 280.956 2184.45 277.206 Q2184.45 272.831 2187.36 270.609 Q2190.3 268.386 2196.11 268.386 L2202.08 268.386 L2202.08 267.97 Q2202.08 265.03 2200.14 263.433 Q2198.22 261.812 2194.72 261.812 Q2192.5 261.812 2190.4 262.345 Q2188.29 262.877 2186.34 263.942 L2186.34 260.007 Q2188.68 259.104 2190.88 258.664 Q2193.08 258.201 2195.16 258.201 Q2200.79 258.201 2203.57 261.118 Q2206.34 264.035 2206.34 269.961 M2195.26 253.039 L2193.94 251.766 Q2193.43 251.303 2193.03 251.095 Q2192.66 250.863 2192.36 250.863 Q2191.48 250.863 2191.07 251.72 Q2190.65 252.553 2190.6 254.451 L2187.71 254.451 Q2187.76 251.326 2188.94 249.637 Q2190.12 247.924 2192.22 247.924 Q2193.1 247.924 2193.84 248.248 Q2194.58 248.572 2195.44 249.336 L2196.76 250.609 Q2197.27 251.072 2197.64 251.303 Q2198.03 251.512 2198.33 251.512 Q2199.21 251.512 2199.63 250.678 Q2200.05 249.822 2200.09 247.924 L2202.99 247.924 Q2202.94 251.049 2201.76 252.762 Q2200.58 254.451 2198.47 254.451 Q2197.59 254.451 2196.85 254.127 Q2196.11 253.803 2195.26 253.039 Z\" fill=\"#000000\" fill-rule=\"evenodd\" fill-opacity=\"1\" /><path clip-path=\"url(#clip100)\" d=\"M 0 0 M2220.86 261.812 Q2217.43 261.812 2215.44 264.498 Q2213.45 267.16 2213.45 271.812 Q2213.45 276.465 2215.42 279.15 Q2217.41 281.812 2220.86 281.812 Q2224.26 281.812 2226.25 279.127 Q2228.24 276.442 2228.24 271.812 Q2228.24 267.206 2226.25 264.521 Q2224.26 261.812 2220.86 261.812 M2220.86 258.201 Q2226.41 258.201 2229.58 261.812 Q2232.76 265.424 2232.76 271.812 Q2232.76 278.178 2229.58 281.812 Q2226.41 285.423 2220.86 285.423 Q2215.28 285.423 2212.11 281.812 Q2208.96 278.178 2208.96 271.812 Q2208.96 265.424 2212.11 261.812 Q2215.28 258.201 2220.86 258.201 Z\" fill=\"#000000\" fill-rule=\"evenodd\" fill-opacity=\"1\" /></svg>\n"
      ]
     },
     "execution_count": 30,
     "metadata": {},
     "output_type": "execute_result"
    }
   ],
   "source": [
    "plot_results_scatter(final_results_cuda.dimensions, \"Dimensoes\", \"Tempo(s)\", \"CUDA\",\n",
    "                     final_results_cuda.mean_duration, \"Tempo médio de execução\", \n",
    "                    final_results_cuda.ci_duration)"
   ]
  },
  {
   "cell_type": "markdown",
   "metadata": {},
   "source": [
    "**ESCOLHER E JUSTIFICAR OS MELHORES PARAMETROS!**\n",
    "\n",
    "Lorem Ipsum is simply dummy text of the printing and typesetting industry. Lorem Ipsum has been the industry's standard dummy text ever since the 1500s, when an unknown printer took a galley of type and scrambled it to make a type specimen book. It has survived not only five centuries, but also the leap into electronic typesetting, remaining essentially unchanged. It was popularised in the 1960s with the release of Letraset sheets containing Lorem Ipsum passages, and more recently with desktop publishing software like Aldus PageMaker including versions of Lorem Ipsum.\n",
    "\n",
    "Lorem Ipsum is simply dummy text of the printing and typesetting industry. Lorem Ipsum has been the industry's standard dummy text ever since the 1500s, when an unknown printer took a galley of type and scrambled it to make a type specimen book. It has survived not only five centuries, but also the leap into electronic typesetting, remaining essentially unchanged. It was popularised in the 1960s with the release of Letraset sheets containing Lorem Ipsum passages, and more recently with desktop publishing software like Aldus PageMaker including versions of Lorem Ipsum."
   ]
  },
  {
   "cell_type": "code",
   "execution_count": null,
   "metadata": {},
   "outputs": [],
   "source": []
  },
  {
   "cell_type": "markdown",
   "metadata": {},
   "source": [
    "## 5.2 Resultados da versão OMPI\n",
    "\n",
    "[ANALISE GERAL]\n",
    "\n",
    "Lorem Ipsum is simply dummy text of the printing and typesetting industry. Lorem Ipsum has been the industry's standard dummy text ever since the 1500s, when an unknown printer took a galley of type and scrambled it to make a type specimen book. It has survived not only five centuries, but also the leap into electronic typesetting, remaining essentially unchanged. It was popularised in the 1960s with the release of Letraset sheets containing Lorem Ipsum passages, and more recently with desktop publishing software like Aldus PageMaker including versions of Lorem Ipsum.\n",
    "\n",
    "Lorem Ipsum is simply dummy text of the printing and typesetting industry. Lorem Ipsum has been the industry's standard dummy text ever since the 1500s, when an unknown printer took a galley of type and scrambled it to make a type specimen book. It has survived not only five centuries, but also the leap into electronic typesetting, remaining essentially unchanged. It was popularised in the 1960s with the release of Letraset sheets containing Lorem Ipsum passages, and more recently with desktop publishing software like Aldus PageMaker including versions of Lorem Ipsum.\n"
   ]
  },
  {
   "cell_type": "code",
   "execution_count": null,
   "metadata": {},
   "outputs": [],
   "source": [
    "#plotar graficos com todos os pontos"
   ]
  },
  {
   "cell_type": "code",
   "execution_count": 40,
   "metadata": {},
   "outputs": [],
   "source": [
    "#plotar graficos com tempo medio e intervalo de confiança"
   ]
  },
  {
   "cell_type": "markdown",
   "metadata": {},
   "source": [
    "**ESCOLHER E JUSTIFICAR OS MELHORES PARAMETROS BASEANDO-SE NOS GRAFICOS!**\n",
    "\n",
    "Lorem Ipsum is simply dummy text of the printing and typesetting industry. Lorem Ipsum has been the industry's standard dummy text ever since the 1500s, when an unknown printer took a galley of type and scrambled it to make a type specimen book. It has survived not only five centuries, but also the leap into electronic typesetting, remaining essentially unchanged. It was popularised in the 1960s with the release of Letraset sheets containing Lorem Ipsum passages, and more recently with desktop publishing software like Aldus PageMaker including versions of Lorem Ipsum.\n",
    "\n",
    "Lorem Ipsum is simply dummy text of the printing and typesetting industry. Lorem Ipsum has been the industry's standard dummy text ever since the 1500s, when an unknown printer took a galley of type and scrambled it to make a type specimen book. It has survived not only five centuries, but also the leap into electronic typesetting, remaining essentially unchanged. It was popularised in the 1960s with the release of Letraset sheets containing Lorem Ipsum passages, and more recently with desktop publishing software like Aldus PageMaker including versions of Lorem Ipsum."
   ]
  },
  {
   "cell_type": "code",
   "execution_count": null,
   "metadata": {},
   "outputs": [],
   "source": []
  },
  {
   "cell_type": "markdown",
   "metadata": {},
   "source": [
    "## 5.3 Resultados da versão OMPI + OMP\n",
    "\n",
    "[ANALISE GERAL]\n",
    "\n",
    "Lorem Ipsum is simply dummy text of the printing and typesetting industry. Lorem Ipsum has been the industry's standard dummy text ever since the 1500s, when an unknown printer took a galley of type and scrambled it to make a type specimen book. It has survived not only five centuries, but also the leap into electronic typesetting, remaining essentially unchanged. It was popularised in the 1960s with the release of Letraset sheets containing Lorem Ipsum passages, and more recently with desktop publishing software like Aldus PageMaker including versions of Lorem Ipsum.\n",
    "\n",
    "Lorem Ipsum is simply dummy text of the printing and typesetting industry. Lorem Ipsum has been the industry's standard dummy text ever since the 1500s, when an unknown printer took a galley of type and scrambled it to make a type specimen book. It has survived not only five centuries, but also the leap into electronic typesetting, remaining essentially unchanged. It was popularised in the 1960s with the release of Letraset sheets containing Lorem Ipsum passages, and more recently with desktop publishing software like Aldus PageMaker including versions of Lorem Ipsum.\n"
   ]
  },
  {
   "cell_type": "code",
   "execution_count": null,
   "metadata": {},
   "outputs": [],
   "source": [
    "#plotar graficos com todos os pontos"
   ]
  },
  {
   "cell_type": "code",
   "execution_count": 40,
   "metadata": {},
   "outputs": [],
   "source": [
    "#plotar graficos com tempo medio e intervalo de confiança"
   ]
  },
  {
   "cell_type": "markdown",
   "metadata": {},
   "source": [
    "**ESCOLHER E JUSTIFICAR OS MELHORES PARAMETROS BASEANDO-SE NOS GRAFICOS!**\n",
    "\n",
    "Lorem Ipsum is simply dummy text of the printing and typesetting industry. Lorem Ipsum has been the industry's standard dummy text ever since the 1500s, when an unknown printer took a galley of type and scrambled it to make a type specimen book. It has survived not only five centuries, but also the leap into electronic typesetting, remaining essentially unchanged. It was popularised in the 1960s with the release of Letraset sheets containing Lorem Ipsum passages, and more recently with desktop publishing software like Aldus PageMaker including versions of Lorem Ipsum.\n",
    "\n",
    "Lorem Ipsum is simply dummy text of the printing and typesetting industry. Lorem Ipsum has been the industry's standard dummy text ever since the 1500s, when an unknown printer took a galley of type and scrambled it to make a type specimen book. It has survived not only five centuries, but also the leap into electronic typesetting, remaining essentially unchanged. It was popularised in the 1960s with the release of Letraset sheets containing Lorem Ipsum passages, and more recently with desktop publishing software like Aldus PageMaker including versions of Lorem Ipsum."
   ]
  },
  {
   "cell_type": "code",
   "execution_count": null,
   "metadata": {},
   "outputs": [],
   "source": []
  },
  {
   "cell_type": "markdown",
   "metadata": {},
   "source": [
    "## 5.4 Resultados da versão OMPI + CUDA\n",
    "\n",
    "[ANALISE GERAL]\n",
    "\n",
    "Lorem Ipsum is simply dummy text of the printing and typesetting industry. Lorem Ipsum has been the industry's standard dummy text ever since the 1500s, when an unknown printer took a galley of type and scrambled it to make a type specimen book. It has survived not only five centuries, but also the leap into electronic typesetting, remaining essentially unchanged. It was popularised in the 1960s with the release of Letraset sheets containing Lorem Ipsum passages, and more recently with desktop publishing software like Aldus PageMaker including versions of Lorem Ipsum.\n",
    "\n",
    "Lorem Ipsum is simply dummy text of the printing and typesetting industry. Lorem Ipsum has been the industry's standard dummy text ever since the 1500s, when an unknown printer took a galley of type and scrambled it to make a type specimen book. It has survived not only five centuries, but also the leap into electronic typesetting, remaining essentially unchanged. It was popularised in the 1960s with the release of Letraset sheets containing Lorem Ipsum passages, and more recently with desktop publishing software like Aldus PageMaker including versions of Lorem Ipsum.\n"
   ]
  },
  {
   "cell_type": "code",
   "execution_count": null,
   "metadata": {},
   "outputs": [],
   "source": [
    "#plotar graficos com todos os pontos"
   ]
  },
  {
   "cell_type": "code",
   "execution_count": 40,
   "metadata": {},
   "outputs": [],
   "source": [
    "#plotar graficos com tempo medio e intervalo de confiança"
   ]
  },
  {
   "cell_type": "markdown",
   "metadata": {},
   "source": [
    "**ESCOLHER E JUSTIFICAR OS MELHORES PARAMETROS BASEANDO-SE NOS GRAFICOS!**\n",
    "\n",
    "Lorem Ipsum is simply dummy text of the printing and typesetting industry. Lorem Ipsum has been the industry's standard dummy text ever since the 1500s, when an unknown printer took a galley of type and scrambled it to make a type specimen book. It has survived not only five centuries, but also the leap into electronic typesetting, remaining essentially unchanged. It was popularised in the 1960s with the release of Letraset sheets containing Lorem Ipsum passages, and more recently with desktop publishing software like Aldus PageMaker including versions of Lorem Ipsum.\n",
    "\n",
    "Lorem Ipsum is simply dummy text of the printing and typesetting industry. Lorem Ipsum has been the industry's standard dummy text ever since the 1500s, when an unknown printer took a galley of type and scrambled it to make a type specimen book. It has survived not only five centuries, but also the leap into electronic typesetting, remaining essentially unchanged. It was popularised in the 1960s with the release of Letraset sheets containing Lorem Ipsum passages, and more recently with desktop publishing software like Aldus PageMaker including versions of Lorem Ipsum."
   ]
  },
  {
   "cell_type": "markdown",
   "metadata": {},
   "source": [
    "# 6. Comparação entre as diferentes versões"
   ]
  },
  {
   "cell_type": "markdown",
   "metadata": {},
   "source": [
    "Lorem Ipsum is simply dummy text of the printing and typesetting industry. Lorem Ipsum has been the industry's standard dummy text ever since the 1500s, when an unknown printer took a galley of type and scrambled it to make a type specimen book. It has survived not only five centuries, but also the leap into electronic typesetting, remaining essentially unchanged. It was popularised in the 1960s with the release of Letraset sheets containing Lorem Ipsum passages, and more recently with desktop publishing software like Aldus PageMaker including versions of Lorem Ipsum.\n",
    "\n",
    "Lorem Ipsum is simply dummy text of the printing and typesetting industry. Lorem Ipsum has been the industry's standard dummy text ever since the 1500s, when an unknown printer took a galley of type and scrambled it to make a type specimen book. It has survived not only five centuries, but also the leap into electronic typesetting, remaining essentially unchanged. It was popularised in the 1960s with the release of Letraset sheets containing Lorem Ipsum passages, and more recently with desktop publishing software like Aldus PageMaker including versions of Lorem Ipsum."
   ]
  },
  {
   "cell_type": "code",
   "execution_count": null,
   "metadata": {},
   "outputs": [],
   "source": [
    "#plotar graficos!!!"
   ]
  },
  {
   "cell_type": "code",
   "execution_count": null,
   "metadata": {},
   "outputs": [],
   "source": [
    "#plotar graficos!!!"
   ]
  },
  {
   "cell_type": "code",
   "execution_count": 41,
   "metadata": {},
   "outputs": [],
   "source": [
    "#plotar graficos!!!"
   ]
  },
  {
   "cell_type": "markdown",
   "metadata": {},
   "source": [
    "***Usando os parâmetros determinados na seção anterior, comparar os desempenhos das seguintes versões do programa basenado-se nos graficos!!!!***\n",
    "\n",
    "Lorem Ipsum is simply dummy text of the printing and typesetting industry. Lorem Ipsum has been the industry's standard dummy text ever since the 1500s, when an unknown printer took a galley of type and scrambled it to make a type specimen book. It has survived not only five centuries, but also the leap into electronic typesetting, remaining essentially unchanged. It was popularised in the 1960s with the release of Letraset sheets containing Lorem Ipsum passages, and more recently with desktop publishing software like Aldus PageMaker including versions of Lorem Ipsum.\n",
    "\n",
    "Lorem Ipsum is simply dummy text of the printing and typesetting industry. Lorem Ipsum has been the industry's standard dummy text ever since the 1500s, when an unknown printer took a galley of type and scrambled it to make a type specimen book. It has survived not only five centuries, but also the leap into electronic typesetting, remaining essentially unchanged. It was popularised in the 1960s with the release of Letraset sheets containing Lorem Ipsum passages, and more recently with desktop publishing software like Aldus PageMaker including versions of Lorem Ipsum.\n",
    "\n",
    "Lorem Ipsum is simply dummy text of the printing and typesetting industry. Lorem Ipsum has been the industry's standard dummy text ever since the 1500s, when an unknown printer took a galley of type and scrambled it to make a type specimen book. It has survived not only five centuries, but also the leap into electronic typesetting, remaining essentially unchanged. It was popularised in the 1960s with the release of Letraset sheets containing Lorem Ipsum passages, and more recently with desktop publishing software like Aldus PageMaker including versions of Lorem Ipsum.\n",
    "\n",
    "Lorem Ipsum is simply dummy text of the printing and typesetting industry. Lorem Ipsum has been the industry's standard dummy text ever since the 1500s, when an unknown printer took a galley of type and scrambled it to make a type specimen book. It has survived not only five centuries, but also the leap into electronic typesetting, remaining essentially unchanged. It was popularised in the 1960s with the release of Letraset sheets containing Lorem Ipsum passages, and more recently with desktop publishing software like Aldus PageMaker including versions of Lorem Ipsum."
   ]
  },
  {
   "cell_type": "markdown",
   "metadata": {},
   "source": [
    "# 7. Conclusão"
   ]
  },
  {
   "cell_type": "markdown",
   "metadata": {},
   "source": [
    "Lorem Ipsum is simply dummy text of the printing and typesetting industry. Lorem Ipsum has been the industry's standard dummy text ever since the 1500s, when an unknown printer took a galley of type and scrambled it to make a type specimen book. It has survived not only five centuries, but also the leap into electronic typesetting, remaining essentially unchanged. It was popularised in the 1960s with the release of Letraset sheets containing Lorem Ipsum passages, and more recently with desktop publishing software like Aldus PageMaker including versions of Lorem Ipsum.\n",
    "\n",
    "Lorem Ipsum is simply dummy text of the printing and typesetting industry. Lorem Ipsum has been the industry's standard dummy text ever since the 1500s, when an unknown printer took a galley of type and scrambled it to make a type specimen book. It has survived not only five centuries, but also the leap into electronic typesetting, remaining essentially unchanged. It was popularised in the 1960s with the release of Letraset sheets containing Lorem Ipsum passages, and more recently with desktop publishing software like Aldus PageMaker including versions of Lorem Ipsum.\n",
    "\n",
    "Lorem Ipsum is simply dummy text of the printing and typesetting industry. Lorem Ipsum has been the industry's standard dummy text ever since the 1500s, when an unknown printer took a galley of type and scrambled it to make a type specimen book. It has survived not only five centuries, but also the leap into electronic typesetting, remaining essentially unchanged. It was popularised in the 1960s with the release of Letraset sheets containing Lorem Ipsum passages, and more recently with desktop publishing software like Aldus PageMaker including versions of Lorem Ipsum.\n",
    "\n",
    "Lorem Ipsum is simply dummy text of the printing and typesetting industry. Lorem Ipsum has been the industry's standard dummy text ever since the 1500s, when an unknown printer took a galley of type and scrambled it to make a type specimen book. It has survived not only five centuries, but also the leap into electronic typesetting, remaining essentially unchanged. It was popularised in the 1960s with the release of Letraset sheets containing Lorem Ipsum passages, and more recently with desktop publishing software like Aldus PageMaker including versions of Lorem Ipsum."
   ]
  },
  {
   "cell_type": "code",
   "execution_count": null,
   "metadata": {},
   "outputs": [],
   "source": []
  }
 ],
 "metadata": {
  "kernelspec": {
   "display_name": "Julia 1.3.0",
   "language": "julia",
   "name": "julia-1.3"
  },
  "language_info": {
   "file_extension": ".jl",
   "mimetype": "application/julia",
   "name": "julia",
   "version": "1.3.0"
  }
 },
 "nbformat": 4,
 "nbformat_minor": 4
}
