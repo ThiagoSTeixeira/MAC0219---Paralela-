{
 "cells": [
  {
   "cell_type": "markdown",
   "metadata": {},
   "source": [
    "# EP2 - Mandelbrot set CUDA+OMPI\n",
    "###### Notebook baseado no dos miniEPs\n",
    "\n",
    "Preencha o nome dos 5 membros do seu grupo na tabela abaixo:\n",
    "\n",
    "| Nome | NUSP |\n",
    "|------|------|\n",
    "| Caio Andrade | 9797232 |\n",
    "| Caio Fontes | 10692061 |\n",
    "| Eduardo Laurentino | 8988212 |\n",
    "| Thiago Teixeira | 10736987 |\n",
    "| Washington Meireles | 10737157 |"
   ]
  },
  {
   "cell_type": "code",
   "execution_count": null,
   "metadata": {},
   "outputs": [],
   "source": [
    "] up"
   ]
  },
  {
   "cell_type": "code",
   "execution_count": null,
   "metadata": {},
   "outputs": [],
   "source": [
    "] st"
   ]
  },
  {
   "cell_type": "markdown",
   "metadata": {},
   "source": [
    "## Tarefa 3 - Apresentação dos resultados\n",
    "\n",
    "### Verificando se os programas estão funcionais:"
   ]
  },
  {
   "cell_type": "code",
   "execution_count": null,
   "metadata": {},
   "outputs": [],
   "source": [
    ";make "
   ]
  },
  {
   "cell_type": "code",
   "execution_count": null,
   "metadata": {},
   "outputs": [],
   "source": [
    "; ./mandelbrot_seq -2.5 1.5 -2.0 2.0 0"
   ]
  },
  {
   "cell_type": "code",
   "execution_count": null,
   "metadata": {},
   "outputs": [],
   "source": [
    "; ./mandelbrot_pth -2.5 1.5 -2.0 2.0 1 1"
   ]
  },
  {
   "cell_type": "code",
   "execution_count": null,
   "metadata": {},
   "outputs": [],
   "source": [
    ";./mandelbrot_omp -2.5 1.5 -2.0 2.0 1 1"
   ]
  },
  {
   "cell_type": "code",
   "execution_count": null,
   "metadata": {},
   "outputs": [],
   "source": [
    ";./mandelbrot_cuda -2.5 1.5 -2.0 2.0 1 1"
   ]
  },
  {
   "cell_type": "code",
   "execution_count": null,
   "metadata": {},
   "outputs": [],
   "source": [
    "using DataFrames, Query, StatsPlots, Statistics\n",
    "\n",
    "function measure_mandelbrot(size, f, typ; thread = 0)\n",
    "    if f==0 par = `-2.5 1.5 -2.0 2.0` #Full Picture\n",
    "    elseif f==1 par = `-0.8 -0.7 0.05 0.15` #Seahorse Valley\n",
    "    elseif f==2 par = `0.175 0.375 -0.1 0.1` #Elephant Valley\n",
    "    elseif f==3 par = `-0.188 -0.012 0.554 0.754` #Triple Spiral Valley\n",
    "    end                \n",
    "    if thread == 0 \n",
    "        results = parse.(Float64,\n",
    "            chomp(read(`./$typ $par $size`, String)))\n",
    "    else\n",
    "        results = parse.(Float64,\n",
    "            chomp(read(`./$typ $par $size $thread`, String)))\n",
    "    end\n",
    "        \n",
    "    return DataFrame(size = size,\n",
    "        f = f,\n",
    "        threads = thread,\n",
    "        duration = results[1])\n",
    "end"
   ]
  },
  {
   "cell_type": "markdown",
   "metadata": {},
   "source": [
    "A função `run_experiments` recebe os mesmos parâmetros `size`, `f`, `method` e `threads`, e um parâmetro adicional `repetitions`, com o número de repetições de cada experimento com um dado número de `threads`. A função devolve um `DataFrame` com todos os experimentos."
   ]
  },
  {
   "cell_type": "code",
   "execution_count": null,
   "metadata": {},
   "outputs": [],
   "source": [
    "function run_experiments(size, f, method, repetitions; threads = [])\n",
    "    run(`make $method`)\n",
    "    \n",
    "    results = DataFrame(size = Int[],\n",
    "        f = Int[],\n",
    "        threads = Int[],\n",
    "        duration = Float64[])  \n",
    "    \n",
    "    if threads == []\n",
    "        for r in 1:repetitions\n",
    "            for s in size\n",
    "                append!(results,\n",
    "                    measure_mandelbrot(s, f, method))    \n",
    "            end\n",
    "        end\n",
    "    else\n",
    "        for t in threads\n",
    "            for s in size\n",
    "                for r in 1:repetitions\n",
    "                    append!(results,\n",
    "                        measure_mandelbrot(s, f, method, thread = t))\n",
    "                    end\n",
    "                end\n",
    "            end\n",
    "        end\n",
    "    return results\n",
    "end"
   ]
  },
  {
   "cell_type": "markdown",
   "metadata": {},
   "source": [
    "A função `parse_results` recebe um `DataFrame` de resultados, produzido pela função `run_experiments`. A função devolve um `DataFrame` com a média e o intervalo de confiança da média a 95% das estimativas e dos tempos de execução, agrupados por número de threads."
   ]
  },
  {
   "cell_type": "code",
   "execution_count": null,
   "metadata": {},
   "outputs": [],
   "source": [
    "function parse_results(results)\n",
    "    parsed_results = results |>\n",
    "                    @groupby({_.threads,_.size}) |>\n",
    "                    @map({threads = key(_).threads,\n",
    "                          size = _.size[1],\n",
    "                          mean_duration = mean(_.duration),\n",
    "                          ci_duration = 1.96 * std(_.duration)}) |>\n",
    "                    DataFrame\n",
    "    \n",
    "    return parsed_results\n",
    "end"
   ]
  },
  {
   "cell_type": "markdown",
   "metadata": {},
   "source": [
    "## Realizando os experimentos:"
   ]
  },
  {
   "cell_type": "markdown",
   "metadata": {},
   "source": [
    "### DataFrames:"
   ]
  },
  {
   "cell_type": "markdown",
   "metadata": {},
   "source": [
    "Parametros a serem utilizados(usamos os mesmos do script `run_measurements.sh`):"
   ]
  },
  {
   "cell_type": "code",
   "execution_count": null,
   "metadata": {},
   "outputs": [],
   "source": [
    "size = [2 ^ i for i in 4:13] #resolucao\n",
    "thread = [2 ^ i for i in 0:5]\n",
    "repetitions = 10;"
   ]
  },
  {
   "cell_type": "markdown",
   "metadata": {},
   "source": [
    "#### Sequencial:"
   ]
  },
  {
   "cell_type": "code",
   "execution_count": null,
   "metadata": {},
   "outputs": [],
   "source": [
    "fileName = \"mandelbrot_seq\""
   ]
  },
  {
   "cell_type": "code",
   "execution_count": null,
   "metadata": {},
   "outputs": [],
   "source": [
    "#Full picture\n",
    "results = run_experiments(size, 0, fileName, repetitions)\n",
    "seq_full = parse_results(results)"
   ]
  },
  {
   "cell_type": "code",
   "execution_count": null,
   "metadata": {},
   "outputs": [],
   "source": [
    "#Seahorse valley\n",
    "results = run_experiments(size, 1, fileName , repetitions)\n",
    "seq_seahorse = parse_results(results)"
   ]
  },
  {
   "cell_type": "code",
   "execution_count": null,
   "metadata": {},
   "outputs": [],
   "source": [
    "#Elephant valley\n",
    "results = run_experiments(size, 2, fileName, repetitions)\n",
    "seq_elephant = parse_results(results)"
   ]
  },
  {
   "cell_type": "code",
   "execution_count": null,
   "metadata": {},
   "outputs": [],
   "source": [
    "#Triple spiral\n",
    "results = run_experiments(size, 3, fileName, repetitions)\n",
    "seq_tripleSpiral = parse_results(results)"
   ]
  },
  {
   "cell_type": "markdown",
   "metadata": {},
   "source": [
    "#### PThreads:"
   ]
  },
  {
   "cell_type": "code",
   "execution_count": null,
   "metadata": {},
   "outputs": [],
   "source": [
    "fileName = \"mandelbrot_pth\""
   ]
  },
  {
   "cell_type": "code",
   "execution_count": null,
   "metadata": {},
   "outputs": [],
   "source": [
    "#Full picture\n",
    "results = run_experiments(size, 0, fileName, repetitions, threads=thread)\n",
    "pth_full = parse_results(results)"
   ]
  },
  {
   "cell_type": "code",
   "execution_count": null,
   "metadata": {},
   "outputs": [],
   "source": [
    "#Seahorse valley\n",
    "results = run_experiments(size, 1, fileName, repetitions, threads=thread)\n",
    "pth_seahorse = parse_results(results)"
   ]
  },
  {
   "cell_type": "code",
   "execution_count": null,
   "metadata": {},
   "outputs": [],
   "source": [
    "#Elephant valley\n",
    "results = run_experiments(size, 2, fileName, repetitions, threads=thread)\n",
    "pth_elephant = parse_results(results)"
   ]
  },
  {
   "cell_type": "code",
   "execution_count": null,
   "metadata": {},
   "outputs": [],
   "source": [
    "#Triple spiral\n",
    "results = run_experiments(size, 3, fileName, repetitions, threads=thread)\n",
    "pth_tripleSpiral = parse_results(results)"
   ]
  },
  {
   "cell_type": "markdown",
   "metadata": {},
   "source": [
    "#### OpenMP:"
   ]
  },
  {
   "cell_type": "code",
   "execution_count": null,
   "metadata": {},
   "outputs": [],
   "source": [
    "fileName = \"mandelbrot_omp\""
   ]
  },
  {
   "cell_type": "code",
   "execution_count": null,
   "metadata": {},
   "outputs": [],
   "source": [
    "#Full picture\n",
    "results = run_experiments(size, 0, fileName, repetitions, threads=thread)\n",
    "omp_full = parse_results(results)"
   ]
  },
  {
   "cell_type": "code",
   "execution_count": null,
   "metadata": {},
   "outputs": [],
   "source": [
    "#Seahores Valley\n",
    "results = run_experiments(size, 1, fileName, repetitions, threads=thread)\n",
    "omp_seahorse = parse_results(results)"
   ]
  },
  {
   "cell_type": "code",
   "execution_count": null,
   "metadata": {},
   "outputs": [],
   "source": [
    "#Elephant Valley\n",
    "results = run_experiments(size, 2, fileName, repetitions, threads=thread)\n",
    "omp_elephant = parse_results(results)"
   ]
  },
  {
   "cell_type": "code",
   "execution_count": null,
   "metadata": {},
   "outputs": [],
   "source": [
    "#Triple spiral\n",
    "results = run_experiments(size, 3, fileName, repetitions, threads=thread)\n",
    "omp_tripleSpiral = parse_results(results)"
   ]
  },
  {
   "cell_type": "markdown",
   "metadata": {},
   "source": [
    "#### CUDA:"
   ]
  },
  {
   "cell_type": "code",
   "execution_count": null,
   "metadata": {},
   "outputs": [],
   "source": [
    "fileName = \"mandelbrot_cuda\""
   ]
  },
  {
   "cell_type": "code",
   "execution_count": null,
   "metadata": {},
   "outputs": [],
   "source": [
    "#Full picture\n",
    "results = run_experiments(size, 0, fileName, repetitions, threads=thread)\n",
    "cuda_full = parse_results(results)"
   ]
  },
  {
   "cell_type": "code",
   "execution_count": null,
   "metadata": {},
   "outputs": [],
   "source": [
    "#Seahores Valley\n",
    "results = run_experiments(size, 1, fileName, repetitions, threads=thread)\n",
    "cuda_seahorse = parse_results(results)"
   ]
  },
  {
   "cell_type": "code",
   "execution_count": null,
   "metadata": {},
   "outputs": [],
   "source": [
    "#Elephant Valley\n",
    "results = run_experiments(size, 2, fileName, repetitions, threads=thread)\n",
    "cuda_elephant = parse_results(results)"
   ]
  },
  {
   "cell_type": "code",
   "execution_count": null,
   "metadata": {},
   "outputs": [],
   "source": [
    "#Triple spiral\n",
    "results = run_experiments(size, 3, fileName, repetitions, threads=thread)\n",
    "cuda_tripleSpiral = parse_results(results)"
   ]
  },
  {
   "cell_type": "markdown",
   "metadata": {},
   "source": [
    "#### Exportando em .csv:"
   ]
  },
  {
   "cell_type": "code",
   "execution_count": null,
   "metadata": {},
   "outputs": [],
   "source": [
    "using CSV\n",
    "function save_csv_results(parsed_results, name)\n",
    "    CSV.write(string(name, \".csv\"), parsed_results)\n",
    "end"
   ]
  },
  {
   "cell_type": "code",
   "execution_count": null,
   "metadata": {},
   "outputs": [],
   "source": [
    "#Sequencial\n",
    "save_csv_results(seq_full, \"seq_full\")\n",
    "save_csv_results(seq_seahorse, \"seq_seahorse\")\n",
    "save_csv_results(seq_elephant, \"seq_elephant\")\n",
    "save_csv_results(seq_tripleSpiral, \"seq_tripleSpiral\")"
   ]
  },
  {
   "cell_type": "code",
   "execution_count": null,
   "metadata": {},
   "outputs": [],
   "source": [
    "#Pthreads\n",
    "save_csv_results(pth_full, \"pth_full\")\n",
    "save_csv_results(pth_seahorse, \"pth_seahorse\")\n",
    "save_csv_results(pth_elephant, \"pth_elephant\")\n",
    "save_csv_results(pth_tripleSpiral, \"pth_tripleSpiral\")"
   ]
  },
  {
   "cell_type": "code",
   "execution_count": null,
   "metadata": {},
   "outputs": [],
   "source": [
    "#OpenMP\n",
    "save_csv_results(omp_full, \"omp_full\")\n",
    "save_csv_results(omp_seahorse, \"omp_seahorse\")\n",
    "save_csv_results(omp_elephant, \"omp_elephant\")\n",
    "save_csv_results(omp_tripleSpiral, \"omp_tripleSpiral\")"
   ]
  },
  {
   "cell_type": "code",
   "execution_count": null,
   "metadata": {},
   "outputs": [],
   "source": [
    "#CUDA\n",
    "save_csv_results(cuda_full, \"cuda_full\")\n",
    "save_csv_results(cuda_seahorse, \"cuda_seahorse\")\n",
    "save_csv_results(cuda_elephant, \"cuda_elephant\")\n",
    "save_csv_results(cuda_tripleSpiral, \"cuda_tripleSpiral\")"
   ]
  },
  {
   "cell_type": "markdown",
   "metadata": {},
   "source": [
    "#### Importando .csv:"
   ]
  },
  {
   "cell_type": "code",
   "execution_count": null,
   "metadata": {},
   "outputs": [],
   "source": [
    "function read_csv_results(filename)\n",
    "    return CSV.read(filename)\n",
    "end"
   ]
  },
  {
   "cell_type": "code",
   "execution_count": null,
   "metadata": {},
   "outputs": [],
   "source": [
    "#Sequencial\n",
    "seq_full = read_csv_results(\"seq_full.csv\")\n",
    "seq_seahorse = read_csv_results(\"seq_seahorse.csv\")\n",
    "seq_elephant = read_csv_results(\"seq_elephant.csv\")\n",
    "seq_tripleSpiral = read_csv_results(\"seq_tripleSpiral.csv\")"
   ]
  },
  {
   "cell_type": "code",
   "execution_count": null,
   "metadata": {},
   "outputs": [],
   "source": [
    "#Pthreads\n",
    "pth_full = read_csv_results(\"pth_full.csv\")\n",
    "pth_seahorse = read_csv_results(\"pth_seahorse.csv\")\n",
    "pth_elephant = read_csv_results(\"pth_elephant.csv\")\n",
    "pth_tripleSpiral = read_csv_results(\"pth_tripleSpiral.csv\")"
   ]
  },
  {
   "cell_type": "code",
   "execution_count": null,
   "metadata": {},
   "outputs": [],
   "source": [
    "#OpenMP\n",
    "omp_full = read_csv_results(\"omp_full.csv\")\n",
    "omp_seahorse = read_csv_results(\"omp_seahorse.csv\")\n",
    "omp_elephant = read_csv_results(\"omp_elephant.csv\")\n",
    "omp_tripleSpiral = read_csv_results(\"omp_tripleSpiral.csv\")"
   ]
  },
  {
   "cell_type": "code",
   "execution_count": null,
   "metadata": {},
   "outputs": [],
   "source": [
    "#CUDA\n",
    "cuda_full = read_csv_results(\"cuda_full.csv\")\n",
    "cuda_seahorse = read_csv_results(\"cuda_seahorse.csv\")\n",
    "cuda_elephant = read_csv_results(\"cuda_elephant.csv\")\n",
    "cuda_tripleSpiral = read_csv_results(\"cuda_tripleSpiral.csv\")"
   ]
  },
  {
   "cell_type": "markdown",
   "metadata": {},
   "source": [
    "## Gráficos:"
   ]
  },
  {
   "cell_type": "markdown",
   "metadata": {},
   "source": [
    "Função para gerar os gráficos:"
   ]
  },
  {
   "cell_type": "code",
   "execution_count": null,
   "metadata": {},
   "outputs": [],
   "source": [
    "using StatsPlots\n",
    "function plot_results(x, y1, series_label1, yerror1,\n",
    "                        y2, series_label2, yerror2,\n",
    "                        y3, series_label3, yerror3,\n",
    "                        y4, series_label4, yerror4,\n",
    "                        y5, series_label5, yerror5,\n",
    "                        y6, series_label6, yerror6)    \n",
    "    p = plot(x,        \n",
    "            y1,\n",
    "            yerror = yerror1,\n",
    "            alpha = 0.9,\n",
    "            labels = series_label1,\n",
    "            xlabel = \"size\",\n",
    "            color = \"red\",\n",
    "            lw = 1,\n",
    "            legend = :topleft)\n",
    "    \n",
    "    if y2 != []\n",
    "            plot!(x,        \n",
    "            y2,\n",
    "            yerror = yerror2,\n",
    "            alpha = 0.9,\n",
    "            labels = series_label2,\n",
    "            color = \"blue\",\n",
    "            lw = 1,\n",
    "            legend = :topleft)\n",
    "    end\n",
    "    if y3 != []\n",
    "            plot!(x,        \n",
    "            y3,\n",
    "            yerror = yerror3,\n",
    "            alpha = 0.9,\n",
    "            labels = series_label3,\n",
    "            color = \"green\",\n",
    "            lw = 1,\n",
    "            legend = :topleft)\n",
    "    end\n",
    "    if y4 != []\n",
    "            plot!(x,        \n",
    "            y4,\n",
    "            yerror = yerror4,\n",
    "            alpha = 0.9,\n",
    "            labels = series_label4,\n",
    "            color = \"black\",\n",
    "            lw = 1,\n",
    "            legend = :topleft)\n",
    "    end\n",
    "    if y5 != []\n",
    "            plot!(x,        \n",
    "            y5,\n",
    "            yerror = yerror5,\n",
    "            alpha = 0.9,\n",
    "            labels = series_label5,\n",
    "            color = \"purple\",\n",
    "            lw = 1,\n",
    "            legend = :topleft)\n",
    "    end\n",
    "    if y6 != []\n",
    "            plot!(x,        \n",
    "            y6,\n",
    "            yerror = yerror6,\n",
    "            alpha = 0.9,\n",
    "            labels = series_label6,\n",
    "            color = \"orange\",\n",
    "            lw = 1,\n",
    "            legend = :topleft)\n",
    "    end\n",
    "    return p\n",
    "end\n"
   ]
  },
  {
   "cell_type": "markdown",
   "metadata": {},
   "source": [
    "### Full picture:\n",
    "#### Sequencial:"
   ]
  },
  {
   "cell_type": "code",
   "execution_count": null,
   "metadata": {},
   "outputs": [],
   "source": [
    "plot_results(seq_full.size, seq_full.mean_duration, \"Sequencial\", seq_full.ci_duration,\n",
    "                [], [], [], [], [],\n",
    "                [], [], [], [], [],\n",
    "                [], [], [], [], [])"
   ]
  },
  {
   "cell_type": "markdown",
   "metadata": {},
   "source": [
    "#### Pthreads:"
   ]
  },
  {
   "cell_type": "code",
   "execution_count": null,
   "metadata": {},
   "outputs": [],
   "source": [
    "pth_1 = filter(row -> row[:threads] == 1, pth_full)\n",
    "pth_2 = filter(row -> row[:threads] == 2, pth_full)\n",
    "pth_4 = filter(row -> row[:threads] == 4, pth_full)\n",
    "pth_8 = filter(row -> row[:threads] == 8, pth_full)\n",
    "pth_16 = filter(row -> row[:threads] == 16, pth_full)\n",
    "pth_32 = filter(row -> row[:threads] == 32, pth_full)"
   ]
  },
  {
   "cell_type": "code",
   "execution_count": null,
   "metadata": {},
   "outputs": [],
   "source": [
    "plot_results(pth_1.size, pth_1.mean_duration, \"1 thread\", pth_1.ci_duration,\n",
    "            pth_2.mean_duration, \"2 threads\", pth_2.ci_duration,\n",
    "            pth_4.mean_duration, \"4 threads\", pth_4.ci_duration,\n",
    "            pth_8.mean_duration, \"8 threads\", pth_8.ci_duration,\n",
    "            pth_16.mean_duration, \"16 threads\", pth_16.ci_duration,\n",
    "            pth_32.mean_duration, \"32 threads\", pth_32.ci_duration)\n"
   ]
  },
  {
   "cell_type": "markdown",
   "metadata": {},
   "source": [
    "#### OpenMP:"
   ]
  },
  {
   "cell_type": "code",
   "execution_count": null,
   "metadata": {},
   "outputs": [],
   "source": [
    "omp_1 = filter(row -> row[:threads] == 1, omp_full)\n",
    "omp_2 = filter(row -> row[:threads] == 2, omp_full)\n",
    "omp_4 = filter(row -> row[:threads] == 4, omp_full)\n",
    "omp_8 = filter(row -> row[:threads] == 8, omp_full)\n",
    "omp_16 = filter(row -> row[:threads] == 16, omp_full)\n",
    "omp_32 = filter(row -> row[:threads] == 32, omp_full)"
   ]
  },
  {
   "cell_type": "code",
   "execution_count": null,
   "metadata": {},
   "outputs": [],
   "source": [
    "plot_results(omp_1.size, omp_1.mean_duration, \"1 thread\", omp_1.ci_duration,\n",
    "            omp_2.mean_duration, \"2 threads\", omp_2.ci_duration,\n",
    "            omp_4.mean_duration, \"4 threads\", omp_4.ci_duration,\n",
    "            omp_8.mean_duration, \"8 threads\", omp_8.ci_duration,\n",
    "            omp_16.mean_duration, \"16 threads\", omp_16.ci_duration,\n",
    "            omp_32.mean_duration, \"32 threads\", omp_32.ci_duration)"
   ]
  },
  {
   "cell_type": "markdown",
   "metadata": {},
   "source": [
    "### Seahorse Valley:\n",
    "#### Sequencial:"
   ]
  },
  {
   "cell_type": "code",
   "execution_count": null,
   "metadata": {},
   "outputs": [],
   "source": [
    "plot_results(seq_seahorse.size, seq_seahorse.mean_duration, \"Sequencial\", seq_seahorse.ci_duration,\n",
    "                [], [], [], [], [],\n",
    "                [], [], [], [], [],\n",
    "                [], [], [], [], [])"
   ]
  },
  {
   "cell_type": "markdown",
   "metadata": {},
   "source": [
    "#### Pthreads:"
   ]
  },
  {
   "cell_type": "code",
   "execution_count": null,
   "metadata": {},
   "outputs": [],
   "source": [
    "pth_1 = filter(row -> row[:threads] == 1, pth_seahorse)\n",
    "pth_2 = filter(row -> row[:threads] == 2, pth_seahorse)\n",
    "pth_4 = filter(row -> row[:threads] == 4, pth_seahorse)\n",
    "pth_8 = filter(row -> row[:threads] == 8, pth_seahorse)\n",
    "pth_16 = filter(row -> row[:threads] == 16, pth_seahorse)\n",
    "pth_32 = filter(row -> row[:threads] == 32, pth_seahorse)"
   ]
  },
  {
   "cell_type": "code",
   "execution_count": null,
   "metadata": {},
   "outputs": [],
   "source": [
    "plot_results(pth_1.size, pth_1.mean_duration, \"1 thread\", pth_1.ci_duration,\n",
    "            pth_2.mean_duration, \"2 threads\", pth_2.ci_duration,\n",
    "            pth_4.mean_duration, \"4 threads\", pth_4.ci_duration,\n",
    "            pth_8.mean_duration, \"8 threads\", pth_8.ci_duration,\n",
    "            pth_16.mean_duration, \"16 threads\", pth_16.ci_duration,\n",
    "            pth_32.mean_duration, \"32 threads\", pth_32.ci_duration)"
   ]
  },
  {
   "cell_type": "markdown",
   "metadata": {},
   "source": [
    "#### OpenMP:"
   ]
  },
  {
   "cell_type": "code",
   "execution_count": null,
   "metadata": {},
   "outputs": [],
   "source": [
    "omp_1 = filter(row -> row[:threads] == 1, omp_seahorse)\n",
    "omp_2 = filter(row -> row[:threads] == 2, omp_seahorse)\n",
    "omp_4 = filter(row -> row[:threads] == 4, omp_seahorse)\n",
    "omp_8 = filter(row -> row[:threads] == 8, omp_seahorse)\n",
    "omp_16 = filter(row -> row[:threads] == 16, omp_seahorse)\n",
    "omp_32 = filter(row -> row[:threads] == 32, omp_seahorse)"
   ]
  },
  {
   "cell_type": "code",
   "execution_count": null,
   "metadata": {},
   "outputs": [],
   "source": [
    "plot_results(omp_1.size, omp_1.mean_duration, \"1 thread\", omp_1.ci_duration,\n",
    "            omp_2.mean_duration, \"2 threads\", omp_2.ci_duration,\n",
    "            omp_4.mean_duration, \"4 threads\", omp_4.ci_duration,\n",
    "            omp_8.mean_duration, \"8 threads\", omp_8.ci_duration,\n",
    "            omp_16.mean_duration, \"16 threads\", omp_16.ci_duration,\n",
    "            omp_32.mean_duration, \"32 threads\", omp_32.ci_duration)"
   ]
  },
  {
   "cell_type": "markdown",
   "metadata": {},
   "source": [
    "#### CUDA:"
   ]
  },
  {
   "cell_type": "code",
   "execution_count": null,
   "metadata": {},
   "outputs": [],
   "source": [
    "cuda_1 = filter(row -> row[:threads] == 1, cuda_seahorse)\n",
    "cuda_2 = filter(row -> row[:threads] == 2, cuda_seahorse)\n",
    "cuda_4 = filter(row -> row[:threads] == 4, cuda_seahorse)\n",
    "cuda_8 = filter(row -> row[:threads] == 8, cuda_seahorse)\n",
    "cuda_16 = filter(row -> row[:threads] == 16, cuda_seahorse)\n",
    "cuda_32 = filter(row -> row[:threads] == 32, cuda_seahorse)"
   ]
  },
  {
   "cell_type": "code",
   "execution_count": null,
   "metadata": {},
   "outputs": [],
   "source": [
    "plot_results(cuda_1.size, omp_1.mean_duration, \"1 thread\", cuda_1.ci_duration,\n",
    "            cuda_2.mean_duration, \"2 threads\", cuda_2.ci_duration,\n",
    "            cuda_4.mean_duration, \"4 threads\", cuda_4.ci_duration,\n",
    "            cuda_8.mean_duration, \"8 threads\", cuda_8.ci_duration,\n",
    "            cuda_16.mean_duration, \"16 threads\", cuda_16.ci_duration,\n",
    "            cuda_32.mean_duration, \"32 threads\", cuda_32.ci_duration)"
   ]
  },
  {
   "cell_type": "markdown",
   "metadata": {},
   "source": [
    "### Elephant Valley:\n",
    "#### Sequencial:"
   ]
  },
  {
   "cell_type": "code",
   "execution_count": null,
   "metadata": {},
   "outputs": [],
   "source": [
    "plot_results(seq_elephant.size, seq_elephant.mean_duration, \"Sequencial\", seq_elephant.ci_duration,\n",
    "                [], [], [], [], [],\n",
    "                [], [], [], [], [],\n",
    "                [], [], [], [], [])"
   ]
  },
  {
   "cell_type": "markdown",
   "metadata": {},
   "source": [
    "#### Pthreads:"
   ]
  },
  {
   "cell_type": "code",
   "execution_count": null,
   "metadata": {},
   "outputs": [],
   "source": [
    "pth_1 = filter(row -> row[:threads] == 1, pth_elephant)\n",
    "pth_2 = filter(row -> row[:threads] == 2, pth_elephant)\n",
    "pth_4 = filter(row -> row[:threads] == 4, pth_elephant)\n",
    "pth_8 = filter(row -> row[:threads] == 8, pth_elephant)\n",
    "pth_16 = filter(row -> row[:threads] == 16, pth_elephant)\n",
    "pth_32 = filter(row -> row[:threads] == 32, pth_elephant)"
   ]
  },
  {
   "cell_type": "code",
   "execution_count": null,
   "metadata": {},
   "outputs": [],
   "source": [
    "plot_results(pth_1.size, pth_1.mean_duration, \"1 thread\", pth_1.ci_duration,\n",
    "            pth_2.mean_duration, \"2 threads\", pth_2.ci_duration,\n",
    "            pth_4.mean_duration, \"4 threads\", pth_4.ci_duration,\n",
    "            pth_8.mean_duration, \"8 threads\", pth_8.ci_duration,\n",
    "            pth_16.mean_duration, \"16 threads\", pth_16.ci_duration,\n",
    "            pth_32.mean_duration, \"32 threads\", pth_32.ci_duration)"
   ]
  },
  {
   "cell_type": "markdown",
   "metadata": {},
   "source": [
    "#### OpenMP:"
   ]
  },
  {
   "cell_type": "code",
   "execution_count": null,
   "metadata": {},
   "outputs": [],
   "source": [
    "omp_1 = filter(row -> row[:threads] == 1, omp_elephant)\n",
    "omp_2 = filter(row -> row[:threads] == 2, omp_elephant)\n",
    "omp_4 = filter(row -> row[:threads] == 4, omp_elephant)\n",
    "omp_8 = filter(row -> row[:threads] == 8, omp_elephant)\n",
    "omp_16 = filter(row -> row[:threads] == 16, omp_elephant)\n",
    "omp_32 = filter(row -> row[:threads] == 32, omp_elephant)"
   ]
  },
  {
   "cell_type": "code",
   "execution_count": null,
   "metadata": {},
   "outputs": [],
   "source": [
    "plot_results(omp_1.size, omp_1.mean_duration, \"1 thread\", omp_1.ci_duration,\n",
    "            omp_2.mean_duration, \"2 threads\", omp_2.ci_duration,\n",
    "            omp_4.mean_duration, \"4 threads\", omp_4.ci_duration,\n",
    "            omp_8.mean_duration, \"8 threads\", omp_8.ci_duration,\n",
    "            omp_16.mean_duration, \"16 threads\", omp_16.ci_duration,\n",
    "            omp_32.mean_duration, \"32 threads\", omp_32.ci_duration)"
   ]
  },
  {
   "cell_type": "markdown",
   "metadata": {},
   "source": [
    "#### CUDA:"
   ]
  },
  {
   "cell_type": "code",
   "execution_count": null,
   "metadata": {},
   "outputs": [],
   "source": [
    "cuda_1 = filter(row -> row[:threads] == 1, cuda_seahorse)\n",
    "cuda_2 = filter(row -> row[:threads] == 2, cuda_seahorse)\n",
    "cuda_4 = filter(row -> row[:threads] == 4, cuda_seahorse)\n",
    "cuda_8 = filter(row -> row[:threads] == 8, cuda_seahorse)\n",
    "cuda_16 = filter(row -> row[:threads] == 16, cuda_seahorse)\n",
    "cuda_32 = filter(row -> row[:threads] == 32, cuda_seahorse)"
   ]
  },
  {
   "cell_type": "code",
   "execution_count": null,
   "metadata": {},
   "outputs": [],
   "source": [
    "plot_results(cuda_1.size, omp_1.mean_duration, \"1 thread\", cuda_1.ci_duration,\n",
    "            cuda_2.mean_duration, \"2 threads\", cuda_2.ci_duration,\n",
    "            cuda_4.mean_duration, \"4 threads\", cuda_4.ci_duration,\n",
    "            cuda_8.mean_duration, \"8 threads\", cuda_8.ci_duration,\n",
    "            cuda_16.mean_duration, \"16 threads\", cuda_16.ci_duration,\n",
    "            cuda_32.mean_duration, \"32 threads\", cuda_32.ci_duration)"
   ]
  },
  {
   "cell_type": "markdown",
   "metadata": {},
   "source": [
    "### Triple Spiral Valley\n",
    "#### Sequencial:"
   ]
  },
  {
   "cell_type": "code",
   "execution_count": null,
   "metadata": {},
   "outputs": [],
   "source": [
    "plot_results(seq_tripleSpiral.size, seq_tripleSpiral.mean_duration, \"Sequencial\", seq_tripleSpiral.ci_duration,\n",
    "                [], [], [], [], [],\n",
    "                [], [], [], [], [],\n",
    "                [], [], [], [], [])"
   ]
  },
  {
   "cell_type": "markdown",
   "metadata": {},
   "source": [
    "#### Pthreads:"
   ]
  },
  {
   "cell_type": "code",
   "execution_count": null,
   "metadata": {},
   "outputs": [],
   "source": [
    "pth_1 = filter(row -> row[:threads] == 1, pth_tripleSpiral)\n",
    "pth_2 = filter(row -> row[:threads] == 2, pth_tripleSpiral)\n",
    "pth_4 = filter(row -> row[:threads] == 4, pth_tripleSpiral)\n",
    "pth_8 = filter(row -> row[:threads] == 8, pth_tripleSpiral)\n",
    "pth_16 = filter(row -> row[:threads] == 16, pth_tripleSpiral)\n",
    "pth_32 = filter(row -> row[:threads] == 32, pth_tripleSpiral)"
   ]
  },
  {
   "cell_type": "code",
   "execution_count": null,
   "metadata": {},
   "outputs": [],
   "source": [
    "plot_results(pth_1.size, pth_1.mean_duration, \"1 thread\", pth_1.ci_duration,\n",
    "            pth_2.mean_duration, \"2 threads\", pth_2.ci_duration,\n",
    "            pth_4.mean_duration, \"4 threads\", pth_4.ci_duration,\n",
    "            pth_8.mean_duration, \"8 threads\", pth_8.ci_duration,\n",
    "            pth_16.mean_duration, \"16 threads\", pth_16.ci_duration,\n",
    "            pth_32.mean_duration, \"32 threads\", pth_32.ci_duration)"
   ]
  },
  {
   "cell_type": "markdown",
   "metadata": {},
   "source": [
    "#### OpenMP:"
   ]
  },
  {
   "cell_type": "code",
   "execution_count": null,
   "metadata": {},
   "outputs": [],
   "source": [
    "omp_1 = filter(row -> row[:threads] == 1, omp_tripleSpiral)\n",
    "omp_2 = filter(row -> row[:threads] == 2, omp_tripleSpiral)\n",
    "omp_4 = filter(row -> row[:threads] == 4, omp_tripleSpiral)\n",
    "omp_8 = filter(row -> row[:threads] == 8, omp_tripleSpiral)\n",
    "omp_16 = filter(row -> row[:threads] == 16, omp_tripleSpiral)\n",
    "omp_32 = filter(row -> row[:threads] == 32, omp_tripleSpiral)"
   ]
  },
  {
   "cell_type": "code",
   "execution_count": null,
   "metadata": {},
   "outputs": [],
   "source": [
    "plot_results(omp_1.size, omp_1.mean_duration, \"1 thread\", omp_1.ci_duration,\n",
    "            omp_2.mean_duration, \"2 threads\", omp_2.ci_duration,\n",
    "            omp_4.mean_duration, \"4 threads\", omp_4.ci_duration,\n",
    "            omp_8.mean_duration, \"8 threads\", omp_8.ci_duration,\n",
    "            omp_16.mean_duration, \"16 threads\", omp_16.ci_duration,\n",
    "            omp_32.mean_duration, \"32 threads\", omp_32.ci_duration)"
   ]
  },
  {
   "cell_type": "markdown",
   "metadata": {},
   "source": [
    "#### CUDA:"
   ]
  },
  {
   "cell_type": "code",
   "execution_count": null,
   "metadata": {},
   "outputs": [],
   "source": [
    "cuda_1 = filter(row -> row[:threads] == 1, cuda_seahorse)\n",
    "cuda_2 = filter(row -> row[:threads] == 2, cuda_seahorse)\n",
    "cuda_4 = filter(row -> row[:threads] == 4, cuda_seahorse)\n",
    "cuda_8 = filter(row -> row[:threads] == 8, cuda_seahorse)\n",
    "cuda_16 = filter(row -> row[:threads] == 16, cuda_seahorse)\n",
    "cuda_32 = filter(row -> row[:threads] == 32, cuda_seahorse)"
   ]
  },
  {
   "cell_type": "code",
   "execution_count": null,
   "metadata": {},
   "outputs": [],
   "source": [
    "plot_results(cuda_1.size, omp_1.mean_duration, \"1 thread\", cuda_1.ci_duration,\n",
    "            cuda_2.mean_duration, \"2 threads\", cuda_2.ci_duration,\n",
    "            cuda_4.mean_duration, \"4 threads\", cuda_4.ci_duration,\n",
    "            cuda_8.mean_duration, \"8 threads\", cuda_8.ci_duration,\n",
    "            cuda_16.mean_duration, \"16 threads\", cuda_16.ci_duration,\n",
    "            cuda_32.mean_duration, \"32 threads\", cuda_32.ci_duration)"
   ]
  }
 ],
 "metadata": {
  "kernelspec": {
   "display_name": "Julia 1.4.1",
   "language": "julia",
   "name": "julia-1.4"
  },
  "language_info": {
   "file_extension": ".jl",
   "mimetype": "application/julia",
   "name": "julia",
   "version": "1.4.1"
  }
 },
 "nbformat": 4,
 "nbformat_minor": 2
}
